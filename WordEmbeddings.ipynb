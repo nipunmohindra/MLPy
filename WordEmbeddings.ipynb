{
  "nbformat": 4,
  "nbformat_minor": 0,
  "metadata": {
    "colab": {
      "name": "WordEmbeddings.ipynb",
      "provenance": [],
      "authorship_tag": "ABX9TyOHXDbM1ZM4F1fiQpk4kHBQ",
      "include_colab_link": true
    },
    "kernelspec": {
      "name": "python3",
      "display_name": "Python 3"
    }
  },
  "cells": [
    {
      "cell_type": "markdown",
      "metadata": {
        "id": "view-in-github",
        "colab_type": "text"
      },
      "source": [
        "<a href=\"https://colab.research.google.com/github/rishuatgithub/MLPy/blob/master/WordEmbeddings.ipynb\" target=\"_parent\"><img src=\"https://colab.research.google.com/assets/colab-badge.svg\" alt=\"Open In Colab\"/></a>"
      ]
    },
    {
      "cell_type": "code",
      "metadata": {
        "id": "GN0Nu8NwHhhh",
        "colab_type": "code",
        "colab": {}
      },
      "source": [
        "import tensorflow as tf\n",
        "import tensorflow_hub as hub\n",
        "import tensorflow_datasets as tfds\n",
        "\n",
        "from tensorflow.keras import layers"
      ],
      "execution_count": 0,
      "outputs": []
    },
    {
      "cell_type": "code",
      "metadata": {
        "id": "yngbfUxoHpHe",
        "colab_type": "code",
        "colab": {}
      },
      "source": [
        "embedding_layers = layers.Embedding(1000,10)"
      ],
      "execution_count": 0,
      "outputs": []
    },
    {
      "cell_type": "code",
      "metadata": {
        "id": "rzAjyQg7KYjV",
        "colab_type": "code",
        "outputId": "9c7b04a0-8ac1-43bd-862a-5b8b7b39c13d",
        "colab": {
          "base_uri": "https://localhost:8080/",
          "height": 136
        }
      },
      "source": [
        "result = embedding_layers(tf.constant([1,2,3]))\n",
        "result.numpy()"
      ],
      "execution_count": 6,
      "outputs": [
        {
          "output_type": "execute_result",
          "data": {
            "text/plain": [
              "array([[ 0.04143567,  0.03444126, -0.00433236, -0.0115747 ,  0.00946363,\n",
              "         0.03984356, -0.01140376, -0.01553496,  0.045456  , -0.0431954 ],\n",
              "       [-0.02294084,  0.00314428, -0.01986251, -0.02078898,  0.01738504,\n",
              "        -0.03874723,  0.04903078, -0.00269741,  0.01278008, -0.03104183],\n",
              "       [-0.0045128 ,  0.0245247 ,  0.02320014,  0.03158582,  0.01212316,\n",
              "        -0.03494855,  0.0398595 ,  0.0347522 , -0.03337281, -0.01772972]],\n",
              "      dtype=float32)"
            ]
          },
          "metadata": {
            "tags": []
          },
          "execution_count": 6
        }
      ]
    },
    {
      "cell_type": "code",
      "metadata": {
        "id": "qtat8O27Mlyh",
        "colab_type": "code",
        "colab": {}
      },
      "source": [
        ""
      ],
      "execution_count": 0,
      "outputs": []
    }
  ]
}