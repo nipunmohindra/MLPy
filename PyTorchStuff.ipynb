{
  "nbformat": 4,
  "nbformat_minor": 0,
  "metadata": {
    "colab": {
      "name": "PyTorchStuff.ipynb",
      "provenance": [],
      "collapsed_sections": [],
      "authorship_tag": "ABX9TyPim71dsdSm6Dq53dfdKZvK",
      "include_colab_link": true
    },
    "kernelspec": {
      "name": "python3",
      "display_name": "Python 3"
    },
    "accelerator": "GPU"
  },
  "cells": [
    {
      "cell_type": "markdown",
      "metadata": {
        "id": "view-in-github",
        "colab_type": "text"
      },
      "source": [
        "<a href=\"https://colab.research.google.com/github/rishuatgithub/MLPy/blob/master/PyTorchStuff.ipynb\" target=\"_parent\"><img src=\"https://colab.research.google.com/assets/colab-badge.svg\" alt=\"Open In Colab\"/></a>"
      ]
    },
    {
      "cell_type": "markdown",
      "metadata": {
        "id": "5rJO_tqEULwj",
        "colab_type": "text"
      },
      "source": [
        "### All about Pytorch"
      ]
    },
    {
      "cell_type": "code",
      "metadata": {
        "id": "yfGJ9Vq_T6Fs",
        "colab_type": "code",
        "colab": {}
      },
      "source": [
        "import torch"
      ],
      "execution_count": 0,
      "outputs": []
    },
    {
      "cell_type": "markdown",
      "metadata": {
        "id": "lUkIMe91UpQ2",
        "colab_type": "text"
      },
      "source": [
        "- Tensors\n",
        "\n",
        "Tensors are similar to NumPy’s ndarrays, with the addition being that Tensors can also be used on a GPU to accelerate computing."
      ]
    },
    {
      "cell_type": "code",
      "metadata": {
        "id": "VrS_Uu-gUlSU",
        "colab_type": "code",
        "colab": {
          "base_uri": "https://localhost:8080/",
          "height": 102
        },
        "outputId": "76c4f38b-6561-4b8a-becb-50e5a3b64bdc"
      },
      "source": [
        "x = torch.empty(5,3) ## empty\n",
        "x"
      ],
      "execution_count": 2,
      "outputs": [
        {
          "output_type": "execute_result",
          "data": {
            "text/plain": [
              "tensor([[1.8358e-35, 0.0000e+00, 3.3631e-44],\n",
              "        [0.0000e+00,        nan, 0.0000e+00],\n",
              "        [1.1578e+27, 1.1362e+30, 7.1547e+22],\n",
              "        [4.5828e+30, 1.2121e+04, 7.1846e+22],\n",
              "        [9.2198e-39, 7.0374e+22, 0.0000e+00]])"
            ]
          },
          "metadata": {
            "tags": []
          },
          "execution_count": 2
        }
      ]
    },
    {
      "cell_type": "code",
      "metadata": {
        "id": "achl8IpXU4G2",
        "colab_type": "code",
        "colab": {
          "base_uri": "https://localhost:8080/",
          "height": 102
        },
        "outputId": "7b37ceb0-c34f-446d-9078-90df98baa1d7"
      },
      "source": [
        "x = torch.randn(5,3) ## random initialized\n",
        "x"
      ],
      "execution_count": 3,
      "outputs": [
        {
          "output_type": "execute_result",
          "data": {
            "text/plain": [
              "tensor([[ 0.4918,  0.5313,  1.3158],\n",
              "        [ 0.8469,  0.3669, -0.4829],\n",
              "        [ 0.2846, -0.7232,  0.6265],\n",
              "        [ 1.6084,  0.3154,  0.7572],\n",
              "        [ 0.3101, -0.3905,  0.4812]])"
            ]
          },
          "metadata": {
            "tags": []
          },
          "execution_count": 3
        }
      ]
    },
    {
      "cell_type": "code",
      "metadata": {
        "id": "cSpEI1QoU911",
        "colab_type": "code",
        "colab": {
          "base_uri": "https://localhost:8080/",
          "height": 102
        },
        "outputId": "4da2b313-5190-40b5-991b-ad730e891660"
      },
      "source": [
        "x = torch.zeros(5,3, dtype=torch.long)\n",
        "x"
      ],
      "execution_count": 4,
      "outputs": [
        {
          "output_type": "execute_result",
          "data": {
            "text/plain": [
              "tensor([[0, 0, 0],\n",
              "        [0, 0, 0],\n",
              "        [0, 0, 0],\n",
              "        [0, 0, 0],\n",
              "        [0, 0, 0]])"
            ]
          },
          "metadata": {
            "tags": []
          },
          "execution_count": 4
        }
      ]
    },
    {
      "cell_type": "code",
      "metadata": {
        "id": "IrnBfi6HVPB3",
        "colab_type": "code",
        "colab": {
          "base_uri": "https://localhost:8080/",
          "height": 34
        },
        "outputId": "59985e92-ac46-4c9d-c7b9-2e37a3568235"
      },
      "source": [
        "type(x)"
      ],
      "execution_count": 5,
      "outputs": [
        {
          "output_type": "execute_result",
          "data": {
            "text/plain": [
              "torch.Tensor"
            ]
          },
          "metadata": {
            "tags": []
          },
          "execution_count": 5
        }
      ]
    },
    {
      "cell_type": "code",
      "metadata": {
        "id": "cuT3FGM1W9g5",
        "colab_type": "code",
        "colab": {
          "base_uri": "https://localhost:8080/",
          "height": 102
        },
        "outputId": "eea4b272-fddd-40f5-d2b8-f757dd5c0fbb"
      },
      "source": [
        "x = torch.ones(5,2)\n",
        "x"
      ],
      "execution_count": 6,
      "outputs": [
        {
          "output_type": "execute_result",
          "data": {
            "text/plain": [
              "tensor([[1., 1.],\n",
              "        [1., 1.],\n",
              "        [1., 1.],\n",
              "        [1., 1.],\n",
              "        [1., 1.]])"
            ]
          },
          "metadata": {
            "tags": []
          },
          "execution_count": 6
        }
      ]
    },
    {
      "cell_type": "code",
      "metadata": {
        "id": "NrQ3UdcIVSZi",
        "colab_type": "code",
        "colab": {
          "base_uri": "https://localhost:8080/",
          "height": 51
        },
        "outputId": "4e52af00-d8de-49a4-82b9-13d712eb01d8"
      },
      "source": [
        "myarr = [[10,20.2],[30,40]] ## sample data\n",
        "\n",
        "x = torch.tensor(myarr)\n",
        "x"
      ],
      "execution_count": 7,
      "outputs": [
        {
          "output_type": "execute_result",
          "data": {
            "text/plain": [
              "tensor([[10.0000, 20.2000],\n",
              "        [30.0000, 40.0000]])"
            ]
          },
          "metadata": {
            "tags": []
          },
          "execution_count": 7
        }
      ]
    },
    {
      "cell_type": "code",
      "metadata": {
        "id": "iy1MRdssVsmL",
        "colab_type": "code",
        "colab": {
          "base_uri": "https://localhost:8080/",
          "height": 139
        },
        "outputId": "9d30b27b-b653-432f-b811-c0633015cbbe"
      },
      "source": [
        "## create a tensor from an existing tensor\n",
        "\n",
        "x = torch.tensor([[1,2],[3,4]], dtype=torch.int16)\n",
        "print(f\"X tensor: {x}\")\n",
        "\n",
        "y = torch.tensor(x, dtype=torch.float16)\n",
        "print(f\"Y tensor: {y}\")"
      ],
      "execution_count": 8,
      "outputs": [
        {
          "output_type": "stream",
          "text": [
            "X tensor: tensor([[1, 2],\n",
            "        [3, 4]], dtype=torch.int16)\n",
            "Y tensor: tensor([[1., 2.],\n",
            "        [3., 4.]], dtype=torch.float16)\n"
          ],
          "name": "stdout"
        },
        {
          "output_type": "stream",
          "text": [
            "/usr/local/lib/python3.6/dist-packages/ipykernel_launcher.py:6: UserWarning: To copy construct from a tensor, it is recommended to use sourceTensor.clone().detach() or sourceTensor.clone().detach().requires_grad_(True), rather than torch.tensor(sourceTensor).\n",
            "  \n"
          ],
          "name": "stderr"
        }
      ]
    },
    {
      "cell_type": "code",
      "metadata": {
        "id": "pGUx6QwWWbni",
        "colab_type": "code",
        "colab": {
          "base_uri": "https://localhost:8080/",
          "height": 34
        },
        "outputId": "5baa3469-756b-4374-9dee-ed0b655a981a"
      },
      "source": [
        "## size of tensor\n",
        "\n",
        "x.size()"
      ],
      "execution_count": 9,
      "outputs": [
        {
          "output_type": "execute_result",
          "data": {
            "text/plain": [
              "torch.Size([2, 2])"
            ]
          },
          "metadata": {
            "tags": []
          },
          "execution_count": 9
        }
      ]
    },
    {
      "cell_type": "markdown",
      "metadata": {
        "id": "qGJWG2vgXWbQ",
        "colab_type": "text"
      },
      "source": [
        "- Operation on Tensors"
      ]
    },
    {
      "cell_type": "code",
      "metadata": {
        "id": "80FHn1TNXNII",
        "colab_type": "code",
        "colab": {
          "base_uri": "https://localhost:8080/",
          "height": 102
        },
        "outputId": "70a1db3e-f779-4778-ff50-fdd9a4a97401"
      },
      "source": [
        "x = torch.randn(5,2)\n",
        "x"
      ],
      "execution_count": 10,
      "outputs": [
        {
          "output_type": "execute_result",
          "data": {
            "text/plain": [
              "tensor([[ 0.3420,  1.5561],\n",
              "        [ 0.2761, -0.2542],\n",
              "        [-0.1713, -1.6258],\n",
              "        [ 1.6273,  0.1587],\n",
              "        [ 0.5826,  3.4742]])"
            ]
          },
          "metadata": {
            "tags": []
          },
          "execution_count": 10
        }
      ]
    },
    {
      "cell_type": "code",
      "metadata": {
        "id": "EIKYKevzXgQn",
        "colab_type": "code",
        "colab": {
          "base_uri": "https://localhost:8080/",
          "height": 102
        },
        "outputId": "def3409e-8dc7-4276-81ce-11874f81ee25"
      },
      "source": [
        "y = torch.ones(5,2)\n",
        "y"
      ],
      "execution_count": 11,
      "outputs": [
        {
          "output_type": "execute_result",
          "data": {
            "text/plain": [
              "tensor([[1., 1.],\n",
              "        [1., 1.],\n",
              "        [1., 1.],\n",
              "        [1., 1.],\n",
              "        [1., 1.]])"
            ]
          },
          "metadata": {
            "tags": []
          },
          "execution_count": 11
        }
      ]
    },
    {
      "cell_type": "code",
      "metadata": {
        "id": "4ixIo4zdXlW5",
        "colab_type": "code",
        "colab": {
          "base_uri": "https://localhost:8080/",
          "height": 102
        },
        "outputId": "750300de-db41-4904-f997-c0a4f5a2e8d9"
      },
      "source": [
        "x + y ## sum of two tensors"
      ],
      "execution_count": 12,
      "outputs": [
        {
          "output_type": "execute_result",
          "data": {
            "text/plain": [
              "tensor([[ 1.3420,  2.5561],\n",
              "        [ 1.2761,  0.7458],\n",
              "        [ 0.8287, -0.6258],\n",
              "        [ 2.6273,  1.1587],\n",
              "        [ 1.5826,  4.4742]])"
            ]
          },
          "metadata": {
            "tags": []
          },
          "execution_count": 12
        }
      ]
    },
    {
      "cell_type": "code",
      "metadata": {
        "id": "EMnLXVeIXnNL",
        "colab_type": "code",
        "colab": {
          "base_uri": "https://localhost:8080/",
          "height": 102
        },
        "outputId": "791739f8-93e1-4f73-e068-144da65a4f90"
      },
      "source": [
        "torch.add(x,y) ## alternative: sum of two tensors"
      ],
      "execution_count": 13,
      "outputs": [
        {
          "output_type": "execute_result",
          "data": {
            "text/plain": [
              "tensor([[ 1.3420,  2.5561],\n",
              "        [ 1.2761,  0.7458],\n",
              "        [ 0.8287, -0.6258],\n",
              "        [ 2.6273,  1.1587],\n",
              "        [ 1.5826,  4.4742]])"
            ]
          },
          "metadata": {
            "tags": []
          },
          "execution_count": 13
        }
      ]
    },
    {
      "cell_type": "code",
      "metadata": {
        "id": "kTPuAVbdXvaL",
        "colab_type": "code",
        "colab": {
          "base_uri": "https://localhost:8080/",
          "height": 102
        },
        "outputId": "2b2f8f93-dcda-4b94-9d00-b0c033c25326"
      },
      "source": [
        "## In Place addition : Any operation that mutates a tensor in-place is post-fixed with an _. For example: x.copy_(y), x.t_(), will change x.\n",
        "\n",
        "y.add_(x)"
      ],
      "execution_count": 14,
      "outputs": [
        {
          "output_type": "execute_result",
          "data": {
            "text/plain": [
              "tensor([[ 1.3420,  2.5561],\n",
              "        [ 1.2761,  0.7458],\n",
              "        [ 0.8287, -0.6258],\n",
              "        [ 2.6273,  1.1587],\n",
              "        [ 1.5826,  4.4742]])"
            ]
          },
          "metadata": {
            "tags": []
          },
          "execution_count": 14
        }
      ]
    },
    {
      "cell_type": "code",
      "metadata": {
        "id": "hBm3CBmFYB9s",
        "colab_type": "code",
        "colab": {
          "base_uri": "https://localhost:8080/",
          "height": 34
        },
        "outputId": "ce3b52aa-d282-43ad-edcf-9cc9eb9d80b0"
      },
      "source": [
        "### Standard numpy operations on tensors\n",
        "\n",
        "x[:1]"
      ],
      "execution_count": 15,
      "outputs": [
        {
          "output_type": "execute_result",
          "data": {
            "text/plain": [
              "tensor([[0.3420, 1.5561]])"
            ]
          },
          "metadata": {
            "tags": []
          },
          "execution_count": 15
        }
      ]
    },
    {
      "cell_type": "code",
      "metadata": {
        "id": "Nl41n-osYDRs",
        "colab_type": "code",
        "colab": {
          "base_uri": "https://localhost:8080/",
          "height": 34
        },
        "outputId": "a24ba8b5-4d37-4f22-c92e-3c11dbaa9df8"
      },
      "source": [
        "type(x[:1])"
      ],
      "execution_count": 16,
      "outputs": [
        {
          "output_type": "execute_result",
          "data": {
            "text/plain": [
              "torch.Tensor"
            ]
          },
          "metadata": {
            "tags": []
          },
          "execution_count": 16
        }
      ]
    },
    {
      "cell_type": "code",
      "metadata": {
        "id": "CFQqZbm9YwVe",
        "colab_type": "code",
        "colab": {
          "base_uri": "https://localhost:8080/",
          "height": 85
        },
        "outputId": "1890a6cf-1e1e-4d77-b0cd-4b02ad7b326d"
      },
      "source": [
        "### Resize the tensor\n",
        "\n",
        "x = torch.randn(4,4)\n",
        "x"
      ],
      "execution_count": 17,
      "outputs": [
        {
          "output_type": "execute_result",
          "data": {
            "text/plain": [
              "tensor([[ 0.3807,  0.0769,  0.8718,  0.3944],\n",
              "        [-0.6997,  0.1349, -1.8991,  0.7843],\n",
              "        [ 0.8711, -1.0237, -0.6042,  0.7478],\n",
              "        [-0.5449, -0.7285, -0.2641,  0.6979]])"
            ]
          },
          "metadata": {
            "tags": []
          },
          "execution_count": 17
        }
      ]
    },
    {
      "cell_type": "code",
      "metadata": {
        "id": "peYY_vpyY4dw",
        "colab_type": "code",
        "colab": {
          "base_uri": "https://localhost:8080/",
          "height": 51
        },
        "outputId": "3f19fdbe-d4f1-481c-a66d-2e0f087b3961"
      },
      "source": [
        "y = x.view(16)\n",
        "y"
      ],
      "execution_count": 18,
      "outputs": [
        {
          "output_type": "execute_result",
          "data": {
            "text/plain": [
              "tensor([ 0.3807,  0.0769,  0.8718,  0.3944, -0.6997,  0.1349, -1.8991,  0.7843,\n",
              "         0.8711, -1.0237, -0.6042,  0.7478, -0.5449, -0.7285, -0.2641,  0.6979])"
            ]
          },
          "metadata": {
            "tags": []
          },
          "execution_count": 18
        }
      ]
    },
    {
      "cell_type": "code",
      "metadata": {
        "id": "W5UYOR71ZCFE",
        "colab_type": "code",
        "colab": {
          "base_uri": "https://localhost:8080/",
          "height": 51
        },
        "outputId": "7506dfce-ac17-4ea9-b57f-93c5e192a61c"
      },
      "source": [
        "z = x.view([-1,8])\n",
        "z"
      ],
      "execution_count": 19,
      "outputs": [
        {
          "output_type": "execute_result",
          "data": {
            "text/plain": [
              "tensor([[ 0.3807,  0.0769,  0.8718,  0.3944, -0.6997,  0.1349, -1.8991,  0.7843],\n",
              "        [ 0.8711, -1.0237, -0.6042,  0.7478, -0.5449, -0.7285, -0.2641,  0.6979]])"
            ]
          },
          "metadata": {
            "tags": []
          },
          "execution_count": 19
        }
      ]
    },
    {
      "cell_type": "code",
      "metadata": {
        "id": "v_JjU3pXZLrP",
        "colab_type": "code",
        "colab": {
          "base_uri": "https://localhost:8080/",
          "height": 85
        },
        "outputId": "5709e299-4a80-4505-afa9-f643f4878fc1"
      },
      "source": [
        "## transpose an array\n",
        "\n",
        "torch.transpose(x, 0,1)"
      ],
      "execution_count": 20,
      "outputs": [
        {
          "output_type": "execute_result",
          "data": {
            "text/plain": [
              "tensor([[ 0.3807, -0.6997,  0.8711, -0.5449],\n",
              "        [ 0.0769,  0.1349, -1.0237, -0.7285],\n",
              "        [ 0.8718, -1.8991, -0.6042, -0.2641],\n",
              "        [ 0.3944,  0.7843,  0.7478,  0.6979]])"
            ]
          },
          "metadata": {
            "tags": []
          },
          "execution_count": 20
        }
      ]
    },
    {
      "cell_type": "code",
      "metadata": {
        "id": "D7Av3nCeZsMd",
        "colab_type": "code",
        "colab": {
          "base_uri": "https://localhost:8080/",
          "height": 51
        },
        "outputId": "5db3d8ab-8318-4217-b57a-e6af8ad16d97"
      },
      "source": [
        "## to get the value of a tensor\n",
        "\n",
        "x = torch.randn(1)\n",
        "print(x)\n",
        "print(x.item())"
      ],
      "execution_count": 21,
      "outputs": [
        {
          "output_type": "stream",
          "text": [
            "tensor([-0.5886])\n",
            "-0.5886497497558594\n"
          ],
          "name": "stdout"
        }
      ]
    },
    {
      "cell_type": "markdown",
      "metadata": {
        "id": "ON-RTJ_TbAXV",
        "colab_type": "text"
      },
      "source": [
        "Numpy Bridge with Tensors"
      ]
    },
    {
      "cell_type": "code",
      "metadata": {
        "id": "ToJuv3-0axoC",
        "colab_type": "code",
        "colab": {
          "base_uri": "https://localhost:8080/",
          "height": 34
        },
        "outputId": "21b0de44-7c0f-4f61-83b8-8a5ed596dc03"
      },
      "source": [
        "a = torch.ones(5)\n",
        "a"
      ],
      "execution_count": 22,
      "outputs": [
        {
          "output_type": "execute_result",
          "data": {
            "text/plain": [
              "tensor([1., 1., 1., 1., 1.])"
            ]
          },
          "metadata": {
            "tags": []
          },
          "execution_count": 22
        }
      ]
    },
    {
      "cell_type": "code",
      "metadata": {
        "id": "G2NXBOEbZpv9",
        "colab_type": "code",
        "colab": {
          "base_uri": "https://localhost:8080/",
          "height": 34
        },
        "outputId": "51e20b41-4f86-4a98-8fe4-3205a81108b7"
      },
      "source": [
        "type(a)"
      ],
      "execution_count": 23,
      "outputs": [
        {
          "output_type": "execute_result",
          "data": {
            "text/plain": [
              "torch.Tensor"
            ]
          },
          "metadata": {
            "tags": []
          },
          "execution_count": 23
        }
      ]
    },
    {
      "cell_type": "code",
      "metadata": {
        "id": "kTHZTKYAZSO-",
        "colab_type": "code",
        "colab": {
          "base_uri": "https://localhost:8080/",
          "height": 34
        },
        "outputId": "e1a8352a-02a4-433d-f493-b36155ca3cf2"
      },
      "source": [
        "### convert to numpy\n",
        "\n",
        "a.numpy()"
      ],
      "execution_count": 24,
      "outputs": [
        {
          "output_type": "execute_result",
          "data": {
            "text/plain": [
              "array([1., 1., 1., 1., 1.], dtype=float32)"
            ]
          },
          "metadata": {
            "tags": []
          },
          "execution_count": 24
        }
      ]
    },
    {
      "cell_type": "code",
      "metadata": {
        "id": "wwqMtD1dbeFo",
        "colab_type": "code",
        "colab": {
          "base_uri": "https://localhost:8080/",
          "height": 51
        },
        "outputId": "4653a757-8894-4350-e074-db45e761e9ba"
      },
      "source": [
        "## converting numpy array to torch tensors\n",
        "\n",
        "import numpy as np\n",
        "\n",
        "a = np.ones(5)\n",
        "t = torch.tensor(a, dtype=torch.int)\n",
        "\n",
        "print(a, type(a))\n",
        "print(t, type(t))"
      ],
      "execution_count": 25,
      "outputs": [
        {
          "output_type": "stream",
          "text": [
            "[1. 1. 1. 1. 1.] <class 'numpy.ndarray'>\n",
            "tensor([1, 1, 1, 1, 1], dtype=torch.int32) <class 'torch.Tensor'>\n"
          ],
          "name": "stdout"
        }
      ]
    },
    {
      "cell_type": "markdown",
      "metadata": {
        "id": "A8-b3FkJcNb5",
        "colab_type": "text"
      },
      "source": [
        "- Running on the Device"
      ]
    },
    {
      "cell_type": "code",
      "metadata": {
        "id": "3vAeH5mIbwHZ",
        "colab_type": "code",
        "colab": {
          "base_uri": "https://localhost:8080/",
          "height": 34
        },
        "outputId": "b56ba209-3c04-43d0-8f2a-4215becd0dda"
      },
      "source": [
        "### if CUDA is available or not\n",
        "\n",
        "torch.cuda.is_available()"
      ],
      "execution_count": 26,
      "outputs": [
        {
          "output_type": "execute_result",
          "data": {
            "text/plain": [
              "True"
            ]
          },
          "metadata": {
            "tags": []
          },
          "execution_count": 26
        }
      ]
    },
    {
      "cell_type": "code",
      "metadata": {
        "id": "9HDfRFypcZam",
        "colab_type": "code",
        "colab": {
          "base_uri": "https://localhost:8080/",
          "height": 85
        },
        "outputId": "411a44fd-947d-4bf7-a73a-87cc260e8d53"
      },
      "source": [
        "if torch.cuda.is_available():\n",
        "  device = torch.device(\"cuda\") ## define device\n",
        "  \n",
        "  x = torch.ones(5) ## normal stuff\n",
        "  print(x)\n",
        "  \n",
        "  y = torch.ones_like(x, device=device) ### running it on gpu\n",
        "  print(y)\n",
        "\n",
        "  x = x.to(device)  ## change the execution to device\n",
        "\n",
        "  z = x + y\n",
        "\n",
        "  print(z)\n",
        "  \n",
        "  print(z.to(\"cpu\", dtype=torch.int32)) ## change the data type of z using .to and run it on cpu"
      ],
      "execution_count": 31,
      "outputs": [
        {
          "output_type": "stream",
          "text": [
            "tensor([1., 1., 1., 1., 1.])\n",
            "tensor([1., 1., 1., 1., 1.], device='cuda:0')\n",
            "tensor([2., 2., 2., 2., 2.], device='cuda:0')\n",
            "tensor([2, 2, 2, 2, 2], dtype=torch.int32)\n"
          ],
          "name": "stdout"
        }
      ]
    },
    {
      "cell_type": "code",
      "metadata": {
        "id": "4Xfd6EDSdMCM",
        "colab_type": "code",
        "colab": {}
      },
      "source": [
        ""
      ],
      "execution_count": 0,
      "outputs": []
    }
  ]
}