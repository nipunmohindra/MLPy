{
  "nbformat": 4,
  "nbformat_minor": 0,
  "metadata": {
    "colab": {
      "name": "Topic Modelling - LDA using ScikitLearn+Spacy.ipynb",
      "provenance": [],
      "collapsed_sections": [],
      "include_colab_link": true
    },
    "kernelspec": {
      "display_name": "Python 3",
      "language": "python",
      "name": "python3"
    },
    "language_info": {
      "codemirror_mode": {
        "name": "ipython",
        "version": 3
      },
      "file_extension": ".py",
      "mimetype": "text/x-python",
      "name": "python",
      "nbconvert_exporter": "python",
      "pygments_lexer": "ipython3",
      "version": "3.8.2"
    }
  },
  "cells": [
    {
      "cell_type": "markdown",
      "metadata": {
        "id": "view-in-github",
        "colab_type": "text"
      },
      "source": [
        "<a href=\"https://colab.research.google.com/github/rishuatgithub/MLPy/blob/master/Topic_Modelling_LDA_using_ScikitLearn%2BSpacy.ipynb\" target=\"_parent\"><img src=\"https://colab.research.google.com/assets/colab-badge.svg\" alt=\"Open In Colab\"/></a>"
      ]
    },
    {
      "cell_type": "markdown",
      "metadata": {
        "colab_type": "text",
        "id": "Qw-7mbkMg9FK"
      },
      "source": [
        "# Topic Modelling using Latent-Dirichlet Allocation\n",
        "\n",
        "- Blog URL : [Topic Modelling : Latent Dirichlet Allocation, an introduction](https://anotherreeshu.wordpress.com)\n",
        "- Author   : Rishu Shrivastava"
      ]
    },
    {
      "cell_type": "code",
      "metadata": {
        "colab_type": "code",
        "id": "C1UbX8SHg7sh",
        "outputId": "25ea8a2d-2439-48d3-a418-167669e2ba5f",
        "colab": {
          "base_uri": "https://localhost:8080/",
          "height": 819
        }
      },
      "source": [
        "## additional installations in colab\n",
        "!pip install pyLDAvis\n",
        "!python -m spacy download en_core_web_lg  ## restart once download is complete.\n",
        "\n",
        "## general imports\n",
        "\n",
        "import numpy as np\n",
        "import pandas as pd\n",
        "from sklearn.feature_extraction.text import CountVectorizer\n",
        "from sklearn.feature_extraction.text import TfidfVectorizer\n",
        "from sklearn.decomposition import LatentDirichletAllocation\n",
        "\n",
        "import matplotlib.pyplot as plt\n",
        "import seaborn as sns\n",
        "%matplotlib inline\n",
        "\n",
        "import spacy\n",
        "from spacy import displacy\n",
        "\n",
        "import pyLDAvis\n",
        "from pyLDAvis import sklearn\n",
        "pyLDAvis.enable_notebook()"
      ],
      "execution_count": 1,
      "outputs": [
        {
          "output_type": "stream",
          "text": [
            "Requirement already satisfied: pyLDAvis in /usr/local/lib/python3.6/dist-packages (2.1.2)\n",
            "Requirement already satisfied: jinja2>=2.7.2 in /usr/local/lib/python3.6/dist-packages (from pyLDAvis) (2.11.2)\n",
            "Requirement already satisfied: numpy>=1.9.2 in /usr/local/lib/python3.6/dist-packages (from pyLDAvis) (1.18.4)\n",
            "Requirement already satisfied: funcy in /usr/local/lib/python3.6/dist-packages (from pyLDAvis) (1.14)\n",
            "Requirement already satisfied: joblib>=0.8.4 in /usr/local/lib/python3.6/dist-packages (from pyLDAvis) (0.15.1)\n",
            "Requirement already satisfied: pytest in /usr/local/lib/python3.6/dist-packages (from pyLDAvis) (3.6.4)\n",
            "Requirement already satisfied: numexpr in /usr/local/lib/python3.6/dist-packages (from pyLDAvis) (2.7.1)\n",
            "Requirement already satisfied: future in /usr/local/lib/python3.6/dist-packages (from pyLDAvis) (0.16.0)\n",
            "Requirement already satisfied: pandas>=0.17.0 in /usr/local/lib/python3.6/dist-packages (from pyLDAvis) (1.0.4)\n",
            "Requirement already satisfied: scipy>=0.18.0 in /usr/local/lib/python3.6/dist-packages (from pyLDAvis) (1.4.1)\n",
            "Requirement already satisfied: wheel>=0.23.0 in /usr/local/lib/python3.6/dist-packages (from pyLDAvis) (0.34.2)\n",
            "Requirement already satisfied: MarkupSafe>=0.23 in /usr/local/lib/python3.6/dist-packages (from jinja2>=2.7.2->pyLDAvis) (1.1.1)\n",
            "Requirement already satisfied: atomicwrites>=1.0 in /usr/local/lib/python3.6/dist-packages (from pytest->pyLDAvis) (1.4.0)\n",
            "Requirement already satisfied: six>=1.10.0 in /usr/local/lib/python3.6/dist-packages (from pytest->pyLDAvis) (1.12.0)\n",
            "Requirement already satisfied: more-itertools>=4.0.0 in /usr/local/lib/python3.6/dist-packages (from pytest->pyLDAvis) (8.3.0)\n",
            "Requirement already satisfied: attrs>=17.4.0 in /usr/local/lib/python3.6/dist-packages (from pytest->pyLDAvis) (19.3.0)\n",
            "Requirement already satisfied: py>=1.5.0 in /usr/local/lib/python3.6/dist-packages (from pytest->pyLDAvis) (1.8.1)\n",
            "Requirement already satisfied: pluggy<0.8,>=0.5 in /usr/local/lib/python3.6/dist-packages (from pytest->pyLDAvis) (0.7.1)\n",
            "Requirement already satisfied: setuptools in /usr/local/lib/python3.6/dist-packages (from pytest->pyLDAvis) (47.1.1)\n",
            "Requirement already satisfied: python-dateutil>=2.6.1 in /usr/local/lib/python3.6/dist-packages (from pandas>=0.17.0->pyLDAvis) (2.8.1)\n",
            "Requirement already satisfied: pytz>=2017.2 in /usr/local/lib/python3.6/dist-packages (from pandas>=0.17.0->pyLDAvis) (2018.9)\n",
            "Requirement already satisfied: en_core_web_lg==2.2.5 from https://github.com/explosion/spacy-models/releases/download/en_core_web_lg-2.2.5/en_core_web_lg-2.2.5.tar.gz#egg=en_core_web_lg==2.2.5 in /usr/local/lib/python3.6/dist-packages (2.2.5)\n",
            "Requirement already satisfied: spacy>=2.2.2 in /usr/local/lib/python3.6/dist-packages (from en_core_web_lg==2.2.5) (2.2.4)\n",
            "Requirement already satisfied: setuptools in /usr/local/lib/python3.6/dist-packages (from spacy>=2.2.2->en_core_web_lg==2.2.5) (47.1.1)\n",
            "Requirement already satisfied: preshed<3.1.0,>=3.0.2 in /usr/local/lib/python3.6/dist-packages (from spacy>=2.2.2->en_core_web_lg==2.2.5) (3.0.2)\n",
            "Requirement already satisfied: wasabi<1.1.0,>=0.4.0 in /usr/local/lib/python3.6/dist-packages (from spacy>=2.2.2->en_core_web_lg==2.2.5) (0.6.0)\n",
            "Requirement already satisfied: requests<3.0.0,>=2.13.0 in /usr/local/lib/python3.6/dist-packages (from spacy>=2.2.2->en_core_web_lg==2.2.5) (2.23.0)\n",
            "Requirement already satisfied: blis<0.5.0,>=0.4.0 in /usr/local/lib/python3.6/dist-packages (from spacy>=2.2.2->en_core_web_lg==2.2.5) (0.4.1)\n",
            "Requirement already satisfied: murmurhash<1.1.0,>=0.28.0 in /usr/local/lib/python3.6/dist-packages (from spacy>=2.2.2->en_core_web_lg==2.2.5) (1.0.2)\n",
            "Requirement already satisfied: thinc==7.4.0 in /usr/local/lib/python3.6/dist-packages (from spacy>=2.2.2->en_core_web_lg==2.2.5) (7.4.0)\n",
            "Requirement already satisfied: tqdm<5.0.0,>=4.38.0 in /usr/local/lib/python3.6/dist-packages (from spacy>=2.2.2->en_core_web_lg==2.2.5) (4.41.1)\n",
            "Requirement already satisfied: plac<1.2.0,>=0.9.6 in /usr/local/lib/python3.6/dist-packages (from spacy>=2.2.2->en_core_web_lg==2.2.5) (1.1.3)\n",
            "Requirement already satisfied: cymem<2.1.0,>=2.0.2 in /usr/local/lib/python3.6/dist-packages (from spacy>=2.2.2->en_core_web_lg==2.2.5) (2.0.3)\n",
            "Requirement already satisfied: srsly<1.1.0,>=1.0.2 in /usr/local/lib/python3.6/dist-packages (from spacy>=2.2.2->en_core_web_lg==2.2.5) (1.0.2)\n",
            "Requirement already satisfied: numpy>=1.15.0 in /usr/local/lib/python3.6/dist-packages (from spacy>=2.2.2->en_core_web_lg==2.2.5) (1.18.4)\n",
            "Requirement already satisfied: catalogue<1.1.0,>=0.0.7 in /usr/local/lib/python3.6/dist-packages (from spacy>=2.2.2->en_core_web_lg==2.2.5) (1.0.0)\n",
            "Requirement already satisfied: certifi>=2017.4.17 in /usr/local/lib/python3.6/dist-packages (from requests<3.0.0,>=2.13.0->spacy>=2.2.2->en_core_web_lg==2.2.5) (2020.4.5.1)\n",
            "Requirement already satisfied: idna<3,>=2.5 in /usr/local/lib/python3.6/dist-packages (from requests<3.0.0,>=2.13.0->spacy>=2.2.2->en_core_web_lg==2.2.5) (2.9)\n",
            "Requirement already satisfied: chardet<4,>=3.0.2 in /usr/local/lib/python3.6/dist-packages (from requests<3.0.0,>=2.13.0->spacy>=2.2.2->en_core_web_lg==2.2.5) (3.0.4)\n",
            "Requirement already satisfied: urllib3!=1.25.0,!=1.25.1,<1.26,>=1.21.1 in /usr/local/lib/python3.6/dist-packages (from requests<3.0.0,>=2.13.0->spacy>=2.2.2->en_core_web_lg==2.2.5) (1.24.3)\n",
            "Requirement already satisfied: importlib-metadata>=0.20; python_version < \"3.8\" in /usr/local/lib/python3.6/dist-packages (from catalogue<1.1.0,>=0.0.7->spacy>=2.2.2->en_core_web_lg==2.2.5) (1.6.0)\n",
            "Requirement already satisfied: zipp>=0.5 in /usr/local/lib/python3.6/dist-packages (from importlib-metadata>=0.20; python_version < \"3.8\"->catalogue<1.1.0,>=0.0.7->spacy>=2.2.2->en_core_web_lg==2.2.5) (3.1.0)\n",
            "\u001b[38;5;2m✔ Download and installation successful\u001b[0m\n",
            "You can now load the model via spacy.load('en_core_web_lg')\n"
          ],
          "name": "stdout"
        },
        {
          "output_type": "stream",
          "text": [
            "/usr/local/lib/python3.6/dist-packages/statsmodels/tools/_testing.py:19: FutureWarning: pandas.util.testing is deprecated. Use the functions in the public API at pandas.testing instead.\n",
            "  import pandas.util.testing as tm\n"
          ],
          "name": "stderr"
        }
      ]
    },
    {
      "cell_type": "markdown",
      "metadata": {
        "colab_type": "text",
        "id": "rQDt-6pYwVoN"
      },
      "source": [
        "## Step 1: Load and Analyze data\n",
        "\n",
        "As part of this step we will try to load and analyze our data in order to get a general intuition of our data.\n",
        "\n",
        "> Source of this dataset is from [BBC News Insight data](http://mlg.ucd.ie/datasets/bbc.html). \n",
        "\n",
        "*About the Data: All rights, including copyright, in the content of the original articles are owned by the BBC.*"
      ]
    },
    {
      "cell_type": "code",
      "metadata": {
        "id": "-kNy8B-NI6CR",
        "colab_type": "code",
        "colab": {}
      },
      "source": [
        "#from google.colab import drive\n",
        "#drive.mount('/content/drive')"
      ],
      "execution_count": 0,
      "outputs": []
    },
    {
      "cell_type": "code",
      "metadata": {
        "colab_type": "code",
        "id": "jUeRe8UkhNSZ",
        "outputId": "ee835132-e89e-4e31-8d45-36434dddd036",
        "colab": {
          "base_uri": "https://localhost:8080/",
          "height": 204
        }
      },
      "source": [
        "### Reading the dataset from path\n",
        "\n",
        "filename = '/content/drive/My Drive/Colab Notebooks/data/bbc/bbc_raw_dict.json'\n",
        "data = pd.read_json(filename)\n",
        "data.head()"
      ],
      "execution_count": 3,
      "outputs": [
        {
          "output_type": "execute_result",
          "data": {
            "text/html": [
              "<div>\n",
              "<style scoped>\n",
              "    .dataframe tbody tr th:only-of-type {\n",
              "        vertical-align: middle;\n",
              "    }\n",
              "\n",
              "    .dataframe tbody tr th {\n",
              "        vertical-align: top;\n",
              "    }\n",
              "\n",
              "    .dataframe thead th {\n",
              "        text-align: right;\n",
              "    }\n",
              "</style>\n",
              "<table border=\"1\" class=\"dataframe\">\n",
              "  <thead>\n",
              "    <tr style=\"text-align: right;\">\n",
              "      <th></th>\n",
              "      <th>category</th>\n",
              "      <th>content</th>\n",
              "      <th>filename</th>\n",
              "    </tr>\n",
              "  </thead>\n",
              "  <tbody>\n",
              "    <tr>\n",
              "      <th>0</th>\n",
              "      <td>entertainment</td>\n",
              "      <td>Musicians to tackle US red tape\\n\\nMusicians' ...</td>\n",
              "      <td>/Users/rishushrivastava/Documents/AI/Dataset/b...</td>\n",
              "    </tr>\n",
              "    <tr>\n",
              "      <th>1</th>\n",
              "      <td>entertainment</td>\n",
              "      <td>U2's desire to be number one\\n\\nU2, who have w...</td>\n",
              "      <td>/Users/rishushrivastava/Documents/AI/Dataset/b...</td>\n",
              "    </tr>\n",
              "    <tr>\n",
              "      <th>2</th>\n",
              "      <td>entertainment</td>\n",
              "      <td>Rocker Doherty in on-stage fight\\n\\nRock singe...</td>\n",
              "      <td>/Users/rishushrivastava/Documents/AI/Dataset/b...</td>\n",
              "    </tr>\n",
              "    <tr>\n",
              "      <th>3</th>\n",
              "      <td>entertainment</td>\n",
              "      <td>Snicket tops US box office chart\\n\\nThe film a...</td>\n",
              "      <td>/Users/rishushrivastava/Documents/AI/Dataset/b...</td>\n",
              "    </tr>\n",
              "    <tr>\n",
              "      <th>4</th>\n",
              "      <td>entertainment</td>\n",
              "      <td>Ocean's Twelve raids box office\\n\\nOcean's Twe...</td>\n",
              "      <td>/Users/rishushrivastava/Documents/AI/Dataset/b...</td>\n",
              "    </tr>\n",
              "  </tbody>\n",
              "</table>\n",
              "</div>"
            ],
            "text/plain": [
              "        category  ...                                           filename\n",
              "0  entertainment  ...  /Users/rishushrivastava/Documents/AI/Dataset/b...\n",
              "1  entertainment  ...  /Users/rishushrivastava/Documents/AI/Dataset/b...\n",
              "2  entertainment  ...  /Users/rishushrivastava/Documents/AI/Dataset/b...\n",
              "3  entertainment  ...  /Users/rishushrivastava/Documents/AI/Dataset/b...\n",
              "4  entertainment  ...  /Users/rishushrivastava/Documents/AI/Dataset/b...\n",
              "\n",
              "[5 rows x 3 columns]"
            ]
          },
          "metadata": {
            "tags": []
          },
          "execution_count": 3
        }
      ]
    },
    {
      "cell_type": "code",
      "metadata": {
        "colab_type": "code",
        "id": "7nABVK_Omv3q",
        "outputId": "3ad84caf-69ba-469f-f894-caab5e38ac6f",
        "colab": {
          "base_uri": "https://localhost:8080/",
          "height": 34
        }
      },
      "source": [
        "### get the shape of the data\n",
        "\n",
        "data.shape"
      ],
      "execution_count": 4,
      "outputs": [
        {
          "output_type": "execute_result",
          "data": {
            "text/plain": [
              "(2225, 3)"
            ]
          },
          "metadata": {
            "tags": []
          },
          "execution_count": 4
        }
      ]
    },
    {
      "cell_type": "code",
      "metadata": {
        "id": "2ouy9fUqWuW5",
        "colab_type": "code",
        "colab": {
          "base_uri": "https://localhost:8080/",
          "height": 51
        },
        "outputId": "41a9bda5-1114-478c-e58c-1086c74cf481"
      },
      "source": [
        "### Check for any null or na\n",
        "\n",
        "data['content'].isna().value_counts() # no null records found. hence the data is in good quality"
      ],
      "execution_count": 58,
      "outputs": [
        {
          "output_type": "execute_result",
          "data": {
            "text/plain": [
              "False    2225\n",
              "Name: content, dtype: int64"
            ]
          },
          "metadata": {
            "tags": []
          },
          "execution_count": 58
        }
      ]
    },
    {
      "cell_type": "code",
      "metadata": {
        "id": "Qg9hCxd9XM0E",
        "colab_type": "code",
        "colab": {
          "base_uri": "https://localhost:8080/",
          "height": 119
        },
        "outputId": "0ef05ee3-7d9b-42f9-d7a9-1e7e2b713850"
      },
      "source": [
        "### distribution of the dataset\n",
        "\n",
        "data['category'].value_counts()"
      ],
      "execution_count": 59,
      "outputs": [
        {
          "output_type": "execute_result",
          "data": {
            "text/plain": [
              "sport            511\n",
              "business         510\n",
              "politics         417\n",
              "tech             401\n",
              "entertainment    386\n",
              "Name: category, dtype: int64"
            ]
          },
          "metadata": {
            "tags": []
          },
          "execution_count": 59
        }
      ]
    },
    {
      "cell_type": "code",
      "metadata": {
        "colab_type": "code",
        "id": "2mcwlkrPm6Oo",
        "outputId": "5e8de37e-a724-4f6c-8b33-193eec8420b9",
        "colab": {
          "base_uri": "https://localhost:8080/",
          "height": 350
        }
      },
      "source": [
        "### visualize the category - total article spread.\n",
        "\n",
        "plt.figure(figsize=(10,5))\n",
        "sns.set_style(\"whitegrid\")\n",
        "sns.countplot(x='category',data=data, orient='h', palette='Spectral_r')\n",
        "plt.title(\"Article Counts by Category (BBC) - Actual Data Source\")\n",
        "plt.show()"
      ],
      "execution_count": 5,
      "outputs": [
        {
          "output_type": "display_data",
          "data": {
            "image/png": "[encoded data removed]",
            "text/plain": [
              "<Figure size 720x360 with 1 Axes>"
            ]
          },
          "metadata": {
            "tags": [],
            "needs_background": "light"
          }
        }
      ]
    },
    {
      "cell_type": "markdown",
      "metadata": {
        "id": "K-7yH62xxc22",
        "colab_type": "text"
      },
      "source": [
        "> The BBC news data is currently divided into 5 Major Categories: **Entertainment, Business, Sport, Politics and Tech**.\n",
        "\n",
        "**Note:** Our target is to understand the BBC news content and build a topic cluster for the news content. We will assume there is no previous knowledge of the above categories. The categories from the original dataset are merely for the purpose of cross-validation and testing."
      ]
    },
    {
      "cell_type": "markdown",
      "metadata": {
        "id": "Baz_eBiCxc23",
        "colab_type": "text"
      },
      "source": [
        "## Step 2: Data Cleaning and Transformation\n",
        "\n",
        "> In this step, we will try to clean and transform the existing dataset into a more managable chunks to be able to fit into the LDA model. During this process, we will also try to get a little in-depth intuition of the dataset using NLP techniques."
      ]
    },
    {
      "cell_type": "code",
      "metadata": {
        "id": "KiOML17q8Igr",
        "colab_type": "code",
        "colab": {}
      },
      "source": [
        "# load spacy\n",
        "nlp = spacy.load('en_core_web_lg')"
      ],
      "execution_count": 0,
      "outputs": []
    },
    {
      "cell_type": "code",
      "metadata": {
        "id": "gUy4n2mk-bsp",
        "colab_type": "code",
        "colab": {
          "base_uri": "https://localhost:8080/",
          "height": 787
        },
        "outputId": "e759e564-235c-4cf2-b162-40e4f459aede"
      },
      "source": [
        "# selecting and analysing the first item in the dataframe\n",
        "doc_one = nlp(data['content'].iloc[0])\n",
        "\n",
        "displacy.render(nlp(sample_data_one),style='ent',jupyter=True)"
      ],
      "execution_count": 30,
      "outputs": [
        {
          "output_type": "display_data",
          "data": {
            "text/html": [
              "<span class=\"tex2jax_ignore\"><div class=\"entities\" style=\"line-height: 2.5; direction: ltr\">Musicians to tackle \n",
              "<mark class=\"entity\" style=\"background: #feca74; padding: 0.45em 0.6em; margin: 0 0.25em; line-height: 1; border-radius: 0.35em;\">\n",
              "    US\n",
              "    <span style=\"font-size: 0.8em; font-weight: bold; line-height: 1; border-radius: 0.35em; text-transform: uppercase; vertical-align: middle; margin-left: 0.5rem\">GPE</span>\n",
              "</mark>\n",
              " red tape</br></br>Musicians' groups are to tackle \n",
              "<mark class=\"entity\" style=\"background: #feca74; padding: 0.45em 0.6em; margin: 0 0.25em; line-height: 1; border-radius: 0.35em;\">\n",
              "    US\n",
              "    <span style=\"font-size: 0.8em; font-weight: bold; line-height: 1; border-radius: 0.35em; text-transform: uppercase; vertical-align: middle; margin-left: 0.5rem\">GPE</span>\n",
              "</mark>\n",
              " visa regulations which are blamed for hindering \n",
              "<mark class=\"entity\" style=\"background: #c887fb; padding: 0.45em 0.6em; margin: 0 0.25em; line-height: 1; border-radius: 0.35em;\">\n",
              "    British\n",
              "    <span style=\"font-size: 0.8em; font-weight: bold; line-height: 1; border-radius: 0.35em; text-transform: uppercase; vertical-align: middle; margin-left: 0.5rem\">NORP</span>\n",
              "</mark>\n",
              " acts' chances of succeeding across the \n",
              "<mark class=\"entity\" style=\"background: #ff9561; padding: 0.45em 0.6em; margin: 0 0.25em; line-height: 1; border-radius: 0.35em;\">\n",
              "    Atlantic\n",
              "    <span style=\"font-size: 0.8em; font-weight: bold; line-height: 1; border-radius: 0.35em; text-transform: uppercase; vertical-align: middle; margin-left: 0.5rem\">LOC</span>\n",
              "</mark>\n",
              ".</br></br>A singer hoping to perform in the \n",
              "<mark class=\"entity\" style=\"background: #feca74; padding: 0.45em 0.6em; margin: 0 0.25em; line-height: 1; border-radius: 0.35em;\">\n",
              "    US\n",
              "    <span style=\"font-size: 0.8em; font-weight: bold; line-height: 1; border-radius: 0.35em; text-transform: uppercase; vertical-align: middle; margin-left: 0.5rem\">GPE</span>\n",
              "</mark>\n",
              " can expect to pay $\n",
              "<mark class=\"entity\" style=\"background: #e4e7d2; padding: 0.45em 0.6em; margin: 0 0.25em; line-height: 1; border-radius: 0.35em;\">\n",
              "    1,300\n",
              "    <span style=\"font-size: 0.8em; font-weight: bold; line-height: 1; border-radius: 0.35em; text-transform: uppercase; vertical-align: middle; margin-left: 0.5rem\">MONEY</span>\n",
              "</mark>\n",
              " (Â£680) simply for obtaining a visa. Groups including \n",
              "<mark class=\"entity\" style=\"background: #7aecec; padding: 0.45em 0.6em; margin: 0 0.25em; line-height: 1; border-radius: 0.35em;\">\n",
              "    the Musicians' Union\n",
              "    <span style=\"font-size: 0.8em; font-weight: bold; line-height: 1; border-radius: 0.35em; text-transform: uppercase; vertical-align: middle; margin-left: 0.5rem\">ORG</span>\n",
              "</mark>\n",
              " are calling for an end to the &quot;raw deal&quot; faced by \n",
              "<mark class=\"entity\" style=\"background: #c887fb; padding: 0.45em 0.6em; margin: 0 0.25em; line-height: 1; border-radius: 0.35em;\">\n",
              "    British\n",
              "    <span style=\"font-size: 0.8em; font-weight: bold; line-height: 1; border-radius: 0.35em; text-transform: uppercase; vertical-align: middle; margin-left: 0.5rem\">NORP</span>\n",
              "</mark>\n",
              " performers. \n",
              "<mark class=\"entity\" style=\"background: #feca74; padding: 0.45em 0.6em; margin: 0 0.25em; line-height: 1; border-radius: 0.35em;\">\n",
              "    US\n",
              "    <span style=\"font-size: 0.8em; font-weight: bold; line-height: 1; border-radius: 0.35em; text-transform: uppercase; vertical-align: middle; margin-left: 0.5rem\">GPE</span>\n",
              "</mark>\n",
              " acts are not faced with comparable expense and bureaucracy when visiting the \n",
              "<mark class=\"entity\" style=\"background: #feca74; padding: 0.45em 0.6em; margin: 0 0.25em; line-height: 1; border-radius: 0.35em;\">\n",
              "    UK\n",
              "    <span style=\"font-size: 0.8em; font-weight: bold; line-height: 1; border-radius: 0.35em; text-transform: uppercase; vertical-align: middle; margin-left: 0.5rem\">GPE</span>\n",
              "</mark>\n",
              " for promotional purposes.</br></br>\n",
              "<mark class=\"entity\" style=\"background: #aa9cfc; padding: 0.45em 0.6em; margin: 0 0.25em; line-height: 1; border-radius: 0.35em;\">\n",
              "    Nigel McCune\n",
              "    <span style=\"font-size: 0.8em; font-weight: bold; line-height: 1; border-radius: 0.35em; text-transform: uppercase; vertical-align: middle; margin-left: 0.5rem\">PERSON</span>\n",
              "</mark>\n",
              " from \n",
              "<mark class=\"entity\" style=\"background: #7aecec; padding: 0.45em 0.6em; margin: 0 0.25em; line-height: 1; border-radius: 0.35em;\">\n",
              "    the Musicians' Union\n",
              "    <span style=\"font-size: 0.8em; font-weight: bold; line-height: 1; border-radius: 0.35em; text-transform: uppercase; vertical-align: middle; margin-left: 0.5rem\">ORG</span>\n",
              "</mark>\n",
              " said \n",
              "<mark class=\"entity\" style=\"background: #c887fb; padding: 0.45em 0.6em; margin: 0 0.25em; line-height: 1; border-radius: 0.35em;\">\n",
              "    British\n",
              "    <span style=\"font-size: 0.8em; font-weight: bold; line-height: 1; border-radius: 0.35em; text-transform: uppercase; vertical-align: middle; margin-left: 0.5rem\">NORP</span>\n",
              "</mark>\n",
              " musicians are &quot;disadvantaged&quot; compared to their \n",
              "<mark class=\"entity\" style=\"background: #feca74; padding: 0.45em 0.6em; margin: 0 0.25em; line-height: 1; border-radius: 0.35em;\">\n",
              "    US\n",
              "    <span style=\"font-size: 0.8em; font-weight: bold; line-height: 1; border-radius: 0.35em; text-transform: uppercase; vertical-align: middle; margin-left: 0.5rem\">GPE</span>\n",
              "</mark>\n",
              " counterparts. A sponsor has to make a petition on their behalf, which is a form amounting to \n",
              "<mark class=\"entity\" style=\"background: #e4e7d2; padding: 0.45em 0.6em; margin: 0 0.25em; line-height: 1; border-radius: 0.35em;\">\n",
              "    nearly 30\n",
              "    <span style=\"font-size: 0.8em; font-weight: bold; line-height: 1; border-radius: 0.35em; text-transform: uppercase; vertical-align: middle; margin-left: 0.5rem\">CARDINAL</span>\n",
              "</mark>\n",
              " pages, while musicians face tougher regulations than athletes and journalists. &quot;If you make a mistake on your form, you risk a \n",
              "<mark class=\"entity\" style=\"background: #bfe1d9; padding: 0.45em 0.6em; margin: 0 0.25em; line-height: 1; border-radius: 0.35em;\">\n",
              "    five-year\n",
              "    <span style=\"font-size: 0.8em; font-weight: bold; line-height: 1; border-radius: 0.35em; text-transform: uppercase; vertical-align: middle; margin-left: 0.5rem\">DATE</span>\n",
              "</mark>\n",
              " ban and thus the ability to further your career,&quot; says \n",
              "<mark class=\"entity\" style=\"background: #aa9cfc; padding: 0.45em 0.6em; margin: 0 0.25em; line-height: 1; border-radius: 0.35em;\">\n",
              "    Mr McCune\n",
              "    <span style=\"font-size: 0.8em; font-weight: bold; line-height: 1; border-radius: 0.35em; text-transform: uppercase; vertical-align: middle; margin-left: 0.5rem\">PERSON</span>\n",
              "</mark>\n",
              ".</br></br>&quot;The \n",
              "<mark class=\"entity\" style=\"background: #feca74; padding: 0.45em 0.6em; margin: 0 0.25em; line-height: 1; border-radius: 0.35em;\">\n",
              "    US\n",
              "    <span style=\"font-size: 0.8em; font-weight: bold; line-height: 1; border-radius: 0.35em; text-transform: uppercase; vertical-align: middle; margin-left: 0.5rem\">GPE</span>\n",
              "</mark>\n",
              " is the world's biggest music market, which means something has to be done about the creaky bureaucracy,&quot; says \n",
              "<mark class=\"entity\" style=\"background: #aa9cfc; padding: 0.45em 0.6em; margin: 0 0.25em; line-height: 1; border-radius: 0.35em;\">\n",
              "    Mr McCune\n",
              "    <span style=\"font-size: 0.8em; font-weight: bold; line-height: 1; border-radius: 0.35em; text-transform: uppercase; vertical-align: middle; margin-left: 0.5rem\">PERSON</span>\n",
              "</mark>\n",
              ". &quot;The current situation is preventing \n",
              "<mark class=\"entity\" style=\"background: #c887fb; padding: 0.45em 0.6em; margin: 0 0.25em; line-height: 1; border-radius: 0.35em;\">\n",
              "    British\n",
              "    <span style=\"font-size: 0.8em; font-weight: bold; line-height: 1; border-radius: 0.35em; text-transform: uppercase; vertical-align: middle; margin-left: 0.5rem\">NORP</span>\n",
              "</mark>\n",
              " acts from maintaining momentum and developing in the \n",
              "<mark class=\"entity\" style=\"background: #feca74; padding: 0.45em 0.6em; margin: 0 0.25em; line-height: 1; border-radius: 0.35em;\">\n",
              "    US\n",
              "    <span style=\"font-size: 0.8em; font-weight: bold; line-height: 1; border-radius: 0.35em; text-transform: uppercase; vertical-align: middle; margin-left: 0.5rem\">GPE</span>\n",
              "</mark>\n",
              ",&quot; he added.</br></br>The Musicians' Union stance is being endorsed by \n",
              "<mark class=\"entity\" style=\"background: #7aecec; padding: 0.45em 0.6em; margin: 0 0.25em; line-height: 1; border-radius: 0.35em;\">\n",
              "    the Music Managers' Forum\n",
              "    <span style=\"font-size: 0.8em; font-weight: bold; line-height: 1; border-radius: 0.35em; text-transform: uppercase; vertical-align: middle; margin-left: 0.5rem\">ORG</span>\n",
              "</mark>\n",
              " (MMF), who say \n",
              "<mark class=\"entity\" style=\"background: #c887fb; padding: 0.45em 0.6em; margin: 0 0.25em; line-height: 1; border-radius: 0.35em;\">\n",
              "    British\n",
              "    <span style=\"font-size: 0.8em; font-weight: bold; line-height: 1; border-radius: 0.35em; text-transform: uppercase; vertical-align: middle; margin-left: 0.5rem\">NORP</span>\n",
              "</mark>\n",
              " artists face &quot;an uphill struggle&quot; to succeed in the \n",
              "<mark class=\"entity\" style=\"background: #feca74; padding: 0.45em 0.6em; margin: 0 0.25em; line-height: 1; border-radius: 0.35em;\">\n",
              "    US\n",
              "    <span style=\"font-size: 0.8em; font-weight: bold; line-height: 1; border-radius: 0.35em; text-transform: uppercase; vertical-align: middle; margin-left: 0.5rem\">GPE</span>\n",
              "</mark>\n",
              ", thanks to the tough visa requirements, which are also seen as impractical. The \n",
              "<mark class=\"entity\" style=\"background: #7aecec; padding: 0.45em 0.6em; margin: 0 0.25em; line-height: 1; border-radius: 0.35em;\">\n",
              "    MMF\n",
              "    <span style=\"font-size: 0.8em; font-weight: bold; line-height: 1; border-radius: 0.35em; text-transform: uppercase; vertical-align: middle; margin-left: 0.5rem\">ORG</span>\n",
              "</mark>\n",
              "'s general secretary \n",
              "<mark class=\"entity\" style=\"background: #aa9cfc; padding: 0.45em 0.6em; margin: 0 0.25em; line-height: 1; border-radius: 0.35em;\">\n",
              "    James Seller\n",
              "    <span style=\"font-size: 0.8em; font-weight: bold; line-height: 1; border-radius: 0.35em; text-transform: uppercase; vertical-align: middle; margin-left: 0.5rem\">PERSON</span>\n",
              "</mark>\n",
              " said: &quot;Imagine if you were an orchestra from the \n",
              "<mark class=\"entity\" style=\"background: #aa9cfc; padding: 0.45em 0.6em; margin: 0 0.25em; line-height: 1; border-radius: 0.35em;\">\n",
              "    Orkneys\n",
              "    <span style=\"font-size: 0.8em; font-weight: bold; line-height: 1; border-radius: 0.35em; text-transform: uppercase; vertical-align: middle; margin-left: 0.5rem\">PERSON</span>\n",
              "</mark>\n",
              "? Every member would have to travel to \n",
              "<mark class=\"entity\" style=\"background: #feca74; padding: 0.45em 0.6em; margin: 0 0.25em; line-height: 1; border-radius: 0.35em;\">\n",
              "    London\n",
              "    <span style=\"font-size: 0.8em; font-weight: bold; line-height: 1; border-radius: 0.35em; text-transform: uppercase; vertical-align: middle; margin-left: 0.5rem\">GPE</span>\n",
              "</mark>\n",
              " to have their visas processed.&quot;</br></br>&quot;The \n",
              "<mark class=\"entity\" style=\"background: #feca74; padding: 0.45em 0.6em; margin: 0 0.25em; line-height: 1; border-radius: 0.35em;\">\n",
              "    US\n",
              "    <span style=\"font-size: 0.8em; font-weight: bold; line-height: 1; border-radius: 0.35em; text-transform: uppercase; vertical-align: middle; margin-left: 0.5rem\">GPE</span>\n",
              "</mark>\n",
              " market is seen as \n",
              "<mark class=\"entity\" style=\"background: #ddd; padding: 0.45em 0.6em; margin: 0 0.25em; line-height: 1; border-radius: 0.35em;\">\n",
              "    the holy grail\n",
              "    <span style=\"font-size: 0.8em; font-weight: bold; line-height: 1; border-radius: 0.35em; text-transform: uppercase; vertical-align: middle; margin-left: 0.5rem\">FAC</span>\n",
              "</mark>\n",
              " and \n",
              "<mark class=\"entity\" style=\"background: #e4e7d2; padding: 0.45em 0.6em; margin: 0 0.25em; line-height: 1; border-radius: 0.35em;\">\n",
              "    one\n",
              "    <span style=\"font-size: 0.8em; font-weight: bold; line-height: 1; border-radius: 0.35em; text-transform: uppercase; vertical-align: middle; margin-left: 0.5rem\">CARDINAL</span>\n",
              "</mark>\n",
              " of the benchmarks of success, and we're still going to fight to get in there. &quot;It's still very important, but there are other markets like \n",
              "<mark class=\"entity\" style=\"background: #ff9561; padding: 0.45em 0.6em; margin: 0 0.25em; line-height: 1; border-radius: 0.35em;\">\n",
              "    Europe\n",
              "    <span style=\"font-size: 0.8em; font-weight: bold; line-height: 1; border-radius: 0.35em; text-transform: uppercase; vertical-align: middle; margin-left: 0.5rem\">LOC</span>\n",
              "</mark>\n",
              ", \n",
              "<mark class=\"entity\" style=\"background: #feca74; padding: 0.45em 0.6em; margin: 0 0.25em; line-height: 1; border-radius: 0.35em;\">\n",
              "    India\n",
              "    <span style=\"font-size: 0.8em; font-weight: bold; line-height: 1; border-radius: 0.35em; text-transform: uppercase; vertical-align: middle; margin-left: 0.5rem\">GPE</span>\n",
              "</mark>\n",
              " and \n",
              "<mark class=\"entity\" style=\"background: #feca74; padding: 0.45em 0.6em; margin: 0 0.25em; line-height: 1; border-radius: 0.35em;\">\n",
              "    China\n",
              "    <span style=\"font-size: 0.8em; font-weight: bold; line-height: 1; border-radius: 0.35em; text-transform: uppercase; vertical-align: middle; margin-left: 0.5rem\">GPE</span>\n",
              "</mark>\n",
              ",&quot; added \n",
              "<mark class=\"entity\" style=\"background: #aa9cfc; padding: 0.45em 0.6em; margin: 0 0.25em; line-height: 1; border-radius: 0.35em;\">\n",
              "    Mr Seller\n",
              "    <span style=\"font-size: 0.8em; font-weight: bold; line-height: 1; border-radius: 0.35em; text-transform: uppercase; vertical-align: middle; margin-left: 0.5rem\">PERSON</span>\n",
              "</mark>\n",
              ". A \n",
              "<mark class=\"entity\" style=\"background: #7aecec; padding: 0.45em 0.6em; margin: 0 0.25em; line-height: 1; border-radius: 0.35em;\">\n",
              "    Department for Media\n",
              "    <span style=\"font-size: 0.8em; font-weight: bold; line-height: 1; border-radius: 0.35em; text-transform: uppercase; vertical-align: middle; margin-left: 0.5rem\">ORG</span>\n",
              "</mark>\n",
              ", Culture and Sport spokeswoman said: &quot;We're aware that people are experiencing problems, and are working with the \n",
              "<mark class=\"entity\" style=\"background: #feca74; padding: 0.45em 0.6em; margin: 0 0.25em; line-height: 1; border-radius: 0.35em;\">\n",
              "    US\n",
              "    <span style=\"font-size: 0.8em; font-weight: bold; line-height: 1; border-radius: 0.35em; text-transform: uppercase; vertical-align: middle; margin-left: 0.5rem\">GPE</span>\n",
              "</mark>\n",
              " embassy and record industry to see what we can do about it.&quot; A \n",
              "<mark class=\"entity\" style=\"background: #7aecec; padding: 0.45em 0.6em; margin: 0 0.25em; line-height: 1; border-radius: 0.35em;\">\n",
              "    US Embassy\n",
              "    <span style=\"font-size: 0.8em; font-weight: bold; line-height: 1; border-radius: 0.35em; text-transform: uppercase; vertical-align: middle; margin-left: 0.5rem\">ORG</span>\n",
              "</mark>\n",
              " spokesman said: &quot;We are aware that entertainers require visas for time-specific visas and are doing everything we can to process those applications speedily.&quot; &quot;We are aware of the importance of cultural exchange and we will do our best to facilitate that,&quot; he added.\n",
              "</div></span>"
            ],
            "text/plain": [
              "<IPython.core.display.HTML object>"
            ]
          },
          "metadata": {
            "tags": []
          }
        }
      ]
    },
    {
      "cell_type": "markdown",
      "metadata": {
        "id": "uTQNbvBpBYJC",
        "colab_type": "text"
      },
      "source": [
        "\n",
        "> With the above display, we can notice the varied entities across the dataset.We would like to remove most of the entites out like **PERSON, ORG, CARDINAL, GPE, LOC** and **others**. This will help us in narrowing down the topic words."
      ]
    },
    {
      "cell_type": "code",
      "metadata": {
        "id": "oy6byWgiAJA4",
        "colab_type": "code",
        "colab": {
          "base_uri": "https://localhost:8080/",
          "height": 54
        },
        "outputId": "68d86778-7858-4780-df2b-f9e02fa88dd9"
      },
      "source": [
        "## Lets try to reduce down the data set into selected POS.\n",
        "\n",
        "def parse_filter_document(doc):\n",
        "  '''\n",
        "    1. Remove Stop Words \n",
        "    2. filter selective POS. \n",
        "    3. apply lemma on the tokens\n",
        "    @returns: list of filtered string\n",
        "  '''\n",
        "  filtered_doc = []\n",
        "  for token in doc:\n",
        "    if token.is_stop == False | token.is_punct == False | token.is_space == False:\n",
        "      if token.pos_ in ['NOUN','VERB']:\n",
        "        filtered_doc.append(token.lemma_)\n",
        "\n",
        "  return ' '.join(filtered_doc)\n",
        "\n",
        "\n",
        "print(parse_filter_document(doc_one))"
      ],
      "execution_count": 45,
      "outputs": [
        {
          "output_type": "stream",
          "text": [
            "musician tackle tape musician group tackle visa regulation blame hinder act chance succeed singer hope perform expect pay Â£680 obtain visa group include call end deal face performer act face expense bureaucracy visit purpose say musician compare counterpart sponsor petition behalf form amount page musician face regulation athlete journalist mistake form risk year ban ability career say world music market mean bureaucracy say situation prevent act maintain momentum develop add stance endorse artist face struggle succeed thank visa requirement see secretary say imagine orchestra member travel visa process market see benchmark success go fight market add spokeswoman say people experience problem work embassy record industry spokesman say entertainer require visa time visa process application importance exchange facilitate add\n"
          ],
          "name": "stdout"
        }
      ]
    },
    {
      "cell_type": "markdown",
      "metadata": {
        "id": "QGF2hzxFLahj",
        "colab_type": "text"
      },
      "source": [
        "> With the above method and applying it on one single document / news article, we can see we have cleaned and reduced the news article into meaningful chunk of data. We will use this method in the subsequent parsing of the data set."
      ]
    },
    {
      "cell_type": "markdown",
      "metadata": {
        "id": "g_KCyQBwQdTN",
        "colab_type": "text"
      },
      "source": [
        "Applying the parser method that we created into all of the dataframe and create a list new column named : **parsed_content**"
      ]
    },
    {
      "cell_type": "code",
      "metadata": {
        "id": "e9TOceW_J4W8",
        "colab_type": "code",
        "colab": {
          "base_uri": "https://localhost:8080/",
          "height": 669
        },
        "outputId": "94fc63ff-ddc6-41a9-e583-00c815f49661"
      },
      "source": [
        "df = data.copy()\n",
        "\n",
        "df['parsed_content'] = data['content'].apply(lambda x: parse_filter_document(nlp(x)))\n",
        "\n",
        "df.head(10)"
      ],
      "execution_count": 49,
      "outputs": [
        {
          "output_type": "execute_result",
          "data": {
            "text/html": [
              "<div>\n",
              "<style scoped>\n",
              "    .dataframe tbody tr th:only-of-type {\n",
              "        vertical-align: middle;\n",
              "    }\n",
              "\n",
              "    .dataframe tbody tr th {\n",
              "        vertical-align: top;\n",
              "    }\n",
              "\n",
              "    .dataframe thead th {\n",
              "        text-align: right;\n",
              "    }\n",
              "</style>\n",
              "<table border=\"1\" class=\"dataframe\">\n",
              "  <thead>\n",
              "    <tr style=\"text-align: right;\">\n",
              "      <th></th>\n",
              "      <th>category</th>\n",
              "      <th>content</th>\n",
              "      <th>filename</th>\n",
              "      <th>parsed_content</th>\n",
              "    </tr>\n",
              "  </thead>\n",
              "  <tbody>\n",
              "    <tr>\n",
              "      <th>0</th>\n",
              "      <td>entertainment</td>\n",
              "      <td>Musicians to tackle US red tape\\n\\nMusicians' ...</td>\n",
              "      <td>/Users/rishushrivastava/Documents/AI/Dataset/b...</td>\n",
              "      <td>musician tackle tape musician group tackle vis...</td>\n",
              "    </tr>\n",
              "    <tr>\n",
              "      <th>1</th>\n",
              "      <td>entertainment</td>\n",
              "      <td>U2's desire to be number one\\n\\nU2, who have w...</td>\n",
              "      <td>/Users/rishushrivastava/Documents/AI/Dataset/b...</td>\n",
              "      <td>desire number win hit cling status band world ...</td>\n",
              "    </tr>\n",
              "    <tr>\n",
              "      <th>2</th>\n",
              "      <td>entertainment</td>\n",
              "      <td>Rocker Doherty in on-stage fight\\n\\nRock singe...</td>\n",
              "      <td>/Users/rishushrivastava/Documents/AI/Dataset/b...</td>\n",
              "      <td>rocker stage fight singer involve fight band g...</td>\n",
              "    </tr>\n",
              "    <tr>\n",
              "      <th>3</th>\n",
              "      <td>entertainment</td>\n",
              "      <td>Snicket tops US box office chart\\n\\nThe film a...</td>\n",
              "      <td>/Users/rishushrivastava/Documents/AI/Dataset/b...</td>\n",
              "      <td>top office chart film adaptation novel top box...</td>\n",
              "    </tr>\n",
              "    <tr>\n",
              "      <th>4</th>\n",
              "      <td>entertainment</td>\n",
              "      <td>Ocean's Twelve raids box office\\n\\nOcean's Twe...</td>\n",
              "      <td>/Users/rishushrivastava/Documents/AI/Dataset/b...</td>\n",
              "      <td>raid box office crime caper sequel star go num...</td>\n",
              "    </tr>\n",
              "    <tr>\n",
              "      <th>5</th>\n",
              "      <td>entertainment</td>\n",
              "      <td>'Landmark movies' of 2004 hailed\\n\\nUS film pr...</td>\n",
              "      <td>/Users/rishushrivastava/Documents/AI/Dataset/b...</td>\n",
              "      <td>movie hail film professional declare passion m...</td>\n",
              "    </tr>\n",
              "    <tr>\n",
              "      <th>6</th>\n",
              "      <td>entertainment</td>\n",
              "      <td>Pete Doherty misses bail deadline\\n\\nSinger Pe...</td>\n",
              "      <td>/Users/rishushrivastava/Documents/AI/Dataset/b...</td>\n",
              "      <td>miss bail deadline singer spend weekend jail c...</td>\n",
              "    </tr>\n",
              "    <tr>\n",
              "      <th>7</th>\n",
              "      <td>entertainment</td>\n",
              "      <td>Fockers retain film chart crown\\n\\nComedy Meet...</td>\n",
              "      <td>/Users/rishushrivastava/Documents/AI/Dataset/b...</td>\n",
              "      <td>focker retain film chart crown hold number spo...</td>\n",
              "    </tr>\n",
              "    <tr>\n",
              "      <th>8</th>\n",
              "      <td>entertainment</td>\n",
              "      <td>Top gig award for Scissor Sisters\\n\\nNew York ...</td>\n",
              "      <td>/Users/rishushrivastava/Documents/AI/Dataset/b...</td>\n",
              "      <td>gig award band win gig year award performance ...</td>\n",
              "    </tr>\n",
              "    <tr>\n",
              "      <th>9</th>\n",
              "      <td>entertainment</td>\n",
              "      <td>Johnny Depp: The acting outlaw\\n\\nJohnny Depp,...</td>\n",
              "      <td>/Users/rishushrivastava/Documents/AI/Dataset/b...</td>\n",
              "      <td>act outlaw role creator celebrate talent star ...</td>\n",
              "    </tr>\n",
              "    <tr>\n",
              "      <th>10</th>\n",
              "      <td>entertainment</td>\n",
              "      <td>Actress Roberts takes spider role\\n\\nActress J...</td>\n",
              "      <td>/Users/rishushrivastava/Documents/AI/Dataset/b...</td>\n",
              "      <td>take spider role play spider film version chil...</td>\n",
              "    </tr>\n",
              "    <tr>\n",
              "      <th>11</th>\n",
              "      <td>entertainment</td>\n",
              "      <td>Film production 'falls' 40% in UK\\n\\nThe numbe...</td>\n",
              "      <td>/Users/rishushrivastava/Documents/AI/Dataset/b...</td>\n",
              "      <td>film production fall number film produce fall ...</td>\n",
              "    </tr>\n",
              "    <tr>\n",
              "      <th>12</th>\n",
              "      <td>entertainment</td>\n",
              "      <td>Patti Smith to host arts festival\\n\\nRock star...</td>\n",
              "      <td>/Users/rishushrivastava/Documents/AI/Dataset/b...</td>\n",
              "      <td>host art festival star director year festival ...</td>\n",
              "    </tr>\n",
              "    <tr>\n",
              "      <th>13</th>\n",
              "      <td>entertainment</td>\n",
              "      <td>Brits return Keane to number one\\n\\nBrits succ...</td>\n",
              "      <td>/Users/rishushrivastava/Documents/AI/Dataset/b...</td>\n",
              "      <td>return number success help return award win al...</td>\n",
              "    </tr>\n",
              "    <tr>\n",
              "      <th>14</th>\n",
              "      <td>entertainment</td>\n",
              "      <td>Sundance to honour foreign films\\n\\nInternatio...</td>\n",
              "      <td>/Users/rishushrivastava/Documents/AI/Dataset/b...</td>\n",
              "      <td>honour film film give prominence film year mov...</td>\n",
              "    </tr>\n",
              "    <tr>\n",
              "      <th>15</th>\n",
              "      <td>entertainment</td>\n",
              "      <td>Rapper Snoop Dogg sued for 'rape'\\n\\nUS rapper...</td>\n",
              "      <td>/Users/rishushrivastava/Documents/AI/Dataset/b...</td>\n",
              "      <td>rapper sue rape rapper sue m m artist claim en...</td>\n",
              "    </tr>\n",
              "    <tr>\n",
              "      <th>16</th>\n",
              "      <td>entertainment</td>\n",
              "      <td>De Niro film leads US box office\\n\\nFilm star ...</td>\n",
              "      <td>/Users/rishushrivastava/Documents/AI/Dataset/b...</td>\n",
              "      <td>film lead box office film star return box offi...</td>\n",
              "    </tr>\n",
              "    <tr>\n",
              "      <th>17</th>\n",
              "      <td>entertainment</td>\n",
              "      <td>Indie film nominations announced\\n\\nMike Leigh...</td>\n",
              "      <td>/Users/rishushrivastava/Documents/AI/Dataset/b...</td>\n",
              "      <td>film nomination announce award win abortion dr...</td>\n",
              "    </tr>\n",
              "    <tr>\n",
              "      <th>18</th>\n",
              "      <td>entertainment</td>\n",
              "      <td>Director Nair's Vanity project\\n\\nIndian film ...</td>\n",
              "      <td>/Users/rishushrivastava/Documents/AI/Dataset/b...</td>\n",
              "      <td>project film director say thrill give chance b...</td>\n",
              "    </tr>\n",
              "    <tr>\n",
              "      <th>19</th>\n",
              "      <td>entertainment</td>\n",
              "      <td>The Sound of Music is coming home\\n\\nThe origi...</td>\n",
              "      <td>/Users/rishushrivastava/Documents/AI/Dataset/b...</td>\n",
              "      <td>come stage production music perform time capit...</td>\n",
              "    </tr>\n",
              "  </tbody>\n",
              "</table>\n",
              "</div>"
            ],
            "text/plain": [
              "         category  ...                                     parsed_content\n",
              "0   entertainment  ...  musician tackle tape musician group tackle vis...\n",
              "1   entertainment  ...  desire number win hit cling status band world ...\n",
              "2   entertainment  ...  rocker stage fight singer involve fight band g...\n",
              "3   entertainment  ...  top office chart film adaptation novel top box...\n",
              "4   entertainment  ...  raid box office crime caper sequel star go num...\n",
              "5   entertainment  ...  movie hail film professional declare passion m...\n",
              "6   entertainment  ...  miss bail deadline singer spend weekend jail c...\n",
              "7   entertainment  ...  focker retain film chart crown hold number spo...\n",
              "8   entertainment  ...  gig award band win gig year award performance ...\n",
              "9   entertainment  ...  act outlaw role creator celebrate talent star ...\n",
              "10  entertainment  ...  take spider role play spider film version chil...\n",
              "11  entertainment  ...  film production fall number film produce fall ...\n",
              "12  entertainment  ...  host art festival star director year festival ...\n",
              "13  entertainment  ...  return number success help return award win al...\n",
              "14  entertainment  ...  honour film film give prominence film year mov...\n",
              "15  entertainment  ...  rapper sue rape rapper sue m m artist claim en...\n",
              "16  entertainment  ...  film lead box office film star return box offi...\n",
              "17  entertainment  ...  film nomination announce award win abortion dr...\n",
              "18  entertainment  ...  project film director say thrill give chance b...\n",
              "19  entertainment  ...  come stage production music perform time capit...\n",
              "\n",
              "[20 rows x 4 columns]"
            ]
          },
          "metadata": {
            "tags": []
          },
          "execution_count": 49
        }
      ]
    },
    {
      "cell_type": "markdown",
      "metadata": {
        "id": "biZO-zYiTrUx",
        "colab_type": "text"
      },
      "source": [
        "> Applying TFIDFVectoriser on the new parsed dataframe. This will vectorize the dataframe column : parsed_content. Once the data is vectorized we will fit it into our model."
      ]
    },
    {
      "cell_type": "code",
      "metadata": {
        "id": "CECLA21pAIY2",
        "colab_type": "code",
        "colab": {}
      },
      "source": [
        "tfidf_vec = TfidfVectorizer(max_df=0.90, min_df=1, lowercase=True)"
      ],
      "execution_count": 0,
      "outputs": []
    },
    {
      "cell_type": "code",
      "metadata": {
        "id": "EmJuaUQ8AH7N",
        "colab_type": "code",
        "colab": {}
      },
      "source": [
        "df_tfidf = tfidf_vec.fit_transform(df['parsed_content'])"
      ],
      "execution_count": 0,
      "outputs": []
    },
    {
      "cell_type": "code",
      "metadata": {
        "id": "p6pzPCb3tyIt",
        "colab_type": "code",
        "colab": {
          "base_uri": "https://localhost:8080/",
          "height": 51
        },
        "outputId": "45db1e16-5400-478f-fe57-5cf9ac48e20f"
      },
      "source": [
        "df_tfidf            # a sparse matrix is generated."
      ],
      "execution_count": 53,
      "outputs": [
        {
          "output_type": "execute_result",
          "data": {
            "text/plain": [
              "<2225x9306 sparse matrix of type '<class 'numpy.float64'>'\n",
              "\twith 183307 stored elements in Compressed Sparse Row format>"
            ]
          },
          "metadata": {
            "tags": []
          },
          "execution_count": 53
        }
      ]
    },
    {
      "cell_type": "markdown",
      "metadata": {
        "id": "mVI8NzO9Vc90",
        "colab_type": "text"
      },
      "source": [
        "> At this step, we are ready to fit our data into the LDA model. We have now cleaned, parsed and vectorised our data. In the next step, we will add the vectorized data into our model."
      ]
    },
    {
      "cell_type": "markdown",
      "metadata": {
        "colab_type": "text",
        "id": "g-GkVdCHCqo-"
      },
      "source": [
        "## Step 3: Defining LDA model"
      ]
    },
    {
      "cell_type": "markdown",
      "metadata": {
        "id": "78PH57ElXtSQ",
        "colab_type": "text"
      },
      "source": [
        "> In this subsequent steps we will try to fit in the LDA model based on the transformed and vectorised dataframe we created in the previous step. Based on our initial data analysis, our target topic cluster will be similar to the one in the original data. This will ensure to generate a clearer understanding of this data."
      ]
    },
    {
      "cell_type": "code",
      "metadata": {
        "colab_type": "code",
        "id": "h33cgl50BFgX",
        "colab": {}
      },
      "source": [
        "### Define the LDA model and set the topic size to 5.\n",
        "\n",
        "topic_clusters = 5            ## assumption is based on the original dataset.\n",
        "\n",
        "lda_model = LatentDirichletAllocation(n_components=topic_clusters, batch_size=128, random_state=42)"
      ],
      "execution_count": 0,
      "outputs": []
    },
    {
      "cell_type": "code",
      "metadata": {
        "colab_type": "code",
        "id": "lr_ESU3ODNaH",
        "outputId": "bd71e2a1-83a7-4f3b-9b78-263bcecc2606",
        "colab": {
          "base_uri": "https://localhost:8080/",
          "height": 136
        }
      },
      "source": [
        "### Fit the filtered data to the model\n",
        "\n",
        "lda_model.fit(df_tfidf)"
      ],
      "execution_count": 61,
      "outputs": [
        {
          "output_type": "execute_result",
          "data": {
            "text/plain": [
              "LatentDirichletAllocation(batch_size=128, doc_topic_prior=None,\n",
              "                          evaluate_every=-1, learning_decay=0.7,\n",
              "                          learning_method='batch', learning_offset=10.0,\n",
              "                          max_doc_update_iter=100, max_iter=10,\n",
              "                          mean_change_tol=0.001, n_components=5, n_jobs=None,\n",
              "                          perp_tol=0.1, random_state=42, topic_word_prior=None,\n",
              "                          total_samples=1000000.0, verbose=0)"
            ]
          },
          "metadata": {
            "tags": []
          },
          "execution_count": 61
        }
      ]
    },
    {
      "cell_type": "markdown",
      "metadata": {
        "id": "3VcKrCkExc3M",
        "colab_type": "text"
      },
      "source": [
        "**Note:** Fitting the model to the dataset may take a long time. You will see the output as model summary, if success.\n"
      ]
    },
    {
      "cell_type": "code",
      "metadata": {
        "id": "iXgLibinYykq",
        "colab_type": "code",
        "colab": {}
      },
      "source": [
        "### Transform the dataset with the generated model\n",
        "\n",
        "result_df = lda_model.transform(df_tfidf)"
      ],
      "execution_count": 0,
      "outputs": []
    },
    {
      "cell_type": "markdown",
      "metadata": {
        "id": "q4rl2SeDZW3m",
        "colab_type": "text"
      },
      "source": [
        "> Let us now generate some model outputs based on the dataset. Our model will generate the topics and the word distribution across topics."
      ]
    },
    {
      "cell_type": "code",
      "metadata": {
        "id": "g1W1S3VMYyXu",
        "colab_type": "code",
        "colab": {
          "base_uri": "https://localhost:8080/",
          "height": 102
        },
        "outputId": "f8efb000-6125-4b92-a748-389a458c81de"
      },
      "source": [
        "### List down the number of generated Topics\n",
        "\n",
        "# sport ; business  ; politics  ; tech   ; entertainment \n",
        "\n",
        "topic_word_dict = {}\n",
        "\n",
        "for index, topic in enumerate(lda_model.components_):\n",
        "  topic_words_max = [tfidf_vec.get_feature_names()[i] for i in topic.argsort()[-10:]]\n",
        "  topic_word_dict[index] = topic_words_max\n",
        "\n",
        "  print(f\"Topic ID : {index}; Top 10 Most Words : {topic_words_max}\")"
      ],
      "execution_count": 65,
      "outputs": [
        {
          "output_type": "stream",
          "text": [
            "Topic ID : 0; Top 10 Most Words : ['sale', 'country', 'tell', 'time', 'play', 'company', 'win', 'government', 'year', 'say']\n",
            "Topic ID : 1; Top 10 Most Words : ['win', 'nomination', 'actress', 'chart', 'band', 'album', 'actor', 'star', 'award', 'film']\n",
            "Topic ID : 2; Top 10 Most Words : ['asylum', 'politic', 'campaign', 'vote', 'tax', 'voter', 'immigration', 'chancellor', 'party', 'election']\n",
            "Topic ID : 3; Top 10 Most Words : ['dinar', 'butane', 'nicotine', '280bn', 'amplify', 'slop', 'cannibalism', 'cannibal', 'mask', 'panda']\n",
            "Topic ID : 4; Top 10 Most Words : ['play', 'win', 'service', 'music', 'user', 'technology', 'people', 'phone', 'say', 'game']\n"
          ],
          "name": "stdout"
        }
      ]
    },
    {
      "cell_type": "code",
      "metadata": {
        "id": "DwlxlDvZYyHH",
        "colab_type": "code",
        "colab": {}
      },
      "source": [
        ""
      ],
      "execution_count": 0,
      "outputs": []
    },
    {
      "cell_type": "markdown",
      "metadata": {
        "colab_type": "text",
        "id": "yiyop4tqRh7n"
      },
      "source": [
        "## Step 4: Visualizing"
      ]
    },
    {
      "cell_type": "code",
      "metadata": {
        "colab_type": "code",
        "id": "lvFrlzj1dEkX",
        "colab": {}
      },
      "source": [
        "viz = sklearn.prepare(lda_model=lda_model, dtm=df_tfidf_transformed, vectorizer=df_tfidf)"
      ],
      "execution_count": 0,
      "outputs": []
    },
    {
      "cell_type": "code",
      "metadata": {
        "colab_type": "code",
        "id": "Dap5ahJYf0vk",
        "scrolled": false,
        "colab": {}
      },
      "source": [
        "pyLDAvis.display(viz)"
      ],
      "execution_count": 0,
      "outputs": []
    },
    {
      "cell_type": "markdown",
      "metadata": {
        "id": "nJhopIELxc3Z",
        "colab_type": "text"
      },
      "source": [
        "<div class=\"alert alert-warning\">\n",
        "    The above chart visualizes the distribution of LDA topic and prints out a list of most used topics\n",
        "    </div>"
      ]
    },
    {
      "cell_type": "code",
      "metadata": {
        "colab_type": "code",
        "id": "2CApPzxUgP2X",
        "colab": {}
      },
      "source": [
        ""
      ],
      "execution_count": 0,
      "outputs": []
    }
  ]
}