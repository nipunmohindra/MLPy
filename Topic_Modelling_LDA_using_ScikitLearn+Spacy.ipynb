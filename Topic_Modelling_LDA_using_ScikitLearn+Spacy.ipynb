{
  "nbformat": 4,
  "nbformat_minor": 0,
  "metadata": {
    "colab": {
      "name": "Topic Modelling - LDA using ScikitLearn+Spacy.ipynb",
      "provenance": [],
      "collapsed_sections": [],
      "include_colab_link": true
    },
    "kernelspec": {
      "display_name": "Python 3",
      "language": "python",
      "name": "python3"
    },
    "language_info": {
      "codemirror_mode": {
        "name": "ipython",
        "version": 3
      },
      "file_extension": ".py",
      "mimetype": "text/x-python",
      "name": "python",
      "nbconvert_exporter": "python",
      "pygments_lexer": "ipython3",
      "version": "3.8.2"
    }
  },
  "cells": [
    {
      "cell_type": "markdown",
      "metadata": {
        "id": "view-in-github",
        "colab_type": "text"
      },
      "source": [
        "<a href=\"https://colab.research.google.com/github/rishuatgithub/MLPy/blob/master/Topic_Modelling_LDA_using_ScikitLearn%2BSpacy.ipynb\" target=\"_parent\"><img src=\"https://colab.research.google.com/assets/colab-badge.svg\" alt=\"Open In Colab\"/></a>"
      ]
    },
    {
      "cell_type": "markdown",
      "metadata": {
        "colab_type": "text",
        "id": "Qw-7mbkMg9FK"
      },
      "source": [
        "# Topic Modelling using Latent-Dirichlet Allocation\n",
        "\n",
        "- Blog URL : [Topic Modelling : Latent Dirichlet Allocation, an introduction](https://anotherreeshu.wordpress.com)\n",
        "- Author   : Rishu Shrivastava\n",
        "- Last Updated : Jun 8, 2020"
      ]
    },
    {
      "cell_type": "code",
      "metadata": {
        "colab_type": "code",
        "id": "C1UbX8SHg7sh",
        "outputId": "68dd8f26-8a00-4805-f38c-b185e31684a6",
        "colab": {
          "base_uri": "https://localhost:8080/",
          "height": 785
        }
      },
      "source": [
        "## additional installations in colab\n",
        "!pip install pyLDAvis\n",
        "!python -m spacy download en_core_web_lg  ## restart once download is complete.\n",
        "\n",
        "## general imports\n",
        "\n",
        "import numpy as np\n",
        "import pandas as pd\n",
        "from sklearn.feature_extraction.text import CountVectorizer\n",
        "from sklearn.feature_extraction.text import TfidfVectorizer\n",
        "from sklearn.decomposition import LatentDirichletAllocation\n",
        "\n",
        "import matplotlib.pyplot as plt\n",
        "import seaborn as sns\n",
        "%matplotlib inline\n",
        "\n",
        "import spacy\n",
        "from spacy import displacy\n",
        "\n",
        "import pyLDAvis\n",
        "from pyLDAvis import sklearn\n",
        "pyLDAvis.enable_notebook()"
      ],
      "execution_count": 117,
      "outputs": [
        {
          "output_type": "stream",
          "text": [
            "Requirement already satisfied: pyLDAvis in /usr/local/lib/python3.6/dist-packages (2.1.2)\n",
            "Requirement already satisfied: numpy>=1.9.2 in /usr/local/lib/python3.6/dist-packages (from pyLDAvis) (1.18.5)\n",
            "Requirement already satisfied: jinja2>=2.7.2 in /usr/local/lib/python3.6/dist-packages (from pyLDAvis) (2.11.2)\n",
            "Requirement already satisfied: numexpr in /usr/local/lib/python3.6/dist-packages (from pyLDAvis) (2.7.1)\n",
            "Requirement already satisfied: future in /usr/local/lib/python3.6/dist-packages (from pyLDAvis) (0.16.0)\n",
            "Requirement already satisfied: pytest in /usr/local/lib/python3.6/dist-packages (from pyLDAvis) (3.6.4)\n",
            "Requirement already satisfied: scipy>=0.18.0 in /usr/local/lib/python3.6/dist-packages (from pyLDAvis) (1.4.1)\n",
            "Requirement already satisfied: funcy in /usr/local/lib/python3.6/dist-packages (from pyLDAvis) (1.14)\n",
            "Requirement already satisfied: joblib>=0.8.4 in /usr/local/lib/python3.6/dist-packages (from pyLDAvis) (0.15.1)\n",
            "Requirement already satisfied: wheel>=0.23.0 in /usr/local/lib/python3.6/dist-packages (from pyLDAvis) (0.34.2)\n",
            "Requirement already satisfied: pandas>=0.17.0 in /usr/local/lib/python3.6/dist-packages (from pyLDAvis) (1.0.4)\n",
            "Requirement already satisfied: MarkupSafe>=0.23 in /usr/local/lib/python3.6/dist-packages (from jinja2>=2.7.2->pyLDAvis) (1.1.1)\n",
            "Requirement already satisfied: more-itertools>=4.0.0 in /usr/local/lib/python3.6/dist-packages (from pytest->pyLDAvis) (8.3.0)\n",
            "Requirement already satisfied: atomicwrites>=1.0 in /usr/local/lib/python3.6/dist-packages (from pytest->pyLDAvis) (1.4.0)\n",
            "Requirement already satisfied: py>=1.5.0 in /usr/local/lib/python3.6/dist-packages (from pytest->pyLDAvis) (1.8.1)\n",
            "Requirement already satisfied: setuptools in /usr/local/lib/python3.6/dist-packages (from pytest->pyLDAvis) (47.1.1)\n",
            "Requirement already satisfied: attrs>=17.4.0 in /usr/local/lib/python3.6/dist-packages (from pytest->pyLDAvis) (19.3.0)\n",
            "Requirement already satisfied: pluggy<0.8,>=0.5 in /usr/local/lib/python3.6/dist-packages (from pytest->pyLDAvis) (0.7.1)\n",
            "Requirement already satisfied: six>=1.10.0 in /usr/local/lib/python3.6/dist-packages (from pytest->pyLDAvis) (1.12.0)\n",
            "Requirement already satisfied: pytz>=2017.2 in /usr/local/lib/python3.6/dist-packages (from pandas>=0.17.0->pyLDAvis) (2018.9)\n",
            "Requirement already satisfied: python-dateutil>=2.6.1 in /usr/local/lib/python3.6/dist-packages (from pandas>=0.17.0->pyLDAvis) (2.8.1)\n",
            "Requirement already satisfied: en_core_web_lg==2.2.5 from https://github.com/explosion/spacy-models/releases/download/en_core_web_lg-2.2.5/en_core_web_lg-2.2.5.tar.gz#egg=en_core_web_lg==2.2.5 in /usr/local/lib/python3.6/dist-packages (2.2.5)\n",
            "Requirement already satisfied: spacy>=2.2.2 in /usr/local/lib/python3.6/dist-packages (from en_core_web_lg==2.2.5) (2.2.4)\n",
            "Requirement already satisfied: setuptools in /usr/local/lib/python3.6/dist-packages (from spacy>=2.2.2->en_core_web_lg==2.2.5) (47.1.1)\n",
            "Requirement already satisfied: plac<1.2.0,>=0.9.6 in /usr/local/lib/python3.6/dist-packages (from spacy>=2.2.2->en_core_web_lg==2.2.5) (1.1.3)\n",
            "Requirement already satisfied: cymem<2.1.0,>=2.0.2 in /usr/local/lib/python3.6/dist-packages (from spacy>=2.2.2->en_core_web_lg==2.2.5) (2.0.3)\n",
            "Requirement already satisfied: preshed<3.1.0,>=3.0.2 in /usr/local/lib/python3.6/dist-packages (from spacy>=2.2.2->en_core_web_lg==2.2.5) (3.0.2)\n",
            "Requirement already satisfied: catalogue<1.1.0,>=0.0.7 in /usr/local/lib/python3.6/dist-packages (from spacy>=2.2.2->en_core_web_lg==2.2.5) (1.0.0)\n",
            "Requirement already satisfied: murmurhash<1.1.0,>=0.28.0 in /usr/local/lib/python3.6/dist-packages (from spacy>=2.2.2->en_core_web_lg==2.2.5) (1.0.2)\n",
            "Requirement already satisfied: requests<3.0.0,>=2.13.0 in /usr/local/lib/python3.6/dist-packages (from spacy>=2.2.2->en_core_web_lg==2.2.5) (2.23.0)\n",
            "Requirement already satisfied: srsly<1.1.0,>=1.0.2 in /usr/local/lib/python3.6/dist-packages (from spacy>=2.2.2->en_core_web_lg==2.2.5) (1.0.2)\n",
            "Requirement already satisfied: thinc==7.4.0 in /usr/local/lib/python3.6/dist-packages (from spacy>=2.2.2->en_core_web_lg==2.2.5) (7.4.0)\n",
            "Requirement already satisfied: wasabi<1.1.0,>=0.4.0 in /usr/local/lib/python3.6/dist-packages (from spacy>=2.2.2->en_core_web_lg==2.2.5) (0.6.0)\n",
            "Requirement already satisfied: tqdm<5.0.0,>=4.38.0 in /usr/local/lib/python3.6/dist-packages (from spacy>=2.2.2->en_core_web_lg==2.2.5) (4.41.1)\n",
            "Requirement already satisfied: numpy>=1.15.0 in /usr/local/lib/python3.6/dist-packages (from spacy>=2.2.2->en_core_web_lg==2.2.5) (1.18.5)\n",
            "Requirement already satisfied: blis<0.5.0,>=0.4.0 in /usr/local/lib/python3.6/dist-packages (from spacy>=2.2.2->en_core_web_lg==2.2.5) (0.4.1)\n",
            "Requirement already satisfied: importlib-metadata>=0.20; python_version < \"3.8\" in /usr/local/lib/python3.6/dist-packages (from catalogue<1.1.0,>=0.0.7->spacy>=2.2.2->en_core_web_lg==2.2.5) (1.6.0)\n",
            "Requirement already satisfied: urllib3!=1.25.0,!=1.25.1,<1.26,>=1.21.1 in /usr/local/lib/python3.6/dist-packages (from requests<3.0.0,>=2.13.0->spacy>=2.2.2->en_core_web_lg==2.2.5) (1.24.3)\n",
            "Requirement already satisfied: chardet<4,>=3.0.2 in /usr/local/lib/python3.6/dist-packages (from requests<3.0.0,>=2.13.0->spacy>=2.2.2->en_core_web_lg==2.2.5) (3.0.4)\n",
            "Requirement already satisfied: certifi>=2017.4.17 in /usr/local/lib/python3.6/dist-packages (from requests<3.0.0,>=2.13.0->spacy>=2.2.2->en_core_web_lg==2.2.5) (2020.4.5.1)\n",
            "Requirement already satisfied: idna<3,>=2.5 in /usr/local/lib/python3.6/dist-packages (from requests<3.0.0,>=2.13.0->spacy>=2.2.2->en_core_web_lg==2.2.5) (2.9)\n",
            "Requirement already satisfied: zipp>=0.5 in /usr/local/lib/python3.6/dist-packages (from importlib-metadata>=0.20; python_version < \"3.8\"->catalogue<1.1.0,>=0.0.7->spacy>=2.2.2->en_core_web_lg==2.2.5) (3.1.0)\n",
            "\u001b[38;5;2m✔ Download and installation successful\u001b[0m\n",
            "You can now load the model via spacy.load('en_core_web_lg')\n"
          ],
          "name": "stdout"
        }
      ]
    },
    {
      "cell_type": "markdown",
      "metadata": {
        "colab_type": "text",
        "id": "rQDt-6pYwVoN"
      },
      "source": [
        "## Step 1: Load and Analyze data\n",
        "\n",
        "As part of this step we will try to load and analyze our data in order to get a general intuition of our data.\n",
        "\n",
        "> Source of this dataset is from [BBC News Insight data](http://mlg.ucd.ie/datasets/bbc.html). \n",
        "\n",
        "*About the Data: All rights, including copyright, in the content of the original articles are owned by the BBC.*"
      ]
    },
    {
      "cell_type": "code",
      "metadata": {
        "id": "-kNy8B-NI6CR",
        "colab_type": "code",
        "colab": {}
      },
      "source": [
        "#from google.colab import drive\n",
        "#drive.mount('/content/drive')"
      ],
      "execution_count": 0,
      "outputs": []
    },
    {
      "cell_type": "code",
      "metadata": {
        "colab_type": "code",
        "id": "jUeRe8UkhNSZ",
        "outputId": "8efbbea1-4df2-4607-c23f-fea34ea4c34b",
        "colab": {
          "base_uri": "https://localhost:8080/",
          "height": 204
        }
      },
      "source": [
        "### Reading the dataset from path\n",
        "\n",
        "filename = '/content/drive/My Drive/Colab Notebooks/data/bbc/bbc_raw_dict.json'\n",
        "data = pd.read_json(filename)\n",
        "data.head()"
      ],
      "execution_count": 119,
      "outputs": [
        {
          "output_type": "execute_result",
          "data": {
            "text/html": [
              "<div>\n",
              "<style scoped>\n",
              "    .dataframe tbody tr th:only-of-type {\n",
              "        vertical-align: middle;\n",
              "    }\n",
              "\n",
              "    .dataframe tbody tr th {\n",
              "        vertical-align: top;\n",
              "    }\n",
              "\n",
              "    .dataframe thead th {\n",
              "        text-align: right;\n",
              "    }\n",
              "</style>\n",
              "<table border=\"1\" class=\"dataframe\">\n",
              "  <thead>\n",
              "    <tr style=\"text-align: right;\">\n",
              "      <th></th>\n",
              "      <th>category</th>\n",
              "      <th>content</th>\n",
              "      <th>filename</th>\n",
              "    </tr>\n",
              "  </thead>\n",
              "  <tbody>\n",
              "    <tr>\n",
              "      <th>0</th>\n",
              "      <td>entertainment</td>\n",
              "      <td>Musicians to tackle US red tape\\n\\nMusicians' ...</td>\n",
              "      <td>/Users/rishushrivastava/Documents/AI/Dataset/b...</td>\n",
              "    </tr>\n",
              "    <tr>\n",
              "      <th>1</th>\n",
              "      <td>entertainment</td>\n",
              "      <td>U2's desire to be number one\\n\\nU2, who have w...</td>\n",
              "      <td>/Users/rishushrivastava/Documents/AI/Dataset/b...</td>\n",
              "    </tr>\n",
              "    <tr>\n",
              "      <th>2</th>\n",
              "      <td>entertainment</td>\n",
              "      <td>Rocker Doherty in on-stage fight\\n\\nRock singe...</td>\n",
              "      <td>/Users/rishushrivastava/Documents/AI/Dataset/b...</td>\n",
              "    </tr>\n",
              "    <tr>\n",
              "      <th>3</th>\n",
              "      <td>entertainment</td>\n",
              "      <td>Snicket tops US box office chart\\n\\nThe film a...</td>\n",
              "      <td>/Users/rishushrivastava/Documents/AI/Dataset/b...</td>\n",
              "    </tr>\n",
              "    <tr>\n",
              "      <th>4</th>\n",
              "      <td>entertainment</td>\n",
              "      <td>Ocean's Twelve raids box office\\n\\nOcean's Twe...</td>\n",
              "      <td>/Users/rishushrivastava/Documents/AI/Dataset/b...</td>\n",
              "    </tr>\n",
              "  </tbody>\n",
              "</table>\n",
              "</div>"
            ],
            "text/plain": [
              "        category  ...                                           filename\n",
              "0  entertainment  ...  /Users/rishushrivastava/Documents/AI/Dataset/b...\n",
              "1  entertainment  ...  /Users/rishushrivastava/Documents/AI/Dataset/b...\n",
              "2  entertainment  ...  /Users/rishushrivastava/Documents/AI/Dataset/b...\n",
              "3  entertainment  ...  /Users/rishushrivastava/Documents/AI/Dataset/b...\n",
              "4  entertainment  ...  /Users/rishushrivastava/Documents/AI/Dataset/b...\n",
              "\n",
              "[5 rows x 3 columns]"
            ]
          },
          "metadata": {
            "tags": []
          },
          "execution_count": 119
        }
      ]
    },
    {
      "cell_type": "code",
      "metadata": {
        "colab_type": "code",
        "id": "7nABVK_Omv3q",
        "colab": {
          "base_uri": "https://localhost:8080/",
          "height": 34
        },
        "outputId": "0b632ba9-eeda-450c-f3fd-0a9043b5eaa5"
      },
      "source": [
        "### get the shape of the data\n",
        "\n",
        "data.shape"
      ],
      "execution_count": 120,
      "outputs": [
        {
          "output_type": "execute_result",
          "data": {
            "text/plain": [
              "(2225, 3)"
            ]
          },
          "metadata": {
            "tags": []
          },
          "execution_count": 120
        }
      ]
    },
    {
      "cell_type": "code",
      "metadata": {
        "id": "2ouy9fUqWuW5",
        "colab_type": "code",
        "colab": {
          "base_uri": "https://localhost:8080/",
          "height": 51
        },
        "outputId": "0654145b-218d-481f-9134-0c75c18751f6"
      },
      "source": [
        "### Check for any null or na\n",
        "\n",
        "data['content'].isna().value_counts() # no null records found. hence the data is in good quality"
      ],
      "execution_count": 121,
      "outputs": [
        {
          "output_type": "execute_result",
          "data": {
            "text/plain": [
              "False    2225\n",
              "Name: content, dtype: int64"
            ]
          },
          "metadata": {
            "tags": []
          },
          "execution_count": 121
        }
      ]
    },
    {
      "cell_type": "code",
      "metadata": {
        "id": "Qg9hCxd9XM0E",
        "colab_type": "code",
        "colab": {
          "base_uri": "https://localhost:8080/",
          "height": 119
        },
        "outputId": "71f00fa8-0fb4-453a-d6fa-d676ae19539a"
      },
      "source": [
        "### distribution of the dataset\n",
        "\n",
        "data['category'].value_counts()"
      ],
      "execution_count": 122,
      "outputs": [
        {
          "output_type": "execute_result",
          "data": {
            "text/plain": [
              "sport            511\n",
              "business         510\n",
              "politics         417\n",
              "tech             401\n",
              "entertainment    386\n",
              "Name: category, dtype: int64"
            ]
          },
          "metadata": {
            "tags": []
          },
          "execution_count": 122
        }
      ]
    },
    {
      "cell_type": "code",
      "metadata": {
        "colab_type": "code",
        "id": "2mcwlkrPm6Oo",
        "colab": {
          "base_uri": "https://localhost:8080/",
          "height": 350
        },
        "outputId": "81e99ea9-9ad2-41e6-c51d-6ad4eea70eca"
      },
      "source": [
        "### visualize the category - total article spread.\n",
        "\n",
        "plt.figure(figsize=(10,5))\n",
        "sns.set_style(\"whitegrid\")\n",
        "sns.countplot(x='category',data=data, orient='h', palette='Spectral_r')\n",
        "plt.title(\"Article Counts by Category (BBC) - Actual Data Source\")\n",
        "plt.show()"
      ],
      "execution_count": 123,
      "outputs": [
        {
          "output_type": "display_data",
          "data": {
            "image/png": "[encoded data removed]",
            "text/plain": [
              "<Figure size 720x360 with 1 Axes>"
            ]
          },
          "metadata": {
            "tags": [],
            "needs_background": "light"
          }
        }
      ]
    },
    {
      "cell_type": "markdown",
      "metadata": {
        "id": "K-7yH62xxc22",
        "colab_type": "text"
      },
      "source": [
        "> The BBC news data is currently divided into 5 Major Categories: **Entertainment, Business, Sport, Politics and Tech**.\n",
        "\n",
        "**Note:** Our target is to understand the BBC news content and build a topic cluster for the news content. We will assume there is no previous knowledge of the above categories. The categories from the original dataset are merely for the purpose of cross-validation and testing."
      ]
    },
    {
      "cell_type": "markdown",
      "metadata": {
        "id": "Baz_eBiCxc23",
        "colab_type": "text"
      },
      "source": [
        "## Step 2: Data Cleaning and Transformation\n",
        "\n",
        "> In this step, we will try to clean and transform the existing dataset into a more managable chunks to be able to fit into the LDA model. During this process, we will also try to get a little in-depth intuition of the dataset using NLP techniques."
      ]
    },
    {
      "cell_type": "code",
      "metadata": {
        "id": "KiOML17q8Igr",
        "colab_type": "code",
        "colab": {}
      },
      "source": [
        "# load spacy\n",
        "nlp = spacy.load('en_core_web_lg')"
      ],
      "execution_count": 0,
      "outputs": []
    },
    {
      "cell_type": "code",
      "metadata": {
        "id": "gUy4n2mk-bsp",
        "colab_type": "code",
        "colab": {
          "base_uri": "https://localhost:8080/",
          "height": 787
        },
        "outputId": "b3275422-6668-4557-8506-35bbcc53e4a8"
      },
      "source": [
        "# selecting and analysing the first item in the dataframe\n",
        "doc_one = nlp(data['content'].iloc[0])\n",
        "\n",
        "displacy.render(doc_one,style='ent',jupyter=True)"
      ],
      "execution_count": 125,
      "outputs": [
        {
          "output_type": "display_data",
          "data": {
            "text/html": [
              "<span class=\"tex2jax_ignore\"><div class=\"entities\" style=\"line-height: 2.5; direction: ltr\">Musicians to tackle \n",
              "<mark class=\"entity\" style=\"background: #feca74; padding: 0.45em 0.6em; margin: 0 0.25em; line-height: 1; border-radius: 0.35em;\">\n",
              "    US\n",
              "    <span style=\"font-size: 0.8em; font-weight: bold; line-height: 1; border-radius: 0.35em; text-transform: uppercase; vertical-align: middle; margin-left: 0.5rem\">GPE</span>\n",
              "</mark>\n",
              " red tape</br></br>Musicians' groups are to tackle \n",
              "<mark class=\"entity\" style=\"background: #feca74; padding: 0.45em 0.6em; margin: 0 0.25em; line-height: 1; border-radius: 0.35em;\">\n",
              "    US\n",
              "    <span style=\"font-size: 0.8em; font-weight: bold; line-height: 1; border-radius: 0.35em; text-transform: uppercase; vertical-align: middle; margin-left: 0.5rem\">GPE</span>\n",
              "</mark>\n",
              " visa regulations which are blamed for hindering \n",
              "<mark class=\"entity\" style=\"background: #c887fb; padding: 0.45em 0.6em; margin: 0 0.25em; line-height: 1; border-radius: 0.35em;\">\n",
              "    British\n",
              "    <span style=\"font-size: 0.8em; font-weight: bold; line-height: 1; border-radius: 0.35em; text-transform: uppercase; vertical-align: middle; margin-left: 0.5rem\">NORP</span>\n",
              "</mark>\n",
              " acts' chances of succeeding across the \n",
              "<mark class=\"entity\" style=\"background: #ff9561; padding: 0.45em 0.6em; margin: 0 0.25em; line-height: 1; border-radius: 0.35em;\">\n",
              "    Atlantic\n",
              "    <span style=\"font-size: 0.8em; font-weight: bold; line-height: 1; border-radius: 0.35em; text-transform: uppercase; vertical-align: middle; margin-left: 0.5rem\">LOC</span>\n",
              "</mark>\n",
              ".</br></br>A singer hoping to perform in the \n",
              "<mark class=\"entity\" style=\"background: #feca74; padding: 0.45em 0.6em; margin: 0 0.25em; line-height: 1; border-radius: 0.35em;\">\n",
              "    US\n",
              "    <span style=\"font-size: 0.8em; font-weight: bold; line-height: 1; border-radius: 0.35em; text-transform: uppercase; vertical-align: middle; margin-left: 0.5rem\">GPE</span>\n",
              "</mark>\n",
              " can expect to pay $\n",
              "<mark class=\"entity\" style=\"background: #e4e7d2; padding: 0.45em 0.6em; margin: 0 0.25em; line-height: 1; border-radius: 0.35em;\">\n",
              "    1,300\n",
              "    <span style=\"font-size: 0.8em; font-weight: bold; line-height: 1; border-radius: 0.35em; text-transform: uppercase; vertical-align: middle; margin-left: 0.5rem\">MONEY</span>\n",
              "</mark>\n",
              " (Â£680) simply for obtaining a visa. Groups including \n",
              "<mark class=\"entity\" style=\"background: #7aecec; padding: 0.45em 0.6em; margin: 0 0.25em; line-height: 1; border-radius: 0.35em;\">\n",
              "    the Musicians' Union\n",
              "    <span style=\"font-size: 0.8em; font-weight: bold; line-height: 1; border-radius: 0.35em; text-transform: uppercase; vertical-align: middle; margin-left: 0.5rem\">ORG</span>\n",
              "</mark>\n",
              " are calling for an end to the &quot;raw deal&quot; faced by \n",
              "<mark class=\"entity\" style=\"background: #c887fb; padding: 0.45em 0.6em; margin: 0 0.25em; line-height: 1; border-radius: 0.35em;\">\n",
              "    British\n",
              "    <span style=\"font-size: 0.8em; font-weight: bold; line-height: 1; border-radius: 0.35em; text-transform: uppercase; vertical-align: middle; margin-left: 0.5rem\">NORP</span>\n",
              "</mark>\n",
              " performers. \n",
              "<mark class=\"entity\" style=\"background: #feca74; padding: 0.45em 0.6em; margin: 0 0.25em; line-height: 1; border-radius: 0.35em;\">\n",
              "    US\n",
              "    <span style=\"font-size: 0.8em; font-weight: bold; line-height: 1; border-radius: 0.35em; text-transform: uppercase; vertical-align: middle; margin-left: 0.5rem\">GPE</span>\n",
              "</mark>\n",
              " acts are not faced with comparable expense and bureaucracy when visiting the \n",
              "<mark class=\"entity\" style=\"background: #feca74; padding: 0.45em 0.6em; margin: 0 0.25em; line-height: 1; border-radius: 0.35em;\">\n",
              "    UK\n",
              "    <span style=\"font-size: 0.8em; font-weight: bold; line-height: 1; border-radius: 0.35em; text-transform: uppercase; vertical-align: middle; margin-left: 0.5rem\">GPE</span>\n",
              "</mark>\n",
              " for promotional purposes.</br></br>\n",
              "<mark class=\"entity\" style=\"background: #aa9cfc; padding: 0.45em 0.6em; margin: 0 0.25em; line-height: 1; border-radius: 0.35em;\">\n",
              "    Nigel McCune\n",
              "    <span style=\"font-size: 0.8em; font-weight: bold; line-height: 1; border-radius: 0.35em; text-transform: uppercase; vertical-align: middle; margin-left: 0.5rem\">PERSON</span>\n",
              "</mark>\n",
              " from \n",
              "<mark class=\"entity\" style=\"background: #7aecec; padding: 0.45em 0.6em; margin: 0 0.25em; line-height: 1; border-radius: 0.35em;\">\n",
              "    the Musicians' Union\n",
              "    <span style=\"font-size: 0.8em; font-weight: bold; line-height: 1; border-radius: 0.35em; text-transform: uppercase; vertical-align: middle; margin-left: 0.5rem\">ORG</span>\n",
              "</mark>\n",
              " said \n",
              "<mark class=\"entity\" style=\"background: #c887fb; padding: 0.45em 0.6em; margin: 0 0.25em; line-height: 1; border-radius: 0.35em;\">\n",
              "    British\n",
              "    <span style=\"font-size: 0.8em; font-weight: bold; line-height: 1; border-radius: 0.35em; text-transform: uppercase; vertical-align: middle; margin-left: 0.5rem\">NORP</span>\n",
              "</mark>\n",
              " musicians are &quot;disadvantaged&quot; compared to their \n",
              "<mark class=\"entity\" style=\"background: #feca74; padding: 0.45em 0.6em; margin: 0 0.25em; line-height: 1; border-radius: 0.35em;\">\n",
              "    US\n",
              "    <span style=\"font-size: 0.8em; font-weight: bold; line-height: 1; border-radius: 0.35em; text-transform: uppercase; vertical-align: middle; margin-left: 0.5rem\">GPE</span>\n",
              "</mark>\n",
              " counterparts. A sponsor has to make a petition on their behalf, which is a form amounting to \n",
              "<mark class=\"entity\" style=\"background: #e4e7d2; padding: 0.45em 0.6em; margin: 0 0.25em; line-height: 1; border-radius: 0.35em;\">\n",
              "    nearly 30\n",
              "    <span style=\"font-size: 0.8em; font-weight: bold; line-height: 1; border-radius: 0.35em; text-transform: uppercase; vertical-align: middle; margin-left: 0.5rem\">CARDINAL</span>\n",
              "</mark>\n",
              " pages, while musicians face tougher regulations than athletes and journalists. &quot;If you make a mistake on your form, you risk a \n",
              "<mark class=\"entity\" style=\"background: #bfe1d9; padding: 0.45em 0.6em; margin: 0 0.25em; line-height: 1; border-radius: 0.35em;\">\n",
              "    five-year\n",
              "    <span style=\"font-size: 0.8em; font-weight: bold; line-height: 1; border-radius: 0.35em; text-transform: uppercase; vertical-align: middle; margin-left: 0.5rem\">DATE</span>\n",
              "</mark>\n",
              " ban and thus the ability to further your career,&quot; says \n",
              "<mark class=\"entity\" style=\"background: #aa9cfc; padding: 0.45em 0.6em; margin: 0 0.25em; line-height: 1; border-radius: 0.35em;\">\n",
              "    Mr McCune\n",
              "    <span style=\"font-size: 0.8em; font-weight: bold; line-height: 1; border-radius: 0.35em; text-transform: uppercase; vertical-align: middle; margin-left: 0.5rem\">PERSON</span>\n",
              "</mark>\n",
              ".</br></br>&quot;The \n",
              "<mark class=\"entity\" style=\"background: #feca74; padding: 0.45em 0.6em; margin: 0 0.25em; line-height: 1; border-radius: 0.35em;\">\n",
              "    US\n",
              "    <span style=\"font-size: 0.8em; font-weight: bold; line-height: 1; border-radius: 0.35em; text-transform: uppercase; vertical-align: middle; margin-left: 0.5rem\">GPE</span>\n",
              "</mark>\n",
              " is the world's biggest music market, which means something has to be done about the creaky bureaucracy,&quot; says \n",
              "<mark class=\"entity\" style=\"background: #aa9cfc; padding: 0.45em 0.6em; margin: 0 0.25em; line-height: 1; border-radius: 0.35em;\">\n",
              "    Mr McCune\n",
              "    <span style=\"font-size: 0.8em; font-weight: bold; line-height: 1; border-radius: 0.35em; text-transform: uppercase; vertical-align: middle; margin-left: 0.5rem\">PERSON</span>\n",
              "</mark>\n",
              ". &quot;The current situation is preventing \n",
              "<mark class=\"entity\" style=\"background: #c887fb; padding: 0.45em 0.6em; margin: 0 0.25em; line-height: 1; border-radius: 0.35em;\">\n",
              "    British\n",
              "    <span style=\"font-size: 0.8em; font-weight: bold; line-height: 1; border-radius: 0.35em; text-transform: uppercase; vertical-align: middle; margin-left: 0.5rem\">NORP</span>\n",
              "</mark>\n",
              " acts from maintaining momentum and developing in the \n",
              "<mark class=\"entity\" style=\"background: #feca74; padding: 0.45em 0.6em; margin: 0 0.25em; line-height: 1; border-radius: 0.35em;\">\n",
              "    US\n",
              "    <span style=\"font-size: 0.8em; font-weight: bold; line-height: 1; border-radius: 0.35em; text-transform: uppercase; vertical-align: middle; margin-left: 0.5rem\">GPE</span>\n",
              "</mark>\n",
              ",&quot; he added.</br></br>The Musicians' Union stance is being endorsed by \n",
              "<mark class=\"entity\" style=\"background: #7aecec; padding: 0.45em 0.6em; margin: 0 0.25em; line-height: 1; border-radius: 0.35em;\">\n",
              "    the Music Managers' Forum\n",
              "    <span style=\"font-size: 0.8em; font-weight: bold; line-height: 1; border-radius: 0.35em; text-transform: uppercase; vertical-align: middle; margin-left: 0.5rem\">ORG</span>\n",
              "</mark>\n",
              " (MMF), who say \n",
              "<mark class=\"entity\" style=\"background: #c887fb; padding: 0.45em 0.6em; margin: 0 0.25em; line-height: 1; border-radius: 0.35em;\">\n",
              "    British\n",
              "    <span style=\"font-size: 0.8em; font-weight: bold; line-height: 1; border-radius: 0.35em; text-transform: uppercase; vertical-align: middle; margin-left: 0.5rem\">NORP</span>\n",
              "</mark>\n",
              " artists face &quot;an uphill struggle&quot; to succeed in the \n",
              "<mark class=\"entity\" style=\"background: #feca74; padding: 0.45em 0.6em; margin: 0 0.25em; line-height: 1; border-radius: 0.35em;\">\n",
              "    US\n",
              "    <span style=\"font-size: 0.8em; font-weight: bold; line-height: 1; border-radius: 0.35em; text-transform: uppercase; vertical-align: middle; margin-left: 0.5rem\">GPE</span>\n",
              "</mark>\n",
              ", thanks to the tough visa requirements, which are also seen as impractical. The \n",
              "<mark class=\"entity\" style=\"background: #7aecec; padding: 0.45em 0.6em; margin: 0 0.25em; line-height: 1; border-radius: 0.35em;\">\n",
              "    MMF\n",
              "    <span style=\"font-size: 0.8em; font-weight: bold; line-height: 1; border-radius: 0.35em; text-transform: uppercase; vertical-align: middle; margin-left: 0.5rem\">ORG</span>\n",
              "</mark>\n",
              "'s general secretary \n",
              "<mark class=\"entity\" style=\"background: #aa9cfc; padding: 0.45em 0.6em; margin: 0 0.25em; line-height: 1; border-radius: 0.35em;\">\n",
              "    James Seller\n",
              "    <span style=\"font-size: 0.8em; font-weight: bold; line-height: 1; border-radius: 0.35em; text-transform: uppercase; vertical-align: middle; margin-left: 0.5rem\">PERSON</span>\n",
              "</mark>\n",
              " said: &quot;Imagine if you were an orchestra from the \n",
              "<mark class=\"entity\" style=\"background: #aa9cfc; padding: 0.45em 0.6em; margin: 0 0.25em; line-height: 1; border-radius: 0.35em;\">\n",
              "    Orkneys\n",
              "    <span style=\"font-size: 0.8em; font-weight: bold; line-height: 1; border-radius: 0.35em; text-transform: uppercase; vertical-align: middle; margin-left: 0.5rem\">PERSON</span>\n",
              "</mark>\n",
              "? Every member would have to travel to \n",
              "<mark class=\"entity\" style=\"background: #feca74; padding: 0.45em 0.6em; margin: 0 0.25em; line-height: 1; border-radius: 0.35em;\">\n",
              "    London\n",
              "    <span style=\"font-size: 0.8em; font-weight: bold; line-height: 1; border-radius: 0.35em; text-transform: uppercase; vertical-align: middle; margin-left: 0.5rem\">GPE</span>\n",
              "</mark>\n",
              " to have their visas processed.&quot;</br></br>&quot;The \n",
              "<mark class=\"entity\" style=\"background: #feca74; padding: 0.45em 0.6em; margin: 0 0.25em; line-height: 1; border-radius: 0.35em;\">\n",
              "    US\n",
              "    <span style=\"font-size: 0.8em; font-weight: bold; line-height: 1; border-radius: 0.35em; text-transform: uppercase; vertical-align: middle; margin-left: 0.5rem\">GPE</span>\n",
              "</mark>\n",
              " market is seen as \n",
              "<mark class=\"entity\" style=\"background: #ddd; padding: 0.45em 0.6em; margin: 0 0.25em; line-height: 1; border-radius: 0.35em;\">\n",
              "    the holy grail\n",
              "    <span style=\"font-size: 0.8em; font-weight: bold; line-height: 1; border-radius: 0.35em; text-transform: uppercase; vertical-align: middle; margin-left: 0.5rem\">FAC</span>\n",
              "</mark>\n",
              " and \n",
              "<mark class=\"entity\" style=\"background: #e4e7d2; padding: 0.45em 0.6em; margin: 0 0.25em; line-height: 1; border-radius: 0.35em;\">\n",
              "    one\n",
              "    <span style=\"font-size: 0.8em; font-weight: bold; line-height: 1; border-radius: 0.35em; text-transform: uppercase; vertical-align: middle; margin-left: 0.5rem\">CARDINAL</span>\n",
              "</mark>\n",
              " of the benchmarks of success, and we're still going to fight to get in there. &quot;It's still very important, but there are other markets like \n",
              "<mark class=\"entity\" style=\"background: #ff9561; padding: 0.45em 0.6em; margin: 0 0.25em; line-height: 1; border-radius: 0.35em;\">\n",
              "    Europe\n",
              "    <span style=\"font-size: 0.8em; font-weight: bold; line-height: 1; border-radius: 0.35em; text-transform: uppercase; vertical-align: middle; margin-left: 0.5rem\">LOC</span>\n",
              "</mark>\n",
              ", \n",
              "<mark class=\"entity\" style=\"background: #feca74; padding: 0.45em 0.6em; margin: 0 0.25em; line-height: 1; border-radius: 0.35em;\">\n",
              "    India\n",
              "    <span style=\"font-size: 0.8em; font-weight: bold; line-height: 1; border-radius: 0.35em; text-transform: uppercase; vertical-align: middle; margin-left: 0.5rem\">GPE</span>\n",
              "</mark>\n",
              " and \n",
              "<mark class=\"entity\" style=\"background: #feca74; padding: 0.45em 0.6em; margin: 0 0.25em; line-height: 1; border-radius: 0.35em;\">\n",
              "    China\n",
              "    <span style=\"font-size: 0.8em; font-weight: bold; line-height: 1; border-radius: 0.35em; text-transform: uppercase; vertical-align: middle; margin-left: 0.5rem\">GPE</span>\n",
              "</mark>\n",
              ",&quot; added \n",
              "<mark class=\"entity\" style=\"background: #aa9cfc; padding: 0.45em 0.6em; margin: 0 0.25em; line-height: 1; border-radius: 0.35em;\">\n",
              "    Mr Seller\n",
              "    <span style=\"font-size: 0.8em; font-weight: bold; line-height: 1; border-radius: 0.35em; text-transform: uppercase; vertical-align: middle; margin-left: 0.5rem\">PERSON</span>\n",
              "</mark>\n",
              ". A \n",
              "<mark class=\"entity\" style=\"background: #7aecec; padding: 0.45em 0.6em; margin: 0 0.25em; line-height: 1; border-radius: 0.35em;\">\n",
              "    Department for Media\n",
              "    <span style=\"font-size: 0.8em; font-weight: bold; line-height: 1; border-radius: 0.35em; text-transform: uppercase; vertical-align: middle; margin-left: 0.5rem\">ORG</span>\n",
              "</mark>\n",
              ", Culture and Sport spokeswoman said: &quot;We're aware that people are experiencing problems, and are working with the \n",
              "<mark class=\"entity\" style=\"background: #feca74; padding: 0.45em 0.6em; margin: 0 0.25em; line-height: 1; border-radius: 0.35em;\">\n",
              "    US\n",
              "    <span style=\"font-size: 0.8em; font-weight: bold; line-height: 1; border-radius: 0.35em; text-transform: uppercase; vertical-align: middle; margin-left: 0.5rem\">GPE</span>\n",
              "</mark>\n",
              " embassy and record industry to see what we can do about it.&quot; A \n",
              "<mark class=\"entity\" style=\"background: #7aecec; padding: 0.45em 0.6em; margin: 0 0.25em; line-height: 1; border-radius: 0.35em;\">\n",
              "    US Embassy\n",
              "    <span style=\"font-size: 0.8em; font-weight: bold; line-height: 1; border-radius: 0.35em; text-transform: uppercase; vertical-align: middle; margin-left: 0.5rem\">ORG</span>\n",
              "</mark>\n",
              " spokesman said: &quot;We are aware that entertainers require visas for time-specific visas and are doing everything we can to process those applications speedily.&quot; &quot;We are aware of the importance of cultural exchange and we will do our best to facilitate that,&quot; he added.\n",
              "</div></span>"
            ],
            "text/plain": [
              "<IPython.core.display.HTML object>"
            ]
          },
          "metadata": {
            "tags": []
          }
        }
      ]
    },
    {
      "cell_type": "markdown",
      "metadata": {
        "id": "uTQNbvBpBYJC",
        "colab_type": "text"
      },
      "source": [
        "\n",
        "> With the above display, we can notice the varied entities across the dataset.We would like to remove most of the entites out like **PERSON, ORG, CARDINAL, GPE, LOC** and **others**. This will help us in narrowing down the topic words."
      ]
    },
    {
      "cell_type": "code",
      "metadata": {
        "id": "oy6byWgiAJA4",
        "colab_type": "code",
        "colab": {
          "base_uri": "https://localhost:8080/",
          "height": 54
        },
        "outputId": "3a766686-5e4f-4d00-c123-934cad35ca13"
      },
      "source": [
        "## Lets try to reduce down the data set into selected POS.\n",
        "\n",
        "additional_stop_words = ['say','go','come','get','see','use','take','want','tell','need']\n",
        "\n",
        "def parse_filter_document(doc):\n",
        "  '''\n",
        "    1. Remove Stop Words \n",
        "    2. filter selective POS. \n",
        "    3. apply lemma on the tokens\n",
        "    @returns: list of filtered string\n",
        "  '''\n",
        "  filtered_doc = []\n",
        "  for token in doc:\n",
        "    if token.is_stop == False | token.is_punct == False | token.is_space == False:\n",
        "      if token.pos_ in ['NOUN','VERB']:\n",
        "        if token.lemma_ not in additional_stop_words:\n",
        "          filtered_doc.append(token.lemma_)\n",
        "\n",
        "  return ' '.join(filtered_doc)\n",
        "\n",
        "print(parse_filter_document(doc_one))"
      ],
      "execution_count": 126,
      "outputs": [
        {
          "output_type": "stream",
          "text": [
            "musician tackle tape musician group tackle visa regulation blame hinder act chance succeed singer hope perform expect pay Â£680 obtain visa group include call end deal face performer act face expense bureaucracy visit purpose musician compare counterpart sponsor petition behalf form amount page musician face regulation athlete journalist mistake form risk year ban ability career world music market mean bureaucracy situation prevent act maintain momentum develop add stance endorse artist face struggle succeed thank visa requirement secretary imagine orchestra member travel visa process market benchmark success fight market add spokeswoman people experience problem work embassy record industry spokesman entertainer require visa time visa process application importance exchange facilitate add\n"
          ],
          "name": "stdout"
        }
      ]
    },
    {
      "cell_type": "markdown",
      "metadata": {
        "id": "QGF2hzxFLahj",
        "colab_type": "text"
      },
      "source": [
        "> With the above method and applying it on one single document / news article, we can see we have cleaned and reduced the news article into meaningful chunk of data. We will use this method in the subsequent parsing of the data set."
      ]
    },
    {
      "cell_type": "markdown",
      "metadata": {
        "id": "g_KCyQBwQdTN",
        "colab_type": "text"
      },
      "source": [
        "Applying the parser method that we created into all of the dataframe and create a list new column named : **parsed_content**"
      ]
    },
    {
      "cell_type": "code",
      "metadata": {
        "id": "e9TOceW_J4W8",
        "colab_type": "code",
        "colab": {
          "base_uri": "https://localhost:8080/",
          "height": 359
        },
        "outputId": "d91472fe-73f5-4ab1-fd3b-0ebd27ec5310"
      },
      "source": [
        "df = data.copy()\n",
        "\n",
        "df['parsed_content'] = data['content'].apply(lambda x: parse_filter_document(nlp(x)))\n",
        "\n",
        "df[['category','content','parsed_content']].head(10)"
      ],
      "execution_count": 127,
      "outputs": [
        {
          "output_type": "execute_result",
          "data": {
            "text/html": [
              "<div>\n",
              "<style scoped>\n",
              "    .dataframe tbody tr th:only-of-type {\n",
              "        vertical-align: middle;\n",
              "    }\n",
              "\n",
              "    .dataframe tbody tr th {\n",
              "        vertical-align: top;\n",
              "    }\n",
              "\n",
              "    .dataframe thead th {\n",
              "        text-align: right;\n",
              "    }\n",
              "</style>\n",
              "<table border=\"1\" class=\"dataframe\">\n",
              "  <thead>\n",
              "    <tr style=\"text-align: right;\">\n",
              "      <th></th>\n",
              "      <th>category</th>\n",
              "      <th>content</th>\n",
              "      <th>parsed_content</th>\n",
              "    </tr>\n",
              "  </thead>\n",
              "  <tbody>\n",
              "    <tr>\n",
              "      <th>0</th>\n",
              "      <td>entertainment</td>\n",
              "      <td>Musicians to tackle US red tape\\n\\nMusicians' ...</td>\n",
              "      <td>musician tackle tape musician group tackle vis...</td>\n",
              "    </tr>\n",
              "    <tr>\n",
              "      <th>1</th>\n",
              "      <td>entertainment</td>\n",
              "      <td>U2's desire to be number one\\n\\nU2, who have w...</td>\n",
              "      <td>desire number win hit cling status band world ...</td>\n",
              "    </tr>\n",
              "    <tr>\n",
              "      <th>2</th>\n",
              "      <td>entertainment</td>\n",
              "      <td>Rocker Doherty in on-stage fight\\n\\nRock singe...</td>\n",
              "      <td>rocker stage fight singer involve fight band g...</td>\n",
              "    </tr>\n",
              "    <tr>\n",
              "      <th>3</th>\n",
              "      <td>entertainment</td>\n",
              "      <td>Snicket tops US box office chart\\n\\nThe film a...</td>\n",
              "      <td>top office chart film adaptation novel top box...</td>\n",
              "    </tr>\n",
              "    <tr>\n",
              "      <th>4</th>\n",
              "      <td>entertainment</td>\n",
              "      <td>Ocean's Twelve raids box office\\n\\nOcean's Twe...</td>\n",
              "      <td>raid box office crime caper sequel star number...</td>\n",
              "    </tr>\n",
              "    <tr>\n",
              "      <th>5</th>\n",
              "      <td>entertainment</td>\n",
              "      <td>'Landmark movies' of 2004 hailed\\n\\nUS film pr...</td>\n",
              "      <td>movie hail film professional declare passion m...</td>\n",
              "    </tr>\n",
              "    <tr>\n",
              "      <th>6</th>\n",
              "      <td>entertainment</td>\n",
              "      <td>Pete Doherty misses bail deadline\\n\\nSinger Pe...</td>\n",
              "      <td>miss bail deadline singer spend weekend jail b...</td>\n",
              "    </tr>\n",
              "    <tr>\n",
              "      <th>7</th>\n",
              "      <td>entertainment</td>\n",
              "      <td>Fockers retain film chart crown\\n\\nComedy Meet...</td>\n",
              "      <td>focker retain film chart crown hold number spo...</td>\n",
              "    </tr>\n",
              "    <tr>\n",
              "      <th>8</th>\n",
              "      <td>entertainment</td>\n",
              "      <td>Top gig award for Scissor Sisters\\n\\nNew York ...</td>\n",
              "      <td>gig award band win gig year award performance ...</td>\n",
              "    </tr>\n",
              "    <tr>\n",
              "      <th>9</th>\n",
              "      <td>entertainment</td>\n",
              "      <td>Johnny Depp: The acting outlaw\\n\\nJohnny Depp,...</td>\n",
              "      <td>act outlaw role creator celebrate talent star ...</td>\n",
              "    </tr>\n",
              "  </tbody>\n",
              "</table>\n",
              "</div>"
            ],
            "text/plain": [
              "        category  ...                                     parsed_content\n",
              "0  entertainment  ...  musician tackle tape musician group tackle vis...\n",
              "1  entertainment  ...  desire number win hit cling status band world ...\n",
              "2  entertainment  ...  rocker stage fight singer involve fight band g...\n",
              "3  entertainment  ...  top office chart film adaptation novel top box...\n",
              "4  entertainment  ...  raid box office crime caper sequel star number...\n",
              "5  entertainment  ...  movie hail film professional declare passion m...\n",
              "6  entertainment  ...  miss bail deadline singer spend weekend jail b...\n",
              "7  entertainment  ...  focker retain film chart crown hold number spo...\n",
              "8  entertainment  ...  gig award band win gig year award performance ...\n",
              "9  entertainment  ...  act outlaw role creator celebrate talent star ...\n",
              "\n",
              "[10 rows x 3 columns]"
            ]
          },
          "metadata": {
            "tags": []
          },
          "execution_count": 127
        }
      ]
    },
    {
      "cell_type": "markdown",
      "metadata": {
        "id": "biZO-zYiTrUx",
        "colab_type": "text"
      },
      "source": [
        "> Applying CountVectorizer on the new parsed dataframe. This will vectorize the dataframe column : parsed_content. Once the data is vectorized we will fit it into our model."
      ]
    },
    {
      "cell_type": "code",
      "metadata": {
        "id": "CECLA21pAIY2",
        "colab_type": "code",
        "colab": {}
      },
      "source": [
        "cnt_vec = CountVectorizer(max_df=0.95, min_df=1, lowercase=True)"
      ],
      "execution_count": 0,
      "outputs": []
    },
    {
      "cell_type": "code",
      "metadata": {
        "id": "EmJuaUQ8AH7N",
        "colab_type": "code",
        "colab": {}
      },
      "source": [
        "df_cnt_vec = cnt_vec.fit_transform(df['parsed_content'])"
      ],
      "execution_count": 0,
      "outputs": []
    },
    {
      "cell_type": "code",
      "metadata": {
        "id": "p6pzPCb3tyIt",
        "colab_type": "code",
        "colab": {
          "base_uri": "https://localhost:8080/",
          "height": 51
        },
        "outputId": "81ab9272-494a-4a20-cc27-e63a39719f8a"
      },
      "source": [
        "df_cnt_vec            # a sparse matrix is generated."
      ],
      "execution_count": 130,
      "outputs": [
        {
          "output_type": "execute_result",
          "data": {
            "text/plain": [
              "<2225x9297 sparse matrix of type '<class 'numpy.int64'>'\n",
              "\twith 175983 stored elements in Compressed Sparse Row format>"
            ]
          },
          "metadata": {
            "tags": []
          },
          "execution_count": 130
        }
      ]
    },
    {
      "cell_type": "markdown",
      "metadata": {
        "id": "mVI8NzO9Vc90",
        "colab_type": "text"
      },
      "source": [
        "> At this step, we are ready to fit our data into the LDA model. We have now cleaned, parsed and vectorised our data. In the next step, we will add the vectorized data into our model."
      ]
    },
    {
      "cell_type": "markdown",
      "metadata": {
        "colab_type": "text",
        "id": "g-GkVdCHCqo-"
      },
      "source": [
        "## Step 3: Defining LDA model"
      ]
    },
    {
      "cell_type": "markdown",
      "metadata": {
        "id": "78PH57ElXtSQ",
        "colab_type": "text"
      },
      "source": [
        "> In this subsequent steps we will try to fit in the LDA model based on the transformed and vectorised dataframe we created in the previous step. Based on our initial data analysis, our target topic cluster will be similar to the one in the original data. This will ensure to generate a clearer understanding of this data."
      ]
    },
    {
      "cell_type": "code",
      "metadata": {
        "colab_type": "code",
        "id": "h33cgl50BFgX",
        "colab": {}
      },
      "source": [
        "### Define the LDA model and set the topic size to 5.\n",
        "\n",
        "topic_clusters = 5            ## assumption is based on the original dataset.\n",
        "\n",
        "lda_model = LatentDirichletAllocation(n_components=topic_clusters, \n",
        "                                      learning_decay=0.7, \n",
        "                                      batch_size=128, \n",
        "                                      random_state=42)"
      ],
      "execution_count": 0,
      "outputs": []
    },
    {
      "cell_type": "code",
      "metadata": {
        "colab_type": "code",
        "id": "lr_ESU3ODNaH",
        "colab": {
          "base_uri": "https://localhost:8080/",
          "height": 136
        },
        "outputId": "a6e98151-1642-487f-f041-2767b30ffaaf"
      },
      "source": [
        "### Fit the filtered data to the model\n",
        "\n",
        "lda_model.fit(df_cnt_vec)"
      ],
      "execution_count": 132,
      "outputs": [
        {
          "output_type": "execute_result",
          "data": {
            "text/plain": [
              "LatentDirichletAllocation(batch_size=128, doc_topic_prior=None,\n",
              "                          evaluate_every=-1, learning_decay=0.7,\n",
              "                          learning_method='batch', learning_offset=10.0,\n",
              "                          max_doc_update_iter=100, max_iter=10,\n",
              "                          mean_change_tol=0.001, n_components=5, n_jobs=None,\n",
              "                          perp_tol=0.1, random_state=42, topic_word_prior=None,\n",
              "                          total_samples=1000000.0, verbose=0)"
            ]
          },
          "metadata": {
            "tags": []
          },
          "execution_count": 132
        }
      ]
    },
    {
      "cell_type": "markdown",
      "metadata": {
        "id": "3VcKrCkExc3M",
        "colab_type": "text"
      },
      "source": [
        "**Note:** Fitting the model to the dataset may take a long time. You will see the output as model summary, if success.\n"
      ]
    },
    {
      "cell_type": "code",
      "metadata": {
        "id": "iXgLibinYykq",
        "colab_type": "code",
        "colab": {}
      },
      "source": [
        "### Transform the dataset with the generated model\n",
        "\n",
        "result_df = lda_model.transform(df_cnt_vec)"
      ],
      "execution_count": 0,
      "outputs": []
    },
    {
      "cell_type": "markdown",
      "metadata": {
        "id": "q4rl2SeDZW3m",
        "colab_type": "text"
      },
      "source": [
        "> Let us now generate some model outputs based on the dataset. Our model will generate the topics and the word distribution across topics."
      ]
    },
    {
      "cell_type": "code",
      "metadata": {
        "id": "g1W1S3VMYyXu",
        "colab_type": "code",
        "colab": {
          "base_uri": "https://localhost:8080/",
          "height": 136
        },
        "outputId": "084e9f34-e6ea-41df-f3fa-8310ca306cc5"
      },
      "source": [
        "### List down the number of generated Topics\n",
        "\n",
        "# sport ; business  ; politics  ; tech   ; entertainment \n",
        "\n",
        "topic_word_dict = {}\n",
        "\n",
        "print(\"Topic ID| Word Distribution\")\n",
        "print(\"--------|----------------------------------------------------------------\")\n",
        "for index, topic in enumerate(lda_model.components_):\n",
        "  topic_words_max = [cnt_vec.get_feature_names()[i] for i in topic.argsort()[-15:]]\n",
        "  topic_word_dict[index] = topic_words_max\n",
        "\n",
        "  print(f\"Topic:{index:{2}}| {' ,'.join(topic_words_max)}\")"
      ],
      "execution_count": 134,
      "outputs": [
        {
          "output_type": "stream",
          "text": [
            "Topic ID| Word Distribution\n",
            "--------|----------------------------------------------------------------\n",
            "Topic: 0| way ,work ,device ,file ,firm ,company ,network ,video ,year ,tv ,music ,service ,technology ,phone ,people\n",
            "Topic: 1| change ,campaign ,law ,year ,leader ,work ,country ,claim ,issue ,minister ,plan ,party ,election ,people ,government\n",
            "Topic: 2| report ,business ,fall ,rate ,month ,economy ,growth ,share ,price ,sale ,firm ,rise ,market ,company ,year\n",
            "Topic: 3| virus ,security ,computer ,album ,release ,year ,band ,song ,mail ,user ,people ,number ,software ,site ,music\n",
            "Topic: 4| club ,set ,world ,match ,think ,team ,star ,award ,player ,time ,year ,film ,play ,game ,win\n"
          ],
          "name": "stdout"
        }
      ]
    },
    {
      "cell_type": "markdown",
      "metadata": {
        "id": "HAK0ceKscTFn",
        "colab_type": "text"
      },
      "source": [
        "> From the **above generated topic** and looking at the distribution of words in each of the 5 topics, we can say the following: \n",
        "\n",
        "1.   Topic 0 -> relates to tv or music (Entertainment)\n",
        "2.   Topic 1 -> relates to Politics or election related news\n",
        "3.   Topic 2 -> relates to business or company \n",
        "4.   Topic 3 -> relates to Technology\n",
        "5.   Topic 4 -> relates to some sort of game or play (Sports)\n"
      ]
    },
    {
      "cell_type": "markdown",
      "metadata": {
        "id": "8WqtKpEodclJ",
        "colab_type": "text"
      },
      "source": [
        "Lets try to get more details and generate the weight distribution of topics across the dataframe/documents."
      ]
    },
    {
      "cell_type": "code",
      "metadata": {
        "id": "HdGcWRgCcKy1",
        "colab_type": "code",
        "colab": {
          "base_uri": "https://localhost:8080/",
          "height": 359
        },
        "outputId": "cb867c58-f6aa-499b-e479-5b9bcbadd419"
      },
      "source": [
        "topics = [ \"Topic \"+str(t) for t in range(lda_model.n_components)]\n",
        "indexes = [ i for i in range(len(df))]\n",
        "\n",
        "topic_dist_df = pd.DataFrame(data=np.round(result_df,decimals=2), columns=topics, index=indexes)\n",
        "\n",
        "dominant_topic = np.argmax(topic_dist_df.values, axis=1)\n",
        "topic_dist_df['dominant_topic'] = dominant_topic\n",
        "\n",
        "df['Topic 0'] = topic_dist_df['Topic 0']\n",
        "df['Topic 1'] = topic_dist_df['Topic 1']\n",
        "df['Topic 2'] = topic_dist_df['Topic 2']\n",
        "df['Topic 3'] = topic_dist_df['Topic 3']\n",
        "df['Topic 4'] = topic_dist_df['Topic 4']\n",
        "df['dominant_topic'] = topic_dist_df['dominant_topic']\n",
        "\n",
        "df[['content','Topic 0','Topic 1','Topic 2','Topic 3','Topic 4','dominant_topic']].head(10)\n"
      ],
      "execution_count": 135,
      "outputs": [
        {
          "output_type": "execute_result",
          "data": {
            "text/html": [
              "<div>\n",
              "<style scoped>\n",
              "    .dataframe tbody tr th:only-of-type {\n",
              "        vertical-align: middle;\n",
              "    }\n",
              "\n",
              "    .dataframe tbody tr th {\n",
              "        vertical-align: top;\n",
              "    }\n",
              "\n",
              "    .dataframe thead th {\n",
              "        text-align: right;\n",
              "    }\n",
              "</style>\n",
              "<table border=\"1\" class=\"dataframe\">\n",
              "  <thead>\n",
              "    <tr style=\"text-align: right;\">\n",
              "      <th></th>\n",
              "      <th>content</th>\n",
              "      <th>Topic 0</th>\n",
              "      <th>Topic 1</th>\n",
              "      <th>Topic 2</th>\n",
              "      <th>Topic 3</th>\n",
              "      <th>Topic 4</th>\n",
              "      <th>dominant_topic</th>\n",
              "    </tr>\n",
              "  </thead>\n",
              "  <tbody>\n",
              "    <tr>\n",
              "      <th>0</th>\n",
              "      <td>Musicians to tackle US red tape\\n\\nMusicians' ...</td>\n",
              "      <td>0.00</td>\n",
              "      <td>0.54</td>\n",
              "      <td>0.17</td>\n",
              "      <td>0.24</td>\n",
              "      <td>0.05</td>\n",
              "      <td>1</td>\n",
              "    </tr>\n",
              "    <tr>\n",
              "      <th>1</th>\n",
              "      <td>U2's desire to be number one\\n\\nU2, who have w...</td>\n",
              "      <td>0.00</td>\n",
              "      <td>0.00</td>\n",
              "      <td>0.02</td>\n",
              "      <td>0.75</td>\n",
              "      <td>0.23</td>\n",
              "      <td>3</td>\n",
              "    </tr>\n",
              "    <tr>\n",
              "      <th>2</th>\n",
              "      <td>Rocker Doherty in on-stage fight\\n\\nRock singe...</td>\n",
              "      <td>0.24</td>\n",
              "      <td>0.00</td>\n",
              "      <td>0.00</td>\n",
              "      <td>0.37</td>\n",
              "      <td>0.38</td>\n",
              "      <td>4</td>\n",
              "    </tr>\n",
              "    <tr>\n",
              "      <th>3</th>\n",
              "      <td>Snicket tops US box office chart\\n\\nThe film a...</td>\n",
              "      <td>0.00</td>\n",
              "      <td>0.00</td>\n",
              "      <td>0.00</td>\n",
              "      <td>0.35</td>\n",
              "      <td>0.64</td>\n",
              "      <td>4</td>\n",
              "    </tr>\n",
              "    <tr>\n",
              "      <th>4</th>\n",
              "      <td>Ocean's Twelve raids box office\\n\\nOcean's Twe...</td>\n",
              "      <td>0.17</td>\n",
              "      <td>0.00</td>\n",
              "      <td>0.00</td>\n",
              "      <td>0.10</td>\n",
              "      <td>0.73</td>\n",
              "      <td>4</td>\n",
              "    </tr>\n",
              "    <tr>\n",
              "      <th>5</th>\n",
              "      <td>'Landmark movies' of 2004 hailed\\n\\nUS film pr...</td>\n",
              "      <td>0.28</td>\n",
              "      <td>0.37</td>\n",
              "      <td>0.00</td>\n",
              "      <td>0.00</td>\n",
              "      <td>0.35</td>\n",
              "      <td>1</td>\n",
              "    </tr>\n",
              "    <tr>\n",
              "      <th>6</th>\n",
              "      <td>Pete Doherty misses bail deadline\\n\\nSinger Pe...</td>\n",
              "      <td>0.54</td>\n",
              "      <td>0.06</td>\n",
              "      <td>0.00</td>\n",
              "      <td>0.24</td>\n",
              "      <td>0.16</td>\n",
              "      <td>0</td>\n",
              "    </tr>\n",
              "    <tr>\n",
              "      <th>7</th>\n",
              "      <td>Fockers retain film chart crown\\n\\nComedy Meet...</td>\n",
              "      <td>0.00</td>\n",
              "      <td>0.00</td>\n",
              "      <td>0.16</td>\n",
              "      <td>0.14</td>\n",
              "      <td>0.69</td>\n",
              "      <td>4</td>\n",
              "    </tr>\n",
              "    <tr>\n",
              "      <th>8</th>\n",
              "      <td>Top gig award for Scissor Sisters\\n\\nNew York ...</td>\n",
              "      <td>0.00</td>\n",
              "      <td>0.00</td>\n",
              "      <td>0.00</td>\n",
              "      <td>0.46</td>\n",
              "      <td>0.53</td>\n",
              "      <td>4</td>\n",
              "    </tr>\n",
              "    <tr>\n",
              "      <th>9</th>\n",
              "      <td>Johnny Depp: The acting outlaw\\n\\nJohnny Depp,...</td>\n",
              "      <td>0.00</td>\n",
              "      <td>0.00</td>\n",
              "      <td>0.00</td>\n",
              "      <td>0.05</td>\n",
              "      <td>0.94</td>\n",
              "      <td>4</td>\n",
              "    </tr>\n",
              "  </tbody>\n",
              "</table>\n",
              "</div>"
            ],
            "text/plain": [
              "                                             content  ...  dominant_topic\n",
              "0  Musicians to tackle US red tape\\n\\nMusicians' ...  ...               1\n",
              "1  U2's desire to be number one\\n\\nU2, who have w...  ...               3\n",
              "2  Rocker Doherty in on-stage fight\\n\\nRock singe...  ...               4\n",
              "3  Snicket tops US box office chart\\n\\nThe film a...  ...               4\n",
              "4  Ocean's Twelve raids box office\\n\\nOcean's Twe...  ...               4\n",
              "5  'Landmark movies' of 2004 hailed\\n\\nUS film pr...  ...               1\n",
              "6  Pete Doherty misses bail deadline\\n\\nSinger Pe...  ...               0\n",
              "7  Fockers retain film chart crown\\n\\nComedy Meet...  ...               4\n",
              "8  Top gig award for Scissor Sisters\\n\\nNew York ...  ...               4\n",
              "9  Johnny Depp: The acting outlaw\\n\\nJohnny Depp,...  ...               4\n",
              "\n",
              "[10 rows x 7 columns]"
            ]
          },
          "metadata": {
            "tags": []
          },
          "execution_count": 135
        }
      ]
    },
    {
      "cell_type": "markdown",
      "metadata": {
        "colab_type": "text",
        "id": "yiyop4tqRh7n"
      },
      "source": [
        "## Step 4: Visualizing the LDA Model distribution"
      ]
    },
    {
      "cell_type": "markdown",
      "metadata": {
        "id": "vTda8LBBgGXv",
        "colab_type": "text"
      },
      "source": [
        "> In this step we use a specialised visualisation library called pyLDAvis which aims at generating an interactive visualization for LDA model. \n",
        "\n",
        "Read more on pyLDAvis in the [official document](https://pyldavis.readthedocs.io/en/latest/readme.html)."
      ]
    },
    {
      "cell_type": "code",
      "metadata": {
        "colab_type": "code",
        "id": "lvFrlzj1dEkX",
        "colab": {}
      },
      "source": [
        "viz = sklearn.prepare(lda_model=lda_model, dtm=df_cnt_vec, vectorizer=cnt_vec)"
      ],
      "execution_count": 0,
      "outputs": []
    },
    {
      "cell_type": "code",
      "metadata": {
        "colab_type": "code",
        "id": "Dap5ahJYf0vk",
        "scrolled": false,
        "colab": {
          "base_uri": "https://localhost:8080/",
          "height": 861
        },
        "outputId": "1976e9a3-6550-4ae6-f713-0d46ef3c8ce8"
      },
      "source": [
        "pyLDAvis.display(viz)"
      ],
      "execution_count": 137,
      "outputs": [
        {
          "output_type": "execute_result",
          "data": {
            "text/html": [
              "\n",
              "<link rel=\"stylesheet\" type=\"text/css\" href=\"https://cdn.rawgit.com/bmabey/pyLDAvis/files/ldavis.v1.0.0.css\">\n",
              "\n",
              "\n",
              "<div id=\"ldavis_el3601406409954337127732181473\"></div>\n",
              "<script type=\"text/javascript\">\n",
              "\n",
              "var ldavis_el3601406409954337127732181473_data = {\"mdsDat\": {\"x\": [-0.0969847054541275, -0.08069091536083894, -0.09297387510017566, 0.09798947024808013, 0.17266002566706196], \"y\": [0.1818834728417479, -0.0220709545228209, -0.15658573364365838, -0.024879201572456048, 0.021652416897187284], \"topics\": [1, 2, 3, 4, 5], \"cluster\": [1, 1, 1, 1, 1], \"Freq\": [25.20214616421846, 23.707166515013682, 21.432758219175476, 19.01439650267236, 10.643532598920032]}, \"tinfo\": {\"Term\": [\"game\", \"win\", \"film\", \"music\", \"government\", \"election\", \"phone\", \"party\", \"play\", \"technology\", \"people\", \"company\", \"market\", \"site\", \"user\", \"firm\", \"software\", \"growth\", \"player\", \"economy\", \"computer\", \"price\", \"rise\", \"minister\", \"award\", \"mail\", \"song\", \"tv\", \"star\", \"band\", \"coach\", \"champion\", \"actress\", \"final\", \"squad\", \"comedy\", \"injury\", \"rugby\", \"seed\", \"captain\", \"referee\", \"tournament\", \"drama\", \"striker\", \"festival\", \"nominee\", \"ball\", \"tennis\", \"runner\", \"championship\", \"sequel\", \"actor\", \"flanker\", \"scrum\", \"wasp\", \"yard\", \"sub\", \"hero\", \"ankle\", \"midfielder\", \"victory\", \"award\", \"title\", \"winner\", \"match\", \"season\", \"prize\", \"game\", \"score\", \"win\", \"team\", \"beat\", \"film\", \"play\", \"star\", \"goal\", \"club\", \"football\", \"minute\", \"player\", \"career\", \"race\", \"time\", \"chance\", \"year\", \"think\", \"world\", \"set\", \"start\", \"week\", \"look\", \"try\", \"know\", \"add\", \"director\", \"lead\", \"include\", \"run\", \"give\", \"chancellor\", \"immigration\", \"asylum\", \"mp\", \"politic\", \"manifesto\", \"domain\", \"party\", \"constituency\", \"referendum\", \"education\", \"blogger\", \"pensioner\", \"drinking\", \"constitution\", \"campaigning\", \"election\", \"democracy\", \"liberty\", \"assembly\", \"outline\", \"secretary\", \"terrorist\", \"policing\", \"rift\", \"prisoner\", \"regiment\", \"refugee\", \"ballet\", \"seeker\", \"blog\", \"council\", \"debate\", \"politician\", \"voter\", \"visa\", \"minister\", \"pension\", \"pledge\", \"leader\", \"shadow\", \"university\", \"government\", \"school\", \"journalist\", \"police\", \"issue\", \"campaign\", \"child\", \"vote\", \"plan\", \"poll\", \"law\", \"policy\", \"health\", \"spokesman\", \"claim\", \"tax\", \"people\", \"right\", \"change\", \"country\", \"ask\", \"work\", \"question\", \"believe\", \"call\", \"think\", \"add\", \"report\", \"year\", \"time\", \"rule\", \"service\", \"way\", \"dollar\", \"investor\", \"shareholder\", \"oil\", \"economist\", \"takeover\", \"housing\", \"currency\", \"stock\", \"gas\", \"creditor\", \"merger\", \"high\", \"1bn\", \"listing\", \"rupee\", \"construction\", \"aircraft\", \"low\", \"insurer\", \"equity\", \"export\", \"forecast\", \"subsidiary\", \"owe\", \"airline\", \"outlook\", \"carmaker\", \"lending\", \"recession\", \"investment\", \"debt\", \"inflation\", \"profit\", \"growth\", \"euro\", \"economy\", \"deficit\", \"wage\", \"price\", \"bankruptcy\", \"rise\", \"rate\", \"bank\", \"earning\", \"asset\", \"market\", \"fall\", \"share\", \"business\", \"sale\", \"analyst\", \"company\", \"bid\", \"firm\", \"increase\", \"year\", \"cost\", \"deal\", \"month\", \"figure\", \"job\", \"expect\", \"report\", \"cut\", \"country\", \"buy\", \"government\", \"broadband\", \"gadget\", \"mobile\", \"handset\", \"laptop\", \"storage\", \"cable\", \"mp3\", \"multimedia\", \"copyright\", \"processor\", \"satellite\", \"phone\", \"device\", \"p2p\", \"detention\", \"subscription\", \"laser\", \"detainee\", \"computing\", \"hd\", \"camera\", \"hdtv\", \"format\", \"doping\", \"silicon\", \"podcast\", \"content\", \"revolution\", \"handheld\", \"definition\", \"dvd\", \"connection\", \"technology\", \"file\", \"lawyer\", \"video\", \"trial\", \"chip\", \"network\", \"operator\", \"photo\", \"tv\", \"speed\", \"console\", \"entertainment\", \"court\", \"service\", \"internet\", \"music\", \"medium\", \"people\", \"image\", \"consumer\", \"industry\", \"access\", \"computer\", \"launch\", \"user\", \"firm\", \"way\", \"offer\", \"company\", \"year\", \"work\", \"find\", \"market\", \"player\", \"time\", \"home\", \"system\", \"virus\", \"album\", \"patent\", \"browser\", \"spam\", \"hop\", \"spyware\", \"spammer\", \"worm\", \"junk\", \"gig\", \"hacker\", \"attachment\", \"guitarist\", \"chart\", \"bot\", \"sing\", \"rap\", \"password\", \"hunt\", \"phishing\", \"concert\", \"variant\", \"hijack\", \"duet\", \"seafarer\", \"patenting\", \"lyric\", \"band\", \"infect\", \"site\", \"pop\", \"program\", \"hip\", \"mail\", \"artist\", \"song\", \"software\", \"traffic\", \"rapper\", \"rock\", \"security\", \"hunting\", \"user\", \"web\", \"music\", \"singer\", \"version\", \"release\", \"machine\", \"computer\", \"search\", \"website\", \"number\", \"attack\", \"people\", \"message\", \"include\", \"record\", \"year\", \"information\", \"firm\", \"system\", \"company\", \"group\"], \"Freq\": [1358.0, 1429.0, 1041.0, 739.0, 1133.0, 696.0, 591.0, 634.0, 1118.0, 621.0, 1965.0, 1045.0, 804.0, 346.0, 459.0, 926.0, 342.0, 447.0, 790.0, 459.0, 409.0, 499.0, 642.0, 497.0, 472.0, 266.0, 267.0, 498.0, 488.0, 229.0, 246.68551810681183, 194.49623550467712, 149.0688066479097, 134.56975461132262, 127.79943029463168, 122.96626237709735, 268.82472054486277, 109.43224016550731, 107.4999770561519, 107.49831996647615, 86.23213174929919, 82.36461305910568, 86.12141256794841, 74.63026452531999, 95.51705821854536, 63.02962864497162, 136.4282621041282, 55.28634163199547, 53.35979447968474, 50.46298639030347, 50.460679144959656, 223.58353083765425, 39.82952805346568, 37.8960244687613, 35.96214420991259, 35.96209497912341, 33.06044061202243, 31.111960622416525, 29.195226155748635, 29.194022647889717, 212.59967147012492, 455.07241121390103, 319.1291094398834, 209.6926193083795, 368.64022736769317, 261.0842942702747, 166.20524991430904, 1233.453956184473, 163.29585567393244, 1243.0864276731213, 398.1053307763553, 277.17375784698817, 903.5726298012083, 959.8375549890873, 437.7391413770888, 219.9619915658604, 332.22246294173755, 128.31660915843358, 257.7022046322474, 551.1784170138727, 173.98110808501883, 180.84101668469353, 704.353809738153, 227.68752989211424, 870.5755598256113, 386.6390486884194, 364.1786258893728, 355.59272256743895, 299.76493391354956, 314.921093694561, 311.44813848502076, 272.44957771754673, 281.96396285589054, 294.47597821162736, 248.45931549375754, 251.47094392257836, 263.61242715682283, 249.67616625220347, 249.5956594229749, 177.81143512421616, 130.70988493874214, 93.42083451572435, 73.79169238472512, 99.93355659602847, 61.036827292370575, 61.986279132383245, 624.9505179631998, 43.372461811362406, 40.429330897855806, 128.02009805961282, 37.47825193289576, 38.43295039584679, 36.5025313844525, 43.216091885994175, 32.57615709582014, 680.1031256829092, 32.53362119139111, 30.6082468853969, 34.37582765510193, 28.617325133204478, 156.33079340750345, 37.09107723179146, 23.74552014710806, 22.765210146041323, 22.760109416030197, 21.784430760238983, 21.782964993359133, 21.779629287279803, 20.79880883476266, 128.09678768192688, 135.05375105673642, 131.30248847014613, 93.54327104879324, 153.93619165564868, 40.36734470664934, 443.6903698480839, 120.28975457389926, 109.69475211001135, 319.0124841202682, 66.30569724881552, 58.691946127798744, 831.9351221134309, 195.5744295590075, 72.97597201622494, 184.89513607294109, 386.44466948309866, 273.6860429122327, 239.0337983556935, 241.29688095458022, 508.28943643552924, 111.72842083731355, 279.6584665411521, 189.7363629903898, 126.38790610856742, 231.00342715613615, 345.494112093898, 258.66169784989444, 778.4029581450084, 199.71726597518813, 268.6313019812818, 332.9373497518908, 208.0859462679294, 325.17669367644186, 172.65604987162035, 218.64125849940964, 228.23701726761945, 265.01230946287876, 251.99896117322666, 227.80473596308684, 304.67429491242837, 250.09111688490614, 190.52729039578213, 193.27858154269887, 192.7944483441559, 228.4691504584223, 142.75677672179617, 117.71292754936128, 280.2978093738164, 110.96119847256344, 85.92234468133265, 70.50531582074161, 67.62290878971814, 159.60367854685546, 65.53813149726214, 52.20993971730372, 43.536108272230955, 39.65897231440978, 38.707570713257475, 37.75908499490376, 36.797211480059374, 36.794725943294296, 33.90730474309946, 38.60704831689642, 32.942705504127254, 32.94048773826709, 136.248362096276, 128.7626660158575, 30.99243971218401, 29.086656093077835, 131.2178397894349, 27.164609689971513, 27.164590488920375, 33.7192598296083, 26.20020146328786, 211.1698573071211, 184.51675114465476, 82.59329231017341, 264.6776845806324, 419.670952265381, 162.2182382684735, 417.53460149552564, 122.52418374692779, 88.59139889964256, 440.20175688828226, 95.35855635877424, 534.0070953881125, 361.0398713008759, 225.01159957611014, 78.22414888826262, 77.32738233426716, 564.4162471806991, 344.31198747812454, 422.63668194790284, 338.37098028604413, 469.7750536346161, 284.4684256809791, 631.5214557566314, 186.96272689578058, 512.7668476993501, 314.33603504160504, 1060.304526996655, 311.1667979843709, 301.1763232189546, 377.6946007198353, 250.12170431675614, 247.26550497206958, 312.2027983553068, 325.64867570854346, 256.9216113948096, 311.51503455600425, 227.9720040545037, 297.0694089957023, 228.9263129586505, 204.86778458315263, 166.7252923062189, 105.46992294631846, 68.13326287386145, 60.484710469583234, 56.65702650390467, 53.78631929651995, 49.00302456662999, 48.99706235425949, 46.1300734652756, 46.12926538988918, 581.3990837761559, 256.3768108572977, 37.518132381916345, 36.54131880262145, 35.6027172810665, 37.448078430018334, 34.637157616489176, 33.674539339160056, 32.73228580090526, 157.84803747566428, 28.903908619478656, 86.53791978195547, 26.025769320204734, 24.118714334797595, 23.16051095638146, 198.6850289518201, 21.24647560120513, 21.24084394633692, 92.26521911299118, 181.33626238565392, 110.5573816538819, 564.5642330529535, 259.3524408900402, 104.91332176564968, 298.00991164256226, 175.98028917222751, 97.95356788696223, 294.77225742684425, 111.21241636546408, 54.87063411189385, 370.2374238494924, 145.20069756629408, 106.7792037683921, 83.4702726356225, 208.60814783338085, 438.69984941402294, 178.0581676494123, 399.4584063263904, 175.0916360377702, 737.4530119369, 124.2720182587288, 200.63865544450036, 214.54864782118077, 160.7282883014001, 208.77824772493645, 185.88175482706987, 205.740685164633, 271.2306475511916, 255.05672670888927, 219.9410069990026, 277.06758154930725, 359.39352780067003, 256.2850595418073, 215.56749802459103, 227.7917873478571, 226.52437809519026, 217.3524059991325, 191.75170838107593, 188.71599271386592, 189.93557613015759, 203.9706291112086, 77.59534393775303, 60.605917004036186, 89.45377761856145, 57.7749859187774, 53.99913692264979, 38.829605119510845, 34.173833677248595, 31.33641800575508, 37.71065506818989, 25.67565066199307, 25.663172730253784, 24.72705025436197, 185.70142360229175, 20.957627109157222, 20.947344259377743, 48.23581666597109, 18.124334914922887, 77.7869021437927, 16.237476664514695, 60.307737449082644, 15.285578686100532, 14.34769848679776, 14.347503399852727, 13.405396218446276, 13.403966723199122, 13.40381199668821, 216.37762910714667, 40.08443190150004, 309.6461165271609, 74.78878315027549, 183.43489182029856, 61.1057939325328, 229.09854235908512, 131.43249652029283, 223.75609870001148, 278.45879264213926, 68.67451851246828, 37.975717805512936, 80.03775871812188, 198.20962423686453, 37.297735848850586, 253.13443946893756, 123.18129708529277, 339.1958776510095, 105.34722306017825, 139.78136532607718, 211.15856670323387, 117.5808637004713, 198.86353815792978, 141.6579110200236, 165.41217876395942, 265.13233154619553, 152.41229205161326, 265.10886693771914, 104.96985692687339, 162.81714030148675, 133.99316747676082, 211.26818227638486, 113.52889160902062, 142.10839861715314, 123.91645474588623, 134.70696392626053, 117.77815711379407], \"Total\": [1358.0, 1429.0, 1041.0, 739.0, 1133.0, 696.0, 591.0, 634.0, 1118.0, 621.0, 1965.0, 1045.0, 804.0, 346.0, 459.0, 926.0, 342.0, 447.0, 790.0, 459.0, 409.0, 499.0, 642.0, 497.0, 472.0, 266.0, 267.0, 498.0, 488.0, 229.0, 247.4805355712037, 195.2767895049704, 149.84018300955742, 135.3391221708286, 128.57198558001062, 123.73822402839474, 270.6702586116952, 110.20391919630171, 108.27043897779346, 108.27039182018945, 87.00220959800052, 83.13525357137924, 87.00093589794066, 75.40134708833756, 96.6606274718886, 63.800467104660974, 138.22895578069483, 56.06637063148212, 54.13304299247779, 51.23288814639469, 51.23285751474265, 227.14529884602246, 40.59876954551645, 38.66529262583809, 36.731806030644734, 36.73181106177934, 33.83156457012825, 31.897961179602625, 29.964647544863496, 29.964647826187104, 218.55450285858018, 472.4004783175447, 330.45053615752886, 216.49369638639158, 386.79439441081365, 273.5404758588568, 172.99550938312922, 1358.9209745212358, 172.10024450503653, 1429.1654937893143, 437.7355219002174, 300.49582090166064, 1041.7200570835128, 1118.590054954117, 488.9962042260032, 240.72383410823187, 381.70306147868246, 135.34711653610987, 305.50068638144506, 790.2798563199891, 194.52837341331588, 212.9288966534486, 1476.6158963988205, 311.61261818155054, 2806.2160918117497, 901.9420125856574, 867.6588540282137, 829.3533165486967, 618.3849056655438, 774.6056976411894, 757.1923062816749, 572.5129500855999, 673.4318328597785, 920.0132638453683, 454.46878002330277, 563.6791317138825, 828.6658410074667, 573.0564880345358, 613.7980600664849, 178.58014276379672, 131.47713405237053, 94.18725152216632, 74.56090427276052, 101.05111678184085, 61.80390234425757, 62.78402471177076, 634.6559678976203, 44.14024699289679, 41.19632688383975, 130.45477123894352, 38.25214704329354, 39.233068935997295, 37.271041262446026, 44.137373173052055, 33.345717413274905, 696.4226866413221, 33.34433736094678, 31.382941464557277, 35.30522187672028, 29.420006437282517, 160.84589822728896, 38.24265887805831, 24.513951137426382, 23.532680800742426, 23.532554905218944, 22.551377070446613, 22.551335608206212, 22.551277128383283, 21.56995281517823, 133.3267664921911, 143.0817418058843, 139.09733650559434, 99.00593965724009, 164.69119634119463, 42.16211905252971, 497.49633409231853, 130.32253831103583, 118.57357962630793, 368.0071173198801, 70.5826936423001, 62.70963297608873, 1133.6312270464275, 233.75762105956431, 80.31105747260686, 229.0279751916874, 529.1829636925522, 360.4440281601973, 328.79028503920784, 332.91461114259914, 815.469187732327, 134.70459556027086, 424.3984770191236, 261.64263496931983, 157.39040820317715, 347.4611956795267, 594.7017585678904, 407.4027542022684, 1965.7800678592857, 324.032766436387, 533.9138032239268, 788.4955185752781, 354.71007514406045, 1024.8028791342895, 256.2529836031304, 509.66254711852736, 578.7045584555016, 901.9420125856574, 920.0132638453683, 736.8437775878895, 2806.2160918117497, 1476.6158963988205, 386.5247347074696, 763.7367102107391, 815.175151785784, 229.2637994400998, 143.53062567009096, 118.48487151530176, 282.249490570393, 111.74195455501064, 86.69599920109945, 71.28335132909119, 68.39337057239746, 161.80875904525402, 66.46581531902169, 52.98060871844987, 44.31099158313013, 40.45780830308745, 39.4943865766137, 38.53111978139893, 37.56782999626152, 37.567827669592134, 34.67793683947619, 39.49481650520259, 33.71463372072162, 33.71464521319261, 139.6243949744805, 132.00533153787325, 31.787562725659257, 29.86147081605467, 134.88846638312344, 27.934850474700255, 27.934846455424207, 34.67672645125779, 26.97154738308059, 217.66783486735105, 191.80284846316664, 85.77704685865099, 278.24967235292826, 447.7550613646748, 171.5166126841918, 459.28133172130214, 130.06857026331534, 93.5116512155981, 499.5707664916217, 102.07032727526648, 642.6908907232474, 424.7217393361787, 259.41091037186203, 83.89586503835088, 82.92222875347254, 804.650934124902, 465.37744472828604, 590.7985737946339, 461.6835085063293, 685.4726448146146, 387.4979378419499, 1045.4813436815598, 240.17653735033886, 926.8656743929483, 502.9607896251123, 2806.2160918117497, 500.9423657234191, 511.5642747112076, 839.1409856347082, 417.05831283757936, 420.19856040090104, 660.8223180270677, 736.8437775878895, 460.0543819394905, 788.4955185752781, 388.5376171333255, 1133.6312270464275, 229.70898699211708, 205.78277534968552, 167.49747519524595, 106.24322027119514, 68.91661457397478, 61.25963079073452, 57.431277711822716, 54.559942576047966, 49.77447249600637, 49.7744455798428, 46.90318484865723, 46.90321608269802, 591.3755174253538, 261.2376685473776, 38.28930386166568, 37.33270715645159, 36.37511933131356, 38.29001489375968, 35.41824816941989, 34.46074392364894, 33.50381947909825, 161.7864570566726, 29.67542697733603, 89.03264670159359, 26.80423084816946, 24.889939328699988, 23.932829407454957, 205.88879778027282, 22.018653011495175, 22.018687434328747, 96.7248551915129, 191.44262374742843, 116.86838455458577, 621.6424692434546, 284.97756868736747, 114.98763851336058, 347.76196802682114, 204.25516374036764, 109.2333660385208, 369.5795905755908, 127.3985882947786, 58.43455172899104, 498.8810589543603, 177.37901922410205, 126.5315483392958, 95.83060649117543, 296.988890885532, 763.7367102107391, 256.73480513001533, 739.9488739960602, 262.8429411160867, 1965.7800678592857, 167.73927596465, 355.0600508364584, 405.5346327658154, 254.46959876741874, 409.8036804800164, 345.48288108682027, 459.7517259273893, 926.8656743929483, 815.175151785784, 586.3576677355991, 1045.4813436815598, 2806.2160918117497, 1024.8028791342895, 625.8278900198873, 804.650934124902, 790.2798563199891, 1476.6158963988205, 552.5340074174804, 509.13112101368154, 190.71659334822988, 204.8790285113812, 78.3746741590078, 61.38170122740492, 90.65299871505609, 58.54953381613415, 54.77332503359122, 39.66943090257078, 34.94829245834936, 32.11622714722545, 38.72781388609717, 26.451873277551556, 26.452214452676962, 25.507963130303924, 191.78512304357287, 21.73159087768617, 21.731961083627933, 50.0675258423339, 18.899463404723896, 81.30508615121587, 17.011342924747474, 63.30011140711673, 16.067446814513918, 15.123278399263917, 15.123290164357766, 14.179192787599034, 14.179249018428441, 14.179234494828023, 229.74904606345692, 42.565477072958465, 346.1237127130598, 81.2863149691971, 204.23062813588433, 67.19031615138265, 266.04705322965555, 149.4343372118385, 267.8234896630951, 342.6288071099605, 77.56998383163042, 41.60564227026879, 95.73076714512526, 295.8502179462087, 41.69416619943831, 459.7517259273893, 187.06616959345502, 739.9488739960602, 158.84865067180118, 233.88614171612292, 416.46682719411126, 191.79477532577664, 409.8036804800164, 255.81118717888623, 342.4186519023033, 841.5730038687254, 348.28761798808443, 1965.7800678592857, 225.5299222428518, 828.6658410074667, 504.2448143005531, 2806.2160918117497, 320.17895567051465, 926.8656743929483, 509.13112101368154, 1045.4813436815598, 508.1903053015508], \"Category\": [\"Default\", \"Default\", \"Default\", \"Default\", \"Default\", \"Default\", \"Default\", \"Default\", \"Default\", \"Default\", \"Default\", \"Default\", \"Default\", \"Default\", \"Default\", \"Default\", \"Default\", \"Default\", \"Default\", \"Default\", \"Default\", \"Default\", \"Default\", \"Default\", \"Default\", \"Default\", \"Default\", \"Default\", \"Default\", \"Default\", \"Topic1\", \"Topic1\", \"Topic1\", \"Topic1\", \"Topic1\", \"Topic1\", \"Topic1\", \"Topic1\", \"Topic1\", \"Topic1\", \"Topic1\", \"Topic1\", \"Topic1\", \"Topic1\", \"Topic1\", \"Topic1\", \"Topic1\", \"Topic1\", \"Topic1\", \"Topic1\", \"Topic1\", \"Topic1\", \"Topic1\", \"Topic1\", \"Topic1\", \"Topic1\", \"Topic1\", \"Topic1\", \"Topic1\", \"Topic1\", \"Topic1\", \"Topic1\", \"Topic1\", \"Topic1\", \"Topic1\", \"Topic1\", \"Topic1\", \"Topic1\", \"Topic1\", \"Topic1\", \"Topic1\", \"Topic1\", \"Topic1\", \"Topic1\", \"Topic1\", \"Topic1\", \"Topic1\", \"Topic1\", \"Topic1\", \"Topic1\", \"Topic1\", \"Topic1\", \"Topic1\", \"Topic1\", \"Topic1\", \"Topic1\", \"Topic1\", \"Topic1\", \"Topic1\", \"Topic1\", \"Topic1\", \"Topic1\", \"Topic1\", \"Topic1\", \"Topic1\", \"Topic1\", \"Topic1\", \"Topic1\", \"Topic1\", \"Topic2\", \"Topic2\", \"Topic2\", \"Topic2\", \"Topic2\", \"Topic2\", \"Topic2\", \"Topic2\", \"Topic2\", \"Topic2\", \"Topic2\", \"Topic2\", \"Topic2\", \"Topic2\", \"Topic2\", \"Topic2\", \"Topic2\", \"Topic2\", \"Topic2\", \"Topic2\", \"Topic2\", \"Topic2\", \"Topic2\", \"Topic2\", \"Topic2\", \"Topic2\", \"Topic2\", \"Topic2\", \"Topic2\", \"Topic2\", \"Topic2\", \"Topic2\", \"Topic2\", \"Topic2\", \"Topic2\", \"Topic2\", \"Topic2\", \"Topic2\", \"Topic2\", \"Topic2\", \"Topic2\", \"Topic2\", \"Topic2\", \"Topic2\", \"Topic2\", \"Topic2\", \"Topic2\", \"Topic2\", \"Topic2\", \"Topic2\", \"Topic2\", \"Topic2\", \"Topic2\", \"Topic2\", \"Topic2\", \"Topic2\", \"Topic2\", \"Topic2\", \"Topic2\", \"Topic2\", \"Topic2\", \"Topic2\", \"Topic2\", \"Topic2\", \"Topic2\", \"Topic2\", \"Topic2\", \"Topic2\", \"Topic2\", \"Topic2\", \"Topic2\", \"Topic2\", \"Topic2\", \"Topic2\", \"Topic2\", \"Topic3\", \"Topic3\", \"Topic3\", \"Topic3\", \"Topic3\", \"Topic3\", \"Topic3\", \"Topic3\", \"Topic3\", \"Topic3\", \"Topic3\", \"Topic3\", \"Topic3\", \"Topic3\", \"Topic3\", \"Topic3\", \"Topic3\", \"Topic3\", \"Topic3\", \"Topic3\", \"Topic3\", \"Topic3\", \"Topic3\", \"Topic3\", \"Topic3\", \"Topic3\", \"Topic3\", \"Topic3\", \"Topic3\", \"Topic3\", \"Topic3\", \"Topic3\", \"Topic3\", \"Topic3\", \"Topic3\", \"Topic3\", \"Topic3\", \"Topic3\", \"Topic3\", \"Topic3\", \"Topic3\", \"Topic3\", \"Topic3\", \"Topic3\", \"Topic3\", \"Topic3\", \"Topic3\", \"Topic3\", \"Topic3\", \"Topic3\", \"Topic3\", \"Topic3\", \"Topic3\", \"Topic3\", \"Topic3\", \"Topic3\", \"Topic3\", \"Topic3\", \"Topic3\", \"Topic3\", \"Topic3\", \"Topic3\", \"Topic3\", \"Topic3\", \"Topic3\", \"Topic3\", \"Topic3\", \"Topic3\", \"Topic4\", \"Topic4\", \"Topic4\", \"Topic4\", \"Topic4\", \"Topic4\", \"Topic4\", \"Topic4\", \"Topic4\", \"Topic4\", \"Topic4\", \"Topic4\", \"Topic4\", \"Topic4\", \"Topic4\", \"Topic4\", \"Topic4\", \"Topic4\", \"Topic4\", \"Topic4\", \"Topic4\", \"Topic4\", \"Topic4\", \"Topic4\", \"Topic4\", \"Topic4\", \"Topic4\", \"Topic4\", \"Topic4\", \"Topic4\", \"Topic4\", \"Topic4\", \"Topic4\", \"Topic4\", \"Topic4\", \"Topic4\", \"Topic4\", \"Topic4\", \"Topic4\", \"Topic4\", \"Topic4\", \"Topic4\", \"Topic4\", \"Topic4\", \"Topic4\", \"Topic4\", \"Topic4\", \"Topic4\", \"Topic4\", \"Topic4\", \"Topic4\", \"Topic4\", \"Topic4\", \"Topic4\", \"Topic4\", \"Topic4\", \"Topic4\", \"Topic4\", \"Topic4\", \"Topic4\", \"Topic4\", \"Topic4\", \"Topic4\", \"Topic4\", \"Topic4\", \"Topic4\", \"Topic4\", \"Topic4\", \"Topic4\", \"Topic4\", \"Topic4\", \"Topic5\", \"Topic5\", \"Topic5\", \"Topic5\", \"Topic5\", \"Topic5\", \"Topic5\", \"Topic5\", \"Topic5\", \"Topic5\", \"Topic5\", \"Topic5\", \"Topic5\", \"Topic5\", \"Topic5\", \"Topic5\", \"Topic5\", \"Topic5\", \"Topic5\", \"Topic5\", \"Topic5\", \"Topic5\", \"Topic5\", \"Topic5\", \"Topic5\", \"Topic5\", \"Topic5\", \"Topic5\", \"Topic5\", \"Topic5\", \"Topic5\", \"Topic5\", \"Topic5\", \"Topic5\", \"Topic5\", \"Topic5\", \"Topic5\", \"Topic5\", \"Topic5\", \"Topic5\", \"Topic5\", \"Topic5\", \"Topic5\", \"Topic5\", \"Topic5\", \"Topic5\", \"Topic5\", \"Topic5\", \"Topic5\", \"Topic5\", \"Topic5\", \"Topic5\", \"Topic5\", \"Topic5\", \"Topic5\", \"Topic5\", \"Topic5\", \"Topic5\", \"Topic5\", \"Topic5\", \"Topic5\", \"Topic5\", \"Topic5\", \"Topic5\", \"Topic5\"], \"logprob\": [30.0, 29.0, 28.0, 27.0, 26.0, 25.0, 24.0, 23.0, 22.0, 21.0, 20.0, 19.0, 18.0, 17.0, 16.0, 15.0, 14.0, 13.0, 12.0, 11.0, 10.0, 9.0, 8.0, 7.0, 6.0, 5.0, 4.0, 3.0, 2.0, 1.0, -5.5703, -5.808, -6.074, -6.1763, -6.2279, -6.2665, -5.4843, -6.3831, -6.4009, -6.4009, -6.6213, -6.6672, -6.6226, -6.7658, -6.5191, -6.9348, -6.1626, -7.0659, -7.1013, -7.1571, -7.1572, -5.6686, -7.3938, -7.4435, -7.4959, -7.4959, -7.58, -7.6408, -7.7044, -7.7044, -5.719, -4.9579, -5.3128, -5.7327, -5.1686, -5.5135, -5.9652, -3.9608, -5.9828, -3.953, -5.0917, -5.4537, -4.272, -4.2116, -4.9968, -5.6849, -5.2726, -6.2239, -5.5266, -4.7663, -5.9194, -5.8808, -4.5211, -5.6504, -4.3092, -5.1209, -5.1807, -5.2046, -5.3754, -5.3261, -5.3371, -5.4709, -5.4366, -5.3932, -5.5631, -5.551, -5.5039, -5.5582, -5.5585, -5.8365, -6.1442, -6.4801, -6.716, -6.4127, -6.9057, -6.8903, -4.5796, -7.2474, -7.3177, -6.165, -7.3935, -7.3683, -7.4198, -7.251, -7.5336, -4.495, -7.535, -7.596, -7.4799, -7.6632, -5.9653, -7.4038, -7.8498, -7.892, -7.8922, -7.936, -7.9361, -7.9362, -7.9823, -6.1644, -6.1116, -6.1397, -6.4788, -5.9807, -7.3192, -4.9221, -6.2273, -6.3195, -5.252, -6.8229, -6.9449, -4.2935, -5.7413, -6.7271, -5.7974, -5.0602, -5.4052, -5.5406, -5.5312, -4.7862, -6.3012, -5.3837, -5.7716, -6.1779, -5.5748, -5.1722, -5.4617, -4.36, -5.7203, -5.4239, -5.2093, -5.6793, -5.2329, -5.8659, -5.6298, -5.5868, -5.4374, -5.4878, -5.5887, -5.298, -5.4954, -5.7674, -5.7531, -5.7556, -5.485, -5.9552, -6.1481, -5.2805, -6.2072, -6.4629, -6.6607, -6.7024, -5.8437, -6.7337, -6.9611, -7.1428, -7.2361, -7.2603, -7.2851, -7.3109, -7.311, -7.3927, -7.2629, -7.4216, -7.4217, -6.0019, -6.0584, -7.4826, -7.5461, -6.0395, -7.6145, -7.6145, -7.3983, -7.6506, -5.5637, -5.6986, -6.5024, -5.3379, -4.8769, -5.8274, -4.882, -6.1081, -6.4323, -4.8291, -6.3587, -4.636, -5.0274, -5.5002, -6.5568, -6.5683, -4.5806, -5.0748, -4.8699, -5.0922, -4.7641, -5.2657, -4.4682, -5.6855, -4.6765, -5.1659, -3.9501, -5.176, -5.2087, -4.9823, -5.3944, -5.4059, -5.1727, -5.1305, -5.3676, -5.1749, -5.4871, -5.2224, -5.3632, -5.4743, -5.6803, -6.1382, -6.5752, -6.6943, -6.7596, -6.8116, -6.9048, -6.9049, -6.9652, -6.9652, -4.4312, -5.25, -7.1718, -7.1982, -7.2242, -7.1737, -7.2517, -7.2799, -7.3083, -5.735, -7.4327, -6.3361, -7.5376, -7.6137, -7.6542, -5.5049, -7.7405, -7.7407, -6.272, -5.5963, -6.0911, -4.4606, -5.2385, -6.1435, -5.0995, -5.6263, -6.2121, -5.1104, -6.0852, -6.7917, -4.8825, -5.8185, -6.1259, -6.3722, -5.4562, -4.7128, -5.6145, -4.8065, -5.6313, -4.1934, -5.9742, -5.4951, -5.4281, -5.7169, -5.4554, -5.5715, -5.47, -5.1937, -5.2552, -5.4033, -5.1724, -4.9122, -5.2504, -5.4234, -5.3682, -5.3738, -5.4151, -5.5404, -5.5564, -4.9697, -4.8984, -5.8649, -6.112, -5.7227, -6.1598, -6.2274, -6.5572, -6.6849, -6.7716, -6.5865, -6.9709, -6.9713, -7.0085, -4.9923, -7.1739, -7.1744, -6.3403, -7.3191, -5.8624, -7.4291, -6.1169, -7.4895, -7.5528, -7.5528, -7.6207, -7.6208, -7.6209, -4.8394, -6.5254, -4.481, -5.9017, -5.0045, -6.1038, -4.7822, -5.3379, -4.8058, -4.5871, -5.987, -6.5795, -5.8339, -4.9271, -6.5975, -4.6825, -5.4027, -4.3898, -5.5591, -5.2763, -4.8638, -5.4493, -4.9238, -5.263, -5.108, -4.6362, -5.1898, -4.6363, -5.5627, -5.1238, -5.3186, -4.8633, -5.4843, -5.2598, -5.3968, -5.3133, -5.4476], \"loglift\": [30.0, 29.0, 28.0, 27.0, 26.0, 25.0, 24.0, 23.0, 22.0, 21.0, 20.0, 19.0, 18.0, 17.0, 16.0, 15.0, 14.0, 13.0, 12.0, 11.0, 10.0, 9.0, 8.0, 7.0, 6.0, 5.0, 4.0, 3.0, 2.0, 1.0, 1.375, 1.3742, 1.3731, 1.3725, 1.3722, 1.372, 1.3714, 1.3712, 1.3711, 1.3711, 1.3694, 1.3689, 1.3681, 1.368, 1.3663, 1.3661, 1.3651, 1.3642, 1.3639, 1.3631, 1.3631, 1.3624, 1.3591, 1.3581, 1.3571, 1.3571, 1.3552, 1.3533, 1.3522, 1.3522, 1.3506, 1.3409, 1.3434, 1.3463, 1.3302, 1.3316, 1.3382, 1.2814, 1.3257, 1.2387, 1.2833, 1.2975, 1.236, 1.2252, 1.2675, 1.288, 1.2394, 1.3249, 1.2081, 1.0179, 1.2666, 1.2149, 0.638, 1.0645, 0.2078, 0.5312, 0.5101, 0.5314, 0.6541, 0.4782, 0.4899, 0.6357, 0.5076, 0.2391, 0.7744, 0.5711, 0.2329, 0.5474, 0.4784, 1.4351, 1.4335, 1.4312, 1.429, 1.4283, 1.4269, 1.4266, 1.424, 1.4218, 1.4206, 1.4206, 1.419, 1.4188, 1.4186, 1.4183, 1.416, 1.4157, 1.4148, 1.4144, 1.4127, 1.4117, 1.4109, 1.4088, 1.4075, 1.4062, 1.406, 1.4048, 1.4047, 1.4046, 1.403, 1.3994, 1.3816, 1.3817, 1.3826, 1.3719, 1.3959, 1.3249, 1.3593, 1.3616, 1.2965, 1.3769, 1.3732, 1.13, 1.261, 1.3436, 1.2253, 1.125, 1.164, 1.1206, 1.1175, 0.9667, 1.2524, 1.0223, 1.118, 1.22, 1.0312, 0.8963, 0.9851, 0.513, 0.9555, 0.7525, 0.5772, 0.906, 0.2915, 1.0445, 0.5931, 0.509, 0.2146, 0.1444, 0.2655, -0.781, -0.3363, 0.732, 0.0653, -0.0024, 1.5368, 1.5348, 1.5337, 1.5333, 1.5332, 1.5313, 1.5293, 1.5289, 1.5265, 1.5262, 1.5256, 1.5226, 1.5203, 1.5201, 1.52, 1.5195, 1.5195, 1.5178, 1.5175, 1.5171, 1.517, 1.5158, 1.5154, 1.5149, 1.514, 1.5127, 1.5123, 1.5123, 1.5123, 1.5112, 1.5099, 1.5015, 1.5024, 1.4902, 1.4755, 1.4845, 1.445, 1.4805, 1.4862, 1.4137, 1.4722, 1.355, 1.3778, 1.398, 1.4703, 1.4704, 1.1856, 1.2389, 1.2053, 1.2295, 1.1624, 1.2312, 1.0361, 1.2898, 0.9483, 1.0702, 0.567, 1.0641, 1.0105, 0.742, 1.029, 1.01, 0.7904, 0.7237, 0.9577, 0.6116, 1.0071, 0.201, 1.6566, 1.6555, 1.6554, 1.6527, 1.6485, 1.6472, 1.6464, 1.6457, 1.6444, 1.6442, 1.6434, 1.6433, 1.643, 1.6412, 1.6396, 1.6385, 1.6385, 1.6377, 1.6377, 1.6369, 1.6367, 1.6353, 1.6336, 1.6316, 1.6305, 1.6285, 1.6272, 1.6244, 1.6243, 1.624, 1.6128, 1.6057, 1.6045, 1.5637, 1.5658, 1.5683, 1.5056, 1.511, 1.551, 1.4338, 1.5241, 1.597, 1.3618, 1.4598, 1.4902, 1.5219, 1.3067, 1.1056, 1.294, 1.0435, 1.2537, 0.6795, 1.36, 1.0892, 1.0233, 1.2005, 0.9856, 1.0401, 0.8559, 0.4311, 0.4981, 0.6794, 0.332, -0.3952, 0.274, 0.5942, 0.398, 0.4104, -0.256, 0.6017, 0.6675, 2.2361, 2.2358, 2.2302, 2.2275, 2.2269, 2.2269, 2.226, 2.2188, 2.2178, 2.2156, 2.2136, 2.2104, 2.2099, 2.2091, 2.208, 2.204, 2.2034, 2.2029, 2.1983, 2.196, 2.1937, 2.1918, 2.1903, 2.1876, 2.1876, 2.1841, 2.184, 2.184, 2.1803, 2.1802, 2.1289, 2.1569, 2.1328, 2.1453, 2.0907, 2.1119, 2.0604, 2.0328, 2.1184, 2.1489, 2.0612, 1.8397, 2.1288, 1.6435, 1.8224, 1.4602, 1.8295, 1.7255, 1.561, 1.7509, 1.5172, 1.6492, 1.5126, 1.0852, 1.4138, 0.2367, 1.4754, 0.613, 0.9149, -0.3462, 1.2034, 0.365, 0.8271, 0.1911, 0.7782]}, \"token.table\": {\"Topic\": [3, 2, 3, 4, 5, 1, 4, 5, 1, 1, 2, 3, 4, 5, 3, 2, 3, 4, 5, 3, 4, 5, 1, 1, 4, 5, 1, 2, 3, 4, 5, 2, 2, 3, 4, 2, 5, 1, 2, 3, 4, 5, 1, 4, 5, 1, 4, 2, 2, 4, 5, 3, 4, 5, 3, 4, 1, 2, 3, 5, 1, 2, 3, 4, 5, 1, 2, 3, 4, 5, 2, 4, 2, 5, 4, 5, 1, 2, 3, 4, 5, 1, 2, 3, 4, 5, 4, 1, 2, 3, 4, 5, 1, 4, 1, 2, 3, 4, 5, 2, 1, 1, 2, 5, 3, 1, 1, 1, 2, 3, 4, 5, 2, 1, 2, 3, 4, 5, 1, 5, 1, 2, 4, 5, 1, 2, 3, 4, 1, 2, 3, 4, 5, 1, 2, 3, 1, 1, 1, 2, 3, 4, 5, 2, 4, 5, 4, 4, 5, 2, 4, 5, 1, 4, 2, 2, 3, 3, 4, 5, 2, 4, 5, 4, 1, 2, 3, 4, 5, 2, 3, 4, 5, 1, 2, 3, 4, 5, 1, 2, 3, 4, 5, 3, 3, 1, 2, 3, 4, 5, 1, 2, 3, 4, 5, 2, 3, 5, 2, 3, 5, 1, 3, 2, 3, 4, 2, 4, 4, 4, 5, 1, 2, 3, 4, 5, 3, 2, 4, 1, 2, 5, 1, 4, 5, 2, 3, 3, 2, 3, 2, 4, 2, 3, 1, 4, 3, 2, 3, 4, 1, 2, 3, 4, 5, 3, 5, 1, 2, 3, 4, 5, 1, 5, 1, 2, 3, 4, 5, 3, 4, 5, 1, 4, 1, 1, 2, 3, 4, 5, 2, 3, 4, 5, 1, 1, 2, 3, 2, 3, 4, 1, 4, 4, 1, 4, 5, 3, 5, 1, 2, 3, 4, 5, 1, 2, 3, 4, 2, 3, 4, 1, 2, 3, 4, 5, 3, 4, 5, 5, 4, 4, 4, 4, 2, 3, 5, 1, 3, 5, 1, 2, 5, 1, 2, 3, 4, 5, 5, 3, 1, 2, 5, 2, 5, 2, 4, 5, 2, 1, 2, 3, 4, 5, 1, 2, 3, 4, 5, 1, 2, 3, 4, 5, 2, 5, 2, 3, 2, 3, 4, 5, 1, 4, 3, 2, 3, 4, 5, 3, 4, 3, 1, 2, 3, 4, 5, 1, 2, 3, 4, 5, 1, 2, 4, 5, 1, 2, 3, 4, 5, 4, 4, 1, 2, 3, 4, 5, 2, 3, 4, 5, 1, 2, 3, 4, 5, 1, 2, 3, 4, 5, 1, 2, 3, 4, 5, 3, 2, 3, 1, 2, 3, 4, 5, 3, 5, 1, 2, 4, 5, 2, 4, 5, 2, 2, 3, 4, 5, 1, 2, 3, 5, 1, 2, 3, 4, 5, 3, 1, 2, 4, 5, 1, 2, 3, 1, 2, 3, 4, 5, 4, 1, 2, 3, 4, 5, 2, 4, 4, 1, 4, 5, 3, 4, 5, 1, 1, 2, 3, 4, 5, 1, 2, 3, 4, 5, 1, 3, 3, 4, 2, 3, 3, 4, 2, 3, 4, 5, 5, 5, 5, 2, 3, 2, 1, 2, 3, 4, 5, 5, 4, 5, 1, 2, 4, 1, 2, 3, 4, 5, 1, 2, 3, 4, 5, 1, 3, 4, 5, 1, 2, 3, 4, 2, 4, 5, 2, 2, 3, 1, 2, 2, 3, 1, 2, 5, 4, 5, 1, 3, 4, 5, 2, 1, 2, 4, 4, 3, 4, 5, 3, 4, 5, 1, 2, 3, 4, 5, 1, 2, 3, 4, 4, 5, 1, 4, 5, 1, 2, 3, 4, 5, 3, 1, 2, 3, 4, 5, 1, 2, 2, 2, 1, 2, 3, 4, 5, 1, 2, 3, 4, 5, 4, 2, 1, 2, 3, 4, 5, 1, 2, 3, 4, 5, 1, 2, 3, 4, 5, 1, 1, 2, 3, 4, 5, 1, 2, 3, 4, 5, 1, 3, 1, 3, 4, 5, 4, 1, 2, 4, 5, 1, 2, 5, 1, 5, 1, 2, 3, 4, 5, 1, 3, 2, 3, 2, 3, 4, 5, 1, 2, 1, 1, 2, 3, 4, 5, 1, 2, 3, 4, 5, 1, 2, 1, 2, 3, 4, 5, 3, 4, 5, 1, 4, 5, 2, 4, 5, 4, 5, 1, 4, 5, 4, 5, 5, 1, 2, 3, 4, 1, 2, 3, 4, 5, 5, 1, 1, 4, 5, 1, 2, 3, 4, 5, 3, 4, 5, 4, 1, 1, 4, 3, 1, 2, 3, 4, 5, 3, 2, 3, 1, 2, 3, 4, 5, 2, 3, 4, 5, 1, 2, 4, 1, 2, 3, 4, 5, 1, 2, 3, 4, 5, 1, 3, 5, 1, 1, 3, 4, 5, 1, 2, 4, 1, 2, 3, 4, 5, 1, 2, 4, 5, 2, 3, 4, 4, 5, 5, 1, 2, 4, 5, 1, 2, 1, 4, 5, 5, 1, 2, 1, 2, 3, 4, 5, 1, 2, 2, 3, 1, 1, 2, 3, 4, 5, 2, 4, 5, 1, 2, 3, 4, 5, 1, 2, 3, 4, 5, 1, 2, 3, 4, 5, 1, 3, 4, 5, 1, 2, 3, 4, 5, 1, 2, 3, 4, 5, 5, 1, 1, 2, 3, 4, 5], \"Freq\": [0.9874821051934898, 0.18862764052169254, 0.05894613766302892, 0.6326885442498438, 0.12182201783692644, 0.9861529212270662, 0.01320740519500535, 0.004402468398335117, 0.9943928057702397, 0.3195606102146525, 0.27390909446970213, 0.21304040680976832, 0.14565007404341304, 0.04782539744709085, 0.9804504852000178, 0.01482706456398877, 0.9711727289412644, 0.007413532281994385, 0.9957095242115893, 0.7329071261169808, 0.2554852305830321, 0.010322635579112406, 0.9678071452894879, 0.013383804802271079, 0.10037853601703309, 0.8766392145487556, 0.12686417204733721, 0.5863943952410254, 0.0930337261680473, 0.10431054146114394, 0.08739531852149898, 0.9630303448799191, 0.06029746275712126, 0.9285809264596674, 0.012059492551424252, 0.9873947747388413, 0.9829044765425604, 0.10910522808565663, 0.39909543957648086, 0.04881023361726744, 0.005742380425560876, 0.43642091234262653, 0.9631658325590259, 0.008467391934584843, 0.02540217580375453, 0.9838748996684085, 0.007234374262267709, 0.9755545051730379, 0.030468026396360284, 0.026115451196880243, 0.9401562430876887, 0.8673497952629114, 0.003854887978946273, 0.127211303305227, 0.9307308258530513, 0.058782999527561136, 0.9218098247384618, 0.023294833116134415, 0.023294833116134415, 0.03327833302304916, 0.2845019725694671, 0.42969608270836757, 0.16677701840279105, 0.09025579819445163, 0.02943123854166901, 0.1498897452563728, 0.05829045648858942, 0.7785939545261588, 0.0041636040348992445, 0.012490812104697734, 0.9600472835850026, 0.03750184701503916, 0.9672659670089533, 0.9663351439936521, 0.9969135426462814, 0.9937815143638524, 0.008663943862628056, 0.047651691244454314, 0.7321032563920707, 0.1364571158363919, 0.0758095087979955, 0.023163780295980138, 0.015442520197320092, 0.5868157674981634, 0.23163780295980138, 0.14413018850832085, 0.9924905429757845, 0.08467187493870029, 0.3939834180821156, 0.09158386472961459, 0.29548756356158673, 0.13305580347510046, 0.018542961225420262, 0.9765959578721337, 0.08045631980095148, 0.7601735043262313, 0.002774355855205224, 0.01387177927602612, 0.14704086032587685, 0.9896323294235897, 0.9882664891219821, 0.8944710581129516, 0.09253148877030533, 0.010281276530033925, 0.9665347559036722, 0.9934616422760376, 0.9759356110693624, 0.7316776879271414, 0.16045563331735557, 0.038509351996165335, 0.038509351996165335, 0.035300239329818225, 0.9967513590547183, 0.15170988184028666, 0.5038266446300877, 0.1479639588318845, 0.14047211281508024, 0.058061806630233165, 0.031285012647393, 0.969835392069183, 0.15207261976745318, 0.7269071224884261, 0.08820211946512284, 0.0334559763488397, 0.0823924074336973, 0.00915471193707748, 0.00915471193707748, 0.8971617698335929, 0.17655908779024293, 0.5801227170250839, 0.1395657551103825, 0.08071272584696819, 0.023541211705365724, 0.8697860549345939, 0.002619837514863235, 0.12575220071343526, 0.9980582894323605, 0.9940339855837487, 0.0009564972211542277, 0.0009564972211542277, 0.6045062437694719, 0.2649497302597211, 0.12912712485582073, 0.004880385646261973, 0.5100003000343762, 0.4855983718030663, 0.9866298903857165, 0.0315955210115972, 0.9478656303479158, 0.04278317030783161, 0.9497863808338617, 0.008556634061566322, 0.15016017941273652, 0.845638905113832, 0.9741676345154959, 0.9742310633532112, 0.9848852673999103, 0.42528017343621405, 0.5661014229184042, 0.008449274968931405, 0.024284954081552627, 0.9665411724457945, 0.009713981632621051, 0.9844408999272425, 0.03393603967883615, 0.10779683192100895, 0.6208299023598849, 0.20162000044485007, 0.035932277307002984, 0.943516610128715, 0.027956047707517483, 0.02096703578063811, 0.006989011926879371, 0.10019080405522664, 0.4223232626631705, 0.39569026411684444, 0.022828284468279485, 0.05833894919671424, 0.13131804318913637, 0.10101387937625875, 0.06060832762575525, 0.7037300263212692, 0.0033671293125419584, 0.9814911768254488, 0.9942484107874014, 0.07825161853307805, 0.30648550592122237, 0.5586296100833628, 0.04999408961835542, 0.008694624281453116, 0.11728731454883491, 0.21893632049115852, 0.5883913613199885, 0.06841760015348704, 0.005864365727441746, 0.9417865452422327, 0.014378420538049354, 0.03594605134512339, 0.03128212144957913, 0.9645320780286898, 0.005213686908263188, 0.05381776693500172, 0.9456550475721731, 0.020677208521429655, 0.020677208521429655, 0.9511515919857642, 0.9896732882342394, 0.9881911672361874, 0.9910880516899752, 0.9799505615843922, 0.015311727524756128, 0.5456920494897006, 0.08141373318999566, 0.195833033889449, 0.1298218988705336, 0.04620779451324078, 0.9944875752596519, 0.9875123534152188, 0.969996122898472, 0.9884951134420572, 0.9927278322991442, 0.9257244850723614, 0.03134098291462951, 0.9454529845913235, 0.015670491457314754, 0.05959769289838512, 0.9297240092148078, 0.993360107598213, 0.08926990314703087, 0.9101175491575343, 0.9811829708056647, 0.015330983918838512, 0.9764185070987208, 0.022974553108205197, 0.12522095434202454, 0.8661116008656699, 0.9788031222433576, 0.023321356091407165, 0.9445149217019901, 0.023321356091407165, 0.16191947075797342, 0.19823785672237867, 0.4721390175372683, 0.14981334210317168, 0.01664592690035241, 0.9740418214514523, 0.02148621664966439, 0.13322519323255802, 0.04942224910240056, 0.7391849430967735, 0.02793431471005249, 0.04727345566316575, 0.9931654957228503, 0.01034547391377969, 0.04555717849316536, 0.1870242064456262, 0.5994365591205968, 0.14626252042542562, 0.021579716128341486, 0.01754524057114549, 0.9088434615853364, 0.07018096228458195, 0.8677955213139646, 0.13151325931417385, 0.9974942783329084, 0.16617987414510263, 0.18375659160275773, 0.12143913879834424, 0.34514281553213627, 0.1853544750079991, 0.0010789049887460242, 0.5534782592267103, 0.29238325195017256, 0.15320450840193542, 0.9852515346593165, 0.9457164901318773, 0.014776820158310583, 0.03694205039577646, 0.015150903199892242, 0.9772332563930496, 0.007575451599946121, 0.022463670059178438, 0.9771696475742621, 0.9961961085015237, 0.9073375296414132, 0.09051298957493417, 0.00147175592804771, 0.9929916556836642, 0.9812069462986538, 0.4073000816798292, 0.27859325586900313, 0.12870682581082601, 0.16129083234521235, 0.02443800490078975, 0.913910335530323, 0.029078965221419367, 0.029078965221419367, 0.029078965221419367, 0.7339247368544177, 0.26198996015115633, 0.0035284843118000855, 0.10625940604663324, 0.23219647987968006, 0.3089393842466929, 0.12003377349712274, 0.23219647987968006, 0.9380128472918151, 0.06030082589733097, 0.9800860959493682, 0.9829171540022823, 0.9537353242618568, 0.9882983566572839, 0.9849623270740053, 0.9772395194902546, 0.800557044348885, 0.19060882008306787, 0.006353627336102262, 0.9718489475064999, 0.988684302924721, 0.9257252052360162, 0.059532388432104254, 0.029766194216052127, 0.9078689235895899, 0.2479485392045495, 0.27690603283427795, 0.08144295083361115, 0.3474899235567409, 0.04705592714830867, 0.9906142068037659, 0.9960249998939718, 0.012299353550159734, 0.0368980606504792, 0.9593495769124593, 0.09593668286509317, 0.8874143165021119, 0.13115592560824194, 0.7392424897919091, 0.12519429262604911, 0.9963709731292099, 0.31858438822461516, 0.16049895315861293, 0.17618682076058262, 0.14843136269555934, 0.19670172454777377, 0.007952906235457136, 0.1968344293275641, 0.6243031394833851, 0.14315231223822844, 0.027835171824099975, 0.039454090248414224, 0.014795283843155333, 0.3279621251899432, 0.5301643377130661, 0.08630582241840612, 0.046986434489432405, 0.9397286897886481, 0.034974391283761445, 0.9676248255173999, 0.2592300291135077, 0.009369760088440036, 0.37479040353760146, 0.3560508833607214, 0.9938291756905167, 0.0036945322516376083, 0.9788034558927331, 0.031160558834041414, 0.007790139708510353, 0.6933224340574214, 0.264864750089352, 0.969366926117428, 0.027564936287699373, 0.9963030491394177, 0.011338233487588075, 0.7294263543681662, 0.09826469022576331, 0.09826469022576331, 0.062360284181734414, 0.1308905007849762, 0.2617810015699524, 0.5878173398888931, 0.014278963721997402, 0.004759654573999134, 0.03735475654797926, 0.9089657426674954, 0.04980634206397235, 0.9652441383569588, 0.4187506236562444, 0.2064054492489999, 0.06830683931981292, 0.1826465486160215, 0.12473422832313663, 0.9866996575551329, 0.9663093655790161, 0.05210098961597052, 0.20261495961766313, 0.13893597230925472, 0.538376892698362, 0.06946798615462736, 0.6597573157346251, 0.0730445599563335, 0.1036761496154411, 0.16258305280603264, 0.017393173960761156, 0.043482934901902894, 0.017393173960761156, 0.9131416329399608, 0.008696586980380578, 0.44528879264489946, 0.14724689159173968, 0.23772389726859175, 0.08160671100265089, 0.0869288878071716, 0.06521612998897154, 0.8668310611034135, 0.043477419992647696, 0.010869354998161924, 0.013586693747702404, 0.9804847077416892, 0.9877977829136967, 0.986215822835875, 0.41072789226718354, 0.2007416065100061, 0.15319754181026782, 0.16112155259355754, 0.07395743397737067, 0.9874713557629161, 0.9168336982325698, 0.026069531829045683, 0.010427812731618274, 0.35454563287502133, 0.6152409511654782, 0.04134606967627131, 0.09772707378027765, 0.86074999598783, 0.9869926927950324, 0.002485549839291617, 0.700925054680236, 0.2833526816792444, 0.012427749196458086, 0.9539952112338157, 0.025853528759724003, 0.018097470131806803, 0.0025853528759724005, 0.07989562097741548, 0.19783677575360026, 0.049459193938400065, 0.6657968414784624, 0.0038045533798769277, 0.9929816153505233, 0.01773600576021473, 0.19066206192230836, 0.3236821051239189, 0.4655701512056367, 0.9678071362032139, 0.8924688878563849, 0.10653344832519909, 0.8445152875298741, 0.06546630135890498, 0.036006465747397735, 0.036006465747397735, 0.019639890407671494, 0.9970299540654803, 0.17398744966505092, 0.11678609635051362, 0.45046065735198115, 0.1906711777151243, 0.06792660706101303, 0.9924772335015062, 0.9897371120714159, 0.9844403675786115, 0.0013514447215785944, 0.5392264439098592, 0.4581397606151435, 0.027057771194631704, 0.7982042502416352, 0.1731697356456429, 0.9874535855145409, 0.24834446808443644, 0.146154878346343, 0.13546061895514716, 0.1544726356506064, 0.3148865265185438, 0.11255928528210324, 0.12108650386408076, 0.35643773672666024, 0.3751976176070108, 0.03410887432791007, 0.003542964764893349, 0.9920301341701377, 0.12559008866706378, 0.871281240127755, 0.9857237815981487, 0.9665346168383139, 0.9711510922766902, 0.9924442642595201, 0.9847855083918822, 0.0015756568134270114, 0.01102959769398908, 0.0015756568134270114, 0.9524079924671789, 0.995219448590655, 0.9168327591330261, 0.9207923783190946, 0.0690594283739321, 0.9685706734283557, 0.056974837537124304, 0.39577163932038134, 0.037135385180447095, 0.3749147791505412, 0.13480653524408875, 0.9405489073248762, 0.9824552807486431, 0.015218756500409273, 0.03422632570667507, 0.017113162853337534, 0.9412239569335643, 0.03556234918040715, 0.6229542546085114, 0.22073182249907883, 0.06989841045804163, 0.05027780401367907, 0.8582232568117887, 0.03665328492633681, 0.008045843032610519, 0.07330656985267361, 0.024137529097831557, 0.6972213648033271, 0.007592247166642399, 0.2872400178046374, 0.007592247166642399, 0.025300745827651388, 0.9276940136805509, 0.050601491655302776, 0.9610230202382847, 0.8077615839076526, 0.043662788319332575, 0.1440872014537975, 0.9790343411168135, 0.72618134281624, 0.27136250178922655, 0.009895981675876962, 0.9895981675876963, 0.9494379865029238, 0.05050202055866616, 0.059389213610166414, 0.8314489905423298, 0.11135477551906202, 0.07381316279712839, 0.9226645349641049, 0.008006873636924637, 0.8807561000617101, 0.10408935728002029, 0.006005155227693478, 0.9773694395970224, 0.9595624799275199, 0.005780496867033252, 0.028902484335166262, 0.9807436349669741, 0.9523820738371884, 0.03234505156428187, 0.014375578473014164, 0.019585700913276386, 0.07834280365310554, 0.8960458167823947, 0.09365744610088049, 0.6751140906438469, 0.05853590381305031, 0.16390053067654087, 0.01560957435014675, 0.8500490203290053, 0.10332087539910563, 0.009392806854464147, 0.03287482399062452, 0.019973026091783905, 0.9587052524056275, 0.02403520160809044, 0.04807040321618088, 0.9133376611074367, 0.004708965458480914, 0.051798620043290056, 0.8499682652558049, 0.05650758550177097, 0.04002620639708777, 0.9639788044311448, 0.3133398609545734, 0.11105716590795006, 0.20426585872355102, 0.10510767487716703, 0.2657439327083091, 0.9884806420132167, 0.9709603507319231, 0.9755519753780975, 0.9755501817594462, 0.2089001916098593, 0.014406909766197193, 0.043220729298591574, 0.22570825300375602, 0.5066429934446013, 0.03392849442501812, 0.30942786915616527, 0.4424275673022363, 0.17099961190209134, 0.043428472864023196, 0.95373681528278, 0.9773642108498909, 0.11727209077622719, 0.6172215304011958, 0.04011939947607772, 0.2129414279884125, 0.015430538260029892, 0.01867149538481227, 0.07157406564178036, 0.8308815446241459, 0.03423107487215583, 0.04356682256456196, 0.09401366215269374, 0.020891924922820833, 0.041783849845641666, 0.010445962461410416, 0.8356769969128333, 0.9890755319313352, 0.14746792347749454, 0.4941469014772185, 0.15005508002973128, 0.19921105452222945, 0.010348626208946984, 0.43625716699840156, 0.17624789546735423, 0.12738709276353324, 0.1448373794434693, 0.11517189208757801, 0.9790692905877241, 0.9848852064035098, 0.03355349068119316, 0.6856582878330777, 0.1604732163013586, 0.12108433593647967, 0.9807429818649215, 0.11122632016080827, 0.8384753365968624, 0.02566761234480191, 0.02566761234480191, 0.947122419661814, 0.03486340195074162, 0.01743170097537081, 0.9827935447876707, 0.9168363950428586, 0.03518219863350382, 0.33618545360903646, 0.007818266363000847, 0.06645526408550721, 0.5550969117730602, 0.9541549534141796, 0.043869193260422046, 0.9698724165135919, 0.02486852350034851, 0.24674648038715594, 0.040561065269121524, 0.040561065269121524, 0.6692575769405051, 0.9882660586787311, 0.9735765386200953, 0.9759361945722453, 0.0261870350509685, 0.25270488824184606, 0.08510786391564763, 0.5748054193687586, 0.060230180617227555, 0.42925010715755296, 0.16157166954806768, 0.1712177393718329, 0.18809836156342208, 0.04943610784679683, 0.056671115730879476, 0.9350734095595113, 0.025389363931020786, 0.028774612455156893, 0.7159800628547862, 0.21496328128264267, 0.016926242620680525, 0.9959077348095099, 0.9642450181598546, 0.9663186823862221, 0.2895838258962682, 0.044067103940736464, 0.661006559111047, 0.011556561579229454, 0.09245249263383563, 0.8956335223902827, 0.18679106564282658, 0.8113736913860279, 0.018669012215058813, 0.14561829527745876, 0.8363717472346349, 0.011031074693328542, 0.9817656477062402, 0.9831247666694558, 0.056376453335588245, 0.0225505813342353, 0.10147761600405884, 0.8174585733660296, 0.03165821143994914, 0.664822440238932, 0.12951086498161013, 0.10648671120710165, 0.06619444210171184, 0.9858813567896972, 0.9955512425398869, 0.8957124742783609, 0.012270033894224121, 0.09202525420668091, 0.4851347393046756, 0.13098637961226242, 0.12936926381458017, 0.18435120093577673, 0.07115309509801909, 0.9888216246393179, 0.006180135153995737, 0.006180135153995737, 0.9794378324767011, 0.9946771894158952, 0.9754204518562974, 0.9896874748946696, 0.9752241865016116, 0.007856522288474506, 0.35157937240923415, 0.02749782800966077, 0.3712206781304204, 0.2435521909427097, 0.9919719570970625, 0.6357345337714899, 0.3632768764408514, 0.909224817470319, 0.025129329126064092, 0.018275875728046613, 0.025129329126064092, 0.02056036019405244, 0.0016086417023872428, 0.0225209838334214, 0.9088825618487922, 0.0675629515002642, 0.9809802093577404, 0.9675059497818735, 0.02614880945356415, 0.4290741473396513, 0.29381046264859845, 0.0820451857962124, 0.11974162251339107, 0.07539287343435734, 0.4767658276718538, 0.1693060467584708, 0.1415398550900816, 0.14695764858635266, 0.0650135219552528, 0.9653487136360092, 0.012104686064401368, 0.021183200612702395, 0.9863444986018535, 0.025783168968309976, 0.025783168968309976, 0.06445792242077493, 0.8895193294066941, 0.09791674116705493, 0.03916669646682197, 0.8616673222700834, 0.4750984234668083, 0.20785556026672863, 0.07510747135688513, 0.11877460586670208, 0.12226797662748742, 0.23252035313413685, 0.01002242901440245, 0.7416597470657813, 0.01403140062016343, 0.9408442881892928, 0.015946513359140557, 0.03189302671828111, 0.4480679209729264, 0.5502970097385941, 0.933564627483336, 0.11116520119245565, 0.01710233864499318, 0.2693618336586425, 0.5985818525747613, 0.9745852737604115, 0.022877588585925153, 0.12364779347200965, 0.8569079640618342, 0.020128710565210872, 0.9962426271587106, 0.023717972968913204, 0.9487189187565281, 0.21026412676737855, 0.723909350727689, 0.024030185916271835, 0.009011319718601937, 0.03304150563487377, 0.06071969979064797, 0.9350833767759789, 0.04277541833560078, 0.9517530579671173, 0.980077047394996, 0.27969449203711133, 0.23675893404895829, 0.0797374648351414, 0.31281620819940087, 0.0907780368892379, 0.04811131814779452, 0.2940136109031887, 0.6575213480198585, 0.0934528531732262, 0.08761204984989956, 0.02044281163164323, 0.3154033794596384, 0.4818662741744476, 0.406658511497179, 0.2491590245046208, 0.19493788963833025, 0.06583994948049565, 0.08391366110259249, 0.869738323099509, 0.09166188280453394, 0.012594762522760388, 0.015393598638929364, 0.010495635435633657, 0.9700051479799124, 0.018476288532950712, 0.004619072133237678, 0.004619072133237678, 0.21565122864085973, 0.3171341597659702, 0.10538612078376856, 0.24980413815411806, 0.11221670268642023, 0.4195197205792172, 0.10949003696435614, 0.2316578676824798, 0.1555911051598745, 0.08298192275193307, 0.9728658428883324, 0.980076913154418, 0.3103823695336537, 0.10868728209846656, 0.3777328492602445, 0.12793027630606393, 0.07519021810746376], \"Term\": [\"1bn\", \"access\", \"access\", \"access\", \"access\", \"actor\", \"actor\", \"actor\", \"actress\", \"add\", \"add\", \"add\", \"add\", \"add\", \"aircraft\", \"airline\", \"airline\", \"airline\", \"album\", \"analyst\", \"analyst\", \"analyst\", \"ankle\", \"artist\", \"artist\", \"artist\", \"ask\", \"ask\", \"ask\", \"ask\", \"ask\", \"assembly\", \"asset\", \"asset\", \"asset\", \"asylum\", \"attachment\", \"attack\", \"attack\", \"attack\", \"attack\", \"attack\", \"award\", \"award\", \"award\", \"ball\", \"ball\", \"ballet\", \"band\", \"band\", \"band\", \"bank\", \"bank\", \"bank\", \"bankruptcy\", \"bankruptcy\", \"beat\", \"beat\", \"beat\", \"beat\", \"believe\", \"believe\", \"believe\", \"believe\", \"believe\", \"bid\", \"bid\", \"bid\", \"bid\", \"bid\", \"blog\", \"blog\", \"blogger\", \"bot\", \"broadband\", \"browser\", \"business\", \"business\", \"business\", \"business\", \"business\", \"buy\", \"buy\", \"buy\", \"buy\", \"buy\", \"cable\", \"call\", \"call\", \"call\", \"call\", \"call\", \"camera\", \"camera\", \"campaign\", \"campaign\", \"campaign\", \"campaign\", \"campaign\", \"campaigning\", \"captain\", \"career\", \"career\", \"career\", \"carmaker\", \"champion\", \"championship\", \"chance\", \"chance\", \"chance\", \"chance\", \"chance\", \"chancellor\", \"change\", \"change\", \"change\", \"change\", \"change\", \"chart\", \"chart\", \"child\", \"child\", \"child\", \"child\", \"chip\", \"chip\", \"chip\", \"chip\", \"claim\", \"claim\", \"claim\", \"claim\", \"claim\", \"club\", \"club\", \"club\", \"coach\", \"comedy\", \"company\", \"company\", \"company\", \"company\", \"company\", \"computer\", \"computer\", \"computer\", \"computing\", \"concert\", \"concert\", \"connection\", \"connection\", \"connection\", \"console\", \"console\", \"constituency\", \"constitution\", \"construction\", \"consumer\", \"consumer\", \"consumer\", \"content\", \"content\", \"content\", \"copyright\", \"cost\", \"cost\", \"cost\", \"cost\", \"cost\", \"council\", \"council\", \"council\", \"council\", \"country\", \"country\", \"country\", \"country\", \"country\", \"court\", \"court\", \"court\", \"court\", \"court\", \"creditor\", \"currency\", \"cut\", \"cut\", \"cut\", \"cut\", \"cut\", \"deal\", \"deal\", \"deal\", \"deal\", \"deal\", \"debate\", \"debate\", \"debate\", \"debt\", \"debt\", \"debt\", \"deficit\", \"deficit\", \"definition\", \"definition\", \"definition\", \"democracy\", \"detainee\", \"detention\", \"device\", \"device\", \"director\", \"director\", \"director\", \"director\", \"director\", \"dollar\", \"domain\", \"doping\", \"drama\", \"drinking\", \"duet\", \"dvd\", \"dvd\", \"dvd\", \"earning\", \"earning\", \"economist\", \"economy\", \"economy\", \"education\", \"education\", \"election\", \"election\", \"entertainment\", \"entertainment\", \"equity\", \"euro\", \"euro\", \"euro\", \"expect\", \"expect\", \"expect\", \"expect\", \"expect\", \"export\", \"export\", \"fall\", \"fall\", \"fall\", \"fall\", \"fall\", \"festival\", \"festival\", \"figure\", \"figure\", \"figure\", \"figure\", \"figure\", \"file\", \"file\", \"file\", \"film\", \"film\", \"final\", \"find\", \"find\", \"find\", \"find\", \"find\", \"firm\", \"firm\", \"firm\", \"firm\", \"flanker\", \"football\", \"football\", \"football\", \"forecast\", \"forecast\", \"forecast\", \"format\", \"format\", \"gadget\", \"game\", \"game\", \"game\", \"gas\", \"gig\", \"give\", \"give\", \"give\", \"give\", \"give\", \"goal\", \"goal\", \"goal\", \"goal\", \"government\", \"government\", \"government\", \"group\", \"group\", \"group\", \"group\", \"group\", \"growth\", \"growth\", \"guitarist\", \"hacker\", \"handheld\", \"handset\", \"hd\", \"hdtv\", \"health\", \"health\", \"health\", \"hero\", \"high\", \"hijack\", \"hip\", \"hip\", \"hip\", \"home\", \"home\", \"home\", \"home\", \"home\", \"hop\", \"housing\", \"hunt\", \"hunt\", \"hunt\", \"hunting\", \"hunting\", \"image\", \"image\", \"image\", \"immigration\", \"include\", \"include\", \"include\", \"include\", \"include\", \"increase\", \"increase\", \"increase\", \"increase\", \"increase\", \"industry\", \"industry\", \"industry\", \"industry\", \"industry\", \"infect\", \"infect\", \"inflation\", \"inflation\", \"information\", \"information\", \"information\", \"information\", \"injury\", \"injury\", \"insurer\", \"internet\", \"internet\", \"internet\", \"internet\", \"investment\", \"investment\", \"investor\", \"issue\", \"issue\", \"issue\", \"issue\", \"issue\", \"job\", \"job\", \"job\", \"job\", \"job\", \"journalist\", \"journalist\", \"journalist\", \"junk\", \"know\", \"know\", \"know\", \"know\", \"know\", \"laptop\", \"laser\", \"launch\", \"launch\", \"launch\", \"launch\", \"launch\", \"law\", \"law\", \"law\", \"law\", \"lawyer\", \"lawyer\", \"lawyer\", \"lawyer\", \"lawyer\", \"lead\", \"lead\", \"lead\", \"lead\", \"lead\", \"leader\", \"leader\", \"leader\", \"leader\", \"leader\", \"lending\", \"liberty\", \"listing\", \"look\", \"look\", \"look\", \"look\", \"look\", \"low\", \"lyric\", \"machine\", \"machine\", \"machine\", \"machine\", \"mail\", \"mail\", \"mail\", \"manifesto\", \"market\", \"market\", \"market\", \"market\", \"match\", \"match\", \"match\", \"match\", \"medium\", \"medium\", \"medium\", \"medium\", \"medium\", \"merger\", \"message\", \"message\", \"message\", \"message\", \"midfielder\", \"minister\", \"minister\", \"minute\", \"minute\", \"minute\", \"minute\", \"minute\", \"mobile\", \"month\", \"month\", \"month\", \"month\", \"month\", \"mp\", \"mp3\", \"multimedia\", \"music\", \"music\", \"music\", \"network\", \"network\", \"network\", \"nominee\", \"number\", \"number\", \"number\", \"number\", \"number\", \"offer\", \"offer\", \"offer\", \"offer\", \"offer\", \"oil\", \"oil\", \"operator\", \"operator\", \"outline\", \"outlook\", \"owe\", \"p2p\", \"party\", \"party\", \"party\", \"party\", \"password\", \"patent\", \"patenting\", \"pension\", \"pension\", \"pensioner\", \"people\", \"people\", \"people\", \"people\", \"people\", \"phishing\", \"phone\", \"phone\", \"photo\", \"photo\", \"photo\", \"plan\", \"plan\", \"plan\", \"plan\", \"plan\", \"play\", \"play\", \"play\", \"play\", \"play\", \"player\", \"player\", \"player\", \"player\", \"pledge\", \"pledge\", \"pledge\", \"podcast\", \"police\", \"police\", \"police\", \"policing\", \"policy\", \"policy\", \"politic\", \"politic\", \"politician\", \"politician\", \"poll\", \"poll\", \"poll\", \"pop\", \"pop\", \"price\", \"price\", \"price\", \"price\", \"prisoner\", \"prize\", \"prize\", \"prize\", \"processor\", \"profit\", \"profit\", \"profit\", \"program\", \"program\", \"program\", \"question\", \"question\", \"question\", \"question\", \"question\", \"race\", \"race\", \"race\", \"race\", \"rap\", \"rap\", \"rapper\", \"rapper\", \"rapper\", \"rate\", \"rate\", \"rate\", \"rate\", \"rate\", \"recession\", \"record\", \"record\", \"record\", \"record\", \"record\", \"referee\", \"referendum\", \"refugee\", \"regiment\", \"release\", \"release\", \"release\", \"release\", \"release\", \"report\", \"report\", \"report\", \"report\", \"report\", \"revolution\", \"rift\", \"right\", \"right\", \"right\", \"right\", \"right\", \"rise\", \"rise\", \"rise\", \"rise\", \"rise\", \"rock\", \"rock\", \"rock\", \"rock\", \"rock\", \"rugby\", \"rule\", \"rule\", \"rule\", \"rule\", \"rule\", \"run\", \"run\", \"run\", \"run\", \"run\", \"runner\", \"rupee\", \"sale\", \"sale\", \"sale\", \"sale\", \"satellite\", \"school\", \"school\", \"school\", \"school\", \"score\", \"score\", \"score\", \"scrum\", \"seafarer\", \"search\", \"search\", \"search\", \"search\", \"search\", \"season\", \"season\", \"secretary\", \"secretary\", \"security\", \"security\", \"security\", \"security\", \"seed\", \"seeker\", \"sequel\", \"service\", \"service\", \"service\", \"service\", \"service\", \"set\", \"set\", \"set\", \"set\", \"set\", \"shadow\", \"shadow\", \"share\", \"share\", \"share\", \"share\", \"share\", \"shareholder\", \"silicon\", \"sing\", \"singer\", \"singer\", \"singer\", \"site\", \"site\", \"site\", \"software\", \"software\", \"song\", \"song\", \"song\", \"spam\", \"spam\", \"spammer\", \"speed\", \"speed\", \"speed\", \"speed\", \"spokesman\", \"spokesman\", \"spokesman\", \"spokesman\", \"spokesman\", \"spyware\", \"squad\", \"star\", \"star\", \"star\", \"start\", \"start\", \"start\", \"start\", \"start\", \"stock\", \"stock\", \"stock\", \"storage\", \"striker\", \"sub\", \"subscription\", \"subsidiary\", \"system\", \"system\", \"system\", \"system\", \"system\", \"takeover\", \"tax\", \"tax\", \"team\", \"team\", \"team\", \"team\", \"team\", \"technology\", \"technology\", \"technology\", \"technology\", \"tennis\", \"terrorist\", \"terrorist\", \"think\", \"think\", \"think\", \"think\", \"think\", \"time\", \"time\", \"time\", \"time\", \"time\", \"title\", \"title\", \"title\", \"tournament\", \"traffic\", \"traffic\", \"traffic\", \"traffic\", \"trial\", \"trial\", \"trial\", \"try\", \"try\", \"try\", \"try\", \"try\", \"tv\", \"tv\", \"tv\", \"tv\", \"university\", \"university\", \"university\", \"user\", \"user\", \"variant\", \"version\", \"version\", \"version\", \"version\", \"victory\", \"victory\", \"video\", \"video\", \"video\", \"virus\", \"visa\", \"visa\", \"vote\", \"vote\", \"vote\", \"vote\", \"vote\", \"voter\", \"voter\", \"wage\", \"wage\", \"wasp\", \"way\", \"way\", \"way\", \"way\", \"way\", \"web\", \"web\", \"web\", \"website\", \"website\", \"website\", \"website\", \"website\", \"week\", \"week\", \"week\", \"week\", \"week\", \"win\", \"win\", \"win\", \"win\", \"win\", \"winner\", \"winner\", \"winner\", \"winner\", \"work\", \"work\", \"work\", \"work\", \"work\", \"world\", \"world\", \"world\", \"world\", \"world\", \"worm\", \"yard\", \"year\", \"year\", \"year\", \"year\", \"year\"]}, \"R\": 30, \"lambda.step\": 0.01, \"plot.opts\": {\"xlab\": \"PC1\", \"ylab\": \"PC2\"}, \"topic.order\": [5, 2, 3, 1, 4]};\n",
              "\n",
              "function LDAvis_load_lib(url, callback){\n",
              "  var s = document.createElement('script');\n",
              "  s.src = url;\n",
              "  s.async = true;\n",
              "  s.onreadystatechange = s.onload = callback;\n",
              "  s.onerror = function(){console.warn(\"failed to load library \" + url);};\n",
              "  document.getElementsByTagName(\"head\")[0].appendChild(s);\n",
              "}\n",
              "\n",
              "if(typeof(LDAvis) !== \"undefined\"){\n",
              "   // already loaded: just create the visualization\n",
              "   !function(LDAvis){\n",
              "       new LDAvis(\"#\" + \"ldavis_el3601406409954337127732181473\", ldavis_el3601406409954337127732181473_data);\n",
              "   }(LDAvis);\n",
              "}else if(typeof define === \"function\" && define.amd){\n",
              "   // require.js is available: use it to load d3/LDAvis\n",
              "   require.config({paths: {d3: \"https://cdnjs.cloudflare.com/ajax/libs/d3/3.5.5/d3.min\"}});\n",
              "   require([\"d3\"], function(d3){\n",
              "      window.d3 = d3;\n",
              "      LDAvis_load_lib(\"https://cdn.rawgit.com/bmabey/pyLDAvis/files/ldavis.v1.0.0.js\", function(){\n",
              "        new LDAvis(\"#\" + \"ldavis_el3601406409954337127732181473\", ldavis_el3601406409954337127732181473_data);\n",
              "      });\n",
              "    });\n",
              "}else{\n",
              "    // require.js not available: dynamically load d3 & LDAvis\n",
              "    LDAvis_load_lib(\"https://cdnjs.cloudflare.com/ajax/libs/d3/3.5.5/d3.min.js\", function(){\n",
              "         LDAvis_load_lib(\"https://cdn.rawgit.com/bmabey/pyLDAvis/files/ldavis.v1.0.0.js\", function(){\n",
              "                 new LDAvis(\"#\" + \"ldavis_el3601406409954337127732181473\", ldavis_el3601406409954337127732181473_data);\n",
              "            })\n",
              "         });\n",
              "}\n",
              "</script>"
            ],
            "text/plain": [
              "<IPython.core.display.HTML object>"
            ]
          },
          "metadata": {
            "tags": []
          },
          "execution_count": 137
        }
      ]
    },
    {
      "cell_type": "code",
      "metadata": {
        "colab_type": "code",
        "id": "2CApPzxUgP2X",
        "colab": {}
      },
      "source": [
        ""
      ],
      "execution_count": 0,
      "outputs": []
    }
  ]
}