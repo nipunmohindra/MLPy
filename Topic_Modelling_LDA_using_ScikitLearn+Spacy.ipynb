{
  "nbformat": 4,
  "nbformat_minor": 0,
  "metadata": {
    "colab": {
      "name": "Topic Modelling - LDA using ScikitLearn+Spacy.ipynb",
      "provenance": [],
      "collapsed_sections": [],
      "include_colab_link": true
    },
    "kernelspec": {
      "display_name": "Python 3",
      "language": "python",
      "name": "python3"
    },
    "language_info": {
      "codemirror_mode": {
        "name": "ipython",
        "version": 3
      },
      "file_extension": ".py",
      "mimetype": "text/x-python",
      "name": "python",
      "nbconvert_exporter": "python",
      "pygments_lexer": "ipython3",
      "version": "3.8.2"
    }
  },
  "cells": [
    {
      "cell_type": "markdown",
      "metadata": {
        "id": "view-in-github",
        "colab_type": "text"
      },
      "source": [
        "<a href=\"https://colab.research.google.com/github/rishuatgithub/MLPy/blob/master/Topic_Modelling_LDA_using_ScikitLearn%2BSpacy.ipynb\" target=\"_parent\"><img src=\"https://colab.research.google.com/assets/colab-badge.svg\" alt=\"Open In Colab\"/></a>"
      ]
    },
    {
      "cell_type": "markdown",
      "metadata": {
        "colab_type": "text",
        "id": "Qw-7mbkMg9FK"
      },
      "source": [
        "# Topic Modelling using Latent-Dirichlet Allocation\n",
        "\n",
        "- Blog URL : [Topic Modelling : Latent Dirichlet Allocation, an introduction](https://anotherreeshu.wordpress.com)\n",
        "- Author   : Rishu Shrivastava"
      ]
    },
    {
      "cell_type": "code",
      "metadata": {
        "colab_type": "code",
        "id": "C1UbX8SHg7sh",
        "outputId": "25ea8a2d-2439-48d3-a418-167669e2ba5f",
        "colab": {
          "base_uri": "https://localhost:8080/",
          "height": 819
        }
      },
      "source": [
        "## additional installations in colab\n",
        "!pip install pyLDAvis\n",
        "!python -m spacy download en_core_web_lg  ## restart once download is complete.\n",
        "\n",
        "## general imports\n",
        "\n",
        "import numpy as np\n",
        "import pandas as pd\n",
        "from sklearn.feature_extraction.text import CountVectorizer\n",
        "from sklearn.feature_extraction.text import TfidfVectorizer\n",
        "from sklearn.decomposition import LatentDirichletAllocation\n",
        "\n",
        "import matplotlib.pyplot as plt\n",
        "import seaborn as sns\n",
        "%matplotlib inline\n",
        "\n",
        "import spacy\n",
        "from spacy import displacy\n",
        "\n",
        "import pyLDAvis\n",
        "from pyLDAvis import sklearn\n",
        "pyLDAvis.enable_notebook()"
      ],
      "execution_count": 1,
      "outputs": [
        {
          "output_type": "stream",
          "text": [
            "Requirement already satisfied: pyLDAvis in /usr/local/lib/python3.6/dist-packages (2.1.2)\n",
            "Requirement already satisfied: jinja2>=2.7.2 in /usr/local/lib/python3.6/dist-packages (from pyLDAvis) (2.11.2)\n",
            "Requirement already satisfied: numpy>=1.9.2 in /usr/local/lib/python3.6/dist-packages (from pyLDAvis) (1.18.4)\n",
            "Requirement already satisfied: funcy in /usr/local/lib/python3.6/dist-packages (from pyLDAvis) (1.14)\n",
            "Requirement already satisfied: joblib>=0.8.4 in /usr/local/lib/python3.6/dist-packages (from pyLDAvis) (0.15.1)\n",
            "Requirement already satisfied: pytest in /usr/local/lib/python3.6/dist-packages (from pyLDAvis) (3.6.4)\n",
            "Requirement already satisfied: numexpr in /usr/local/lib/python3.6/dist-packages (from pyLDAvis) (2.7.1)\n",
            "Requirement already satisfied: future in /usr/local/lib/python3.6/dist-packages (from pyLDAvis) (0.16.0)\n",
            "Requirement already satisfied: pandas>=0.17.0 in /usr/local/lib/python3.6/dist-packages (from pyLDAvis) (1.0.4)\n",
            "Requirement already satisfied: scipy>=0.18.0 in /usr/local/lib/python3.6/dist-packages (from pyLDAvis) (1.4.1)\n",
            "Requirement already satisfied: wheel>=0.23.0 in /usr/local/lib/python3.6/dist-packages (from pyLDAvis) (0.34.2)\n",
            "Requirement already satisfied: MarkupSafe>=0.23 in /usr/local/lib/python3.6/dist-packages (from jinja2>=2.7.2->pyLDAvis) (1.1.1)\n",
            "Requirement already satisfied: atomicwrites>=1.0 in /usr/local/lib/python3.6/dist-packages (from pytest->pyLDAvis) (1.4.0)\n",
            "Requirement already satisfied: six>=1.10.0 in /usr/local/lib/python3.6/dist-packages (from pytest->pyLDAvis) (1.12.0)\n",
            "Requirement already satisfied: more-itertools>=4.0.0 in /usr/local/lib/python3.6/dist-packages (from pytest->pyLDAvis) (8.3.0)\n",
            "Requirement already satisfied: attrs>=17.4.0 in /usr/local/lib/python3.6/dist-packages (from pytest->pyLDAvis) (19.3.0)\n",
            "Requirement already satisfied: py>=1.5.0 in /usr/local/lib/python3.6/dist-packages (from pytest->pyLDAvis) (1.8.1)\n",
            "Requirement already satisfied: pluggy<0.8,>=0.5 in /usr/local/lib/python3.6/dist-packages (from pytest->pyLDAvis) (0.7.1)\n",
            "Requirement already satisfied: setuptools in /usr/local/lib/python3.6/dist-packages (from pytest->pyLDAvis) (47.1.1)\n",
            "Requirement already satisfied: python-dateutil>=2.6.1 in /usr/local/lib/python3.6/dist-packages (from pandas>=0.17.0->pyLDAvis) (2.8.1)\n",
            "Requirement already satisfied: pytz>=2017.2 in /usr/local/lib/python3.6/dist-packages (from pandas>=0.17.0->pyLDAvis) (2018.9)\n",
            "Requirement already satisfied: en_core_web_lg==2.2.5 from https://github.com/explosion/spacy-models/releases/download/en_core_web_lg-2.2.5/en_core_web_lg-2.2.5.tar.gz#egg=en_core_web_lg==2.2.5 in /usr/local/lib/python3.6/dist-packages (2.2.5)\n",
            "Requirement already satisfied: spacy>=2.2.2 in /usr/local/lib/python3.6/dist-packages (from en_core_web_lg==2.2.5) (2.2.4)\n",
            "Requirement already satisfied: setuptools in /usr/local/lib/python3.6/dist-packages (from spacy>=2.2.2->en_core_web_lg==2.2.5) (47.1.1)\n",
            "Requirement already satisfied: preshed<3.1.0,>=3.0.2 in /usr/local/lib/python3.6/dist-packages (from spacy>=2.2.2->en_core_web_lg==2.2.5) (3.0.2)\n",
            "Requirement already satisfied: wasabi<1.1.0,>=0.4.0 in /usr/local/lib/python3.6/dist-packages (from spacy>=2.2.2->en_core_web_lg==2.2.5) (0.6.0)\n",
            "Requirement already satisfied: requests<3.0.0,>=2.13.0 in /usr/local/lib/python3.6/dist-packages (from spacy>=2.2.2->en_core_web_lg==2.2.5) (2.23.0)\n",
            "Requirement already satisfied: blis<0.5.0,>=0.4.0 in /usr/local/lib/python3.6/dist-packages (from spacy>=2.2.2->en_core_web_lg==2.2.5) (0.4.1)\n",
            "Requirement already satisfied: murmurhash<1.1.0,>=0.28.0 in /usr/local/lib/python3.6/dist-packages (from spacy>=2.2.2->en_core_web_lg==2.2.5) (1.0.2)\n",
            "Requirement already satisfied: thinc==7.4.0 in /usr/local/lib/python3.6/dist-packages (from spacy>=2.2.2->en_core_web_lg==2.2.5) (7.4.0)\n",
            "Requirement already satisfied: tqdm<5.0.0,>=4.38.0 in /usr/local/lib/python3.6/dist-packages (from spacy>=2.2.2->en_core_web_lg==2.2.5) (4.41.1)\n",
            "Requirement already satisfied: plac<1.2.0,>=0.9.6 in /usr/local/lib/python3.6/dist-packages (from spacy>=2.2.2->en_core_web_lg==2.2.5) (1.1.3)\n",
            "Requirement already satisfied: cymem<2.1.0,>=2.0.2 in /usr/local/lib/python3.6/dist-packages (from spacy>=2.2.2->en_core_web_lg==2.2.5) (2.0.3)\n",
            "Requirement already satisfied: srsly<1.1.0,>=1.0.2 in /usr/local/lib/python3.6/dist-packages (from spacy>=2.2.2->en_core_web_lg==2.2.5) (1.0.2)\n",
            "Requirement already satisfied: numpy>=1.15.0 in /usr/local/lib/python3.6/dist-packages (from spacy>=2.2.2->en_core_web_lg==2.2.5) (1.18.4)\n",
            "Requirement already satisfied: catalogue<1.1.0,>=0.0.7 in /usr/local/lib/python3.6/dist-packages (from spacy>=2.2.2->en_core_web_lg==2.2.5) (1.0.0)\n",
            "Requirement already satisfied: certifi>=2017.4.17 in /usr/local/lib/python3.6/dist-packages (from requests<3.0.0,>=2.13.0->spacy>=2.2.2->en_core_web_lg==2.2.5) (2020.4.5.1)\n",
            "Requirement already satisfied: idna<3,>=2.5 in /usr/local/lib/python3.6/dist-packages (from requests<3.0.0,>=2.13.0->spacy>=2.2.2->en_core_web_lg==2.2.5) (2.9)\n",
            "Requirement already satisfied: chardet<4,>=3.0.2 in /usr/local/lib/python3.6/dist-packages (from requests<3.0.0,>=2.13.0->spacy>=2.2.2->en_core_web_lg==2.2.5) (3.0.4)\n",
            "Requirement already satisfied: urllib3!=1.25.0,!=1.25.1,<1.26,>=1.21.1 in /usr/local/lib/python3.6/dist-packages (from requests<3.0.0,>=2.13.0->spacy>=2.2.2->en_core_web_lg==2.2.5) (1.24.3)\n",
            "Requirement already satisfied: importlib-metadata>=0.20; python_version < \"3.8\" in /usr/local/lib/python3.6/dist-packages (from catalogue<1.1.0,>=0.0.7->spacy>=2.2.2->en_core_web_lg==2.2.5) (1.6.0)\n",
            "Requirement already satisfied: zipp>=0.5 in /usr/local/lib/python3.6/dist-packages (from importlib-metadata>=0.20; python_version < \"3.8\"->catalogue<1.1.0,>=0.0.7->spacy>=2.2.2->en_core_web_lg==2.2.5) (3.1.0)\n",
            "\u001b[38;5;2m✔ Download and installation successful\u001b[0m\n",
            "You can now load the model via spacy.load('en_core_web_lg')\n"
          ],
          "name": "stdout"
        },
        {
          "output_type": "stream",
          "text": [
            "/usr/local/lib/python3.6/dist-packages/statsmodels/tools/_testing.py:19: FutureWarning: pandas.util.testing is deprecated. Use the functions in the public API at pandas.testing instead.\n",
            "  import pandas.util.testing as tm\n"
          ],
          "name": "stderr"
        }
      ]
    },
    {
      "cell_type": "markdown",
      "metadata": {
        "colab_type": "text",
        "id": "rQDt-6pYwVoN"
      },
      "source": [
        "## Step 1: Load and Analyze data\n",
        "\n",
        "As part of this step we will try to load and analyze our data in order to get a general intuition of our data.\n",
        "\n",
        "> Source of this dataset is from [BBC News Insight data](http://mlg.ucd.ie/datasets/bbc.html). \n",
        "\n",
        "*About the Data: All rights, including copyright, in the content of the original articles are owned by the BBC.*"
      ]
    },
    {
      "cell_type": "code",
      "metadata": {
        "id": "-kNy8B-NI6CR",
        "colab_type": "code",
        "colab": {}
      },
      "source": [
        "#from google.colab import drive\n",
        "#drive.mount('/content/drive')"
      ],
      "execution_count": 0,
      "outputs": []
    },
    {
      "cell_type": "code",
      "metadata": {
        "colab_type": "code",
        "id": "jUeRe8UkhNSZ",
        "outputId": "ee835132-e89e-4e31-8d45-36434dddd036",
        "colab": {
          "base_uri": "https://localhost:8080/",
          "height": 204
        }
      },
      "source": [
        "### Reading the dataset from path\n",
        "\n",
        "filename = '/content/drive/My Drive/Colab Notebooks/data/bbc/bbc_raw_dict.json'\n",
        "data = pd.read_json(filename)\n",
        "data.head()"
      ],
      "execution_count": 3,
      "outputs": [
        {
          "output_type": "execute_result",
          "data": {
            "text/html": [
              "<div>\n",
              "<style scoped>\n",
              "    .dataframe tbody tr th:only-of-type {\n",
              "        vertical-align: middle;\n",
              "    }\n",
              "\n",
              "    .dataframe tbody tr th {\n",
              "        vertical-align: top;\n",
              "    }\n",
              "\n",
              "    .dataframe thead th {\n",
              "        text-align: right;\n",
              "    }\n",
              "</style>\n",
              "<table border=\"1\" class=\"dataframe\">\n",
              "  <thead>\n",
              "    <tr style=\"text-align: right;\">\n",
              "      <th></th>\n",
              "      <th>category</th>\n",
              "      <th>content</th>\n",
              "      <th>filename</th>\n",
              "    </tr>\n",
              "  </thead>\n",
              "  <tbody>\n",
              "    <tr>\n",
              "      <th>0</th>\n",
              "      <td>entertainment</td>\n",
              "      <td>Musicians to tackle US red tape\\n\\nMusicians' ...</td>\n",
              "      <td>/Users/rishushrivastava/Documents/AI/Dataset/b...</td>\n",
              "    </tr>\n",
              "    <tr>\n",
              "      <th>1</th>\n",
              "      <td>entertainment</td>\n",
              "      <td>U2's desire to be number one\\n\\nU2, who have w...</td>\n",
              "      <td>/Users/rishushrivastava/Documents/AI/Dataset/b...</td>\n",
              "    </tr>\n",
              "    <tr>\n",
              "      <th>2</th>\n",
              "      <td>entertainment</td>\n",
              "      <td>Rocker Doherty in on-stage fight\\n\\nRock singe...</td>\n",
              "      <td>/Users/rishushrivastava/Documents/AI/Dataset/b...</td>\n",
              "    </tr>\n",
              "    <tr>\n",
              "      <th>3</th>\n",
              "      <td>entertainment</td>\n",
              "      <td>Snicket tops US box office chart\\n\\nThe film a...</td>\n",
              "      <td>/Users/rishushrivastava/Documents/AI/Dataset/b...</td>\n",
              "    </tr>\n",
              "    <tr>\n",
              "      <th>4</th>\n",
              "      <td>entertainment</td>\n",
              "      <td>Ocean's Twelve raids box office\\n\\nOcean's Twe...</td>\n",
              "      <td>/Users/rishushrivastava/Documents/AI/Dataset/b...</td>\n",
              "    </tr>\n",
              "  </tbody>\n",
              "</table>\n",
              "</div>"
            ],
            "text/plain": [
              "        category  ...                                           filename\n",
              "0  entertainment  ...  /Users/rishushrivastava/Documents/AI/Dataset/b...\n",
              "1  entertainment  ...  /Users/rishushrivastava/Documents/AI/Dataset/b...\n",
              "2  entertainment  ...  /Users/rishushrivastava/Documents/AI/Dataset/b...\n",
              "3  entertainment  ...  /Users/rishushrivastava/Documents/AI/Dataset/b...\n",
              "4  entertainment  ...  /Users/rishushrivastava/Documents/AI/Dataset/b...\n",
              "\n",
              "[5 rows x 3 columns]"
            ]
          },
          "metadata": {
            "tags": []
          },
          "execution_count": 3
        }
      ]
    },
    {
      "cell_type": "code",
      "metadata": {
        "colab_type": "code",
        "id": "7nABVK_Omv3q",
        "outputId": "3ad84caf-69ba-469f-f894-caab5e38ac6f",
        "colab": {
          "base_uri": "https://localhost:8080/",
          "height": 34
        }
      },
      "source": [
        "### get the shape of the data\n",
        "\n",
        "data.shape"
      ],
      "execution_count": 4,
      "outputs": [
        {
          "output_type": "execute_result",
          "data": {
            "text/plain": [
              "(2225, 3)"
            ]
          },
          "metadata": {
            "tags": []
          },
          "execution_count": 4
        }
      ]
    },
    {
      "cell_type": "code",
      "metadata": {
        "id": "2ouy9fUqWuW5",
        "colab_type": "code",
        "colab": {
          "base_uri": "https://localhost:8080/",
          "height": 51
        },
        "outputId": "41a9bda5-1114-478c-e58c-1086c74cf481"
      },
      "source": [
        "### Check for any null or na\n",
        "\n",
        "data['content'].isna().value_counts() # no null records found. hence the data is in good quality"
      ],
      "execution_count": 58,
      "outputs": [
        {
          "output_type": "execute_result",
          "data": {
            "text/plain": [
              "False    2225\n",
              "Name: content, dtype: int64"
            ]
          },
          "metadata": {
            "tags": []
          },
          "execution_count": 58
        }
      ]
    },
    {
      "cell_type": "code",
      "metadata": {
        "id": "Qg9hCxd9XM0E",
        "colab_type": "code",
        "colab": {
          "base_uri": "https://localhost:8080/",
          "height": 119
        },
        "outputId": "0ef05ee3-7d9b-42f9-d7a9-1e7e2b713850"
      },
      "source": [
        "### distribution of the dataset\n",
        "\n",
        "data['category'].value_counts()"
      ],
      "execution_count": 59,
      "outputs": [
        {
          "output_type": "execute_result",
          "data": {
            "text/plain": [
              "sport            511\n",
              "business         510\n",
              "politics         417\n",
              "tech             401\n",
              "entertainment    386\n",
              "Name: category, dtype: int64"
            ]
          },
          "metadata": {
            "tags": []
          },
          "execution_count": 59
        }
      ]
    },
    {
      "cell_type": "code",
      "metadata": {
        "colab_type": "code",
        "id": "2mcwlkrPm6Oo",
        "outputId": "5e8de37e-a724-4f6c-8b33-193eec8420b9",
        "colab": {
          "base_uri": "https://localhost:8080/",
          "height": 350
        }
      },
      "source": [
        "### visualize the category - total article spread.\n",
        "\n",
        "plt.figure(figsize=(10,5))\n",
        "sns.set_style(\"whitegrid\")\n",
        "sns.countplot(x='category',data=data, orient='h', palette='Spectral_r')\n",
        "plt.title(\"Article Counts by Category (BBC) - Actual Data Source\")\n",
        "plt.show()"
      ],
      "execution_count": 5,
      "outputs": [
        {
          "output_type": "display_data",
          "data": {
            "image/png": "[encoded data removed]",
            "text/plain": [
              "<Figure size 720x360 with 1 Axes>"
            ]
          },
          "metadata": {
            "tags": [],
            "needs_background": "light"
          }
        }
      ]
    },
    {
      "cell_type": "markdown",
      "metadata": {
        "id": "K-7yH62xxc22",
        "colab_type": "text"
      },
      "source": [
        "> The BBC news data is currently divided into 5 Major Categories: **Entertainment, Business, Sport, Politics and Tech**.\n",
        "\n",
        "**Note:** Our target is to understand the BBC news content and build a topic cluster for the news content. We will assume there is no previous knowledge of the above categories. The categories from the original dataset are merely for the purpose of cross-validation and testing."
      ]
    },
    {
      "cell_type": "markdown",
      "metadata": {
        "id": "Baz_eBiCxc23",
        "colab_type": "text"
      },
      "source": [
        "## Step 2: Data Cleaning and Transformation\n",
        "\n",
        "> In this step, we will try to clean and transform the existing dataset into a more managable chunks to be able to fit into the LDA model. During this process, we will also try to get a little in-depth intuition of the dataset using NLP techniques."
      ]
    },
    {
      "cell_type": "code",
      "metadata": {
        "id": "KiOML17q8Igr",
        "colab_type": "code",
        "colab": {}
      },
      "source": [
        "# load spacy\n",
        "nlp = spacy.load('en_core_web_lg')"
      ],
      "execution_count": 0,
      "outputs": []
    },
    {
      "cell_type": "code",
      "metadata": {
        "id": "gUy4n2mk-bsp",
        "colab_type": "code",
        "colab": {
          "base_uri": "https://localhost:8080/",
          "height": 787
        },
        "outputId": "e759e564-235c-4cf2-b162-40e4f459aede"
      },
      "source": [
        "# selecting and analysing the first item in the dataframe\n",
        "doc_one = nlp(data['content'].iloc[0])\n",
        "\n",
        "displacy.render(nlp(sample_data_one),style='ent',jupyter=True)"
      ],
      "execution_count": 30,
      "outputs": [
        {
          "output_type": "display_data",
          "data": {
            "text/html": [
              "<span class=\"tex2jax_ignore\"><div class=\"entities\" style=\"line-height: 2.5; direction: ltr\">Musicians to tackle \n",
              "<mark class=\"entity\" style=\"background: #feca74; padding: 0.45em 0.6em; margin: 0 0.25em; line-height: 1; border-radius: 0.35em;\">\n",
              "    US\n",
              "    <span style=\"font-size: 0.8em; font-weight: bold; line-height: 1; border-radius: 0.35em; text-transform: uppercase; vertical-align: middle; margin-left: 0.5rem\">GPE</span>\n",
              "</mark>\n",
              " red tape</br></br>Musicians' groups are to tackle \n",
              "<mark class=\"entity\" style=\"background: #feca74; padding: 0.45em 0.6em; margin: 0 0.25em; line-height: 1; border-radius: 0.35em;\">\n",
              "    US\n",
              "    <span style=\"font-size: 0.8em; font-weight: bold; line-height: 1; border-radius: 0.35em; text-transform: uppercase; vertical-align: middle; margin-left: 0.5rem\">GPE</span>\n",
              "</mark>\n",
              " visa regulations which are blamed for hindering \n",
              "<mark class=\"entity\" style=\"background: #c887fb; padding: 0.45em 0.6em; margin: 0 0.25em; line-height: 1; border-radius: 0.35em;\">\n",
              "    British\n",
              "    <span style=\"font-size: 0.8em; font-weight: bold; line-height: 1; border-radius: 0.35em; text-transform: uppercase; vertical-align: middle; margin-left: 0.5rem\">NORP</span>\n",
              "</mark>\n",
              " acts' chances of succeeding across the \n",
              "<mark class=\"entity\" style=\"background: #ff9561; padding: 0.45em 0.6em; margin: 0 0.25em; line-height: 1; border-radius: 0.35em;\">\n",
              "    Atlantic\n",
              "    <span style=\"font-size: 0.8em; font-weight: bold; line-height: 1; border-radius: 0.35em; text-transform: uppercase; vertical-align: middle; margin-left: 0.5rem\">LOC</span>\n",
              "</mark>\n",
              ".</br></br>A singer hoping to perform in the \n",
              "<mark class=\"entity\" style=\"background: #feca74; padding: 0.45em 0.6em; margin: 0 0.25em; line-height: 1; border-radius: 0.35em;\">\n",
              "    US\n",
              "    <span style=\"font-size: 0.8em; font-weight: bold; line-height: 1; border-radius: 0.35em; text-transform: uppercase; vertical-align: middle; margin-left: 0.5rem\">GPE</span>\n",
              "</mark>\n",
              " can expect to pay $\n",
              "<mark class=\"entity\" style=\"background: #e4e7d2; padding: 0.45em 0.6em; margin: 0 0.25em; line-height: 1; border-radius: 0.35em;\">\n",
              "    1,300\n",
              "    <span style=\"font-size: 0.8em; font-weight: bold; line-height: 1; border-radius: 0.35em; text-transform: uppercase; vertical-align: middle; margin-left: 0.5rem\">MONEY</span>\n",
              "</mark>\n",
              " (Â£680) simply for obtaining a visa. Groups including \n",
              "<mark class=\"entity\" style=\"background: #7aecec; padding: 0.45em 0.6em; margin: 0 0.25em; line-height: 1; border-radius: 0.35em;\">\n",
              "    the Musicians' Union\n",
              "    <span style=\"font-size: 0.8em; font-weight: bold; line-height: 1; border-radius: 0.35em; text-transform: uppercase; vertical-align: middle; margin-left: 0.5rem\">ORG</span>\n",
              "</mark>\n",
              " are calling for an end to the &quot;raw deal&quot; faced by \n",
              "<mark class=\"entity\" style=\"background: #c887fb; padding: 0.45em 0.6em; margin: 0 0.25em; line-height: 1; border-radius: 0.35em;\">\n",
              "    British\n",
              "    <span style=\"font-size: 0.8em; font-weight: bold; line-height: 1; border-radius: 0.35em; text-transform: uppercase; vertical-align: middle; margin-left: 0.5rem\">NORP</span>\n",
              "</mark>\n",
              " performers. \n",
              "<mark class=\"entity\" style=\"background: #feca74; padding: 0.45em 0.6em; margin: 0 0.25em; line-height: 1; border-radius: 0.35em;\">\n",
              "    US\n",
              "    <span style=\"font-size: 0.8em; font-weight: bold; line-height: 1; border-radius: 0.35em; text-transform: uppercase; vertical-align: middle; margin-left: 0.5rem\">GPE</span>\n",
              "</mark>\n",
              " acts are not faced with comparable expense and bureaucracy when visiting the \n",
              "<mark class=\"entity\" style=\"background: #feca74; padding: 0.45em 0.6em; margin: 0 0.25em; line-height: 1; border-radius: 0.35em;\">\n",
              "    UK\n",
              "    <span style=\"font-size: 0.8em; font-weight: bold; line-height: 1; border-radius: 0.35em; text-transform: uppercase; vertical-align: middle; margin-left: 0.5rem\">GPE</span>\n",
              "</mark>\n",
              " for promotional purposes.</br></br>\n",
              "<mark class=\"entity\" style=\"background: #aa9cfc; padding: 0.45em 0.6em; margin: 0 0.25em; line-height: 1; border-radius: 0.35em;\">\n",
              "    Nigel McCune\n",
              "    <span style=\"font-size: 0.8em; font-weight: bold; line-height: 1; border-radius: 0.35em; text-transform: uppercase; vertical-align: middle; margin-left: 0.5rem\">PERSON</span>\n",
              "</mark>\n",
              " from \n",
              "<mark class=\"entity\" style=\"background: #7aecec; padding: 0.45em 0.6em; margin: 0 0.25em; line-height: 1; border-radius: 0.35em;\">\n",
              "    the Musicians' Union\n",
              "    <span style=\"font-size: 0.8em; font-weight: bold; line-height: 1; border-radius: 0.35em; text-transform: uppercase; vertical-align: middle; margin-left: 0.5rem\">ORG</span>\n",
              "</mark>\n",
              " said \n",
              "<mark class=\"entity\" style=\"background: #c887fb; padding: 0.45em 0.6em; margin: 0 0.25em; line-height: 1; border-radius: 0.35em;\">\n",
              "    British\n",
              "    <span style=\"font-size: 0.8em; font-weight: bold; line-height: 1; border-radius: 0.35em; text-transform: uppercase; vertical-align: middle; margin-left: 0.5rem\">NORP</span>\n",
              "</mark>\n",
              " musicians are &quot;disadvantaged&quot; compared to their \n",
              "<mark class=\"entity\" style=\"background: #feca74; padding: 0.45em 0.6em; margin: 0 0.25em; line-height: 1; border-radius: 0.35em;\">\n",
              "    US\n",
              "    <span style=\"font-size: 0.8em; font-weight: bold; line-height: 1; border-radius: 0.35em; text-transform: uppercase; vertical-align: middle; margin-left: 0.5rem\">GPE</span>\n",
              "</mark>\n",
              " counterparts. A sponsor has to make a petition on their behalf, which is a form amounting to \n",
              "<mark class=\"entity\" style=\"background: #e4e7d2; padding: 0.45em 0.6em; margin: 0 0.25em; line-height: 1; border-radius: 0.35em;\">\n",
              "    nearly 30\n",
              "    <span style=\"font-size: 0.8em; font-weight: bold; line-height: 1; border-radius: 0.35em; text-transform: uppercase; vertical-align: middle; margin-left: 0.5rem\">CARDINAL</span>\n",
              "</mark>\n",
              " pages, while musicians face tougher regulations than athletes and journalists. &quot;If you make a mistake on your form, you risk a \n",
              "<mark class=\"entity\" style=\"background: #bfe1d9; padding: 0.45em 0.6em; margin: 0 0.25em; line-height: 1; border-radius: 0.35em;\">\n",
              "    five-year\n",
              "    <span style=\"font-size: 0.8em; font-weight: bold; line-height: 1; border-radius: 0.35em; text-transform: uppercase; vertical-align: middle; margin-left: 0.5rem\">DATE</span>\n",
              "</mark>\n",
              " ban and thus the ability to further your career,&quot; says \n",
              "<mark class=\"entity\" style=\"background: #aa9cfc; padding: 0.45em 0.6em; margin: 0 0.25em; line-height: 1; border-radius: 0.35em;\">\n",
              "    Mr McCune\n",
              "    <span style=\"font-size: 0.8em; font-weight: bold; line-height: 1; border-radius: 0.35em; text-transform: uppercase; vertical-align: middle; margin-left: 0.5rem\">PERSON</span>\n",
              "</mark>\n",
              ".</br></br>&quot;The \n",
              "<mark class=\"entity\" style=\"background: #feca74; padding: 0.45em 0.6em; margin: 0 0.25em; line-height: 1; border-radius: 0.35em;\">\n",
              "    US\n",
              "    <span style=\"font-size: 0.8em; font-weight: bold; line-height: 1; border-radius: 0.35em; text-transform: uppercase; vertical-align: middle; margin-left: 0.5rem\">GPE</span>\n",
              "</mark>\n",
              " is the world's biggest music market, which means something has to be done about the creaky bureaucracy,&quot; says \n",
              "<mark class=\"entity\" style=\"background: #aa9cfc; padding: 0.45em 0.6em; margin: 0 0.25em; line-height: 1; border-radius: 0.35em;\">\n",
              "    Mr McCune\n",
              "    <span style=\"font-size: 0.8em; font-weight: bold; line-height: 1; border-radius: 0.35em; text-transform: uppercase; vertical-align: middle; margin-left: 0.5rem\">PERSON</span>\n",
              "</mark>\n",
              ". &quot;The current situation is preventing \n",
              "<mark class=\"entity\" style=\"background: #c887fb; padding: 0.45em 0.6em; margin: 0 0.25em; line-height: 1; border-radius: 0.35em;\">\n",
              "    British\n",
              "    <span style=\"font-size: 0.8em; font-weight: bold; line-height: 1; border-radius: 0.35em; text-transform: uppercase; vertical-align: middle; margin-left: 0.5rem\">NORP</span>\n",
              "</mark>\n",
              " acts from maintaining momentum and developing in the \n",
              "<mark class=\"entity\" style=\"background: #feca74; padding: 0.45em 0.6em; margin: 0 0.25em; line-height: 1; border-radius: 0.35em;\">\n",
              "    US\n",
              "    <span style=\"font-size: 0.8em; font-weight: bold; line-height: 1; border-radius: 0.35em; text-transform: uppercase; vertical-align: middle; margin-left: 0.5rem\">GPE</span>\n",
              "</mark>\n",
              ",&quot; he added.</br></br>The Musicians' Union stance is being endorsed by \n",
              "<mark class=\"entity\" style=\"background: #7aecec; padding: 0.45em 0.6em; margin: 0 0.25em; line-height: 1; border-radius: 0.35em;\">\n",
              "    the Music Managers' Forum\n",
              "    <span style=\"font-size: 0.8em; font-weight: bold; line-height: 1; border-radius: 0.35em; text-transform: uppercase; vertical-align: middle; margin-left: 0.5rem\">ORG</span>\n",
              "</mark>\n",
              " (MMF), who say \n",
              "<mark class=\"entity\" style=\"background: #c887fb; padding: 0.45em 0.6em; margin: 0 0.25em; line-height: 1; border-radius: 0.35em;\">\n",
              "    British\n",
              "    <span style=\"font-size: 0.8em; font-weight: bold; line-height: 1; border-radius: 0.35em; text-transform: uppercase; vertical-align: middle; margin-left: 0.5rem\">NORP</span>\n",
              "</mark>\n",
              " artists face &quot;an uphill struggle&quot; to succeed in the \n",
              "<mark class=\"entity\" style=\"background: #feca74; padding: 0.45em 0.6em; margin: 0 0.25em; line-height: 1; border-radius: 0.35em;\">\n",
              "    US\n",
              "    <span style=\"font-size: 0.8em; font-weight: bold; line-height: 1; border-radius: 0.35em; text-transform: uppercase; vertical-align: middle; margin-left: 0.5rem\">GPE</span>\n",
              "</mark>\n",
              ", thanks to the tough visa requirements, which are also seen as impractical. The \n",
              "<mark class=\"entity\" style=\"background: #7aecec; padding: 0.45em 0.6em; margin: 0 0.25em; line-height: 1; border-radius: 0.35em;\">\n",
              "    MMF\n",
              "    <span style=\"font-size: 0.8em; font-weight: bold; line-height: 1; border-radius: 0.35em; text-transform: uppercase; vertical-align: middle; margin-left: 0.5rem\">ORG</span>\n",
              "</mark>\n",
              "'s general secretary \n",
              "<mark class=\"entity\" style=\"background: #aa9cfc; padding: 0.45em 0.6em; margin: 0 0.25em; line-height: 1; border-radius: 0.35em;\">\n",
              "    James Seller\n",
              "    <span style=\"font-size: 0.8em; font-weight: bold; line-height: 1; border-radius: 0.35em; text-transform: uppercase; vertical-align: middle; margin-left: 0.5rem\">PERSON</span>\n",
              "</mark>\n",
              " said: &quot;Imagine if you were an orchestra from the \n",
              "<mark class=\"entity\" style=\"background: #aa9cfc; padding: 0.45em 0.6em; margin: 0 0.25em; line-height: 1; border-radius: 0.35em;\">\n",
              "    Orkneys\n",
              "    <span style=\"font-size: 0.8em; font-weight: bold; line-height: 1; border-radius: 0.35em; text-transform: uppercase; vertical-align: middle; margin-left: 0.5rem\">PERSON</span>\n",
              "</mark>\n",
              "? Every member would have to travel to \n",
              "<mark class=\"entity\" style=\"background: #feca74; padding: 0.45em 0.6em; margin: 0 0.25em; line-height: 1; border-radius: 0.35em;\">\n",
              "    London\n",
              "    <span style=\"font-size: 0.8em; font-weight: bold; line-height: 1; border-radius: 0.35em; text-transform: uppercase; vertical-align: middle; margin-left: 0.5rem\">GPE</span>\n",
              "</mark>\n",
              " to have their visas processed.&quot;</br></br>&quot;The \n",
              "<mark class=\"entity\" style=\"background: #feca74; padding: 0.45em 0.6em; margin: 0 0.25em; line-height: 1; border-radius: 0.35em;\">\n",
              "    US\n",
              "    <span style=\"font-size: 0.8em; font-weight: bold; line-height: 1; border-radius: 0.35em; text-transform: uppercase; vertical-align: middle; margin-left: 0.5rem\">GPE</span>\n",
              "</mark>\n",
              " market is seen as \n",
              "<mark class=\"entity\" style=\"background: #ddd; padding: 0.45em 0.6em; margin: 0 0.25em; line-height: 1; border-radius: 0.35em;\">\n",
              "    the holy grail\n",
              "    <span style=\"font-size: 0.8em; font-weight: bold; line-height: 1; border-radius: 0.35em; text-transform: uppercase; vertical-align: middle; margin-left: 0.5rem\">FAC</span>\n",
              "</mark>\n",
              " and \n",
              "<mark class=\"entity\" style=\"background: #e4e7d2; padding: 0.45em 0.6em; margin: 0 0.25em; line-height: 1; border-radius: 0.35em;\">\n",
              "    one\n",
              "    <span style=\"font-size: 0.8em; font-weight: bold; line-height: 1; border-radius: 0.35em; text-transform: uppercase; vertical-align: middle; margin-left: 0.5rem\">CARDINAL</span>\n",
              "</mark>\n",
              " of the benchmarks of success, and we're still going to fight to get in there. &quot;It's still very important, but there are other markets like \n",
              "<mark class=\"entity\" style=\"background: #ff9561; padding: 0.45em 0.6em; margin: 0 0.25em; line-height: 1; border-radius: 0.35em;\">\n",
              "    Europe\n",
              "    <span style=\"font-size: 0.8em; font-weight: bold; line-height: 1; border-radius: 0.35em; text-transform: uppercase; vertical-align: middle; margin-left: 0.5rem\">LOC</span>\n",
              "</mark>\n",
              ", \n",
              "<mark class=\"entity\" style=\"background: #feca74; padding: 0.45em 0.6em; margin: 0 0.25em; line-height: 1; border-radius: 0.35em;\">\n",
              "    India\n",
              "    <span style=\"font-size: 0.8em; font-weight: bold; line-height: 1; border-radius: 0.35em; text-transform: uppercase; vertical-align: middle; margin-left: 0.5rem\">GPE</span>\n",
              "</mark>\n",
              " and \n",
              "<mark class=\"entity\" style=\"background: #feca74; padding: 0.45em 0.6em; margin: 0 0.25em; line-height: 1; border-radius: 0.35em;\">\n",
              "    China\n",
              "    <span style=\"font-size: 0.8em; font-weight: bold; line-height: 1; border-radius: 0.35em; text-transform: uppercase; vertical-align: middle; margin-left: 0.5rem\">GPE</span>\n",
              "</mark>\n",
              ",&quot; added \n",
              "<mark class=\"entity\" style=\"background: #aa9cfc; padding: 0.45em 0.6em; margin: 0 0.25em; line-height: 1; border-radius: 0.35em;\">\n",
              "    Mr Seller\n",
              "    <span style=\"font-size: 0.8em; font-weight: bold; line-height: 1; border-radius: 0.35em; text-transform: uppercase; vertical-align: middle; margin-left: 0.5rem\">PERSON</span>\n",
              "</mark>\n",
              ". A \n",
              "<mark class=\"entity\" style=\"background: #7aecec; padding: 0.45em 0.6em; margin: 0 0.25em; line-height: 1; border-radius: 0.35em;\">\n",
              "    Department for Media\n",
              "    <span style=\"font-size: 0.8em; font-weight: bold; line-height: 1; border-radius: 0.35em; text-transform: uppercase; vertical-align: middle; margin-left: 0.5rem\">ORG</span>\n",
              "</mark>\n",
              ", Culture and Sport spokeswoman said: &quot;We're aware that people are experiencing problems, and are working with the \n",
              "<mark class=\"entity\" style=\"background: #feca74; padding: 0.45em 0.6em; margin: 0 0.25em; line-height: 1; border-radius: 0.35em;\">\n",
              "    US\n",
              "    <span style=\"font-size: 0.8em; font-weight: bold; line-height: 1; border-radius: 0.35em; text-transform: uppercase; vertical-align: middle; margin-left: 0.5rem\">GPE</span>\n",
              "</mark>\n",
              " embassy and record industry to see what we can do about it.&quot; A \n",
              "<mark class=\"entity\" style=\"background: #7aecec; padding: 0.45em 0.6em; margin: 0 0.25em; line-height: 1; border-radius: 0.35em;\">\n",
              "    US Embassy\n",
              "    <span style=\"font-size: 0.8em; font-weight: bold; line-height: 1; border-radius: 0.35em; text-transform: uppercase; vertical-align: middle; margin-left: 0.5rem\">ORG</span>\n",
              "</mark>\n",
              " spokesman said: &quot;We are aware that entertainers require visas for time-specific visas and are doing everything we can to process those applications speedily.&quot; &quot;We are aware of the importance of cultural exchange and we will do our best to facilitate that,&quot; he added.\n",
              "</div></span>"
            ],
            "text/plain": [
              "<IPython.core.display.HTML object>"
            ]
          },
          "metadata": {
            "tags": []
          }
        }
      ]
    },
    {
      "cell_type": "markdown",
      "metadata": {
        "id": "uTQNbvBpBYJC",
        "colab_type": "text"
      },
      "source": [
        "\n",
        "> With the above display, we can notice the varied entities across the dataset.We would like to remove most of the entites out like **PERSON, ORG, CARDINAL, GPE, LOC** and **others**. This will help us in narrowing down the topic words."
      ]
    },
    {
      "cell_type": "code",
      "metadata": {
        "id": "oy6byWgiAJA4",
        "colab_type": "code",
        "colab": {
          "base_uri": "https://localhost:8080/",
          "height": 54
        },
        "outputId": "68d86778-7858-4780-df2b-f9e02fa88dd9"
      },
      "source": [
        "## Lets try to reduce down the data set into selected POS.\n",
        "\n",
        "def parse_filter_document(doc):\n",
        "  '''\n",
        "    1. Remove Stop Words \n",
        "    2. filter selective POS. \n",
        "    3. apply lemma on the tokens\n",
        "    @returns: list of filtered string\n",
        "  '''\n",
        "  filtered_doc = []\n",
        "  for token in doc:\n",
        "    if token.is_stop == False | token.is_punct == False | token.is_space == False:\n",
        "      if token.pos_ in ['NOUN','VERB']:\n",
        "        filtered_doc.append(token.lemma_)\n",
        "\n",
        "  return ' '.join(filtered_doc)\n",
        "\n",
        "\n",
        "print(parse_filter_document(doc_one))"
      ],
      "execution_count": 45,
      "outputs": [
        {
          "output_type": "stream",
          "text": [
            "musician tackle tape musician group tackle visa regulation blame hinder act chance succeed singer hope perform expect pay Â£680 obtain visa group include call end deal face performer act face expense bureaucracy visit purpose say musician compare counterpart sponsor petition behalf form amount page musician face regulation athlete journalist mistake form risk year ban ability career say world music market mean bureaucracy say situation prevent act maintain momentum develop add stance endorse artist face struggle succeed thank visa requirement see secretary say imagine orchestra member travel visa process market see benchmark success go fight market add spokeswoman say people experience problem work embassy record industry spokesman say entertainer require visa time visa process application importance exchange facilitate add\n"
          ],
          "name": "stdout"
        }
      ]
    },
    {
      "cell_type": "markdown",
      "metadata": {
        "id": "QGF2hzxFLahj",
        "colab_type": "text"
      },
      "source": [
        "> With the above method and applying it on one single document / news article, we can see we have cleaned and reduced the news article into meaningful chunk of data. We will use this method in the subsequent parsing of the data set."
      ]
    },
    {
      "cell_type": "markdown",
      "metadata": {
        "id": "g_KCyQBwQdTN",
        "colab_type": "text"
      },
      "source": [
        "Applying the parser method that we created into all of the dataframe and create a list new column named : **parsed_content**"
      ]
    },
    {
      "cell_type": "code",
      "metadata": {
        "id": "e9TOceW_J4W8",
        "colab_type": "code",
        "colab": {
          "base_uri": "https://localhost:8080/",
          "height": 669
        },
        "outputId": "94fc63ff-ddc6-41a9-e583-00c815f49661"
      },
      "source": [
        "df = data.copy()\n",
        "\n",
        "df['parsed_content'] = data['content'].apply(lambda x: parse_filter_document(nlp(x)))\n",
        "\n",
        "df.head(10)"
      ],
      "execution_count": 49,
      "outputs": [
        {
          "output_type": "execute_result",
          "data": {
            "text/html": [
              "<div>\n",
              "<style scoped>\n",
              "    .dataframe tbody tr th:only-of-type {\n",
              "        vertical-align: middle;\n",
              "    }\n",
              "\n",
              "    .dataframe tbody tr th {\n",
              "        vertical-align: top;\n",
              "    }\n",
              "\n",
              "    .dataframe thead th {\n",
              "        text-align: right;\n",
              "    }\n",
              "</style>\n",
              "<table border=\"1\" class=\"dataframe\">\n",
              "  <thead>\n",
              "    <tr style=\"text-align: right;\">\n",
              "      <th></th>\n",
              "      <th>category</th>\n",
              "      <th>content</th>\n",
              "      <th>filename</th>\n",
              "      <th>parsed_content</th>\n",
              "    </tr>\n",
              "  </thead>\n",
              "  <tbody>\n",
              "    <tr>\n",
              "      <th>0</th>\n",
              "      <td>entertainment</td>\n",
              "      <td>Musicians to tackle US red tape\\n\\nMusicians' ...</td>\n",
              "      <td>/Users/rishushrivastava/Documents/AI/Dataset/b...</td>\n",
              "      <td>musician tackle tape musician group tackle vis...</td>\n",
              "    </tr>\n",
              "    <tr>\n",
              "      <th>1</th>\n",
              "      <td>entertainment</td>\n",
              "      <td>U2's desire to be number one\\n\\nU2, who have w...</td>\n",
              "      <td>/Users/rishushrivastava/Documents/AI/Dataset/b...</td>\n",
              "      <td>desire number win hit cling status band world ...</td>\n",
              "    </tr>\n",
              "    <tr>\n",
              "      <th>2</th>\n",
              "      <td>entertainment</td>\n",
              "      <td>Rocker Doherty in on-stage fight\\n\\nRock singe...</td>\n",
              "      <td>/Users/rishushrivastava/Documents/AI/Dataset/b...</td>\n",
              "      <td>rocker stage fight singer involve fight band g...</td>\n",
              "    </tr>\n",
              "    <tr>\n",
              "      <th>3</th>\n",
              "      <td>entertainment</td>\n",
              "      <td>Snicket tops US box office chart\\n\\nThe film a...</td>\n",
              "      <td>/Users/rishushrivastava/Documents/AI/Dataset/b...</td>\n",
              "      <td>top office chart film adaptation novel top box...</td>\n",
              "    </tr>\n",
              "    <tr>\n",
              "      <th>4</th>\n",
              "      <td>entertainment</td>\n",
              "      <td>Ocean's Twelve raids box office\\n\\nOcean's Twe...</td>\n",
              "      <td>/Users/rishushrivastava/Documents/AI/Dataset/b...</td>\n",
              "      <td>raid box office crime caper sequel star go num...</td>\n",
              "    </tr>\n",
              "    <tr>\n",
              "      <th>5</th>\n",
              "      <td>entertainment</td>\n",
              "      <td>'Landmark movies' of 2004 hailed\\n\\nUS film pr...</td>\n",
              "      <td>/Users/rishushrivastava/Documents/AI/Dataset/b...</td>\n",
              "      <td>movie hail film professional declare passion m...</td>\n",
              "    </tr>\n",
              "    <tr>\n",
              "      <th>6</th>\n",
              "      <td>entertainment</td>\n",
              "      <td>Pete Doherty misses bail deadline\\n\\nSinger Pe...</td>\n",
              "      <td>/Users/rishushrivastava/Documents/AI/Dataset/b...</td>\n",
              "      <td>miss bail deadline singer spend weekend jail c...</td>\n",
              "    </tr>\n",
              "    <tr>\n",
              "      <th>7</th>\n",
              "      <td>entertainment</td>\n",
              "      <td>Fockers retain film chart crown\\n\\nComedy Meet...</td>\n",
              "      <td>/Users/rishushrivastava/Documents/AI/Dataset/b...</td>\n",
              "      <td>focker retain film chart crown hold number spo...</td>\n",
              "    </tr>\n",
              "    <tr>\n",
              "      <th>8</th>\n",
              "      <td>entertainment</td>\n",
              "      <td>Top gig award for Scissor Sisters\\n\\nNew York ...</td>\n",
              "      <td>/Users/rishushrivastava/Documents/AI/Dataset/b...</td>\n",
              "      <td>gig award band win gig year award performance ...</td>\n",
              "    </tr>\n",
              "    <tr>\n",
              "      <th>9</th>\n",
              "      <td>entertainment</td>\n",
              "      <td>Johnny Depp: The acting outlaw\\n\\nJohnny Depp,...</td>\n",
              "      <td>/Users/rishushrivastava/Documents/AI/Dataset/b...</td>\n",
              "      <td>act outlaw role creator celebrate talent star ...</td>\n",
              "    </tr>\n",
              "    <tr>\n",
              "      <th>10</th>\n",
              "      <td>entertainment</td>\n",
              "      <td>Actress Roberts takes spider role\\n\\nActress J...</td>\n",
              "      <td>/Users/rishushrivastava/Documents/AI/Dataset/b...</td>\n",
              "      <td>take spider role play spider film version chil...</td>\n",
              "    </tr>\n",
              "    <tr>\n",
              "      <th>11</th>\n",
              "      <td>entertainment</td>\n",
              "      <td>Film production 'falls' 40% in UK\\n\\nThe numbe...</td>\n",
              "      <td>/Users/rishushrivastava/Documents/AI/Dataset/b...</td>\n",
              "      <td>film production fall number film produce fall ...</td>\n",
              "    </tr>\n",
              "    <tr>\n",
              "      <th>12</th>\n",
              "      <td>entertainment</td>\n",
              "      <td>Patti Smith to host arts festival\\n\\nRock star...</td>\n",
              "      <td>/Users/rishushrivastava/Documents/AI/Dataset/b...</td>\n",
              "      <td>host art festival star director year festival ...</td>\n",
              "    </tr>\n",
              "    <tr>\n",
              "      <th>13</th>\n",
              "      <td>entertainment</td>\n",
              "      <td>Brits return Keane to number one\\n\\nBrits succ...</td>\n",
              "      <td>/Users/rishushrivastava/Documents/AI/Dataset/b...</td>\n",
              "      <td>return number success help return award win al...</td>\n",
              "    </tr>\n",
              "    <tr>\n",
              "      <th>14</th>\n",
              "      <td>entertainment</td>\n",
              "      <td>Sundance to honour foreign films\\n\\nInternatio...</td>\n",
              "      <td>/Users/rishushrivastava/Documents/AI/Dataset/b...</td>\n",
              "      <td>honour film film give prominence film year mov...</td>\n",
              "    </tr>\n",
              "    <tr>\n",
              "      <th>15</th>\n",
              "      <td>entertainment</td>\n",
              "      <td>Rapper Snoop Dogg sued for 'rape'\\n\\nUS rapper...</td>\n",
              "      <td>/Users/rishushrivastava/Documents/AI/Dataset/b...</td>\n",
              "      <td>rapper sue rape rapper sue m m artist claim en...</td>\n",
              "    </tr>\n",
              "    <tr>\n",
              "      <th>16</th>\n",
              "      <td>entertainment</td>\n",
              "      <td>De Niro film leads US box office\\n\\nFilm star ...</td>\n",
              "      <td>/Users/rishushrivastava/Documents/AI/Dataset/b...</td>\n",
              "      <td>film lead box office film star return box offi...</td>\n",
              "    </tr>\n",
              "    <tr>\n",
              "      <th>17</th>\n",
              "      <td>entertainment</td>\n",
              "      <td>Indie film nominations announced\\n\\nMike Leigh...</td>\n",
              "      <td>/Users/rishushrivastava/Documents/AI/Dataset/b...</td>\n",
              "      <td>film nomination announce award win abortion dr...</td>\n",
              "    </tr>\n",
              "    <tr>\n",
              "      <th>18</th>\n",
              "      <td>entertainment</td>\n",
              "      <td>Director Nair's Vanity project\\n\\nIndian film ...</td>\n",
              "      <td>/Users/rishushrivastava/Documents/AI/Dataset/b...</td>\n",
              "      <td>project film director say thrill give chance b...</td>\n",
              "    </tr>\n",
              "    <tr>\n",
              "      <th>19</th>\n",
              "      <td>entertainment</td>\n",
              "      <td>The Sound of Music is coming home\\n\\nThe origi...</td>\n",
              "      <td>/Users/rishushrivastava/Documents/AI/Dataset/b...</td>\n",
              "      <td>come stage production music perform time capit...</td>\n",
              "    </tr>\n",
              "  </tbody>\n",
              "</table>\n",
              "</div>"
            ],
            "text/plain": [
              "         category  ...                                     parsed_content\n",
              "0   entertainment  ...  musician tackle tape musician group tackle vis...\n",
              "1   entertainment  ...  desire number win hit cling status band world ...\n",
              "2   entertainment  ...  rocker stage fight singer involve fight band g...\n",
              "3   entertainment  ...  top office chart film adaptation novel top box...\n",
              "4   entertainment  ...  raid box office crime caper sequel star go num...\n",
              "5   entertainment  ...  movie hail film professional declare passion m...\n",
              "6   entertainment  ...  miss bail deadline singer spend weekend jail c...\n",
              "7   entertainment  ...  focker retain film chart crown hold number spo...\n",
              "8   entertainment  ...  gig award band win gig year award performance ...\n",
              "9   entertainment  ...  act outlaw role creator celebrate talent star ...\n",
              "10  entertainment  ...  take spider role play spider film version chil...\n",
              "11  entertainment  ...  film production fall number film produce fall ...\n",
              "12  entertainment  ...  host art festival star director year festival ...\n",
              "13  entertainment  ...  return number success help return award win al...\n",
              "14  entertainment  ...  honour film film give prominence film year mov...\n",
              "15  entertainment  ...  rapper sue rape rapper sue m m artist claim en...\n",
              "16  entertainment  ...  film lead box office film star return box offi...\n",
              "17  entertainment  ...  film nomination announce award win abortion dr...\n",
              "18  entertainment  ...  project film director say thrill give chance b...\n",
              "19  entertainment  ...  come stage production music perform time capit...\n",
              "\n",
              "[20 rows x 4 columns]"
            ]
          },
          "metadata": {
            "tags": []
          },
          "execution_count": 49
        }
      ]
    },
    {
      "cell_type": "markdown",
      "metadata": {
        "id": "biZO-zYiTrUx",
        "colab_type": "text"
      },
      "source": [
        "> Applying TFIDFVectoriser on the new parsed dataframe. This will vectorize the dataframe column : parsed_content. Once the data is vectorized we will fit it into our model."
      ]
    },
    {
      "cell_type": "code",
      "metadata": {
        "id": "CECLA21pAIY2",
        "colab_type": "code",
        "colab": {}
      },
      "source": [
        "tfidf_vec = TfidfVectorizer(max_df=0.90, min_df=1, lowercase=True)"
      ],
      "execution_count": 0,
      "outputs": []
    },
    {
      "cell_type": "code",
      "metadata": {
        "id": "EmJuaUQ8AH7N",
        "colab_type": "code",
        "colab": {}
      },
      "source": [
        "df_tfidf = tfidf_vec.fit_transform(df['parsed_content'])"
      ],
      "execution_count": 0,
      "outputs": []
    },
    {
      "cell_type": "code",
      "metadata": {
        "id": "p6pzPCb3tyIt",
        "colab_type": "code",
        "colab": {
          "base_uri": "https://localhost:8080/",
          "height": 51
        },
        "outputId": "45db1e16-5400-478f-fe57-5cf9ac48e20f"
      },
      "source": [
        "df_tfidf            # a sparse matrix is generated."
      ],
      "execution_count": 53,
      "outputs": [
        {
          "output_type": "execute_result",
          "data": {
            "text/plain": [
              "<2225x9306 sparse matrix of type '<class 'numpy.float64'>'\n",
              "\twith 183307 stored elements in Compressed Sparse Row format>"
            ]
          },
          "metadata": {
            "tags": []
          },
          "execution_count": 53
        }
      ]
    },
    {
      "cell_type": "markdown",
      "metadata": {
        "id": "mVI8NzO9Vc90",
        "colab_type": "text"
      },
      "source": [
        "> At this step, we are ready to fit our data into the LDA model. We have now cleaned, parsed and vectorised our data. In the next step, we will add the vectorized data into our model."
      ]
    },
    {
      "cell_type": "markdown",
      "metadata": {
        "colab_type": "text",
        "id": "g-GkVdCHCqo-"
      },
      "source": [
        "## Step 3: Defining LDA model"
      ]
    },
    {
      "cell_type": "markdown",
      "metadata": {
        "id": "78PH57ElXtSQ",
        "colab_type": "text"
      },
      "source": [
        "> In this subsequent steps we will try to fit in the LDA model based on the transformed and vectorised dataframe we created in the previous step. Based on our initial data analysis, our target topic cluster will be similar to the one in the original data. This will ensure to generate a clearer understanding of this data."
      ]
    },
    {
      "cell_type": "code",
      "metadata": {
        "colab_type": "code",
        "id": "h33cgl50BFgX",
        "colab": {}
      },
      "source": [
        "### Define the LDA model and set the topic size to 5.\n",
        "\n",
        "topic_clusters = 5            ## assumption is based on the original dataset.\n",
        "\n",
        "lda_model = LatentDirichletAllocation(n_components=topic_clusters, batch_size=128, random_state=42)"
      ],
      "execution_count": 0,
      "outputs": []
    },
    {
      "cell_type": "code",
      "metadata": {
        "colab_type": "code",
        "id": "lr_ESU3ODNaH",
        "outputId": "bd71e2a1-83a7-4f3b-9b78-263bcecc2606",
        "colab": {
          "base_uri": "https://localhost:8080/",
          "height": 136
        }
      },
      "source": [
        "### Fit the filtered data to the model\n",
        "\n",
        "lda_model.fit(df_tfidf)"
      ],
      "execution_count": 61,
      "outputs": [
        {
          "output_type": "execute_result",
          "data": {
            "text/plain": [
              "LatentDirichletAllocation(batch_size=128, doc_topic_prior=None,\n",
              "                          evaluate_every=-1, learning_decay=0.7,\n",
              "                          learning_method='batch', learning_offset=10.0,\n",
              "                          max_doc_update_iter=100, max_iter=10,\n",
              "                          mean_change_tol=0.001, n_components=5, n_jobs=None,\n",
              "                          perp_tol=0.1, random_state=42, topic_word_prior=None,\n",
              "                          total_samples=1000000.0, verbose=0)"
            ]
          },
          "metadata": {
            "tags": []
          },
          "execution_count": 61
        }
      ]
    },
    {
      "cell_type": "markdown",
      "metadata": {
        "id": "3VcKrCkExc3M",
        "colab_type": "text"
      },
      "source": [
        "**Note:** Fitting the model to the dataset may take a long time. You will see the output as model summary, if success.\n"
      ]
    },
    {
      "cell_type": "code",
      "metadata": {
        "id": "iXgLibinYykq",
        "colab_type": "code",
        "colab": {}
      },
      "source": [
        "### Transform the dataset with the generated model\n",
        "\n",
        "result_df = lda_model.transform(df_tfidf)"
      ],
      "execution_count": 0,
      "outputs": []
    },
    {
      "cell_type": "markdown",
      "metadata": {
        "id": "q4rl2SeDZW3m",
        "colab_type": "text"
      },
      "source": [
        "> Let us now generate some model outputs based on the dataset. Our model will generate the topics and the word distribution across topics."
      ]
    },
    {
      "cell_type": "code",
      "metadata": {
        "id": "g1W1S3VMYyXu",
        "colab_type": "code",
        "colab": {
          "base_uri": "https://localhost:8080/",
          "height": 119
        },
        "outputId": "214b3b2a-a917-4e6a-a8a2-6f2e3c2b12ff"
      },
      "source": [
        "### List down the number of generated Topics\n",
        "\n",
        "# sport ; business  ; politics  ; tech   ; entertainment \n",
        "\n",
        "topic_word_dict = {}\n",
        "\n",
        "print(\"Topic ID  Word Distribution\")\n",
        "for index, topic in enumerate(lda_model.components_):\n",
        "  topic_words_max = [tfidf_vec.get_feature_names()[i] for i in topic.argsort()[-15:]]\n",
        "  topic_word_dict[index] = topic_words_max\n",
        "\n",
        "  print(f\"{index:{8}} {' ,'.join(topic_words_max)}\")"
      ],
      "execution_count": 75,
      "outputs": [
        {
          "output_type": "stream",
          "text": [
            "Topic ID  Word Distribution\n",
            "       0 month ,club ,come ,rise ,firm ,sale ,country ,tell ,time ,play ,company ,win ,government ,year ,say\n",
            "       1 movie ,music ,festival ,comedy ,include ,win ,nomination ,actress ,chart ,band ,album ,actor ,star ,award ,film\n",
            "       2 school ,manifesto ,minister ,poll ,leader ,asylum ,politic ,campaign ,vote ,tax ,voter ,immigration ,chancellor ,party ,election\n",
            "       3 cannon ,crab ,gastropod ,weaponry ,joypad ,dinar ,butane ,nicotine ,280bn ,amplify ,slop ,cannibalism ,cannibal ,mask ,panda\n",
            "       4 site ,video ,use ,player ,computer ,play ,win ,service ,music ,user ,technology ,people ,phone ,say ,game\n"
          ],
          "name": "stdout"
        }
      ]
    },
    {
      "cell_type": "markdown",
      "metadata": {
        "id": "HAK0ceKscTFn",
        "colab_type": "text"
      },
      "source": [
        "> From the **above generated topic** and looking at the distribution of words in each of the 5 topics, we can say the following: \n",
        "\n",
        "1.   Topic 0 -> relates to Sports\n",
        "2.   Topic 1 -> relates to Music or Entertainment\n",
        "3.   Topic 2 -> relates to Politics\n",
        "4.   Topic 3 -> relates to some sort of Business\n",
        "5.   Topic 4 -> relates to Technology\n"
      ]
    },
    {
      "cell_type": "markdown",
      "metadata": {
        "id": "8WqtKpEodclJ",
        "colab_type": "text"
      },
      "source": [
        "Lets try to get more details and generate the weight distribution of topics across the dataframe/documents."
      ]
    },
    {
      "cell_type": "code",
      "metadata": {
        "id": "HdGcWRgCcKy1",
        "colab_type": "code",
        "colab": {
          "base_uri": "https://localhost:8080/",
          "height": 359
        },
        "outputId": "f52486f2-0ead-40b1-ea1d-8c00ffdb52bd"
      },
      "source": [
        "topics = [ \"Topic \"+str(t) for t in range(lda_model.n_components)]\n",
        "indexes = [ i for i in range(len(df))]\n",
        "\n",
        "topic_dist_df = pd.DataFrame(data=np.round(result_df,decimals=2), columns=topics, index=indexes)\n",
        "\n",
        "dominant_topic = np.argmax(final_result_df.values, axis=1)\n",
        "topic_dist_df['dominant_topic'] = dominant_topic\n",
        "\n",
        "topic_dist_df.head(10)"
      ],
      "execution_count": 78,
      "outputs": [
        {
          "output_type": "execute_result",
          "data": {
            "text/html": [
              "<div>\n",
              "<style scoped>\n",
              "    .dataframe tbody tr th:only-of-type {\n",
              "        vertical-align: middle;\n",
              "    }\n",
              "\n",
              "    .dataframe tbody tr th {\n",
              "        vertical-align: top;\n",
              "    }\n",
              "\n",
              "    .dataframe thead th {\n",
              "        text-align: right;\n",
              "    }\n",
              "</style>\n",
              "<table border=\"1\" class=\"dataframe\">\n",
              "  <thead>\n",
              "    <tr style=\"text-align: right;\">\n",
              "      <th></th>\n",
              "      <th>Topic 0</th>\n",
              "      <th>Topic 1</th>\n",
              "      <th>Topic 2</th>\n",
              "      <th>Topic 3</th>\n",
              "      <th>Topic 4</th>\n",
              "      <th>dominant_topic</th>\n",
              "    </tr>\n",
              "  </thead>\n",
              "  <tbody>\n",
              "    <tr>\n",
              "      <th>0</th>\n",
              "      <td>0.81</td>\n",
              "      <td>0.03</td>\n",
              "      <td>0.11</td>\n",
              "      <td>0.02</td>\n",
              "      <td>0.02</td>\n",
              "      <td>0</td>\n",
              "    </tr>\n",
              "    <tr>\n",
              "      <th>1</th>\n",
              "      <td>0.55</td>\n",
              "      <td>0.40</td>\n",
              "      <td>0.02</td>\n",
              "      <td>0.02</td>\n",
              "      <td>0.02</td>\n",
              "      <td>0</td>\n",
              "    </tr>\n",
              "    <tr>\n",
              "      <th>2</th>\n",
              "      <td>0.90</td>\n",
              "      <td>0.04</td>\n",
              "      <td>0.02</td>\n",
              "      <td>0.02</td>\n",
              "      <td>0.02</td>\n",
              "      <td>0</td>\n",
              "    </tr>\n",
              "    <tr>\n",
              "      <th>3</th>\n",
              "      <td>0.03</td>\n",
              "      <td>0.88</td>\n",
              "      <td>0.03</td>\n",
              "      <td>0.03</td>\n",
              "      <td>0.03</td>\n",
              "      <td>1</td>\n",
              "    </tr>\n",
              "    <tr>\n",
              "      <th>4</th>\n",
              "      <td>0.24</td>\n",
              "      <td>0.68</td>\n",
              "      <td>0.03</td>\n",
              "      <td>0.03</td>\n",
              "      <td>0.03</td>\n",
              "      <td>1</td>\n",
              "    </tr>\n",
              "    <tr>\n",
              "      <th>5</th>\n",
              "      <td>0.75</td>\n",
              "      <td>0.19</td>\n",
              "      <td>0.02</td>\n",
              "      <td>0.02</td>\n",
              "      <td>0.02</td>\n",
              "      <td>0</td>\n",
              "    </tr>\n",
              "    <tr>\n",
              "      <th>6</th>\n",
              "      <td>0.90</td>\n",
              "      <td>0.03</td>\n",
              "      <td>0.03</td>\n",
              "      <td>0.03</td>\n",
              "      <td>0.03</td>\n",
              "      <td>0</td>\n",
              "    </tr>\n",
              "    <tr>\n",
              "      <th>7</th>\n",
              "      <td>0.46</td>\n",
              "      <td>0.46</td>\n",
              "      <td>0.03</td>\n",
              "      <td>0.03</td>\n",
              "      <td>0.03</td>\n",
              "      <td>0</td>\n",
              "    </tr>\n",
              "    <tr>\n",
              "      <th>8</th>\n",
              "      <td>0.04</td>\n",
              "      <td>0.86</td>\n",
              "      <td>0.03</td>\n",
              "      <td>0.03</td>\n",
              "      <td>0.04</td>\n",
              "      <td>1</td>\n",
              "    </tr>\n",
              "    <tr>\n",
              "      <th>9</th>\n",
              "      <td>0.27</td>\n",
              "      <td>0.66</td>\n",
              "      <td>0.02</td>\n",
              "      <td>0.02</td>\n",
              "      <td>0.02</td>\n",
              "      <td>1</td>\n",
              "    </tr>\n",
              "  </tbody>\n",
              "</table>\n",
              "</div>"
            ],
            "text/plain": [
              "   Topic 0  Topic 1  Topic 2  Topic 3  Topic 4  dominant_topic\n",
              "0     0.81     0.03     0.11     0.02     0.02               0\n",
              "1     0.55     0.40     0.02     0.02     0.02               0\n",
              "2     0.90     0.04     0.02     0.02     0.02               0\n",
              "3     0.03     0.88     0.03     0.03     0.03               1\n",
              "4     0.24     0.68     0.03     0.03     0.03               1\n",
              "5     0.75     0.19     0.02     0.02     0.02               0\n",
              "6     0.90     0.03     0.03     0.03     0.03               0\n",
              "7     0.46     0.46     0.03     0.03     0.03               0\n",
              "8     0.04     0.86     0.03     0.03     0.04               1\n",
              "9     0.27     0.66     0.02     0.02     0.02               1"
            ]
          },
          "metadata": {
            "tags": []
          },
          "execution_count": 78
        }
      ]
    },
    {
      "cell_type": "markdown",
      "metadata": {
        "colab_type": "text",
        "id": "yiyop4tqRh7n"
      },
      "source": [
        "## Step 4: Visualizing the LDA Model distribution"
      ]
    },
    {
      "cell_type": "markdown",
      "metadata": {
        "id": "vTda8LBBgGXv",
        "colab_type": "text"
      },
      "source": [
        "> In this step we use a specialised visualisation library called pyLDAvis which aims at generating an interactive visualization for LDA model. \n",
        "\n",
        "Read more on pyLDAvis in the [official document](https://pyldavis.readthedocs.io/en/latest/readme.html)."
      ]
    },
    {
      "cell_type": "code",
      "metadata": {
        "colab_type": "code",
        "id": "lvFrlzj1dEkX",
        "colab": {}
      },
      "source": [
        "viz = sklearn.prepare(lda_model=lda_model, dtm=df_tfidf, vectorizer=tfidf_vec)"
      ],
      "execution_count": 0,
      "outputs": []
    },
    {
      "cell_type": "code",
      "metadata": {
        "colab_type": "code",
        "id": "Dap5ahJYf0vk",
        "outputId": "d82835ca-0d82-411d-ffd3-2ef6d4501ab2",
        "scrolled": false,
        "colab": {
          "base_uri": "https://localhost:8080/",
          "height": 861
        }
      },
      "source": [
        "pyLDAvis.display(viz)"
      ],
      "execution_count": 81,
      "outputs": [
        {
          "output_type": "execute_result",
          "data": {
            "text/html": [
              "\n",
              "<link rel=\"stylesheet\" type=\"text/css\" href=\"https://cdn.rawgit.com/bmabey/pyLDAvis/files/ldavis.v1.0.0.css\">\n",
              "\n",
              "\n",
              "<div id=\"ldavis_el11701402925939625842992140195\"></div>\n",
              "<script type=\"text/javascript\">\n",
              "\n",
              "var ldavis_el11701402925939625842992140195_data = {\"mdsDat\": {\"x\": [-0.143061778322492, -0.05723294175956105, 0.07202367215518535, 0.06495561963238919, 0.06331542829447837], \"y\": [-0.022683571299332125, 0.042133299493815723, 0.056970603587130006, -0.05998410583522923, -0.016436225946384362], \"topics\": [1, 2, 3, 4, 5], \"cluster\": [1, 1, 1, 1, 1], \"Freq\": [62.25430713261437, 21.694828552370005, 8.674809572535835, 4.862397679013461, 2.5136570634663356]}, \"tinfo\": {\"Term\": [\"film\", \"election\", \"party\", \"award\", \"star\", \"game\", \"tax\", \"music\", \"minister\", \"win\", \"include\", \"phone\", \"band\", \"actor\", \"leader\", \"campaign\", \"technology\", \"album\", \"director\", \"government\", \"user\", \"vote\", \"chart\", \"release\", \"people\", \"number\", \"chancellor\", \"tv\", \"actress\", \"movie\", \"economy\", \"club\", \"oil\", \"bank\", \"dollar\", \"profit\", \"state\", \"bid\", \"debt\", \"drug\", \"airline\", \"investor\", \"stock\", \"government\", \"investment\", \"shareholder\", \"fund\", \"sector\", \"job\", \"economist\", \"export\", \"finance\", \"agreement\", \"athlete\", \"spending\", \"deal\", \"bankruptcy\", \"union\", \"proposal\", \"fraud\", \"rate\", \"growth\", \"case\", \"country\", \"rise\", \"executive\", \"season\", \"euro\", \"interest\", \"ban\", \"say\", \"decision\", \"price\", \"company\", \"cut\", \"tell\", \"expect\", \"year\", \"share\", \"sale\", \"plan\", \"report\", \"month\", \"fall\", \"team\", \"add\", \"firm\", \"claim\", \"market\", \"time\", \"week\", \"come\", \"win\", \"want\", \"go\", \"play\", \"think\", \"people\", \"player\", \"game\", \"seed\", \"broadband\", \"gadget\", \"device\", \"mobile\", \"console\", \"user\", \"download\", \"pc\", \"gamer\", \"handset\", \"format\", \"gaming\", \"machine\", \"browser\", \"laptop\", \"content\", \"hunt\", \"program\", \"sub\", \"mp3\", \"server\", \"robot\", \"web\", \"net\", \"yard\", \"video\", \"chip\", \"pirate\", \"technology\", \"camera\", \"phone\", \"computer\", \"site\", \"dvd\", \"ball\", \"software\", \"search\", \"music\", \"game\", \"network\", \"use\", \"service\", \"people\", \"tv\", \"minute\", \"say\", \"play\", \"player\", \"win\", \"set\", \"match\", \"time\", \"beat\", \"try\", \"year\", \"nomination\", \"actress\", \"comedy\", \"actor\", \"album\", \"festival\", \"nominate\", \"nominee\", \"drama\", \"musical\", \"hop\", \"film\", \"theatre\", \"award\", \"premiere\", \"screenplay\", \"rapper\", \"category\", \"presenter\", \"chart\", \"novel\", \"pop\", \"ceremony\", \"direct\", \"remake\", \"biopic\", \"adaptation\", \"thriller\", \"animation\", \"duet\", \"taking\", \"band\", \"hip\", \"star\", \"rap\", \"writer\", \"shortlist\", \"prize\", \"movie\", \"song\", \"singer\", \"box\", \"cinema\", \"artist\", \"music\", \"director\", \"release\", \"winner\", \"honour\", \"include\", \"role\", \"win\", \"number\", \"tv\", \"immigration\", \"asylum\", \"manifesto\", \"politic\", \"referendum\", \"constituency\", \"voter\", \"visa\", \"campaigning\", \"pupil\", \"tuition\", \"backbencher\", \"seeker\", \"poster\", \"taxation\", \"binge\", \"election\", \"drinking\", \"unity\", \"embargo\", \"rebate\", \"electorate\", \"maternity\", \"nanny\", \"slogan\", \"migrant\", \"backbench\", \"childcare\", \"chancellor\", \"domain\", \"party\", \"old\", \"trust\", \"poll\", \"seat\", \"shadow\", \"vote\", \"tax\", \"campaign\", \"constitution\", \"school\", \"council\", \"education\", \"leader\", \"taxis\", \"speech\", \"minister\", \"pledge\", \"issue\", \"debate\", \"government\", \"people\", \"panda\", \"cannibal\", \"cannibalism\", \"mask\", \"slop\", \"butane\", \"dinar\", \"joypad\", \"weaponry\", \"crab\", \"gastropod\", \"cannon\", \"blaster\", \"snowman\", \"nut\", \"spud\", \"sprite\", \"grunt\", \"coddle\", \"trimming\", \"camel\", \"ostrich\", \"twinkle\", \"280bn\", \"nicotine\", \"wade\", \"ancestor\", \"dole\", \"submarine\", \"electron\", \"amplify\", \"elephant\"], \"Freq\": [26.0, 15.0, 13.0, 15.0, 16.0, 40.0, 13.0, 17.0, 16.0, 43.0, 21.0, 16.0, 8.0, 7.0, 12.0, 11.0, 14.0, 7.0, 14.0, 31.0, 12.0, 9.0, 7.0, 13.0, 35.0, 22.0, 5.0, 14.0, 5.0, 7.0, 20.655576635264723, 21.865177069448503, 14.614763131561084, 13.4137812402205, 11.853018641679432, 15.254264973932964, 13.882271588719034, 13.313647457655929, 9.993819580623489, 11.000193916627904, 8.266615100608014, 8.063750521173198, 8.794266652830244, 29.82954809729345, 10.16248352470814, 7.3075104360944945, 8.903430685967049, 8.235737843519043, 17.07943921081485, 6.6226969772735105, 8.15051375213677, 6.600246045722547, 6.814845751820262, 6.434963658228165, 10.342839339405808, 20.371400118337476, 6.229341881664762, 6.811545800615839, 7.85073437046321, 6.679933328911703, 17.2397900235659, 18.948288484742, 13.619487842334177, 23.669256600838416, 22.178035191530515, 13.03698516785748, 16.18877488832683, 9.878503624154746, 12.88041735597953, 10.799445525076758, 90.78516107015041, 15.109184520840575, 17.99297311570551, 27.499604247693156, 15.87653778090345, 24.19006230982974, 19.71754751221883, 43.47008306746933, 20.296686947551095, 23.537331510389937, 21.03053494205803, 21.29565904969515, 21.662727814673257, 16.510489317912654, 19.20695796203838, 21.451631463434957, 22.776508105509688, 17.406387992502953, 20.47161995905762, 24.716115740271395, 20.241652172116723, 22.00746039998036, 28.43192300895139, 20.386225932838762, 21.469500220174556, 24.755634386827353, 19.91865189126845, 21.38592562669126, 19.485965225531267, 19.767664109021695, 8.124745103407953, 7.907249929785875, 6.660917551674858, 7.664684272111031, 5.651333729896066, 5.114209352204442, 11.346843100920848, 5.95640102960823, 6.982217848659351, 3.8625957647492557, 3.643841352798259, 3.477711133361668, 4.946358449640984, 5.7279428382331306, 2.6738587557014357, 2.469207254358169, 5.4091984620161195, 3.0298086272000746, 6.421202442787891, 2.307232603872226, 2.202693701481576, 2.054074606473894, 2.316148768010083, 4.938013461337331, 5.644309593382813, 2.004896645796531, 8.397294257859865, 3.653020215761277, 2.1232832513457494, 12.519249664015188, 4.4068909581862155, 13.406764320027213, 9.463612591703734, 8.155803945507223, 5.274446751640451, 5.612861487155212, 7.881747410724366, 6.399145719837074, 10.891653099525662, 20.766763757731603, 7.296967824497, 8.416172595680125, 10.125645839110314, 13.062483171304985, 7.718315362324152, 7.028805195438536, 15.533867668978004, 9.863734520817983, 9.013612298268253, 9.966780515083673, 7.74094109816403, 7.1613776123821955, 7.631828915892366, 6.506083393561322, 6.663733968983008, 6.561818464236769, 5.055609848356231, 5.1876190374008555, 4.645857764392032, 6.947285358983502, 6.631120339768051, 4.534404922992451, 3.697107362784238, 2.6879324909117437, 3.2279182991594393, 1.6998267455049638, 1.6440345624461505, 21.495489727175062, 2.2105673270946555, 12.131260121619514, 1.3469966265206827, 1.3094218207346942, 1.7269635882924632, 3.7380065907277698, 1.6269604557686232, 5.561015657254737, 1.5128355364791837, 2.367874306205817, 3.556610903347624, 2.964838369424278, 0.9358647930884872, 0.8760927485658395, 1.091454893902161, 1.1403663784341473, 0.932499691474226, 0.803182261126032, 1.3117336865554445, 5.820168568590562, 1.7561396808459349, 9.908408232003852, 1.5897710643348661, 1.9981077472039135, 1.5072351391581158, 3.904011522769858, 4.251462533828279, 3.8599951328832494, 3.648614020439521, 3.092069686077325, 2.02585569681792, 2.5931506765376184, 4.526959772472488, 4.102248410726358, 3.8947773647389385, 3.236469278979532, 2.679212531531489, 4.674946956559776, 3.4215082485283492, 4.877271592282146, 3.685907268058526, 2.895496280819669, 2.6712094650132796, 1.9642673121479697, 1.568933723334788, 2.052981914899447, 1.14463858057568, 1.205377759726227, 2.6359720586651014, 1.2469052751466234, 0.8604042750835655, 0.9223434430980899, 0.5428084768599751, 0.5933730982799692, 0.5425363323470678, 1.448226947486828, 0.5282649557001042, 0.4943514447729798, 8.49073593819426, 0.7420114489234615, 0.5629940832912107, 0.6403236598632766, 0.620646917403384, 0.49500075614877986, 0.5172881166943138, 0.5998771539522422, 0.46244258047902864, 0.4067777734410971, 0.4076477996047464, 0.42842166193262526, 2.7464806968377315, 1.0128093528810622, 6.607628247812296, 0.5277473301694763, 1.5272516889012113, 1.7442275573074428, 1.516947729146843, 1.0625675072306613, 2.352243722029571, 2.5604779123392354, 2.168943082052664, 0.8061894575767524, 1.5679288517747334, 1.2339686806523076, 1.2083738814991143, 1.8007553718839318, 1.1572898792750623, 1.08004178404228, 1.5901684341809512, 0.9001877519918601, 1.0012280822774442, 0.9086350969468361, 0.9477010340144546, 0.944296703816691, 0.1886294002374962, 0.12811735391490264, 0.128117353914901, 0.1735899496148641, 0.11996137294612412, 0.09793604930451591, 0.09793604930438693, 0.09456125050113658, 0.09456125050113656, 0.09456125050113649, 0.09456125050113649, 0.09456125050113647, 0.09456125050113645, 0.09456125050113644, 0.09456125050113644, 0.09456125050113642, 0.09456125050113638, 0.09456125050113638, 0.09456125050113638, 0.09456125050113633, 0.09456125050113633, 0.09456125050113633, 0.09456125050113627, 0.10559662486091634, 0.1055966247537244, 0.09280829833411254, 0.09410469821426123, 0.09049455647270128, 0.09274216650277389, 0.09110546849757939, 0.10634523484259702, 0.09280924344288628], \"Total\": [26.0, 15.0, 13.0, 15.0, 16.0, 40.0, 13.0, 17.0, 16.0, 43.0, 21.0, 16.0, 8.0, 7.0, 12.0, 11.0, 14.0, 7.0, 14.0, 31.0, 12.0, 9.0, 7.0, 13.0, 35.0, 22.0, 5.0, 14.0, 5.0, 7.0, 20.985806624050753, 22.324969633982857, 14.938550847225693, 13.7426450681806, 12.173087094715637, 15.687422010666388, 14.305483856443866, 13.739965425557044, 10.313931067200333, 11.395752097376272, 8.586608400395505, 8.383778989798985, 9.150567469577053, 31.072658384919396, 10.590004655155413, 7.6273223851534935, 9.301804219802982, 8.610374278289672, 17.880946589668568, 6.942646577771031, 8.545747370182044, 6.920685271754891, 7.149193012376352, 6.755126770641958, 10.860432865358504, 21.395053036758107, 6.54936788938862, 7.163102144103122, 8.263936366750695, 7.0330696893152576, 18.223862096893562, 20.065071826103104, 14.38448764426814, 25.20192102244712, 23.65058644705258, 13.796168898018584, 17.220260486140905, 10.424358817292953, 13.690129630082364, 11.44736463604866, 107.72087115777259, 16.344944671254822, 19.823961571061304, 31.322025721592983, 17.340113513307337, 27.434228951030757, 22.05074476798898, 52.76209409844293, 22.799514417102575, 27.06368906022842, 23.833353162181407, 24.43057093453427, 25.08243993733009, 18.300539271357348, 22.20080547225335, 25.702364647170313, 28.341435084579853, 19.78873304028534, 25.110362483071995, 33.02928004677542, 24.709466107959116, 28.37682736964887, 43.400014117763234, 25.45021839923505, 27.922582369036185, 36.73924413499918, 24.940425583315257, 35.67192087266339, 28.695926377132967, 40.73091864926863, 8.486369371466365, 8.270665657884374, 7.018806263584986, 8.092534349105227, 6.014022326466867, 5.472758359460612, 12.202898941097489, 6.411979701950175, 7.556494036744881, 4.220953958290544, 4.001681065581739, 3.842685740092854, 5.558613562793309, 6.4421706200258715, 3.0616727759090807, 2.8273941774704996, 6.206104511622344, 3.4842120374478607, 7.406566354712513, 2.6650483164790226, 2.5606036611791363, 2.412609986328287, 2.724738325255487, 5.810586576994375, 6.648355604689666, 2.3626681564734655, 9.896992074614948, 4.3226334804213415, 2.5134476636837206, 14.88100131734812, 5.271999189958738, 16.48415284685443, 11.72404180685846, 10.280920228463051, 6.569394543224158, 7.228001449950853, 10.98845470399426, 8.930251206911711, 17.30182911477526, 40.73091864926863, 11.208698599812383, 15.369198698439332, 20.950027980832143, 35.67192087266339, 14.643526171462181, 13.06772591975869, 107.72087115777259, 36.73924413499918, 28.695926377132967, 43.400014117763234, 23.92887160457669, 20.513690563698084, 33.02928004677542, 14.125225709646545, 17.738370243226516, 52.76209409844293, 5.45428128389261, 5.604561784176819, 5.041287378751296, 7.563576592735888, 7.337249139974664, 5.031322254102638, 4.196702666077869, 3.0797143960814193, 3.729342352508337, 2.0918913979221028, 2.036803837438093, 26.896457954664612, 2.7799637144580363, 15.290146735819228, 1.7413991417816723, 1.7009919418067834, 2.244534465740656, 4.8960691786843284, 2.2098519697915813, 7.604640464853904, 2.1079829132447565, 3.3217943495130466, 5.016874094761713, 4.18651105074023, 1.3284732839806392, 1.268116254394527, 1.5886893793040116, 1.6625122919584694, 1.3655669571864977, 1.1953136900279824, 1.9573514719838396, 8.865447651005008, 2.6382590567738506, 16.534306929489617, 2.378951873467065, 3.0569497720570338, 2.2706309440810566, 6.748419500600022, 7.884715286158409, 7.69071738897109, 7.656123348969384, 6.42215327693814, 3.310761406122722, 5.259986879594638, 17.30182911477526, 14.703269348824877, 13.272719128490216, 8.8617877312291, 5.863979034100911, 21.492862415199607, 11.119377770217122, 43.400014117763234, 22.57492280527649, 14.643526171462181, 3.2361211633315548, 2.3854806209852595, 1.9999630316240988, 2.8004772670537523, 1.5686890464266403, 1.6611349010827576, 3.635026678047079, 1.7864940089113965, 1.3146136556086319, 1.5197257414969827, 0.9630305461602392, 1.0587171090829846, 0.9853380489095704, 2.6421667946994303, 0.9696161873948896, 0.9157959271215058, 15.75100938456913, 1.383813638246316, 1.0549211652505763, 1.202077250441465, 1.1794388832773377, 0.9456677059128344, 0.9909806636188433, 1.171003920243334, 0.9370284403045612, 0.8263962278527521, 0.8317508022505146, 0.8770801049509314, 5.629349589103651, 2.0904096131409515, 13.951455515118393, 1.090762974178919, 3.461159631269089, 4.326428411230024, 3.7962985124914566, 2.490326202660529, 9.388660666091454, 13.947628875878012, 11.45918259671129, 2.0493418323872756, 7.473302149752005, 5.05868763356177, 4.865607409986151, 12.280109904889663, 5.6886664893627765, 5.01664849916042, 16.33727165000818, 4.9881805854794345, 15.652201009340157, 5.516518015893883, 31.072658384919396, 35.67192087266339, 0.6461395448105411, 0.5728417433885485, 0.5728417433885513, 0.7926093362153933, 0.6606927521725622, 0.5450677432012282, 0.5450677432015885, 0.5380517812627403, 0.5380517812627404, 0.5380517812627406, 0.5380517812627406, 0.5380517812627406, 0.5380517812627407, 0.5380517812627407, 0.5380517812627407, 0.5380517812627408, 0.5380517812627408, 0.5380517812627408, 0.5380517812627408, 0.5380517812627409, 0.5380517812627409, 0.5380517812627409, 0.538051781262741, 0.6300355125194216, 0.6300355128191986, 0.5756232945946241, 0.5958019917745119, 0.5743451407872807, 0.6008401401087909, 0.5917340278458079, 0.9625124758562245, 0.6401506706454481], \"Category\": [\"Default\", \"Default\", \"Default\", \"Default\", \"Default\", \"Default\", \"Default\", \"Default\", \"Default\", \"Default\", \"Default\", \"Default\", \"Default\", \"Default\", \"Default\", \"Default\", \"Default\", \"Default\", \"Default\", \"Default\", \"Default\", \"Default\", \"Default\", \"Default\", \"Default\", \"Default\", \"Default\", \"Default\", \"Default\", \"Default\", \"Topic1\", \"Topic1\", \"Topic1\", \"Topic1\", \"Topic1\", \"Topic1\", \"Topic1\", \"Topic1\", \"Topic1\", \"Topic1\", \"Topic1\", \"Topic1\", \"Topic1\", \"Topic1\", \"Topic1\", \"Topic1\", \"Topic1\", \"Topic1\", \"Topic1\", \"Topic1\", \"Topic1\", \"Topic1\", \"Topic1\", \"Topic1\", \"Topic1\", \"Topic1\", \"Topic1\", \"Topic1\", \"Topic1\", \"Topic1\", \"Topic1\", \"Topic1\", \"Topic1\", \"Topic1\", \"Topic1\", \"Topic1\", \"Topic1\", \"Topic1\", \"Topic1\", \"Topic1\", \"Topic1\", \"Topic1\", \"Topic1\", \"Topic1\", \"Topic1\", \"Topic1\", \"Topic1\", \"Topic1\", \"Topic1\", \"Topic1\", \"Topic1\", \"Topic1\", \"Topic1\", \"Topic1\", \"Topic1\", \"Topic1\", \"Topic1\", \"Topic1\", \"Topic1\", \"Topic1\", \"Topic1\", \"Topic1\", \"Topic1\", \"Topic1\", \"Topic1\", \"Topic1\", \"Topic1\", \"Topic1\", \"Topic1\", \"Topic1\", \"Topic2\", \"Topic2\", \"Topic2\", \"Topic2\", \"Topic2\", \"Topic2\", \"Topic2\", \"Topic2\", \"Topic2\", \"Topic2\", \"Topic2\", \"Topic2\", \"Topic2\", \"Topic2\", \"Topic2\", \"Topic2\", \"Topic2\", \"Topic2\", \"Topic2\", \"Topic2\", \"Topic2\", \"Topic2\", \"Topic2\", \"Topic2\", \"Topic2\", \"Topic2\", \"Topic2\", \"Topic2\", \"Topic2\", \"Topic2\", \"Topic2\", \"Topic2\", \"Topic2\", \"Topic2\", \"Topic2\", \"Topic2\", \"Topic2\", \"Topic2\", \"Topic2\", \"Topic2\", \"Topic2\", \"Topic2\", \"Topic2\", \"Topic2\", \"Topic2\", \"Topic2\", \"Topic2\", \"Topic2\", \"Topic2\", \"Topic2\", \"Topic2\", \"Topic2\", \"Topic2\", \"Topic2\", \"Topic2\", \"Topic2\", \"Topic3\", \"Topic3\", \"Topic3\", \"Topic3\", \"Topic3\", \"Topic3\", \"Topic3\", \"Topic3\", \"Topic3\", \"Topic3\", \"Topic3\", \"Topic3\", \"Topic3\", \"Topic3\", \"Topic3\", \"Topic3\", \"Topic3\", \"Topic3\", \"Topic3\", \"Topic3\", \"Topic3\", \"Topic3\", \"Topic3\", \"Topic3\", \"Topic3\", \"Topic3\", \"Topic3\", \"Topic3\", \"Topic3\", \"Topic3\", \"Topic3\", \"Topic3\", \"Topic3\", \"Topic3\", \"Topic3\", \"Topic3\", \"Topic3\", \"Topic3\", \"Topic3\", \"Topic3\", \"Topic3\", \"Topic3\", \"Topic3\", \"Topic3\", \"Topic3\", \"Topic3\", \"Topic3\", \"Topic3\", \"Topic3\", \"Topic3\", \"Topic3\", \"Topic3\", \"Topic3\", \"Topic3\", \"Topic4\", \"Topic4\", \"Topic4\", \"Topic4\", \"Topic4\", \"Topic4\", \"Topic4\", \"Topic4\", \"Topic4\", \"Topic4\", \"Topic4\", \"Topic4\", \"Topic4\", \"Topic4\", \"Topic4\", \"Topic4\", \"Topic4\", \"Topic4\", \"Topic4\", \"Topic4\", \"Topic4\", \"Topic4\", \"Topic4\", \"Topic4\", \"Topic4\", \"Topic4\", \"Topic4\", \"Topic4\", \"Topic4\", \"Topic4\", \"Topic4\", \"Topic4\", \"Topic4\", \"Topic4\", \"Topic4\", \"Topic4\", \"Topic4\", \"Topic4\", \"Topic4\", \"Topic4\", \"Topic4\", \"Topic4\", \"Topic4\", \"Topic4\", \"Topic4\", \"Topic4\", \"Topic4\", \"Topic4\", \"Topic4\", \"Topic4\", \"Topic4\", \"Topic4\", \"Topic5\", \"Topic5\", \"Topic5\", \"Topic5\", \"Topic5\", \"Topic5\", \"Topic5\", \"Topic5\", \"Topic5\", \"Topic5\", \"Topic5\", \"Topic5\", \"Topic5\", \"Topic5\", \"Topic5\", \"Topic5\", \"Topic5\", \"Topic5\", \"Topic5\", \"Topic5\", \"Topic5\", \"Topic5\", \"Topic5\", \"Topic5\", \"Topic5\", \"Topic5\", \"Topic5\", \"Topic5\", \"Topic5\", \"Topic5\", \"Topic5\", \"Topic5\"], \"logprob\": [30.0, 29.0, 28.0, 27.0, 26.0, 25.0, 24.0, 23.0, 22.0, 21.0, 20.0, 19.0, 18.0, 17.0, 16.0, 15.0, 14.0, 13.0, 12.0, 11.0, 10.0, 9.0, 8.0, 7.0, 6.0, 5.0, 4.0, 3.0, 2.0, 1.0, -6.1718, -6.1149, -6.5177, -6.6035, -6.7272, -6.4749, -6.5692, -6.611, -6.8978, -6.8019, -7.0875, -7.1124, -7.0257, -5.8043, -6.8811, -7.2109, -7.0133, -7.0913, -6.3619, -7.3093, -7.1017, -7.3127, -7.2807, -7.338, -6.8635, -6.1856, -7.3705, -7.2812, -7.1392, -7.3007, -6.3526, -6.2581, -6.5883, -6.0356, -6.1007, -6.632, -6.4155, -6.9094, -6.6441, -6.8203, -4.6913, -6.4845, -6.3098, -5.8856, -6.4349, -6.0138, -6.2183, -5.4277, -6.1893, -6.0412, -6.1538, -6.1413, -6.1242, -6.3958, -6.2445, -6.134, -6.074, -6.3429, -6.1807, -5.9923, -6.192, -6.1084, -5.8523, -6.1849, -6.1331, -5.9907, -6.2081, -6.137, -6.2301, -6.2157, -6.0507, -6.0778, -6.2494, -6.109, -6.4137, -6.5136, -5.7167, -6.3612, -6.2023, -6.7943, -6.8526, -6.8992, -6.547, -6.4003, -7.1621, -7.2417, -6.4575, -7.0371, -6.286, -7.3096, -7.3559, -7.4258, -7.3057, -6.5487, -6.415, -7.45, -6.0177, -6.8501, -7.3927, -5.6184, -6.6624, -5.5499, -5.8982, -6.0469, -6.4827, -6.4206, -6.0811, -6.2895, -5.7576, -5.1123, -6.1582, -6.0155, -5.8305, -5.5759, -6.102, -6.1956, -5.4026, -5.8568, -5.9469, -5.8464, -6.0991, -6.1769, -6.1133, -6.2729, -6.2489, -6.2644, -5.6085, -5.5827, -5.693, -5.2906, -5.3372, -5.7173, -5.9214, -6.2402, -6.0571, -6.6984, -6.7318, -4.1611, -6.4357, -4.7332, -6.9311, -6.9594, -6.6826, -5.9104, -6.7423, -5.5132, -6.815, -6.367, -5.9602, -6.1421, -7.2953, -7.3613, -7.1415, -7.0976, -7.2989, -7.4481, -6.9576, -5.4676, -6.6659, -4.9356, -6.7654, -6.5368, -6.8187, -5.867, -5.7817, -5.8783, -5.9346, -6.1001, -6.523, -6.2761, -5.7189, -5.8174, -5.8693, -6.0545, -6.2434, -5.6868, -5.9989, -5.6444, -5.9245, -6.1658, -5.6675, -5.975, -6.1997, -5.9308, -6.515, -6.4633, -5.6808, -6.4294, -6.8004, -6.7309, -7.2611, -7.172, -7.2616, -6.2797, -7.2882, -7.3546, -4.5111, -6.9485, -7.2246, -7.0959, -7.1271, -7.3533, -7.3092, -7.1611, -7.4213, -7.5496, -7.5474, -7.4977, -5.6398, -6.6373, -4.7619, -7.2892, -6.2266, -6.0938, -6.2334, -6.5894, -5.7947, -5.7099, -5.8758, -6.8655, -6.2003, -6.4398, -6.4608, -6.0619, -6.504, -6.5731, -6.1862, -6.7552, -6.6488, -6.7459, -6.7038, -6.7074, -7.6583, -8.0451, -8.0451, -7.7413, -8.1109, -8.3137, -8.3137, -8.3488, -8.3488, -8.3488, -8.3488, -8.3488, -8.3488, -8.3488, -8.3488, -8.3488, -8.3488, -8.3488, -8.3488, -8.3488, -8.3488, -8.3488, -8.3488, -8.2384, -8.2384, -8.3675, -8.3536, -8.3927, -8.3682, -8.386, -8.2313, -8.3675], \"loglift\": [30.0, 29.0, 28.0, 27.0, 26.0, 25.0, 24.0, 23.0, 22.0, 21.0, 20.0, 19.0, 18.0, 17.0, 16.0, 15.0, 14.0, 13.0, 12.0, 11.0, 10.0, 9.0, 8.0, 7.0, 6.0, 5.0, 4.0, 3.0, 2.0, 1.0, 0.4581, 0.4531, 0.452, 0.4497, 0.4473, 0.4459, 0.4439, 0.4424, 0.4424, 0.4386, 0.436, 0.435, 0.4342, 0.4331, 0.4327, 0.4311, 0.4302, 0.4295, 0.4281, 0.4268, 0.4266, 0.4265, 0.426, 0.4254, 0.4251, 0.4249, 0.4238, 0.4236, 0.4226, 0.4224, 0.4184, 0.4167, 0.4193, 0.4112, 0.4097, 0.4173, 0.4122, 0.4202, 0.413, 0.4157, 0.3029, 0.3953, 0.377, 0.3438, 0.3858, 0.3481, 0.3621, 0.2802, 0.3577, 0.3343, 0.3488, 0.3366, 0.3274, 0.371, 0.3291, 0.2932, 0.2553, 0.3457, 0.2697, 0.184, 0.2745, 0.2198, 0.051, 0.2521, 0.2111, 0.0792, 0.2491, -0.0377, 0.0869, -0.249, 1.4845, 1.4832, 1.4758, 1.4738, 1.4659, 1.4603, 1.4554, 1.4544, 1.4491, 1.4394, 1.4344, 1.4283, 1.4114, 1.4106, 1.3927, 1.3926, 1.3907, 1.3884, 1.3853, 1.3839, 1.3775, 1.3672, 1.3656, 1.3654, 1.3644, 1.3639, 1.3638, 1.3598, 1.3594, 1.3553, 1.3489, 1.3215, 1.3139, 1.2965, 1.3085, 1.2752, 1.1958, 1.1948, 1.0653, 0.8545, 1.0989, 0.9259, 0.801, 0.5235, 0.8877, 0.908, -0.4084, 0.2131, 0.3701, 0.0569, 0.3995, 0.4757, 0.063, 0.7529, 0.549, -0.5564, 2.3688, 2.3674, 2.3631, 2.3598, 2.3436, 2.3408, 2.318, 2.3087, 2.3004, 2.2372, 2.2305, 2.2206, 2.2156, 2.2133, 2.1879, 2.1831, 2.1826, 2.1749, 2.1385, 2.1318, 2.113, 2.1062, 2.1007, 2.0997, 2.0944, 2.0749, 2.0693, 2.0678, 2.0633, 2.0472, 2.0445, 2.0239, 2.0377, 1.9327, 2.0417, 2.0195, 2.035, 1.8974, 1.8271, 1.7554, 1.7036, 1.7138, 1.9536, 1.7375, 1.104, 1.1682, 1.2187, 1.4375, 1.6614, 0.9192, 1.2661, 0.2589, 0.6324, 0.8239, 2.8318, 2.8294, 2.7809, 2.7131, 2.7085, 2.7029, 2.7023, 2.664, 2.5997, 2.5243, 2.4503, 2.4446, 2.4269, 2.4224, 2.4163, 2.4071, 2.4057, 2.4004, 2.3957, 2.3938, 2.3816, 2.3763, 2.3735, 2.3547, 2.3174, 2.3148, 2.3105, 2.3071, 2.306, 2.299, 2.2763, 2.2976, 2.2055, 2.1152, 2.1063, 2.1719, 1.6395, 1.3285, 1.3591, 2.0907, 1.4621, 1.6128, 1.6307, 1.1039, 1.4312, 1.4879, 0.694, 1.3114, 0.2743, 1.2201, -0.4664, -0.608, 2.4522, 2.1858, 2.1858, 2.1648, 1.9773, 1.9668, 1.9668, 1.9447, 1.9447, 1.9447, 1.9447, 1.9447, 1.9447, 1.9447, 1.9447, 1.9447, 1.9447, 1.9447, 1.9447, 1.9447, 1.9447, 1.9447, 1.9447, 1.8973, 1.8973, 1.8585, 1.8379, 1.8355, 1.8149, 1.8124, 1.4806, 1.7523]}, \"token.table\": {\"Topic\": [3, 3, 3, 1, 2, 1, 1, 3, 1, 3, 1, 2, 3, 4, 1, 1, 3, 4, 1, 2, 1, 1, 3, 1, 1, 1, 2, 3, 1, 3, 1, 2, 3, 2, 2, 1, 2, 1, 2, 4, 4, 1, 2, 1, 3, 1, 3, 1, 4, 2, 3, 2, 2, 3, 1, 2, 4, 1, 1, 2, 3, 3, 1, 2, 1, 2, 2, 4, 1, 4, 1, 2, 1, 4, 1, 2, 1, 2, 1, 2, 1, 2, 4, 1, 1, 2, 2, 1, 3, 1, 2, 3, 1, 2, 4, 2, 3, 4, 1, 3, 2, 3, 1, 1, 1, 2, 4, 1, 4, 4, 1, 1, 2, 1, 2, 1, 1, 2, 3, 3, 1, 2, 3, 1, 1, 2, 2, 1, 1, 2, 1, 2, 2, 2, 1, 2, 3, 1, 4, 1, 2, 2, 3, 1, 3, 3, 2, 4, 1, 2, 3, 1, 2, 1, 1, 1, 2, 4, 1, 2, 2, 1, 2, 4, 2, 4, 1, 2, 1, 2, 4, 1, 4, 1, 2, 2, 1, 2, 2, 3, 2, 1, 2, 3, 3, 4, 1, 2, 1, 2, 3, 3, 3, 3, 1, 2, 3, 1, 4, 1, 2, 4, 2, 1, 2, 4, 1, 2, 2, 1, 2, 4, 1, 2, 3, 1, 2, 1, 4, 4, 1, 3, 4, 2, 3, 2, 4, 3, 3, 1, 2, 1, 2, 3, 1, 1, 2, 1, 4, 1, 3, 3, 1, 2, 4, 4, 1, 2, 3, 3, 1, 2, 1, 2, 2, 1, 2, 3, 1, 2, 1, 2, 3, 4, 1, 2, 3, 4, 3, 1, 2, 1, 2, 1, 4, 1, 2, 4, 2, 1, 2, 1, 2, 1, 4, 1, 2, 1, 3, 1, 3, 1, 2, 1, 2, 1, 2, 3, 1, 2, 4, 1, 1, 2, 3, 1, 1, 2, 3, 1, 4, 4, 1, 4, 1, 2, 1, 2, 1, 2, 4, 3, 1, 2, 3, 1, 2, 3, 1, 2, 4, 1, 2, 4, 1, 2, 3, 1, 4, 1, 2, 1, 2, 2, 3, 4, 1, 2, 3, 4, 3, 4, 1, 2, 1, 2, 1, 2, 3, 1, 2, 3, 1, 2, 3, 2, 3, 2, 1, 2, 3], \"Freq\": [0.9254880828103003, 0.8921304095739191, 0.629449666515735, 0.8170454465290602, 0.15562770410077337, 0.9791314890900168, 0.9316833407275816, 0.954036024463546, 1.0389475721968462, 0.7322965708399375, 0.380229085315538, 0.190114542657769, 0.570343627973307, 0.838405469491491, 0.8882142709854435, 0.19620478807911607, 0.7848191523164643, 0.9445393782916734, 0.1383508300218727, 0.8301049801312362, 0.9609198579522947, 0.33839238785194486, 0.6767847757038897, 0.94596054365836, 0.9161189448101222, 0.4247719734419832, 0.4955673023489804, 0.14159065781399438, 0.9461450300172758, 0.7885712343285581, 0.15571101418444583, 0.31142202836889166, 0.46713304255333754, 0.9672740177054129, 0.9798565096850467, 0.18968136450108725, 0.758725458004349, 0.6108638151912296, 0.17453251862606559, 0.17453251862606559, 0.7606797599687385, 0.9732706750649303, 0.0695193339332093, 0.20424548009934776, 0.816981920397391, 0.19932730642854554, 0.7973092257141822, 0.5329212464983337, 0.5329212464983337, 0.2629973118707359, 0.7889919356122076, 0.9253618235544011, 0.3020453235170195, 0.604090647034039, 0.8590747050552394, 0.05053380617971997, 0.05053380617971997, 0.9854436696080343, 0.7752804678767803, 0.17620010633563188, 0.03524002126712638, 0.9918101517232841, 0.8620132120441547, 0.12770566104357847, 0.17058963392897641, 0.7676533526803938, 0.913616072844991, 0.6019980673142091, 0.48796154169902506, 0.48796154169902506, 0.16113167255357563, 0.8056583627678782, 0.7907189156061097, 0.19767972890152744, 0.9523083569154677, 0.03967951487147782, 0.9227159895880213, 0.05766974934925133, 0.9347955326700376, 0.04673977663350188, 0.7250950669381345, 0.18127376673453363, 0.18127376673453363, 0.9695624233713686, 0.91771494499947, 0.061180996333298, 0.9885654672426002, 0.23886238155831138, 0.7165871446749342, 0.6121087621046202, 0.06801208467829113, 0.27204833871316453, 0.9857811668175138, 0.47837514414098337, 0.47837514414098337, 0.9357484394679426, 0.8044313759454707, 0.7226406593790211, 0.9652719632724032, 0.8366004742877077, 0.7611051470728194, 0.1522210294145639, 1.0082610315225613, 1.0006763321612322, 0.6165725565615535, 0.20552418552051785, 0.20552418552051785, 0.4444159627545981, 0.5079039574338264, 0.8318932910782134, 0.9592916145030441, 0.9422905805297201, 0.07248389080997847, 0.9069988433694066, 0.09069988433694066, 0.9361381343794138, 0.9289343744425687, 0.054643198496621685, 0.054643198496621685, 0.9937745482160087, 0.03717961679881984, 0.14871846719527937, 0.7807719527752167, 1.0114605310212288, 0.8115326528582864, 0.17642014192571442, 0.7807039666812589, 0.9952979721833984, 0.9675542279033933, 0.9973205894451658, 0.49102747159274107, 0.5155788451723782, 0.9476530754720601, 0.8995048753645333, 0.7520794360082987, 0.17906653238292827, 0.035813306476585656, 0.9654790275221513, 0.032182634250738376, 0.9469191122098288, 0.04983784801104362, 0.9995799101542105, 0.7580756692050042, 0.511598009227871, 0.511598009227871, 0.9819305930391484, 0.8610268168975905, 0.9270357469902424, 0.6513790359584349, 0.1395812219910932, 0.23263536998515535, 0.9495892552714849, 0.07304532732857576, 0.9442866481774219, 0.9542236275233459, 0.8305541177398945, 0.06388877828768419, 0.06388877828768419, 0.9507326647808696, 0.05592545086946292, 0.7073651123485302, 0.8143249594222464, 0.08143249594222463, 0.16286499188444925, 0.9313631000937235, 1.000018484529622, 0.7964839222644788, 0.15929678445289577, 0.6337231206463337, 0.34123552650187206, 1.0091014251965524, 0.8569362314541051, 0.12241946163630074, 0.4591464526301296, 0.5356708614018179, 0.9976683946773599, 0.877107652005477, 0.11960558890983777, 0.38048298399138014, 0.5073106453218401, 0.7810658206584837, 0.11559471468204816, 0.6357709307512649, 0.2889867867051204, 0.9560725771837967, 0.8539681060949826, 0.15041313363181305, 0.9024788017908784, 0.3568656935843519, 0.6245149637726158, 0.953129234608917, 0.9167110641627199, 0.9741163024133515, 0.9487742938681881, 0.5758602194184017, 0.26578163973157004, 0.17718775982104668, 1.0041134614329554, 0.916789461755207, 0.5017397641711648, 0.07167710916730927, 0.5017397641711648, 0.9263555249248099, 0.5886983231142177, 0.36443229526118237, 0.028033253481629414, 0.1819929739715118, 0.7886362205432178, 0.795719771251887, 0.881118148046522, 0.08391601409966876, 0.04195800704983438, 0.6804712668594088, 0.27218850674376355, 0.054437701348752705, 0.6621148852382268, 0.31363336669179165, 0.8018955872696304, 0.2004738968174076, 0.7141639832356518, 0.4622750707739991, 0.23113753538699955, 0.4622750707739991, 0.30104211603183484, 0.6020842320636697, 0.3784772414845819, 0.3784772414845819, 0.5742508859725709, 0.9050379968159709, 0.9079920749178664, 0.10088800832420738, 0.2963656897473807, 0.14818284487369035, 0.5927313794947614, 0.9561800523885322, 0.13501532992595663, 0.8100919795557399, 0.9680616651632723, 0.6580134643340089, 0.4203531862721578, 0.8407063725443156, 0.8910533700983005, 0.932842879825008, 0.05487311057794165, 0.8478608041319393, 0.637474968208599, 0.30137004793643996, 0.37671255992054997, 0.30137004793643996, 0.7527437789366742, 0.8595787653212424, 0.12279696647446321, 0.9302094918133296, 0.04228224962787862, 0.7340154397440968, 0.5395985390541185, 0.08993308984235307, 0.26979926952705924, 0.8867970640140601, 0.11084963300175751, 0.8447759382368669, 0.148532033096592, 0.009283252068537, 0.009283252068537, 0.5352386294367526, 0.13380965735918815, 0.13380965735918815, 0.2676193147183763, 0.5878922618162471, 0.22395786564795264, 0.671873596943858, 0.929138093635518, 0.05807113085221988, 0.5268289607414008, 0.5268289607414008, 0.9291117600045936, 0.9426881684997498, 1.014880122721999, 0.8289777507900349, 0.47732633145642206, 0.47732633145642206, 0.6686483284460353, 0.33432416422301764, 0.4015538201106564, 0.4015538201106564, 0.8772116648676264, 0.08772116648676263, 0.917753262091744, 0.8808124478411954, 0.3918432166331071, 0.5224576221774762, 0.19453511510214203, 0.7781404604085681, 0.2730138204882905, 0.7280368546354413, 0.26005376336778535, 0.26005376336778535, 0.5201075267355707, 0.5980088101652082, 0.1993362700550694, 0.1993362700550694, 0.9207736122467987, 0.3628818568317946, 0.06048030947196576, 0.6048030947196577, 0.9786456816484217, 0.9835455593243101, 0.7504554373867175, 0.5108944480913626, 0.7886645176675268, 0.21509032300023456, 1.031335917242413, 0.7031524888090364, 0.1757881222022591, 0.8558248043633494, 0.13513023226789728, 0.13439955802358677, 0.8735971271533141, 0.874819556359293, 0.10935244454491162, 0.03645081484830388, 0.7194338507363961, 0.801910935047543, 0.20047773376188574, 0.6014993121175556, 0.7569041760703076, 0.24220933634249844, 0.030276167042812305, 0.28892050830759697, 0.28892050830759697, 0.5778410166151939, 0.6201246139960578, 0.39462475436112765, 1.038388661696313, 0.273158251172818, 0.546316502345636, 0.20486868837961347, 0.9772302361711549, 0.9479381331423653, 0.455456405850932, 0.5205216066867794, 0.08194774084641097, 0.9014251493105208, 0.808326402576335, 0.10104080032204188, 0.559755585527741, 0.5325573239704194, 0.10651146479408388, 0.21302292958816776, 0.21302292958816776, 0.27510114465989305, 0.8253034339796792, 0.7858478731404966, 0.19646196828512416, 0.17209966442273839, 0.8604983221136919, 0.8094063996614577, 0.12141095994921866, 0.040470319983072885, 0.6451610804554981, 0.23041467159124931, 0.11520733579562466, 0.33853214396322606, 0.22568809597548403, 0.33853214396322606, 0.32712346442221585, 0.6542469288444317, 0.8465005948974288, 0.8149790248994112, 0.13267100405339252, 0.05685900173716823], \"Term\": [\"actor\", \"actress\", \"adaptation\", \"add\", \"add\", \"agreement\", \"airline\", \"album\", \"amplify\", \"animation\", \"artist\", \"artist\", \"artist\", \"asylum\", \"athlete\", \"award\", \"award\", \"backbencher\", \"ball\", \"ball\", \"ban\", \"band\", \"band\", \"bank\", \"bankruptcy\", \"beat\", \"beat\", \"beat\", \"bid\", \"biopic\", \"box\", \"box\", \"box\", \"broadband\", \"browser\", \"camera\", \"camera\", \"campaign\", \"campaign\", \"campaign\", \"campaigning\", \"case\", \"case\", \"category\", \"category\", \"ceremony\", \"ceremony\", \"chancellor\", \"chancellor\", \"chart\", \"chart\", \"chip\", \"cinema\", \"cinema\", \"claim\", \"claim\", \"claim\", \"club\", \"come\", \"come\", \"come\", \"comedy\", \"company\", \"company\", \"computer\", \"computer\", \"console\", \"constituency\", \"constitution\", \"constitution\", \"content\", \"content\", \"council\", \"council\", \"country\", \"country\", \"cut\", \"cut\", \"deal\", \"deal\", \"debate\", \"debate\", \"debate\", \"debt\", \"decision\", \"decision\", \"device\", \"direct\", \"direct\", \"director\", \"director\", \"director\", \"dollar\", \"domain\", \"domain\", \"download\", \"drama\", \"drinking\", \"drug\", \"duet\", \"dvd\", \"dvd\", \"economist\", \"economy\", \"education\", \"education\", \"education\", \"election\", \"election\", \"embargo\", \"euro\", \"executive\", \"executive\", \"expect\", \"expect\", \"export\", \"fall\", \"fall\", \"fall\", \"festival\", \"film\", \"film\", \"film\", \"finance\", \"firm\", \"firm\", \"format\", \"fraud\", \"fund\", \"gadget\", \"game\", \"game\", \"gamer\", \"gaming\", \"go\", \"go\", \"go\", \"government\", \"government\", \"growth\", \"growth\", \"handset\", \"hip\", \"honour\", \"honour\", \"hop\", \"hunt\", \"immigration\", \"include\", \"include\", \"include\", \"interest\", \"interest\", \"investment\", \"investor\", \"issue\", \"issue\", \"issue\", \"job\", \"job\", \"laptop\", \"leader\", \"leader\", \"leader\", \"machine\", \"manifesto\", \"market\", \"market\", \"match\", \"match\", \"maternity\", \"minister\", \"minister\", \"minute\", \"minute\", \"mobile\", \"month\", \"month\", \"movie\", \"movie\", \"mp3\", \"music\", \"music\", \"music\", \"musical\", \"nanny\", \"net\", \"net\", \"network\", \"network\", \"nominate\", \"nomination\", \"nominee\", \"novel\", \"number\", \"number\", \"number\", \"oil\", \"old\", \"party\", \"party\", \"party\", \"pc\", \"people\", \"people\", \"people\", \"phone\", \"phone\", \"pirate\", \"plan\", \"plan\", \"plan\", \"play\", \"play\", \"play\", \"player\", \"player\", \"pledge\", \"pledge\", \"politic\", \"poll\", \"poll\", \"poll\", \"pop\", \"pop\", \"poster\", \"poster\", \"premiere\", \"presenter\", \"price\", \"price\", \"prize\", \"prize\", \"prize\", \"profit\", \"program\", \"program\", \"proposal\", \"pupil\", \"rap\", \"rap\", \"rapper\", \"rate\", \"rate\", \"rebate\", \"referendum\", \"release\", \"release\", \"release\", \"remake\", \"report\", \"report\", \"rise\", \"rise\", \"robot\", \"role\", \"role\", \"role\", \"sale\", \"sale\", \"say\", \"say\", \"say\", \"say\", \"school\", \"school\", \"school\", \"school\", \"screenplay\", \"search\", \"search\", \"season\", \"season\", \"seat\", \"seat\", \"sector\", \"seed\", \"seeker\", \"server\", \"service\", \"service\", \"set\", \"set\", \"shadow\", \"shadow\", \"share\", \"share\", \"shareholder\", \"shortlist\", \"singer\", \"singer\", \"site\", \"site\", \"software\", \"software\", \"song\", \"song\", \"song\", \"speech\", \"speech\", \"speech\", \"spending\", \"star\", \"star\", \"star\", \"state\", \"stock\", \"sub\", \"taking\", \"tax\", \"tax\", \"taxation\", \"taxis\", \"taxis\", \"team\", \"team\", \"technology\", \"technology\", \"tell\", \"tell\", \"tell\", \"theatre\", \"think\", \"think\", \"thriller\", \"time\", \"time\", \"time\", \"trust\", \"trust\", \"trust\", \"try\", \"try\", \"tuition\", \"tv\", \"tv\", \"tv\", \"union\", \"unity\", \"use\", \"use\", \"user\", \"user\", \"video\", \"video\", \"visa\", \"vote\", \"vote\", \"vote\", \"vote\", \"voter\", \"voter\", \"want\", \"want\", \"web\", \"web\", \"week\", \"week\", \"week\", \"win\", \"win\", \"win\", \"winner\", \"winner\", \"winner\", \"writer\", \"writer\", \"yard\", \"year\", \"year\", \"year\"]}, \"R\": 30, \"lambda.step\": 0.01, \"plot.opts\": {\"xlab\": \"PC1\", \"ylab\": \"PC2\"}, \"topic.order\": [1, 5, 2, 3, 4]};\n",
              "\n",
              "function LDAvis_load_lib(url, callback){\n",
              "  var s = document.createElement('script');\n",
              "  s.src = url;\n",
              "  s.async = true;\n",
              "  s.onreadystatechange = s.onload = callback;\n",
              "  s.onerror = function(){console.warn(\"failed to load library \" + url);};\n",
              "  document.getElementsByTagName(\"head\")[0].appendChild(s);\n",
              "}\n",
              "\n",
              "if(typeof(LDAvis) !== \"undefined\"){\n",
              "   // already loaded: just create the visualization\n",
              "   !function(LDAvis){\n",
              "       new LDAvis(\"#\" + \"ldavis_el11701402925939625842992140195\", ldavis_el11701402925939625842992140195_data);\n",
              "   }(LDAvis);\n",
              "}else if(typeof define === \"function\" && define.amd){\n",
              "   // require.js is available: use it to load d3/LDAvis\n",
              "   require.config({paths: {d3: \"https://cdnjs.cloudflare.com/ajax/libs/d3/3.5.5/d3.min\"}});\n",
              "   require([\"d3\"], function(d3){\n",
              "      window.d3 = d3;\n",
              "      LDAvis_load_lib(\"https://cdn.rawgit.com/bmabey/pyLDAvis/files/ldavis.v1.0.0.js\", function(){\n",
              "        new LDAvis(\"#\" + \"ldavis_el11701402925939625842992140195\", ldavis_el11701402925939625842992140195_data);\n",
              "      });\n",
              "    });\n",
              "}else{\n",
              "    // require.js not available: dynamically load d3 & LDAvis\n",
              "    LDAvis_load_lib(\"https://cdnjs.cloudflare.com/ajax/libs/d3/3.5.5/d3.min.js\", function(){\n",
              "         LDAvis_load_lib(\"https://cdn.rawgit.com/bmabey/pyLDAvis/files/ldavis.v1.0.0.js\", function(){\n",
              "                 new LDAvis(\"#\" + \"ldavis_el11701402925939625842992140195\", ldavis_el11701402925939625842992140195_data);\n",
              "            })\n",
              "         });\n",
              "}\n",
              "</script>"
            ],
            "text/plain": [
              "<IPython.core.display.HTML object>"
            ]
          },
          "metadata": {
            "tags": []
          },
          "execution_count": 81
        }
      ]
    },
    {
      "cell_type": "code",
      "metadata": {
        "colab_type": "code",
        "id": "2CApPzxUgP2X",
        "colab": {}
      },
      "source": [
        ""
      ],
      "execution_count": 0,
      "outputs": []
    }
  ]
}