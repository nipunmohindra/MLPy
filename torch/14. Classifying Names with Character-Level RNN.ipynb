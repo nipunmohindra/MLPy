{
 "cells": [
  {
   "cell_type": "markdown",
   "metadata": {},
   "source": [
    "# Classifying Names with character level RNN"
   ]
  },
  {
   "cell_type": "code",
   "execution_count": 1,
   "metadata": {},
   "outputs": [],
   "source": [
    "import numpy as np\n",
    "import pandas as pd\n",
    "\n",
    "import torch\n",
    "import torch.nn as nn\n",
    "\n",
    "import matplotlib.pyplot as plt\n",
    "\n",
    "import os\n",
    "import glob"
   ]
  },
  {
   "cell_type": "markdown",
   "metadata": {},
   "source": [
    "## Building the input data"
   ]
  },
  {
   "cell_type": "code",
   "execution_count": 2,
   "metadata": {},
   "outputs": [],
   "source": [
    "ROOT_DIR = '../../Data/names_data/names/*.txt'"
   ]
  },
  {
   "cell_type": "code",
   "execution_count": 3,
   "metadata": {},
   "outputs": [],
   "source": [
    "def find_files(path): return glob.glob(path)"
   ]
  },
  {
   "cell_type": "code",
   "execution_count": 4,
   "metadata": {},
   "outputs": [
    {
     "name": "stdout",
     "output_type": "stream",
     "text": [
      "All ASCII letters : abcdefghijklmnopqrstuvwxyzABCDEFGHIJKLMNOPQRSTUVWXYZ .,;'\n",
      "Total number of letters : 57\n"
     ]
    }
   ],
   "source": [
    "import unicodedata\n",
    "import string\n",
    "\n",
    "all_ascii_letters = string.ascii_letters+\" .,;'\"\n",
    "n_letters = len(all_ascii_letters)\n",
    "\n",
    "print(f'All ASCII letters : {all_ascii_letters}')\n",
    "print(f'Total number of letters : {n_letters}')"
   ]
  },
  {
   "cell_type": "code",
   "execution_count": 5,
   "metadata": {},
   "outputs": [
    {
     "data": {
      "text/plain": [
       "'Slusarski'"
      ]
     },
     "execution_count": 5,
     "metadata": {},
     "output_type": "execute_result"
    }
   ],
   "source": [
    "def convert_unicode2ascii(s):\n",
    "    '''\n",
    "        Converts a unicode character to ASCII format\n",
    "    '''\n",
    "    all_character = []\n",
    "    for c in unicodedata.normalize('NFD',s):\n",
    "        if unicodedata.category(c) != 'Mn' and c in all_ascii_letters:\n",
    "            all_character.append(c)\n",
    "            \n",
    "    return ''.join(all_character)\n",
    "        \n",
    "convert_unicode2ascii('Ślusàrski')"
   ]
  },
  {
   "cell_type": "code",
   "execution_count": 6,
   "metadata": {},
   "outputs": [
    {
     "name": "stdout",
     "output_type": "stream",
     "text": [
      "Reading Files : ../../Data/names_data/names/Czech.txt\n",
      "Reading Files : ../../Data/names_data/names/German.txt\n",
      "Reading Files : ../../Data/names_data/names/Arabic.txt\n",
      "Reading Files : ../../Data/names_data/names/Japanese.txt\n",
      "Reading Files : ../../Data/names_data/names/Chinese.txt\n",
      "Reading Files : ../../Data/names_data/names/Vietnamese.txt\n",
      "Reading Files : ../../Data/names_data/names/Russian.txt\n",
      "Reading Files : ../../Data/names_data/names/French.txt\n",
      "Reading Files : ../../Data/names_data/names/Irish.txt\n",
      "Reading Files : ../../Data/names_data/names/English.txt\n",
      "Reading Files : ../../Data/names_data/names/Spanish.txt\n",
      "Reading Files : ../../Data/names_data/names/Greek.txt\n",
      "Reading Files : ../../Data/names_data/names/Italian.txt\n",
      "Reading Files : ../../Data/names_data/names/Portuguese.txt\n",
      "Reading Files : ../../Data/names_data/names/Scottish.txt\n",
      "Reading Files : ../../Data/names_data/names/Dutch.txt\n",
      "Reading Files : ../../Data/names_data/names/Korean.txt\n",
      "Reading Files : ../../Data/names_data/names/Polish.txt\n"
     ]
    }
   ],
   "source": [
    "## Building the dictionary with categories and names as list\n",
    "\n",
    "category_lines = {}\n",
    "category_labels = []\n",
    "\n",
    "\n",
    "for files in find_files(ROOT_DIR):\n",
    "    print(f'Reading Files : {files}')\n",
    "    \n",
    "    category = os.path.basename(files).split('.')[0]\n",
    "    \n",
    "    with open(files, mode='r', encoding='UTF-8') as f:\n",
    "        content = f.read().strip().split('\\n')\n",
    "        ascii_content = [ convert_unicode2ascii(lines) for lines in content ]\n",
    "        \n",
    "    category_labels.append(category)\n",
    "    category_lines[category] = ascii_content"
   ]
  },
  {
   "cell_type": "code",
   "execution_count": 7,
   "metadata": {},
   "outputs": [
    {
     "name": "stdout",
     "output_type": "stream",
     "text": [
      "['Khoury', 'Nahas', 'Daher', 'Gerges', 'Nazari']\n",
      "['Tunison', 'Tunneson', 'Vandale', 'Vandroogenbroeck', 'Vann']\n"
     ]
    }
   ],
   "source": [
    "## sample content\n",
    "\n",
    "print(category_lines['Arabic'][:5])\n",
    "print(category_lines['Dutch'][-5:])"
   ]
  },
  {
   "cell_type": "code",
   "execution_count": 8,
   "metadata": {},
   "outputs": [
    {
     "data": {
      "text/plain": [
       "18"
      ]
     },
     "execution_count": 8,
     "metadata": {},
     "output_type": "execute_result"
    }
   ],
   "source": [
    "n_categories = len(category_labels)\n",
    "\n",
    "n_categories"
   ]
  },
  {
   "cell_type": "markdown",
   "metadata": {},
   "source": [
    "## Converting to Tensor"
   ]
  },
  {
   "cell_type": "code",
   "execution_count": 9,
   "metadata": {},
   "outputs": [],
   "source": [
    "def letter_to_index(letter):\n",
    "    '''\n",
    "        Finds the index of the letter from the ascii vocab\n",
    "    '''\n",
    "    return all_ascii_letters.find(letter)"
   ]
  },
  {
   "cell_type": "code",
   "execution_count": 10,
   "metadata": {},
   "outputs": [
    {
     "data": {
      "text/plain": [
       "26"
      ]
     },
     "execution_count": 10,
     "metadata": {},
     "output_type": "execute_result"
    }
   ],
   "source": [
    "letter_to_index('A')"
   ]
  },
  {
   "cell_type": "code",
   "execution_count": 11,
   "metadata": {},
   "outputs": [
    {
     "data": {
      "text/plain": [
       "tensor([[0., 0., 0., 0., 0., 0., 0., 0., 0., 0., 0., 0., 0., 0., 0., 0., 0., 0.,\n",
       "         0., 0., 0., 0., 0., 0., 0., 0., 1., 0., 0., 0., 0., 0., 0., 0., 0., 0.,\n",
       "         0., 0., 0., 0., 0., 0., 0., 0., 0., 0., 0., 0., 0., 0., 0., 0., 0., 0.,\n",
       "         0., 0., 0.]])"
      ]
     },
     "execution_count": 11,
     "metadata": {},
     "output_type": "execute_result"
    }
   ],
   "source": [
    "def letter_to_tensor(letter):\n",
    "    tensor = torch.zeros(1, n_letters) ## a 1xn_letters tensor of zeros\n",
    "    tensor[0][letter_to_index(letter)] = 1\n",
    "    return tensor\n",
    "\n",
    "letter_to_tensor('A')"
   ]
  },
  {
   "cell_type": "code",
   "execution_count": 12,
   "metadata": {},
   "outputs": [],
   "source": [
    "def line_to_tensor(line):\n",
    "    '''\n",
    "        Converts a line into <line_length x 1 x n_letters> tensor\n",
    "    '''\n",
    "    \n",
    "    tensor = torch.zeros(len(line), 1, n_letters)\n",
    "    for li, letters in enumerate(line):\n",
    "        tensor[li][0][letter_to_index(letters)] = 1\n",
    "        \n",
    "    return tensor"
   ]
  },
  {
   "cell_type": "code",
   "execution_count": 13,
   "metadata": {},
   "outputs": [
    {
     "data": {
      "text/plain": [
       "tensor([[[0., 0., 0., 0., 0., 0., 0., 0., 0., 0., 0., 0., 0., 0., 0., 0., 0.,\n",
       "          0., 0., 0., 0., 0., 0., 0., 0., 0., 0., 0., 0., 0., 0., 0., 0., 0.,\n",
       "          0., 0., 0., 0., 0., 0., 0., 0., 0., 1., 0., 0., 0., 0., 0., 0., 0.,\n",
       "          0., 0., 0., 0., 0., 0.]],\n",
       "\n",
       "        [[0., 0., 0., 0., 0., 0., 0., 0., 1., 0., 0., 0., 0., 0., 0., 0., 0.,\n",
       "          0., 0., 0., 0., 0., 0., 0., 0., 0., 0., 0., 0., 0., 0., 0., 0., 0.,\n",
       "          0., 0., 0., 0., 0., 0., 0., 0., 0., 0., 0., 0., 0., 0., 0., 0., 0.,\n",
       "          0., 0., 0., 0., 0., 0.]],\n",
       "\n",
       "        [[0., 0., 0., 0., 0., 0., 0., 0., 0., 0., 0., 0., 0., 0., 0., 0., 0.,\n",
       "          0., 1., 0., 0., 0., 0., 0., 0., 0., 0., 0., 0., 0., 0., 0., 0., 0.,\n",
       "          0., 0., 0., 0., 0., 0., 0., 0., 0., 0., 0., 0., 0., 0., 0., 0., 0.,\n",
       "          0., 0., 0., 0., 0., 0.]],\n",
       "\n",
       "        [[0., 0., 0., 0., 0., 0., 0., 1., 0., 0., 0., 0., 0., 0., 0., 0., 0.,\n",
       "          0., 0., 0., 0., 0., 0., 0., 0., 0., 0., 0., 0., 0., 0., 0., 0., 0.,\n",
       "          0., 0., 0., 0., 0., 0., 0., 0., 0., 0., 0., 0., 0., 0., 0., 0., 0.,\n",
       "          0., 0., 0., 0., 0., 0.]],\n",
       "\n",
       "        [[0., 0., 0., 0., 0., 0., 0., 0., 0., 0., 0., 0., 0., 0., 0., 0., 0.,\n",
       "          0., 0., 0., 1., 0., 0., 0., 0., 0., 0., 0., 0., 0., 0., 0., 0., 0.,\n",
       "          0., 0., 0., 0., 0., 0., 0., 0., 0., 0., 0., 0., 0., 0., 0., 0., 0.,\n",
       "          0., 0., 0., 0., 0., 0.]]])"
      ]
     },
     "execution_count": 13,
     "metadata": {},
     "output_type": "execute_result"
    }
   ],
   "source": [
    "line_to_tensor('Rishu')"
   ]
  },
  {
   "cell_type": "code",
   "execution_count": 66,
   "metadata": {},
   "outputs": [
    {
     "data": {
      "text/plain": [
       "torch.Size([4, 1, 57])"
      ]
     },
     "execution_count": 66,
     "metadata": {},
     "output_type": "execute_result"
    }
   ],
   "source": [
    "line_to_tensor('Rama').size()"
   ]
  },
  {
   "cell_type": "markdown",
   "metadata": {},
   "source": [
    "## Model definition"
   ]
  },
  {
   "cell_type": "markdown",
   "metadata": {},
   "source": [
    "![character_level]('/Users/rishushrivastava/Document/GitHub/MLPy/screenshots/charater_level_rnn.png')"
   ]
  },
  {
   "cell_type": "code",
   "execution_count": 23,
   "metadata": {},
   "outputs": [],
   "source": [
    "class RNNModel(nn.Module):\n",
    "    \n",
    "    def __init__(self, input_size=57, hidden_size=128, output_size=18):\n",
    "        super().__init__()\n",
    "        \n",
    "        self.hidden_size = hidden_size\n",
    "        self.i2h = nn.Linear(input_size + hidden_size, hidden_size)\n",
    "        self.i2o = nn.Linear(input_size + hidden_size, output_size)\n",
    "        self.softmax = nn.LogSoftmax(dim=1)\n",
    "\n",
    "    def forward(self, input, hidden):\n",
    "        combined = torch.cat((input, hidden), 1)\n",
    "        hidden = self.i2h(combined)\n",
    "        output = self.i2o(combined)\n",
    "        output = self.softmax(output)\n",
    "        \n",
    "        return output, hidden\n",
    "    \n",
    "    def initHidden(self):\n",
    "        return torch.zeros(1, self.hidden_size)\n",
    "    "
   ]
  },
  {
   "cell_type": "code",
   "execution_count": 27,
   "metadata": {},
   "outputs": [
    {
     "data": {
      "text/plain": [
       "RNNModel(\n",
       "  (i2h): Linear(in_features=185, out_features=128, bias=True)\n",
       "  (i2o): Linear(in_features=185, out_features=18, bias=True)\n",
       "  (softmax): LogSoftmax(dim=1)\n",
       ")"
      ]
     },
     "execution_count": 27,
     "metadata": {},
     "output_type": "execute_result"
    }
   ],
   "source": [
    "n_hidden = 128\n",
    "\n",
    "rnn = RNNModel(n_letters, n_hidden, n_categories)\n",
    "\n",
    "rnn"
   ]
  },
  {
   "cell_type": "code",
   "execution_count": 48,
   "metadata": {},
   "outputs": [
    {
     "name": "stdout",
     "output_type": "stream",
     "text": [
      "tensor([[-2.8677, -3.0123, -2.8567, -2.9087, -2.8534, -2.8953, -2.9523, -2.8881,\n",
      "         -2.9486, -2.9227, -2.8419, -2.9481, -2.9013, -2.9570, -2.8020, -2.8439,\n",
      "         -2.8233, -2.8305]], grad_fn=<LogSoftmaxBackward>)\n"
     ]
    }
   ],
   "source": [
    "## running the model once\n",
    "\n",
    "input = line_to_tensor('Rishu')\n",
    "hidden = torch.zeros(1, n_hidden)\n",
    "\n",
    "output, next_hidden = rnn(input[0], hidden)\n",
    "print(output)"
   ]
  },
  {
   "cell_type": "code",
   "execution_count": 49,
   "metadata": {},
   "outputs": [],
   "source": [
    "def get_category_from_output(output):\n",
    "    '''\n",
    "        Returns the category from the output that the model generates\n",
    "    '''\n",
    "    value, indices = output.topk(1)\n",
    "    category_index = indices[0]\n",
    "    \n",
    "    return category_labels[category_index], category_index"
   ]
  },
  {
   "cell_type": "code",
   "execution_count": 50,
   "metadata": {},
   "outputs": [
    {
     "data": {
      "text/plain": [
       "('Scottish', tensor([14]))"
      ]
     },
     "execution_count": 50,
     "metadata": {},
     "output_type": "execute_result"
    }
   ],
   "source": [
    "get_category_from_output(output)"
   ]
  },
  {
   "cell_type": "markdown",
   "metadata": {},
   "source": [
    "## Training"
   ]
  },
  {
   "cell_type": "code",
   "execution_count": 51,
   "metadata": {},
   "outputs": [],
   "source": [
    "import random"
   ]
  },
  {
   "cell_type": "code",
   "execution_count": 60,
   "metadata": {},
   "outputs": [],
   "source": [
    "def random_choice(r):\n",
    "    return r[random.randint(0, len(r)-1)]"
   ]
  },
  {
   "cell_type": "code",
   "execution_count": 61,
   "metadata": {},
   "outputs": [],
   "source": [
    "def random_training_sample():\n",
    "    category = random_choice(category_labels)\n",
    "    line = random_choice(category_lines[category])\n",
    "    category_tensor = torch.tensor([category_labels.index(category)], dtype=torch.long)\n",
    "    line_tensor = line_to_tensor(line)\n",
    "    return category, line, category_tensor, line_tensor"
   ]
  },
  {
   "cell_type": "code",
   "execution_count": 62,
   "metadata": {},
   "outputs": [
    {
     "name": "stdout",
     "output_type": "stream",
     "text": [
      "category = Polish / line = Mencher\n",
      "category = Irish / line = Connolly\n",
      "category = Greek / line = Gavrilopoulos\n",
      "category = French / line = Colbert\n",
      "category = English / line = Yang\n",
      "category = Japanese / line = Tsujimura\n",
      "category = Italian / line = Lagomarsino\n",
      "category = Dutch / line = Andel\n",
      "category = Arabic / line = Awad\n",
      "category = Dutch / line = Sneijder\n"
     ]
    }
   ],
   "source": [
    "for i in range(10):\n",
    "    category, line, category_tensor, line_tensor = random_training_sample()\n",
    "    print('category =', category, '/ line =', line)"
   ]
  },
  {
   "cell_type": "code",
   "execution_count": 63,
   "metadata": {},
   "outputs": [],
   "source": [
    "## loss function\n",
    "criterions = nn.NLLLoss()"
   ]
  },
  {
   "cell_type": "code",
   "execution_count": 67,
   "metadata": {},
   "outputs": [],
   "source": [
    "learning_rate = 0.005\n",
    "\n",
    "def train(category_tensor, line_tensor):\n",
    "    hidden = rnn.initHidden()\n",
    "    \n",
    "    rnn.zero_grad()\n",
    "    \n",
    "    for i in range(line_tensor.size()[0]):\n",
    "        output, hidden = rnn(line_tensor[i], hidden)\n",
    "        \n",
    "    loss = criterions(output, category_tensor)\n",
    "    loss.backward()\n",
    "    \n",
    "    for p in rnn.parameters():\n",
    "        p.data.add_(p.grad.data, alpha = -learning_rate)\n",
    "        \n",
    "    return output, loss.item()"
   ]
  },
  {
   "cell_type": "code",
   "execution_count": 69,
   "metadata": {},
   "outputs": [
    {
     "name": "stdout",
     "output_type": "stream",
     "text": [
      "5000 5% (0m 5s) 3.3192 Bohm / Chinese ✗ (German)\n",
      "10000 10% (0m 11s) 2.2485 Papageorge / Italian ✗ (Greek)\n",
      "15000 15% (0m 16s) 0.5018 Okuma / Japanese ✓\n",
      "20000 20% (0m 22s) 1.0636 Necchi / Italian ✓\n",
      "25000 25% (0m 27s) 2.4605 Phoenix / Russian ✗ (English)\n",
      "30000 30% (0m 33s) 3.1192 Leclerc / Dutch ✗ (French)\n",
      "35000 35% (0m 39s) 0.1633 Filipowski / Polish ✓\n",
      "40000 40% (0m 44s) 1.2079 Ra / Korean ✓\n",
      "45000 45% (0m 50s) 1.0785 Cruz / Spanish ✓\n",
      "50000 50% (0m 56s) 1.2590 Kase / Japanese ✓\n",
      "55000 55% (1m 1s) 1.0348 Zou / Korean ✗ (Chinese)\n",
      "60000 60% (1m 7s) 0.1497 Fakhoury / Arabic ✓\n",
      "65000 65% (1m 12s) 0.1305 Kowalczyk / Polish ✓\n",
      "70000 70% (1m 18s) 1.1870 Bazzi / Arabic ✓\n",
      "75000 75% (1m 24s) 1.1512 Jijin / Russian ✓\n",
      "80000 80% (1m 30s) 1.3790 Siegel / German ✓\n",
      "85000 85% (1m 35s) 0.0781 Arvanitoyannis / Greek ✓\n",
      "90000 90% (1m 41s) 2.0027 Fearon / Irish ✗ (English)\n",
      "95000 95% (1m 46s) 0.6089 Lefevre / French ✓\n",
      "100000 100% (1m 52s) 2.9567 Abel / German ✗ (English)\n"
     ]
    }
   ],
   "source": [
    "import time\n",
    "import math\n",
    "\n",
    "n_iters = 100000\n",
    "print_every = 5000\n",
    "plot_every = 1000\n",
    "\n",
    "current_loss = 0\n",
    "all_losses = []\n",
    "\n",
    "def timeSince(since):\n",
    "    now = time.time()\n",
    "    s = now - since\n",
    "    m = math.floor(s / 60)\n",
    "    s -= m * 60\n",
    "    return '%dm %ds' % (m, s)\n",
    "\n",
    "start = time.time()\n",
    "\n",
    "for iter in range(1, n_iters + 1):\n",
    "    category, line, category_tensor, line_tensor = random_training_sample()\n",
    "    output, loss = train(category_tensor, line_tensor)\n",
    "    \n",
    "    current_loss += loss\n",
    "    \n",
    "    if iter % print_every == 0:\n",
    "        guess, guess_i = get_category_from_output(output)\n",
    "        correct = '✓' if guess == category else '✗ (%s)' % category\n",
    "        print('%d %d%% (%s) %.4f %s / %s %s' % (iter, iter / n_iters * 100, timeSince(start), loss, line, guess, correct))\n",
    "    \n",
    "    if iter % plot_every == 0:\n",
    "        all_losses.append(current_loss / plot_every)\n",
    "        current_loss = 0"
   ]
  },
  {
   "cell_type": "code",
   "execution_count": 78,
   "metadata": {},
   "outputs": [
    {
     "data": {
      "image/png": "[encoded data removed]",
      "text/plain": [
       "<Figure size 432x288 with 1 Axes>"
      ]
     },
     "metadata": {
      "needs_background": "light"
     },
     "output_type": "display_data"
    }
   ],
   "source": [
    "plt.plot(all_losses)\n",
    "plt.title('Loss Plot')\n",
    "plt.show()"
   ]
  },
  {
   "cell_type": "code",
   "execution_count": 72,
   "metadata": {},
   "outputs": [],
   "source": [
    "torch.save(rnn.state_dict(),'classifying_names_clevel_rnn.pt')"
   ]
  },
  {
   "cell_type": "code",
   "execution_count": 76,
   "metadata": {},
   "outputs": [
    {
     "name": "stdout",
     "output_type": "stream",
     "text": [
      "\n",
      "> Rishu\n",
      "(-1.78) Scottish\n",
      "(-1.84) Japanese\n",
      "(-2.34) Korean\n",
      "\n",
      "> Rama\n",
      "(-1.02) Spanish\n",
      "(-2.15) Portuguese\n",
      "(-2.40) Italian\n",
      "\n",
      "> Peter\n",
      "(-0.98) German\n",
      "(-1.79) Czech\n",
      "(-1.95) Dutch\n",
      "\n",
      "> Anna\n",
      "(-1.17) Italian\n",
      "(-1.30) Spanish\n",
      "(-2.59) Czech\n"
     ]
    }
   ],
   "source": [
    "# Just return an output given a line\n",
    "def evaluate(line_tensor):\n",
    "    hidden = rnn.initHidden()\n",
    "    for i in range(line_tensor.size()[0]):\n",
    "        output, hidden = rnn(line_tensor[i], hidden)\n",
    "\n",
    "    return output\n",
    "\n",
    "def predict(input_line, n_predictions=3):\n",
    "    print('\\n> %s' % input_line)\n",
    "    with torch.no_grad():\n",
    "        output = evaluate(line_to_tensor(input_line))\n",
    "\n",
    "        # Get top N categories\n",
    "        topv, topi = output.topk(n_predictions, 1, True)\n",
    "        predictions = []\n",
    "\n",
    "        for i in range(n_predictions):\n",
    "            value = topv[0][i].item()\n",
    "            category_index = topi[0][i].item()\n",
    "            print('(%.2f) %s' % (value, category_labels[category_index]))\n",
    "            predictions.append([value, category_labels[category_index]])\n",
    "\n",
    "predict('Rishu')\n",
    "predict('Rama')\n",
    "predict('Peter')\n",
    "predict('Anna')"
   ]
  },
  {
   "cell_type": "code",
   "execution_count": null,
   "metadata": {},
   "outputs": [],
   "source": []
  }
 ],
 "metadata": {
  "kernelspec": {
   "display_name": "Python 3",
   "language": "python",
   "name": "python3"
  },
  "language_info": {
   "codemirror_mode": {
    "name": "ipython",
    "version": 3
   },
   "file_extension": ".py",
   "mimetype": "text/x-python",
   "name": "python",
   "nbconvert_exporter": "python",
   "pygments_lexer": "ipython3",
   "version": "3.8.2"
  }
 },
 "nbformat": 4,
 "nbformat_minor": 4
}
