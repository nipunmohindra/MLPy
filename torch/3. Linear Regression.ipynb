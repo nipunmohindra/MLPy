{
 "cells": [
  {
   "cell_type": "code",
   "execution_count": 44,
   "metadata": {},
   "outputs": [],
   "source": [
    "import torch\n",
    "import numpy as np\n",
    "import matplotlib.pyplot as plt"
   ]
  },
  {
   "cell_type": "code",
   "execution_count": 45,
   "metadata": {},
   "outputs": [
    {
     "data": {
      "text/plain": [
       "tensor([2.])"
      ]
     },
     "execution_count": 45,
     "metadata": {},
     "output_type": "execute_result"
    }
   ],
   "source": [
    "## create a column matrix with X values\n",
    "\n",
    "X = torch.linspace(1,50,50).reshape(-1,1) ## 50x1 array\n",
    "\n",
    "X[1]"
   ]
  },
  {
   "cell_type": "code",
   "execution_count": 46,
   "metadata": {},
   "outputs": [
    {
     "name": "stdout",
     "output_type": "stream",
     "text": [
      "tensor(0.)\n"
     ]
    }
   ],
   "source": [
    "### create a random vector of errors\n",
    "\n",
    "torch.manual_seed(71)\n",
    "e = torch.randint(-8,9,(50,1),dtype=torch.float)\n",
    "\n",
    "print(e.sum()) ## returns 0 as it is linearly spaces"
   ]
  },
  {
   "cell_type": "code",
   "execution_count": 47,
   "metadata": {},
   "outputs": [
    {
     "name": "stdout",
     "output_type": "stream",
     "text": [
      "torch.Size([50, 1])\n"
     ]
    }
   ],
   "source": [
    "## create a matrix of y values\n",
    "\n",
    "y = 2*X + 1 + e\n",
    "\n",
    "print(y.shape)"
   ]
  },
  {
   "cell_type": "code",
   "execution_count": 48,
   "metadata": {},
   "outputs": [
    {
     "data": {
      "image/png": "[encoded data removed]",
      "text/plain": [
       "<Figure size 432x288 with 1 Axes>"
      ]
     },
     "metadata": {
      "needs_background": "light"
     },
     "output_type": "display_data"
    }
   ],
   "source": [
    "### plot the results\n",
    "\n",
    "plt.scatter(X.numpy(),y.numpy())\n",
    "plt.xlabel(\"X\")\n",
    "plt.ylabel(\"y\")\n",
    "plt.show()"
   ]
  },
  {
   "cell_type": "markdown",
   "metadata": {},
   "source": [
    "### Simple Linear Model"
   ]
  },
  {
   "cell_type": "code",
   "execution_count": 49,
   "metadata": {},
   "outputs": [
    {
     "name": "stdout",
     "output_type": "stream",
     "text": [
      "Parameter containing:\n",
      "tensor([[0.4325]], requires_grad=True)\n",
      "Parameter containing:\n",
      "tensor([0.5676], requires_grad=True)\n"
     ]
    }
   ],
   "source": [
    "import torch.nn as nn\n",
    "\n",
    "torch.manual_seed(52)\n",
    "\n",
    "model = nn.Linear(in_features=1, out_features=1) ## without seeing the data the model preselects as bias and weight\n",
    "\n",
    "print(model.weight)\n",
    "print(model.bias)"
   ]
  },
  {
   "cell_type": "markdown",
   "metadata": {},
   "source": [
    "### Building Model"
   ]
  },
  {
   "cell_type": "code",
   "execution_count": 50,
   "metadata": {},
   "outputs": [],
   "source": [
    "class Model(nn.Module):\n",
    "    def __init__(self, in_features, out_features):\n",
    "        super().__init__()\n",
    "        self.linear = nn.Linear(in_features, out_features) ## using the formula y=mx+c or y=wx+b\n",
    "        \n",
    "    def forward(self, x):\n",
    "        y_pred = self.linear(x)\n",
    "        return y_pred"
   ]
  },
  {
   "cell_type": "code",
   "execution_count": 51,
   "metadata": {},
   "outputs": [
    {
     "name": "stdout",
     "output_type": "stream",
     "text": [
      "Model(\n",
      "  (linear): Linear(in_features=1, out_features=1, bias=True)\n",
      ")\n",
      "weight (W): 0.43249380588531494\n",
      "Bias (b): 0.5675845146179199\n"
     ]
    }
   ],
   "source": [
    "## pass in the initial parameter (1,1) to find the weight and bias after the model is instaniated.\n",
    "\n",
    "torch.manual_seed(52)\n",
    "\n",
    "model = Model(1,1)\n",
    "\n",
    "print(model)\n",
    "print(\"weight (W):\",model.linear.weight.item())\n",
    "print(\"Bias (b):\",model.linear.bias.item())"
   ]
  },
  {
   "cell_type": "code",
   "execution_count": 52,
   "metadata": {
    "scrolled": true
   },
   "outputs": [
    {
     "name": "stdout",
     "output_type": "stream",
     "text": [
      "linear.weight \t : 0.43249380588531494\n",
      "linear.bias \t : 0.5675845146179199\n"
     ]
    }
   ],
   "source": [
    "## Model Parameters (useful for large iterations)\n",
    "\n",
    "for name, param in model.named_parameters():\n",
    "    print(f'{name} \\t : {param.item()}')"
   ]
  },
  {
   "cell_type": "code",
   "execution_count": 53,
   "metadata": {},
   "outputs": [
    {
     "name": "stdout",
     "output_type": "stream",
     "text": [
      "tensor([1.4326], grad_fn=<AddBackward0>)\n",
      "tensor([1.4326], grad_fn=<AddBackward0>)\n"
     ]
    }
   ],
   "source": [
    "### testing with dummy value\n",
    "\n",
    "x = torch.tensor([2.0])\n",
    "print(model.forward(x))\n",
    "print(model(x)) ## same as model.forward(x)"
   ]
  },
  {
   "cell_type": "markdown",
   "metadata": {},
   "source": [
    "### Plotting the initial untrained model to get an idea of the starting point"
   ]
  },
  {
   "cell_type": "code",
   "execution_count": 54,
   "metadata": {},
   "outputs": [
    {
     "data": {
      "text/plain": [
       "array([ 1., 50.], dtype=float32)"
      ]
     },
     "execution_count": 54,
     "metadata": {},
     "output_type": "execute_result"
    }
   ],
   "source": [
    "x1 = np.array([X.min(), X.max()])\n",
    "x1"
   ]
  },
  {
   "cell_type": "code",
   "execution_count": 55,
   "metadata": {},
   "outputs": [
    {
     "name": "stdout",
     "output_type": "stream",
     "text": [
      "Initial Weight : 0.43249381 and bias: 0.56758451\n"
     ]
    }
   ],
   "source": [
    "w1, b1 = model.linear.weight.item(), model.linear.bias.item()\n",
    "\n",
    "print(f\"Initial Weight : {w1:.8f} and bias: {b1:.8f}\")"
   ]
  },
  {
   "cell_type": "code",
   "execution_count": 56,
   "metadata": {},
   "outputs": [
    {
     "name": "stdout",
     "output_type": "stream",
     "text": [
      "y1 :  [ 1.0000783 22.192276 ]\n",
      "x1 :  [ 1. 50.]\n"
     ]
    }
   ],
   "source": [
    "y1 = w1*x1 + b1\n",
    "print(\"y1 : \",y1)\n",
    "print(\"x1 : \",x1)"
   ]
  },
  {
   "cell_type": "code",
   "execution_count": 57,
   "metadata": {},
   "outputs": [
    {
     "data": {
      "image/png": "[encoded data removed]",
      "text/plain": [
       "<Figure size 432x288 with 1 Axes>"
      ]
     },
     "metadata": {
      "needs_background": "light"
     },
     "output_type": "display_data"
    }
   ],
   "source": [
    "## plot the numbers\n",
    "\n",
    "plt.scatter(X.numpy(),y.numpy())\n",
    "plt.plot(x1,y1,'r')\n",
    "\n",
    "plt.title(\"Initial Model\")\n",
    "plt.xlabel(\"X\")\n",
    "plt.ylabel(\"y\")\n",
    "plt.show()"
   ]
  },
  {
   "cell_type": "markdown",
   "metadata": {},
   "source": [
    "### Calculating Loss Function (on the actual data and plotting it)"
   ]
  },
  {
   "cell_type": "code",
   "execution_count": 58,
   "metadata": {},
   "outputs": [],
   "source": [
    "### For calculating Loss function, we will be using MSE (Mean Squared Error)\n",
    "### MSE is used during linear regression problems\n",
    "\n",
    "loss_function = nn.MSELoss()"
   ]
  },
  {
   "cell_type": "markdown",
   "metadata": {},
   "source": [
    "### Setting the Optimizer and Learning rate"
   ]
  },
  {
   "cell_type": "code",
   "execution_count": 59,
   "metadata": {},
   "outputs": [],
   "source": [
    "### Set the optimizer (SGD - Scholastic Gradient Descent) and Learning rate as 0.001\n",
    "### choice of learning rate needs to be careful\n",
    "\n",
    "optimizer = torch.optim.SGD(model.parameters(), lr=0.001)"
   ]
  },
  {
   "cell_type": "markdown",
   "metadata": {},
   "source": [
    "### Training the model"
   ]
  },
  {
   "cell_type": "code",
   "execution_count": 60,
   "metadata": {},
   "outputs": [
    {
     "name": "stdout",
     "output_type": "stream",
     "text": [
      "Epoch:  1 ; Loss: 2126.31005859 ; Weights: 0.43249381 ; Bias: 0.56758451\n",
      "Epoch:  2 ; Loss: 1108.09875488 ; Weights: 3.12099504 ; Bias: 0.64839214\n",
      "Epoch:  3 ; Loss: 582.43218994 ; Weights: 1.18921876 ; Bias: 0.59192461\n",
      "Epoch:  4 ; Loss: 311.04956055 ; Weights: 2.57718229 ; Bias: 0.63409060\n",
      "Epoch:  5 ; Loss: 170.94377136 ; Weights: 1.57986152 ; Bias: 0.60538614\n",
      "Epoch:  6 ; Loss: 98.61177063 ; Weights: 2.29640484 ; Bias: 0.62760246\n",
      "Epoch:  7 ; Loss: 61.26878357 ; Weights: 1.78151011 ; Bias: 0.61323059\n",
      "Epoch:  8 ; Loss: 41.98954010 ; Weights: 2.15142250 ; Bias: 0.62514710\n",
      "Epoch:  9 ; Loss: 32.03594208 ; Weights: 1.88558769 ; Bias: 0.61817425\n",
      "Epoch: 10 ; Loss: 26.89683914 ; Weights: 2.07654667 ; Bias: 0.62477291\n",
      "Epoch: 11 ; Loss: 24.24330902 ; Weights: 1.93929267 ; Bias: 0.62161946\n",
      "Epoch: 12 ; Loss: 22.87297058 ; Weights: 2.03786445 ; Bias: 0.62547231\n",
      "Epoch: 13 ; Loss: 22.16510773 ; Weights: 1.96699202 ; Bias: 0.62429029\n",
      "Epoch: 14 ; Loss: 21.79924583 ; Weights: 2.01786780 ; Bias: 0.62672514\n",
      "Epoch: 15 ; Loss: 21.60996056 ; Weights: 1.98126578 ; Bias: 0.62656045\n",
      "Epoch: 16 ; Loss: 21.51182938 ; Weights: 2.00751781 ; Bias: 0.62826276\n",
      "Epoch: 17 ; Loss: 21.46075439 ; Weights: 1.98860824 ; Bias: 0.62862283\n",
      "Epoch: 18 ; Loss: 21.43397903 ; Weights: 2.00214815 ; Bias: 0.62994659\n",
      "Epoch: 19 ; Loss: 21.41974068 ; Weights: 1.99237263 ; Bias: 0.63057715\n",
      "Epoch: 20 ; Loss: 21.41198730 ; Weights: 1.99934936 ; Bias: 0.63170499\n",
      "Epoch: 21 ; Loss: 21.40757561 ; Weights: 1.99428952 ; Bias: 0.63247478\n",
      "Epoch: 22 ; Loss: 21.40488815 ; Weights: 1.99787807 ; Bias: 0.63350105\n",
      "Epoch: 23 ; Loss: 21.40308762 ; Weights: 1.99525297 ; Bias: 0.63434225\n",
      "Epoch: 24 ; Loss: 21.40175247 ; Weights: 1.99709201 ; Bias: 0.63531566\n",
      "Epoch: 25 ; Loss: 21.40065956 ; Weights: 1.99572396 ; Bias: 0.63619334\n",
      "Epoch: 26 ; Loss: 21.39968300 ; Weights: 1.99666011 ; Bias: 0.63713902\n",
      "Epoch: 27 ; Loss: 21.39878082 ; Weights: 1.99594069 ; Bias: 0.63803506\n",
      "Epoch: 28 ; Loss: 21.39790726 ; Weights: 1.99641061 ; Bias: 0.63896602\n",
      "Epoch: 29 ; Loss: 21.39705086 ; Weights: 1.99602616 ; Bias: 0.63987112\n",
      "Epoch: 30 ; Loss: 21.39620209 ; Weights: 1.99625587 ; Bias: 0.64079404\n",
      "Epoch: 31 ; Loss: 21.39535713 ; Weights: 1.99604416 ; Bias: 0.64170343\n",
      "Epoch: 32 ; Loss: 21.39452362 ; Weights: 1.99614954 ; Bias: 0.64262176\n",
      "Epoch: 33 ; Loss: 21.39367867 ; Weights: 1.99602699 ; Bias: 0.64353287\n",
      "Epoch: 34 ; Loss: 21.39284134 ; Weights: 1.99606848 ; Bias: 0.64444846\n",
      "Epoch: 35 ; Loss: 21.39201355 ; Weights: 1.99599206 ; Bias: 0.64536005\n",
      "Epoch: 36 ; Loss: 21.39117622 ; Weights: 1.99600017 ; Bias: 0.64627373\n",
      "Epoch: 37 ; Loss: 21.39035225 ; Weights: 1.99594796 ; Bias: 0.64718521\n",
      "Epoch: 38 ; Loss: 21.38950920 ; Weights: 1.99593878 ; Bias: 0.64809752\n",
      "Epoch: 39 ; Loss: 21.38868141 ; Weights: 1.99589896 ; Bias: 0.64900845\n",
      "Epoch: 40 ; Loss: 21.38784981 ; Weights: 1.99588096 ; Bias: 0.64991957\n",
      "Epoch: 41 ; Loss: 21.38702393 ; Weights: 1.99584746 ; Bias: 0.65082979\n",
      "Epoch: 42 ; Loss: 21.38619804 ; Weights: 1.99582493 ; Bias: 0.65173990\n",
      "Epoch: 43 ; Loss: 21.38536835 ; Weights: 1.99579477 ; Bias: 0.65264934\n",
      "Epoch: 44 ; Loss: 21.38453674 ; Weights: 1.99577010 ; Bias: 0.65355849\n",
      "Epoch: 45 ; Loss: 21.38371658 ; Weights: 1.99574137 ; Bias: 0.65446711\n",
      "Epoch: 46 ; Loss: 21.38288498 ; Weights: 1.99571562 ; Bias: 0.65537536\n",
      "Epoch: 47 ; Loss: 21.38206291 ; Weights: 1.99568784 ; Bias: 0.65628314\n",
      "Epoch: 48 ; Loss: 21.38123512 ; Weights: 1.99566150 ; Bias: 0.65719050\n",
      "Epoch: 49 ; Loss: 21.38042068 ; Weights: 1.99563408 ; Bias: 0.65809739\n",
      "Epoch: 50 ; Loss: 21.37959480 ; Weights: 1.99560750 ; Bias: 0.65900385\n"
     ]
    }
   ],
   "source": [
    "epochs = 50\n",
    "losses = []\n",
    "\n",
    "for i in range(epochs):\n",
    "    i+=1\n",
    "    \n",
    "    y_predict = model.forward(X)\n",
    "    calculate_loss = loss_function(y_predict, y)\n",
    "    \n",
    "    losses.append(calculate_loss)\n",
    "    \n",
    "    print(f\"Epoch: {i:2} ; Loss: {calculate_loss.item():10.8f} ; Weights: {model.linear.weight.item():10.8f} ; Bias: {model.linear.bias.item():10.8f}\")\n",
    "    \n",
    "    optimizer.zero_grad() ## gradients accumulate with every backpropagation. Need to clear before calculating\n",
    "    \n",
    "    calculate_loss.backward()\n",
    "    \n",
    "    optimizer.step()"
   ]
  },
  {
   "cell_type": "code",
   "execution_count": 62,
   "metadata": {},
   "outputs": [
    {
     "data": {
      "image/png": "[encoded data removed]",
      "text/plain": [
       "<Figure size 432x288 with 1 Axes>"
      ]
     },
     "metadata": {
      "needs_background": "light"
     },
     "output_type": "display_data"
    }
   ],
   "source": [
    "### plot the loss \n",
    "\n",
    "plt.plot(range(epochs), losses)\n",
    "plt.xlabel(\"Loss\")\n",
    "plt.ylabel(\"Epochs\")\n",
    "plt.show()"
   ]
  },
  {
   "cell_type": "markdown",
   "metadata": {},
   "source": [
    "### Plotting the results"
   ]
  },
  {
   "cell_type": "code",
   "execution_count": 63,
   "metadata": {},
   "outputs": [
    {
     "name": "stdout",
     "output_type": "stream",
     "text": [
      "Current weight: 1.99558020, Current bias: 0.65990984\n",
      "\n",
      "[ 1. 50.]\n",
      "[  2.65549 100.43892]\n"
     ]
    }
   ],
   "source": [
    "w1,b1 = model.linear.weight.item(), model.linear.bias.item()\n",
    "print(f'Current weight: {w1:.8f}, Current bias: {b1:.8f}')\n",
    "print()\n",
    "\n",
    "y1 = x1*w1 + b1\n",
    "print(x1)\n",
    "print(y1)"
   ]
  },
  {
   "cell_type": "code",
   "execution_count": 65,
   "metadata": {},
   "outputs": [
    {
     "data": {
      "text/plain": [
       "Text(0.5, 0, 'x')"
      ]
     },
     "execution_count": 65,
     "metadata": {},
     "output_type": "execute_result"
    },
    {
     "data": {
      "image/png": "[encoded data removed]",
      "text/plain": [
       "<Figure size 432x288 with 1 Axes>"
      ]
     },
     "metadata": {
      "needs_background": "light"
     },
     "output_type": "display_data"
    }
   ],
   "source": [
    "plt.scatter(X.numpy(), y.numpy())\n",
    "plt.plot(x1,y1,'r')\n",
    "plt.title('Current Model - Linear Model')\n",
    "plt.ylabel('y')\n",
    "plt.xlabel('x')"
   ]
  },
  {
   "cell_type": "code",
   "execution_count": null,
   "metadata": {},
   "outputs": [],
   "source": []
  }
 ],
 "metadata": {
  "kernelspec": {
   "display_name": "Python 3",
   "language": "python",
   "name": "python3"
  },
  "language_info": {
   "codemirror_mode": {
    "name": "ipython",
    "version": 3
   },
   "file_extension": ".py",
   "mimetype": "text/x-python",
   "name": "python",
   "nbconvert_exporter": "python",
   "pygments_lexer": "ipython3",
   "version": "3.8.2"
  }
 },
 "nbformat": 4,
 "nbformat_minor": 4
}
