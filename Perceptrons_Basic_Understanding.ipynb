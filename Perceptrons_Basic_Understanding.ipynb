{
  "nbformat": 4,
  "nbformat_minor": 0,
  "metadata": {
    "colab": {
      "name": "Perceptrons-Basic Understanding.ipynb",
      "provenance": [],
      "authorship_tag": "ABX9TyO6qcXjdWGaQtyQp5m8HYf1",
      "include_colab_link": true
    },
    "kernelspec": {
      "name": "python3",
      "display_name": "Python 3"
    }
  },
  "cells": [
    {
      "cell_type": "markdown",
      "metadata": {
        "id": "view-in-github",
        "colab_type": "text"
      },
      "source": [
        "<a href=\"https://colab.research.google.com/github/rishuatgithub/MLPy/blob/master/Perceptrons_Basic_Understanding.ipynb\" target=\"_parent\"><img src=\"https://colab.research.google.com/assets/colab-badge.svg\" alt=\"Open In Colab\"/></a>"
      ]
    },
    {
      "cell_type": "code",
      "metadata": {
        "id": "sgfYWsAdhpdw",
        "colab_type": "code",
        "colab": {}
      },
      "source": [
        "import tensorflow as tf\n",
        "import numpy as np\n",
        "\n",
        "import tensorflow_hub as hub\n",
        "import tensorflow_datasets as ds"
      ],
      "execution_count": 0,
      "outputs": []
    },
    {
      "cell_type": "code",
      "metadata": {
        "id": "aqxxGcfzi2XL",
        "colab_type": "code",
        "colab": {
          "base_uri": "https://localhost:8080/",
          "height": 85
        },
        "outputId": "51bf4113-10e7-4e11-b3d9-0125046e5bb7"
      },
      "source": [
        "## general checks\n",
        "\n",
        "print(\"Tensor Flow Version : {}\".format(tf.__version__))\n",
        "print(\"Eager Mode : {}\".format(tf.executing_eagerly()))\n",
        "print(\"Hub Version : {}\".format(hub.__version__))\n",
        "print(\"GPU availablility : {}\".format(True if tf.config.experimental.list_physical_devices(\"GPU\") else False))"
      ],
      "execution_count": 8,
      "outputs": [
        {
          "output_type": "stream",
          "text": [
            "Tensor Flow Version : 2.2.0\n",
            "Eager Mode : True\n",
            "Hub Version : 0.8.0\n",
            "GPU availablility : False\n"
          ],
          "name": "stdout"
        }
      ]
    },
    {
      "cell_type": "markdown",
      "metadata": {
        "id": "BPkhWImCirg_",
        "colab_type": "text"
      },
      "source": [
        "## IMDB Movie Review : Text Classification"
      ]
    },
    {
      "cell_type": "code",
      "metadata": {
        "id": "SS96VElaizwi",
        "colab_type": "code",
        "colab": {}
      },
      "source": [
        ""
      ],
      "execution_count": 0,
      "outputs": []
    }
  ]
}