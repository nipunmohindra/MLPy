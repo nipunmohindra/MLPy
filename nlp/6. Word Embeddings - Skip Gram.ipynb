{
 "cells": [
  {
   "cell_type": "code",
   "execution_count": 88,
   "metadata": {},
   "outputs": [],
   "source": [
    "import pandas as pd\n",
    "import numpy as np\n",
    "\n",
    "import torch\n",
    "from torch.autograd import Variable\n",
    "import torch.nn as nn\n",
    "\n",
    "import matplotlib.pyplot as plt\n",
    "\n",
    "from sklearn.manifold import TSNE"
   ]
  },
  {
   "cell_type": "code",
   "execution_count": 8,
   "metadata": {},
   "outputs": [],
   "source": [
    "corpus = [\n",
    "    'he is a king',\n",
    "    'she is a queen',\n",
    "    'he is a man',\n",
    "    'she is a woman',\n",
    "    'warsaw is poland capital',\n",
    "    'berlin is germany capital',\n",
    "    'paris is france capital',\n",
    "]"
   ]
  },
  {
   "cell_type": "code",
   "execution_count": 9,
   "metadata": {},
   "outputs": [],
   "source": [
    "def tokenize_corpus(corpus):\n",
    "    t_corpus = [t.split() for t in corpus]\n",
    "    return t_corpus"
   ]
  },
  {
   "cell_type": "code",
   "execution_count": 10,
   "metadata": {},
   "outputs": [
    {
     "data": {
      "text/plain": [
       "[['he', 'is', 'a', 'king'],\n",
       " ['she', 'is', 'a', 'queen'],\n",
       " ['he', 'is', 'a', 'man'],\n",
       " ['she', 'is', 'a', 'woman'],\n",
       " ['warsaw', 'is', 'poland', 'capital'],\n",
       " ['berlin', 'is', 'germany', 'capital'],\n",
       " ['paris', 'is', 'france', 'capital']]"
      ]
     },
     "execution_count": 10,
     "metadata": {},
     "output_type": "execute_result"
    }
   ],
   "source": [
    "corpus_tokenized = tokenize_corpus(corpus)\n",
    "\n",
    "corpus_tokenized"
   ]
  },
  {
   "cell_type": "code",
   "execution_count": 13,
   "metadata": {},
   "outputs": [
    {
     "name": "stdout",
     "output_type": "stream",
     "text": [
      "The vocabulary: ['he', 'is', 'a', 'king', 'she', 'queen', 'man', 'woman', 'warsaw', 'poland', 'capital', 'berlin', 'germany', 'paris', 'france']\n",
      "The length of the vocabulary: 15\n"
     ]
    }
   ],
   "source": [
    "vocabulary = []\n",
    "\n",
    "for sentence in corpus_tokenized:\n",
    "    for token in sentence:\n",
    "        if token not in vocabulary:\n",
    "            vocabulary.append(token)\n",
    "            \n",
    "print(f'The vocabulary: {vocabulary}')\n",
    "print(f'The length of the vocabulary: {len(vocabulary)}')\n",
    "\n",
    "vocabulary_size = len(vocabulary)"
   ]
  },
  {
   "cell_type": "code",
   "execution_count": 14,
   "metadata": {},
   "outputs": [],
   "source": [
    "word2idx = { w: idx for idx, w in enumerate(vocabulary)}\n",
    "idx2word = { idx: w for idx, w in enumerate(vocabulary)}"
   ]
  },
  {
   "cell_type": "code",
   "execution_count": 16,
   "metadata": {},
   "outputs": [
    {
     "data": {
      "text/plain": [
       "{0: 'he',\n",
       " 1: 'is',\n",
       " 2: 'a',\n",
       " 3: 'king',\n",
       " 4: 'she',\n",
       " 5: 'queen',\n",
       " 6: 'man',\n",
       " 7: 'woman',\n",
       " 8: 'warsaw',\n",
       " 9: 'poland',\n",
       " 10: 'capital',\n",
       " 11: 'berlin',\n",
       " 12: 'germany',\n",
       " 13: 'paris',\n",
       " 14: 'france'}"
      ]
     },
     "execution_count": 16,
     "metadata": {},
     "output_type": "execute_result"
    }
   ],
   "source": [
    "idx2word"
   ]
  },
  {
   "cell_type": "code",
   "execution_count": 34,
   "metadata": {},
   "outputs": [
    {
     "data": {
      "text/plain": [
       "[13, 1, 14, 10]"
      ]
     },
     "execution_count": 34,
     "metadata": {},
     "output_type": "execute_result"
    }
   ],
   "source": [
    "indices = [ word2idx[word] for word in sentence ]\n",
    "indices"
   ]
  },
  {
   "cell_type": "code",
   "execution_count": 40,
   "metadata": {
    "scrolled": false
   },
   "outputs": [],
   "source": [
    "window_size = 2\n",
    "idx_pairs = []\n",
    "\n",
    "for sentence in corpus_tokenized:\n",
    "    indices = [ word2idx[word] for word in sentence ]\n",
    "    #print(sentence)\n",
    "    \n",
    "    for center_word_pos in range(len(sentence)): ## each word is treated as a center word\n",
    "        for w in range(-window_size, window_size+1):\n",
    "            context_word_pos = center_word_pos + w\n",
    "            #print(center_word_pos,'\\t', context_word_pos ,'\\t' )\n",
    "            if context_word_pos < 0 or context_word_pos >= len(indices) or center_word_pos == context_word_pos:\n",
    "                continue\n",
    "            context_word_idx = indices[context_word_pos]\n",
    "            \n",
    "            #print('>>', center_word_pos,'\\t', context_word_pos ,'\\t' )\n",
    "            idx_pairs.append((indices[center_word_pos],context_word_idx))\n",
    "            \n",
    "pairs = np.array(idx_pairs)"
   ]
  },
  {
   "cell_type": "code",
   "execution_count": 41,
   "metadata": {},
   "outputs": [
    {
     "data": {
      "text/plain": [
       "array([[ 0,  1],\n",
       "       [ 0,  2],\n",
       "       [ 1,  0],\n",
       "       [ 1,  2],\n",
       "       [ 1,  3],\n",
       "       [ 2,  0],\n",
       "       [ 2,  1],\n",
       "       [ 2,  3],\n",
       "       [ 3,  1],\n",
       "       [ 3,  2],\n",
       "       [ 4,  1],\n",
       "       [ 4,  2],\n",
       "       [ 1,  4],\n",
       "       [ 1,  2],\n",
       "       [ 1,  5],\n",
       "       [ 2,  4],\n",
       "       [ 2,  1],\n",
       "       [ 2,  5],\n",
       "       [ 5,  1],\n",
       "       [ 5,  2],\n",
       "       [ 0,  1],\n",
       "       [ 0,  2],\n",
       "       [ 1,  0],\n",
       "       [ 1,  2],\n",
       "       [ 1,  6],\n",
       "       [ 2,  0],\n",
       "       [ 2,  1],\n",
       "       [ 2,  6],\n",
       "       [ 6,  1],\n",
       "       [ 6,  2],\n",
       "       [ 4,  1],\n",
       "       [ 4,  2],\n",
       "       [ 1,  4],\n",
       "       [ 1,  2],\n",
       "       [ 1,  7],\n",
       "       [ 2,  4],\n",
       "       [ 2,  1],\n",
       "       [ 2,  7],\n",
       "       [ 7,  1],\n",
       "       [ 7,  2],\n",
       "       [ 8,  1],\n",
       "       [ 8,  9],\n",
       "       [ 1,  8],\n",
       "       [ 1,  9],\n",
       "       [ 1, 10],\n",
       "       [ 9,  8],\n",
       "       [ 9,  1],\n",
       "       [ 9, 10],\n",
       "       [10,  1],\n",
       "       [10,  9],\n",
       "       [11,  1],\n",
       "       [11, 12],\n",
       "       [ 1, 11],\n",
       "       [ 1, 12],\n",
       "       [ 1, 10],\n",
       "       [12, 11],\n",
       "       [12,  1],\n",
       "       [12, 10],\n",
       "       [10,  1],\n",
       "       [10, 12],\n",
       "       [13,  1],\n",
       "       [13, 14],\n",
       "       [ 1, 13],\n",
       "       [ 1, 14],\n",
       "       [ 1, 10],\n",
       "       [14, 13],\n",
       "       [14,  1],\n",
       "       [14, 10],\n",
       "       [10,  1],\n",
       "       [10, 14]])"
      ]
     },
     "execution_count": 41,
     "metadata": {},
     "output_type": "execute_result"
    }
   ],
   "source": [
    "pairs"
   ]
  },
  {
   "cell_type": "code",
   "execution_count": 48,
   "metadata": {},
   "outputs": [],
   "source": [
    "def get_input_layer(word_idx):\n",
    "    x = torch.zeros(vocabulary_size)\n",
    "    x[word_idx] = 1.0\n",
    "    \n",
    "    return x"
   ]
  },
  {
   "cell_type": "code",
   "execution_count": 133,
   "metadata": {},
   "outputs": [
    {
     "name": "stdout",
     "output_type": "stream",
     "text": [
      "Epoch : 0 \t Loss: 4.738785423551287\n",
      "Epoch : 10 \t Loss: 2.786799708860261\n",
      "Epoch : 20 \t Loss: 2.3816844723054342\n",
      "Epoch : 30 \t Loss: 2.1715010023542813\n",
      "Epoch : 40 \t Loss: 2.0440092535955565\n",
      "Epoch : 50 \t Loss: 1.9654245427676609\n",
      "Epoch : 60 \t Loss: 1.9132395697491509\n",
      "Epoch : 70 \t Loss: 1.8739069815192904\n",
      "Epoch : 80 \t Loss: 1.8410286622388021\n",
      "Epoch : 90 \t Loss: 1.8120530788387572\n"
     ]
    }
   ],
   "source": [
    "embeddings_dim = 5\n",
    "epochs = 100\n",
    "learning_rate = 0.01\n",
    "\n",
    "W1 = Variable(torch.randn(embeddings_dim, vocabulary_size).float(), requires_grad=True)\n",
    "W2 = Variable(torch.randn(vocabulary_size, embeddings_dim).float(), requires_grad=True)\n",
    "\n",
    "_loss = []\n",
    "\n",
    "for batch in range(epochs):\n",
    "    loss = 0\n",
    "    \n",
    "    for data, target in pairs:\n",
    "        X = Variable(get_input_layer(data)).float()\n",
    "        y = Variable(torch.from_numpy(np.array([target]))).long()\n",
    "        \n",
    "        z1 = torch.matmul(W1, X)\n",
    "        z2 = torch.matmul(W2, z1)\n",
    "        \n",
    "        y_predict = nn.functional.log_softmax(z2, dim=0)\n",
    "        \n",
    "        criterion = nn.functional.nll_loss(y_predict.view(1,-1), y)\n",
    "        #print(criterion.data.item())\n",
    "        loss += criterion.data.item()\n",
    "        \n",
    "        _loss.append(loss)\n",
    "        \n",
    "        criterion.backward()\n",
    "        \n",
    "        W1.data -= learning_rate * W1.grad.data\n",
    "        W2.data -= learning_rate * W2.grad.data\n",
    "        \n",
    "        W1.grad.data.zero_()\n",
    "        W2.grad.data.zero_()\n",
    "        \n",
    "    if batch%10 == 0:\n",
    "        print(f'Epoch : {batch} \\t Loss: {loss/len(pairs)}')"
   ]
  },
  {
   "cell_type": "code",
   "execution_count": 134,
   "metadata": {},
   "outputs": [
    {
     "data": {
      "text/plain": [
       "(tensor([[-1.0317, -0.6890,  0.7674, -0.0170, -0.4390, -0.4257, -0.0280,  1.1484,\n",
       "           0.3252, -1.0173,  1.4703, -0.4031,  0.3612,  0.4756, -0.7663],\n",
       "         [ 0.9213,  0.1095, -0.2333,  1.0496,  1.2064,  0.5885,  0.7172,  1.8330,\n",
       "          -1.5200,  0.4592, -0.1001,  1.0243,  0.3387, -0.0893, -0.2963],\n",
       "         [ 1.1911,  0.0101,  1.7139,  1.5839,  1.0444,  0.8523,  0.6787,  1.1163,\n",
       "           1.0447, -0.4204,  0.9695,  0.9814, -0.9822, -0.2900,  0.4428],\n",
       "         [ 0.0229,  2.5179, -0.7290, -0.5221, -0.6163,  0.1817, -0.8781, -1.6088,\n",
       "          -1.4987, -0.4028, -1.0636,  0.7528, -2.6663, -1.0476, -0.8176],\n",
       "         [-0.9507, -1.3123,  1.1622, -0.4577, -0.6445, -1.2294, -0.5867, -0.3074,\n",
       "          -0.6630, -0.6516, -0.3547,  0.1381, -0.5896, -1.4581,  0.2941]],\n",
       "        requires_grad=True),\n",
       " tensor([[ 0.0794, -0.8909,  1.2540,  0.6725,  0.5507],\n",
       "         [-1.0240,  0.2855,  2.6446, -1.2938, -1.0555],\n",
       "         [-0.9926,  1.3157,  1.9005, -0.2765, -1.0412],\n",
       "         [ 0.0757,  0.2867,  0.5845,  0.6448,  1.1284],\n",
       "         [ 0.3354, -0.0756,  1.0703,  0.8913,  0.9443],\n",
       "         [-0.7605, -1.3404,  0.8406,  0.4846,  1.0032],\n",
       "         [-0.3742, -0.8178,  0.9680,  0.2864,  0.4682],\n",
       "         [-0.1006, -0.9224,  0.7174,  0.3557,  0.4954],\n",
       "         [-1.3290,  0.9448, -1.3440,  0.3641,  1.0683],\n",
       "         [ 0.3921, -2.3397,  0.6393,  0.1477, -0.4073],\n",
       "         [-1.4222, -0.5658,  0.3972, -0.3206, -0.8783],\n",
       "         [ 0.4696,  0.2747, -1.0776,  0.2266,  0.1756],\n",
       "         [ 0.1778,  0.7396,  0.7188,  0.6211,  0.8312],\n",
       "         [-1.4291, -0.8129,  0.2981,  0.3986,  1.2277],\n",
       "         [ 1.3442, -1.3997, -0.2452,  0.2780, -0.7195]], requires_grad=True))"
      ]
     },
     "execution_count": 134,
     "metadata": {},
     "output_type": "execute_result"
    }
   ],
   "source": [
    "W1, W2"
   ]
  },
  {
   "cell_type": "code",
   "execution_count": 132,
   "metadata": {
    "scrolled": false
   },
   "outputs": [
    {
     "data": {
      "image/png": "[encoded data removed]",
      "text/plain": [
       "<Figure size 576x360 with 1 Axes>"
      ]
     },
     "metadata": {
      "needs_background": "light"
     },
     "output_type": "display_data"
    }
   ],
   "source": [
    "X = W2.detach().numpy()\n",
    "#X_embedded = TSNE(perplexity=40, n_components=2, init='pca', n_iter=2500, random_state=23).fit_transform(X)\n",
    "X_embedded = TSNE(n_components=2, init='pca', n_iter=1000).fit_transform(X)\n",
    "\n",
    "labels = []\n",
    "tokens = []\n",
    "x = []\n",
    "y = []\n",
    "\n",
    "for value in X_embedded:\n",
    "    x.append(value[0])\n",
    "    y.append(value[1])\n",
    "\n",
    "\n",
    "plt.figure(figsize=(8, 5))\n",
    "plt.title('Plotting Word Embedding')\n",
    "plt.xlabel('x')\n",
    "plt.ylabel('y')\n",
    "#for i in range(len(x)):\n",
    "plt.scatter(x,y)\n",
    "#plt.annotate(labels[i],xy=(x[i], y[i]),xytext=(5, 2),textcoords='offset points',ha='right',va='bottom')\n",
    "plt.show()"
   ]
  },
  {
   "cell_type": "markdown",
   "metadata": {},
   "source": [
    "# Using Torch"
   ]
  },
  {
   "cell_type": "code",
   "execution_count": 147,
   "metadata": {},
   "outputs": [],
   "source": [
    "class SGEmbeddingModel(nn.Module):\n",
    "    \n",
    "    def __init__(self, input_dim, embedding_size=5):\n",
    "        super().__init__()\n",
    "        \n",
    "        self.fc1 = nn.Linear(input_dim, embedding_size)\n",
    "        \n",
    "    def forward(self, x):\n",
    "        x = nn.functional.log_softmax(self.fc1(x))\n",
    "        return x"
   ]
  },
  {
   "cell_type": "code",
   "execution_count": 148,
   "metadata": {},
   "outputs": [
    {
     "data": {
      "text/plain": [
       "SGEmbeddingModel(\n",
       "  (fc1): Linear(in_features=15, out_features=5, bias=True)\n",
       ")"
      ]
     },
     "execution_count": 148,
     "metadata": {},
     "output_type": "execute_result"
    }
   ],
   "source": [
    "model = SGEmbeddingModel(vocabulary_size, embeddings_dim)\n",
    "model"
   ]
  },
  {
   "cell_type": "code",
   "execution_count": 146,
   "metadata": {},
   "outputs": [],
   "source": [
    "criterion = nn.NLLLoss()\n",
    "optimizer = torch.optim.Adam(model.parameters(), lr=0.01)"
   ]
  },
  {
   "cell_type": "code",
   "execution_count": null,
   "metadata": {},
   "outputs": [],
   "source": [
    "epochs = 100\n",
    "\n",
    "train_loss = []\n",
    "\n",
    "for epochs in range(epochs):\n",
    "    \n",
    "    \n",
    "    "
   ]
  }
 ],
 "metadata": {
  "kernelspec": {
   "display_name": "Python 3",
   "language": "python",
   "name": "python3"
  },
  "language_info": {
   "codemirror_mode": {
    "name": "ipython",
    "version": 3
   },
   "file_extension": ".py",
   "mimetype": "text/x-python",
   "name": "python",
   "nbconvert_exporter": "python",
   "pygments_lexer": "ipython3",
   "version": "3.8.2"
  }
 },
 "nbformat": 4,
 "nbformat_minor": 4
}
