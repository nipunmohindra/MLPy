{
 "cells": [
  {
   "cell_type": "code",
   "execution_count": 3,
   "metadata": {},
   "outputs": [],
   "source": [
    "import torch\n",
    "import torch.nn as nn\n",
    "\n",
    "import pandas as pd\n",
    "import numpy as np\n",
    "\n",
    "import matplotlib.pyplot as plt\n",
    "\n",
    "import os"
   ]
  },
  {
   "cell_type": "markdown",
   "metadata": {},
   "source": [
    "# Load the data"
   ]
  },
  {
   "cell_type": "code",
   "execution_count": 18,
   "metadata": {
    "scrolled": false
   },
   "outputs": [
    {
     "name": "stdout",
     "output_type": "stream",
     "text": [
      "Opening file: merrywivesofwindsor.txt\n",
      "Opening file: 2kinghenryiv.txt\n",
      "Opening file: tempest.txt\n",
      "Opening file: loveslabourslost.txt\n",
      "Opening file: cymbeline.txt\n",
      "Opening file: coriolanus.txt\n",
      "Opening file: rapeoflucrece.txt\n",
      "Opening file: twogentlemenofverona.txt\n",
      "Opening file: merchantofvenice.txt\n",
      "Opening file: various.txt\n",
      "Opening file: allswellthatendswell.txt\n",
      "Opening file: sonnets.txt\n",
      "Opening file: midsummersnightsdream.txt\n",
      "Opening file: juliuscaesar.txt\n",
      "Opening file: 1kinghenryiv.txt\n",
      "Opening file: venusandadonis.txt\n",
      "Opening file: othello.txt\n",
      "Opening file: tamingoftheshrew.txt\n",
      "Opening file: kingjohn.txt\n",
      "Opening file: twelfthnight.txt\n",
      "Opening file: periclesprinceoftyre.txt\n",
      "Opening file: kinglear.txt\n",
      "Opening file: troilusandcressida.txt\n",
      "Opening file: kingrichardiii.txt\n",
      "Opening file: 2kinghenryvi.txt\n",
      "Opening file: muchadoaboutnothing.txt\n",
      "Opening file: timonofathens.txt\n",
      "Opening file: measureforemeasure.txt\n",
      "Opening file: kinghenryviii.txt\n",
      "Opening file: asyoulikeit.txt\n",
      "Opening file: 3kinghenryvi.txt\n",
      "Opening file: 1kinghenryvi.txt\n",
      "Opening file: kingrichardii.txt\n",
      "Opening file: romeoandjuliet.txt\n",
      "Opening file: kinghenryv.txt\n",
      "Opening file: antonyandcleopatra.txt\n",
      "Opening file: macbeth.txt\n",
      "Opening file: winterstale.txt\n",
      "Opening file: hamlet.txt\n",
      "Opening file: loverscomplaint.txt\n",
      "Opening file: comedyoferrors.txt\n",
      "Opening file: titusandronicus.txt\n"
     ]
    }
   ],
   "source": [
    "root = '../data/shakespeare/'\n",
    "\n",
    "all_lines = []\n",
    "\n",
    "for filenames in os.listdir(root):\n",
    "    print(f'Opening file: {filenames}')\n",
    "    \n",
    "    with open(os.path.join(root,filenames),'r') as f:\n",
    "        for lines in f:\n",
    "            stripped_line = lines.strip()\n",
    "            \n",
    "            if stripped_line:\n",
    "                all_lines.append(stripped_line)"
   ]
  },
  {
   "cell_type": "code",
   "execution_count": 19,
   "metadata": {},
   "outputs": [
    {
     "name": "stdout",
     "output_type": "stream",
     "text": [
      "The total number of lines: 125097\n",
      "Sample line at position 0: THE MERRY WIVES OF WINDSOR\n",
      "Sample line at position 999: you.\n"
     ]
    }
   ],
   "source": [
    "n_lines = len(all_lines)\n",
    "\n",
    "print(f'The total number of lines: {n_lines}')\n",
    "print(f'Sample line at position 0: {all_lines[0]}')\n",
    "print(f'Sample line at position 999: {all_lines[999]}')"
   ]
  },
  {
   "cell_type": "code",
   "execution_count": 23,
   "metadata": {},
   "outputs": [
    {
     "name": "stdout",
     "output_type": "stream",
     "text": [
      "The total number of lines: 125097\n",
      "Sample line at position 0: the merry wives of windsor\n",
      "Sample line at position 999: you.\n"
     ]
    }
   ],
   "source": [
    "## convert all lines to lower cases to reduce the complexity\n",
    "\n",
    "lines = []\n",
    "\n",
    "for i, l in enumerate(all_lines):\n",
    "    lines.append(l.lower())\n",
    "    \n",
    "print(f'The total number of lines: {len(lines)}')\n",
    "print(f'Sample line at position 0: {lines[0]}')\n",
    "print(f'Sample line at position 999: {lines[999]}')"
   ]
  },
  {
   "cell_type": "markdown",
   "metadata": {},
   "source": [
    "# Convert lines to tensor"
   ]
  },
  {
   "cell_type": "code",
   "execution_count": null,
   "metadata": {},
   "outputs": [],
   "source": []
  }
 ],
 "metadata": {
  "kernelspec": {
   "display_name": "Python 3",
   "language": "python",
   "name": "python3"
  },
  "language_info": {
   "codemirror_mode": {
    "name": "ipython",
    "version": 3
   },
   "file_extension": ".py",
   "mimetype": "text/x-python",
   "name": "python",
   "nbconvert_exporter": "python",
   "pygments_lexer": "ipython3",
   "version": "3.8.2"
  }
 },
 "nbformat": 4,
 "nbformat_minor": 4
}
