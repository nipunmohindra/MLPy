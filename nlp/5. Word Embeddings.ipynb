{
 "cells": [
  {
   "cell_type": "code",
   "execution_count": 6,
   "metadata": {},
   "outputs": [],
   "source": [
    "import numpy as np\n",
    "import pandas as pd\n",
    "import matplotlib.pyplot as plt\n",
    "\n",
    "import torch\n",
    "import torch.nn as nn\n",
    "\n",
    "import re\n",
    "\n",
    "import nltk\n",
    "from nltk.tokenize import word_tokenize"
   ]
  },
  {
   "cell_type": "markdown",
   "metadata": {},
   "source": [
    "## Continous Bag of Words (CBoW)"
   ]
  },
  {
   "cell_type": "markdown",
   "metadata": {},
   "source": [
    "Let's take a look at the following sentence:\n",
    "'I am happy because I am learning'.\n",
    "\n",
    "- 𝑐𝑜𝑛𝑡𝑒𝑥𝑡=[𝐼,𝑎𝑚,𝑏𝑒𝑐𝑎𝑢𝑠𝑒,𝐼]\n",
    "- 𝑡𝑎𝑟𝑔𝑒𝑡=ℎ𝑎𝑝𝑝𝑦\n",
    "\n",
    "For a window size of C=2"
   ]
  },
  {
   "cell_type": "code",
   "execution_count": 16,
   "metadata": {},
   "outputs": [],
   "source": [
    "FILENAME = '../../Data/shakespeare.txt'\n",
    "\n",
    "with open(FILENAME,'r') as f:\n",
    "    data = f.read()\n",
    "    \n",
    "def tokenize_words(data):\n",
    "    data = re.sub(r'[,!?;-]', '.',data)\n",
    "    data = nltk.word_tokenize(data) \n",
    "    data = [d.lower() for d in data if d.isalpha() or d == '.'] ## lower case and drop non-alphabetic tokens\n",
    "    print(f'Total number of unique words :{len(data)}')\n",
    "    return data"
   ]
  },
  {
   "cell_type": "code",
   "execution_count": 17,
   "metadata": {},
   "outputs": [
    {
     "name": "stdout",
     "output_type": "stream",
     "text": [
      "Total number of unique words :60975\n"
     ]
    }
   ],
   "source": [
    "data_tokens = tokenize_words(data)"
   ]
  },
  {
   "cell_type": "code",
   "execution_count": 31,
   "metadata": {},
   "outputs": [
    {
     "name": "stdout",
     "output_type": "stream",
     "text": [
      "['o', 'for', 'a', 'muse', 'of', 'fire', '.', 'that', 'would', 'ascend']\n"
     ]
    }
   ],
   "source": [
    "print(data_tokens[:10]) ## first 10 words"
   ]
  },
  {
   "cell_type": "code",
   "execution_count": 48,
   "metadata": {},
   "outputs": [],
   "source": [
    "def calculate_freqs(data):\n",
    "    '''\n",
    "        Calculate the frequency distribution of the data\n",
    "    '''\n",
    "    word_freqs = {}\n",
    "    \n",
    "    for word in data:\n",
    "        if word not in word_freqs.keys():\n",
    "            word_freqs[word] = 1\n",
    "        else:\n",
    "            word_freqs[word] += 1\n",
    "        \n",
    "    return list(word_freqs.items())"
   ]
  },
  {
   "cell_type": "code",
   "execution_count": 50,
   "metadata": {},
   "outputs": [],
   "source": [
    "data_freqs = calculate_freqs(data_tokens)"
   ]
  },
  {
   "cell_type": "code",
   "execution_count": null,
   "metadata": {},
   "outputs": [],
   "source": []
  }
 ],
 "metadata": {
  "kernelspec": {
   "display_name": "Python 3",
   "language": "python",
   "name": "python3"
  },
  "language_info": {
   "codemirror_mode": {
    "name": "ipython",
    "version": 3
   },
   "file_extension": ".py",
   "mimetype": "text/x-python",
   "name": "python",
   "nbconvert_exporter": "python",
   "pygments_lexer": "ipython3",
   "version": "3.8.2"
  }
 },
 "nbformat": 4,
 "nbformat_minor": 4
}
