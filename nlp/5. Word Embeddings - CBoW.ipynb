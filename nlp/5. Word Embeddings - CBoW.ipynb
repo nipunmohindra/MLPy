{
 "cells": [
  {
   "cell_type": "code",
   "execution_count": 173,
   "metadata": {},
   "outputs": [],
   "source": [
    "import numpy as np\n",
    "import pandas as pd\n",
    "import matplotlib.pyplot as plt\n",
    "\n",
    "import torch\n",
    "import torch.nn as nn\n",
    "\n",
    "import re\n",
    "\n",
    "import nltk\n",
    "from nltk.tokenize import word_tokenize"
   ]
  },
  {
   "cell_type": "markdown",
   "metadata": {},
   "source": [
    "## Continous Bag of Words (CBoW)"
   ]
  },
  {
   "cell_type": "markdown",
   "metadata": {},
   "source": [
    "Let's take a look at the following sentence:\n",
    "'I am happy because I am learning'.\n",
    "\n",
    "- 𝑐𝑜𝑛𝑡𝑒𝑥𝑡=[𝐼,𝑎𝑚,𝑏𝑒𝑐𝑎𝑢𝑠𝑒,𝐼]\n",
    "- 𝑡𝑎𝑟𝑔𝑒𝑡=ℎ𝑎𝑝𝑝𝑦\n",
    "\n",
    "For a window size of C=2"
   ]
  },
  {
   "cell_type": "code",
   "execution_count": 174,
   "metadata": {},
   "outputs": [],
   "source": [
    "corpus = [\n",
    "    'I am happy beacause i am learning',\n",
    "    'Hello this is a wonderful world',\n",
    "    'The capital of India is Delhi',\n",
    "    'The capital of England is London',\n",
    "    'I am sad because i did not win the match',\n",
    "    'He is a good person',\n",
    "    'She offered me a job',\n",
    "    'I celebrated diwali and was happy'\n",
    "]\n",
    "\n",
    "WINDOW_SIZE=2\n",
    "BATCH_SIZE=2"
   ]
  },
  {
   "cell_type": "code",
   "execution_count": 175,
   "metadata": {},
   "outputs": [
    {
     "data": {
      "text/plain": [
       "[['i', 'am', 'happy', 'beacause', 'i', 'am', 'learning'],\n",
       " ['hello', 'this', 'is', 'a', 'wonderful', 'world'],\n",
       " ['the', 'capital', 'of', 'india', 'is', 'delhi'],\n",
       " ['the', 'capital', 'of', 'england', 'is', 'london'],\n",
       " ['i', 'am', 'sad', 'because', 'i', 'did', 'not', 'win', 'the', 'match'],\n",
       " ['he', 'is', 'a', 'good', 'person'],\n",
       " ['she', 'offered', 'me', 'a', 'job'],\n",
       " ['i', 'celebrated', 'diwali', 'and', 'was', 'happy']]"
      ]
     },
     "execution_count": 175,
     "metadata": {},
     "output_type": "execute_result"
    }
   ],
   "source": [
    "def tokenize_corpus(data):\n",
    "    return [d.lower().split() for d in data]\n",
    "\n",
    "corpus_token = tokenize_corpus(corpus)\n",
    "\n",
    "corpus_token"
   ]
  },
  {
   "cell_type": "code",
   "execution_count": 176,
   "metadata": {},
   "outputs": [
    {
     "name": "stdout",
     "output_type": "stream",
     "text": [
      "Total vocabulary size: 35\n",
      "['i', 'am', 'happy', 'beacause', 'learning', 'hello', 'this', 'is', 'a', 'wonderful', 'world', 'the', 'capital', 'of', 'india', 'delhi', 'england', 'london', 'sad', 'because', 'did', 'not', 'win', 'match', 'he', 'good', 'person', 'she', 'offered', 'me', 'job', 'celebrated', 'diwali', 'and', 'was']\n"
     ]
    }
   ],
   "source": [
    "def generate_vocab(corpus):\n",
    "    vocab=[]\n",
    "    for sentence in corpus_token:\n",
    "        for token in sentence:\n",
    "            if token not in vocab:\n",
    "                vocab.append(token)\n",
    "    \n",
    "    return vocab, len(vocab)\n",
    "\n",
    "vocab, len_vocab = generate_vocab(corpus_token)\n",
    "\n",
    "print(f'Total vocabulary size: {len_vocab}')\n",
    "print(vocab)"
   ]
  },
  {
   "cell_type": "code",
   "execution_count": 177,
   "metadata": {},
   "outputs": [
    {
     "name": "stdout",
     "output_type": "stream",
     "text": [
      "10\n",
      "world\n"
     ]
    }
   ],
   "source": [
    "word2indx = { w:idx for idx, w in enumerate(vocab)}\n",
    "indx2word = { idx:w for idx, w in enumerate(vocab)}\n",
    "\n",
    "print(word2indx['world'])\n",
    "print(indx2word[10])"
   ]
  },
  {
   "cell_type": "code",
   "execution_count": 178,
   "metadata": {},
   "outputs": [],
   "source": [
    "def one_hot_encoding(word_indx, vocab):\n",
    "    '''\n",
    "        return one hot encoding of the word indices\n",
    "    '''\n",
    "    vocab_len = len(vocab)\n",
    "    one_hot_content = []\n",
    "    \n",
    "    for idx in word_indx:\n",
    "        word_padd = np.zeros(vocab_len)\n",
    "        word_padd[idx] = 1  \n",
    "        one_hot_content.append(word_padd)\n",
    "        \n",
    "    return one_hot_content\n",
    "    "
   ]
  },
  {
   "cell_type": "code",
   "execution_count": 259,
   "metadata": {},
   "outputs": [],
   "source": [
    "def feature_extraction(corpus_token, window_size, vocab):\n",
    "    '''\n",
    "     Get the middle word and its corresponding context words based on window size\n",
    "    '''\n",
    "    \n",
    "    for sentences in corpus_token:\n",
    "        indices = [word2indx[word] for word in sentences]\n",
    "        \n",
    "        for i in range(len(sentences)):\n",
    "            start_indx = i - window_size\n",
    "            end_indx = i + window_size + 1\n",
    "            center_indx = i\n",
    "            \n",
    "            context_words = indices[start_indx:i] + indices[center_indx+1:end_indx]\n",
    "            center_word = [indices[center_indx]]\n",
    "            \n",
    "            num_context_words = len(context_words)\n",
    "            oh_context_words = one_hot_encoding(context_words, vocab)\n",
    "            oh_center_word = one_hot_encoding(center_word, vocab)\n",
    "            \n",
    "            X = sum(oh_context_words)/num_context_words\n",
    "            y = np.array(oh_center_word).reshape(len(vocab),)\n",
    "            \n",
    "            yield X, y\n",
    "            "
   ]
  },
  {
   "cell_type": "code",
   "execution_count": 260,
   "metadata": {},
   "outputs": [
    {
     "name": "stdout",
     "output_type": "stream",
     "text": [
      "The shape of X: (35,) and the shape of y: (35,)\n"
     ]
    }
   ],
   "source": [
    "X, y = next(feature_extraction(corpus_token, WINDOW_SIZE, vocab))\n",
    "\n",
    "print(f'The shape of X: {X.shape} and the shape of y: {y.shape}')"
   ]
  },
  {
   "cell_type": "code",
   "execution_count": 306,
   "metadata": {},
   "outputs": [
    {
     "name": "stdout",
     "output_type": "stream",
     "text": [
      "0 \t\t [0.  0.5 0.5 0.  0.  0.  0.  0.  0.  0.  0.  0.  0.  0.  0.  0.  0.  0.\n",
      " 0.  0.  0.  0.  0.  0.  0.  0.  0.  0.  0.  0.  0.  0.  0.  0.  0. ]\n",
      "1 \t\t [0.  0.  0.5 0.5 0.  0.  0.  0.  0.  0.  0.  0.  0.  0.  0.  0.  0.  0.\n",
      " 0.  0.  0.  0.  0.  0.  0.  0.  0.  0.  0.  0.  0.  0.  0.  0.  0. ]\n"
     ]
    }
   ],
   "source": [
    "for i,(a,b) in enumerate(feature_extraction(corpus_token, WINDOW_SIZE, vocab)):\n",
    "    if i<2:\n",
    "        print(i,'\\t\\t',a)"
   ]
  },
  {
   "cell_type": "code",
   "execution_count": 307,
   "metadata": {},
   "outputs": [
    {
     "data": {
      "text/plain": [
       "array([0. , 0.5, 0.5, 0. , 0. , 0. , 0. , 0. , 0. , 0. , 0. , 0. , 0. ,\n",
       "       0. , 0. , 0. , 0. , 0. , 0. , 0. , 0. , 0. , 0. , 0. , 0. , 0. ,\n",
       "       0. , 0. , 0. , 0. , 0. , 0. , 0. , 0. , 0. ])"
      ]
     },
     "execution_count": 307,
     "metadata": {},
     "output_type": "execute_result"
    }
   ],
   "source": [
    "X"
   ]
  },
  {
   "cell_type": "code",
   "execution_count": 308,
   "metadata": {},
   "outputs": [],
   "source": [
    "def generate_batch(corpus, window_size, vocab, batch_size=2):\n",
    "    all_contents_X = []\n",
    "    all_contents_y = []\n",
    "    batch_X = []\n",
    "    batch_y = []\n",
    "    \n",
    "    for X,y in feature_extraction(corpus, window_size, vocab):\n",
    "        all_contents_X.append(X)\n",
    "        all_contents_y.append(y)\n",
    "    \n",
    "    for i, items in enumerate(all_contents_X):\n",
    "        while len(batch_X) < batch_size:\n",
    "            batch_X.append(all_contents_X[i])\n",
    "            batch_y.append(all_contents_y[i])\n",
    "        else:\n",
    "            yield np.array(batch_X).T, np.array(batch_y).T\n",
    "            batch_X = []\n",
    "            batch_y = []"
   ]
  },
  {
   "cell_type": "code",
   "execution_count": 309,
   "metadata": {},
   "outputs": [
    {
     "name": "stdout",
     "output_type": "stream",
     "text": [
      "The shape of X: (35, 2) and the shape of y: (35, 2)\n"
     ]
    }
   ],
   "source": [
    "X1, y1 = next(generate_batch(corpus_token, WINDOW_SIZE, vocab, BATCH_SIZE))\n",
    "\n",
    "print(f'The shape of X: {X1.shape} and the shape of y: {y1.shape}')"
   ]
  },
  {
   "cell_type": "code",
   "execution_count": 310,
   "metadata": {},
   "outputs": [
    {
     "data": {
      "text/plain": [
       "array([[0. , 0. ],\n",
       "       [0.5, 0.5],\n",
       "       [0.5, 0.5],\n",
       "       [0. , 0. ],\n",
       "       [0. , 0. ],\n",
       "       [0. , 0. ],\n",
       "       [0. , 0. ],\n",
       "       [0. , 0. ],\n",
       "       [0. , 0. ],\n",
       "       [0. , 0. ],\n",
       "       [0. , 0. ],\n",
       "       [0. , 0. ],\n",
       "       [0. , 0. ],\n",
       "       [0. , 0. ],\n",
       "       [0. , 0. ],\n",
       "       [0. , 0. ],\n",
       "       [0. , 0. ],\n",
       "       [0. , 0. ],\n",
       "       [0. , 0. ],\n",
       "       [0. , 0. ],\n",
       "       [0. , 0. ],\n",
       "       [0. , 0. ],\n",
       "       [0. , 0. ],\n",
       "       [0. , 0. ],\n",
       "       [0. , 0. ],\n",
       "       [0. , 0. ],\n",
       "       [0. , 0. ],\n",
       "       [0. , 0. ],\n",
       "       [0. , 0. ],\n",
       "       [0. , 0. ],\n",
       "       [0. , 0. ],\n",
       "       [0. , 0. ],\n",
       "       [0. , 0. ],\n",
       "       [0. , 0. ],\n",
       "       [0. , 0. ]])"
      ]
     },
     "execution_count": 310,
     "metadata": {},
     "output_type": "execute_result"
    }
   ],
   "source": [
    "X1"
   ]
  },
  {
   "cell_type": "code",
   "execution_count": 311,
   "metadata": {},
   "outputs": [
    {
     "data": {
      "text/plain": [
       "array([[1., 1.],\n",
       "       [0., 0.],\n",
       "       [0., 0.],\n",
       "       [0., 0.],\n",
       "       [0., 0.],\n",
       "       [0., 0.],\n",
       "       [0., 0.],\n",
       "       [0., 0.],\n",
       "       [0., 0.],\n",
       "       [0., 0.],\n",
       "       [0., 0.],\n",
       "       [0., 0.],\n",
       "       [0., 0.],\n",
       "       [0., 0.],\n",
       "       [0., 0.],\n",
       "       [0., 0.],\n",
       "       [0., 0.],\n",
       "       [0., 0.],\n",
       "       [0., 0.],\n",
       "       [0., 0.],\n",
       "       [0., 0.],\n",
       "       [0., 0.],\n",
       "       [0., 0.],\n",
       "       [0., 0.],\n",
       "       [0., 0.],\n",
       "       [0., 0.],\n",
       "       [0., 0.],\n",
       "       [0., 0.],\n",
       "       [0., 0.],\n",
       "       [0., 0.],\n",
       "       [0., 0.],\n",
       "       [0., 0.],\n",
       "       [0., 0.],\n",
       "       [0., 0.],\n",
       "       [0., 0.]])"
      ]
     },
     "execution_count": 311,
     "metadata": {},
     "output_type": "execute_result"
    }
   ],
   "source": [
    "y1"
   ]
  },
  {
   "cell_type": "code",
   "execution_count": null,
   "metadata": {},
   "outputs": [],
   "source": []
  },
  {
   "cell_type": "code",
   "execution_count": null,
   "metadata": {},
   "outputs": [],
   "source": []
  },
  {
   "cell_type": "code",
   "execution_count": 288,
   "metadata": {},
   "outputs": [],
   "source": [
    "class CBOWEmbeddingModel(nn.Module):\n",
    "    def __init__(self, input_dim, output_dim):\n",
    "        super().__init__()\n",
    "        self.fc1 = nn.Linear(input_dim, output_dim)\n",
    "        \n",
    "    def forward(self, x):\n",
    "        x = self.log_softmax(self.fc1(x))\n",
    "        return x"
   ]
  },
  {
   "cell_type": "code",
   "execution_count": 289,
   "metadata": {},
   "outputs": [
    {
     "data": {
      "text/plain": [
       "CBOWEmbeddingModel(\n",
       "  (fc1): Linear(in_features=10, out_features=20, bias=True)\n",
       ")"
      ]
     },
     "execution_count": 289,
     "metadata": {},
     "output_type": "execute_result"
    }
   ],
   "source": [
    "model = CBOWEmbeddingModel(10,20)\n",
    "model"
   ]
  },
  {
   "cell_type": "code",
   "execution_count": 290,
   "metadata": {},
   "outputs": [],
   "source": [
    "criterion = nn.NLLLoss()\n",
    "optimizer = torch.optim.Adam(model.parameters(), lr=0.001)"
   ]
  },
  {
   "cell_type": "code",
   "execution_count": 232,
   "metadata": {},
   "outputs": [],
   "source": [
    "epochs = 100\n",
    "\n",
    "acc_loss = []\n",
    "\n",
    "for epoch in range(epochs):\n",
    "    #print(epoch)\n",
    "    pass"
   ]
  },
  {
   "cell_type": "code",
   "execution_count": null,
   "metadata": {},
   "outputs": [],
   "source": []
  },
  {
   "cell_type": "code",
   "execution_count": null,
   "metadata": {},
   "outputs": [],
   "source": []
  }
 ],
 "metadata": {
  "kernelspec": {
   "display_name": "Python 3",
   "language": "python",
   "name": "python3"
  },
  "language_info": {
   "codemirror_mode": {
    "name": "ipython",
    "version": 3
   },
   "file_extension": ".py",
   "mimetype": "text/x-python",
   "name": "python",
   "nbconvert_exporter": "python",
   "pygments_lexer": "ipython3",
   "version": "3.8.2"
  }
 },
 "nbformat": 4,
 "nbformat_minor": 4
}
