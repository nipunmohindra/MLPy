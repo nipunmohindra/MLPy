{
 "cells": [
  {
   "cell_type": "markdown",
   "metadata": {},
   "source": [
    "# General Imports and Downloads"
   ]
  },
  {
   "cell_type": "code",
   "execution_count": 1093,
   "metadata": {},
   "outputs": [],
   "source": [
    "import numpy as np\n",
    "import pandas as pd\n",
    "import matplotlib.pyplot as plt\n",
    "\n",
    "import torch\n",
    "import torch.nn as nn\n",
    "from torch.utils.data import Dataset, DataLoader\n",
    "from torchvision import transforms\n",
    "\n",
    "import nltk\n",
    "from nltk.corpus import twitter_samples"
   ]
  },
  {
   "cell_type": "code",
   "execution_count": 1094,
   "metadata": {},
   "outputs": [
    {
     "name": "stderr",
     "output_type": "stream",
     "text": [
      "[nltk_data] Downloading package twitter_samples to\n",
      "[nltk_data]     /Users/rishushrivastava/nltk_data...\n",
      "[nltk_data]   Package twitter_samples is already up-to-date!\n"
     ]
    },
    {
     "data": {
      "text/plain": [
       "True"
      ]
     },
     "execution_count": 1094,
     "metadata": {},
     "output_type": "execute_result"
    }
   ],
   "source": [
    "nltk.download('twitter_samples')"
   ]
  },
  {
   "cell_type": "code",
   "execution_count": 1095,
   "metadata": {},
   "outputs": [
    {
     "name": "stderr",
     "output_type": "stream",
     "text": [
      "[nltk_data] Downloading package stopwords to\n",
      "[nltk_data]     /Users/rishushrivastava/nltk_data...\n",
      "[nltk_data]   Package stopwords is already up-to-date!\n"
     ]
    },
    {
     "data": {
      "text/plain": [
       "True"
      ]
     },
     "execution_count": 1095,
     "metadata": {},
     "output_type": "execute_result"
    }
   ],
   "source": [
    "nltk.download('stopwords')"
   ]
  },
  {
   "cell_type": "code",
   "execution_count": 1096,
   "metadata": {},
   "outputs": [],
   "source": [
    "from nltk.corpus import stopwords\n",
    "from nltk.tokenize import TweetTokenizer\n",
    "from nltk.stem import PorterStemmer\n",
    "import re"
   ]
  },
  {
   "cell_type": "markdown",
   "metadata": {},
   "source": [
    "# Load the data"
   ]
  },
  {
   "cell_type": "code",
   "execution_count": 1097,
   "metadata": {},
   "outputs": [],
   "source": [
    "def load_tweet():\n",
    "    '''\n",
    "        Load the positive and negative tweets\n",
    "    '''\n",
    "    positive_tweets = twitter_samples.strings('positive_tweets.json')\n",
    "    negative_tweets = twitter_samples.strings('negative_tweets.json')\n",
    "    \n",
    "    return positive_tweets, negative_tweets"
   ]
  },
  {
   "cell_type": "code",
   "execution_count": 1098,
   "metadata": {},
   "outputs": [
    {
     "name": "stdout",
     "output_type": "stream",
     "text": [
      "Positive Tweets length: 5000\n",
      "Negative Tweets length: 5000\n"
     ]
    }
   ],
   "source": [
    "positive_tweets, negative_tweets = load_tweet()\n",
    "\n",
    "print(f'Positive Tweets length: {len(positive_tweets)}')\n",
    "print(f'Negative Tweets length: {len(negative_tweets)}')"
   ]
  },
  {
   "cell_type": "code",
   "execution_count": 1099,
   "metadata": {},
   "outputs": [],
   "source": [
    "## splitting the positive and negative tweets in 80:20 split\n",
    "\n",
    "def split_pos_neg_tweets(pos_tweets, neg_tweets, split=0.8):\n",
    "    '''\n",
    "        Splits the positive and negative tweets and returns training and val_test datasets\n",
    "    '''\n",
    "    \n",
    "    max_train_rows = int(len(pos_tweets) * split)\n",
    "    \n",
    "    print(f'Splitting the dataset in the ratio: {split}')\n",
    "    \n",
    "    train_pos = pos_tweets[:max_train_rows]\n",
    "    val_pos = pos_tweets[max_train_rows:]\n",
    "    \n",
    "    train_neg = neg_tweets[:max_train_rows]\n",
    "    val_neg = neg_tweets[max_train_rows:]\n",
    "    \n",
    "    train_label = np.append(np.ones(len(train_pos)), np.zeros(len(train_neg)))\n",
    "    val_label = np.append(np.ones(len(val_pos)), np.zeros(len(val_neg)))\n",
    "    \n",
    "    print(f'Total Training Rows (pos+neg) : {len(train_pos + train_neg)}')\n",
    "    print(f'Total Validation Rows (pos+neg): {len(val_pos + val_neg)}')\n",
    "    \n",
    "    return train_pos + train_neg , val_pos + val_neg, train_label, val_label"
   ]
  },
  {
   "cell_type": "code",
   "execution_count": 1100,
   "metadata": {},
   "outputs": [
    {
     "name": "stdout",
     "output_type": "stream",
     "text": [
      "Splitting the dataset in the ratio: 0.8\n",
      "Total Training Rows (pos+neg) : 8000\n",
      "Total Validation Rows (pos+neg): 2000\n"
     ]
    }
   ],
   "source": [
    "train_data, val_data, train_label, val_label = split_pos_neg_tweets(positive_tweets, negative_tweets)"
   ]
  },
  {
   "cell_type": "code",
   "execution_count": 1101,
   "metadata": {},
   "outputs": [
    {
     "name": "stdout",
     "output_type": "stream",
     "text": [
      "Sample training data   : @stormieraae what the heck :( you don't follow her?\n",
      "Sample training label  : 0.0\n"
     ]
    }
   ],
   "source": [
    "print(f'Sample training data   : {train_data[6000]}')\n",
    "print(f'Sample training label  : {train_label[6000]}')"
   ]
  },
  {
   "cell_type": "code",
   "execution_count": 1102,
   "metadata": {},
   "outputs": [
    {
     "name": "stdout",
     "output_type": "stream",
     "text": [
      "Sample training data  : #FollowFriday @France_Inte @PKuchly57 @Milipol_Paris for being top engaged members in my community this week :)\n",
      "Sample training label : 1.0\n"
     ]
    }
   ],
   "source": [
    "print(f'Sample training data  : {train_data[0]}')\n",
    "print(f'Sample training label : {train_label[0]}')"
   ]
  },
  {
   "cell_type": "markdown",
   "metadata": {},
   "source": [
    "# Tweet Transformation"
   ]
  },
  {
   "cell_type": "code",
   "execution_count": 1103,
   "metadata": {},
   "outputs": [],
   "source": [
    "stemmer = PorterStemmer()\n",
    "\n",
    "def tweet_transform(tweets):\n",
    "    '''\n",
    "        Tokenize, remove stopword, remove hashtags and usernames, stem the words from tweets\n",
    "    '''\n",
    "    \n",
    "    stop_words = stopwords.words('english')\n",
    "    \n",
    "    tweet = re.sub(r'#','',tweets)\n",
    "    tweet = re.sub(r'\\$\\w*', '', tweet)\n",
    "    tweet = re.sub(r'https?:\\/\\/.*[\\r\\n]*','',tweet) ## remove any hyperlinks\n",
    "    tweet = re.sub(r'^RT[\\s]+','',tweet) ## remove any Retweets (RT)\n",
    "    \n",
    "    tokenizer = TweetTokenizer(preserve_case=True, reduce_len=False)\n",
    "    tweet_tokenise = tokenizer.tokenize(tweet)\n",
    "    \n",
    "    cleaned_tweets = []\n",
    "    \n",
    "    for t in tweet_tokenise:\n",
    "        if t not in stop_words and t[0] != '@': ## ignore stopwords and usernames\n",
    "            stemmed_word = stemmer.stem(t) ## stem the words\n",
    "            cleaned_tweets.append(stemmed_word)\n",
    "    \n",
    "    return cleaned_tweets\n",
    "    "
   ]
  },
  {
   "cell_type": "code",
   "execution_count": 1104,
   "metadata": {},
   "outputs": [
    {
     "name": "stdout",
     "output_type": "stream",
     "text": [
      "Original Tweet: \n",
      " #FollowFriday @France_Inte @PKuchly57 @Milipol_Paris for being top engaged members in my community this week :) \n",
      "\n",
      "Transformed Tweet: \n",
      " ['followfriday', 'top', 'engag', 'member', 'commun', 'week', ':)']\n"
     ]
    }
   ],
   "source": [
    "print(f'Original Tweet: \\n {train_data[0]} \\n')\n",
    "print(f'Transformed Tweet: \\n {tweet_transform(train_data[0])}')"
   ]
  },
  {
   "cell_type": "code",
   "execution_count": 1105,
   "metadata": {},
   "outputs": [
    {
     "name": "stdout",
     "output_type": "stream",
     "text": [
      "Original Tweet: \n",
      " @stormieraae what the heck :( you don't follow her? \n",
      "\n",
      "Transformed Tweet: \n",
      " ['heck', ':(', 'follow', '?']\n"
     ]
    }
   ],
   "source": [
    "print(f'Original Tweet: \\n {train_data[6000]} \\n')\n",
    "print(f'Transformed Tweet: \\n {tweet_transform(train_data[6000])}')"
   ]
  },
  {
   "cell_type": "markdown",
   "metadata": {},
   "source": [
    "# Creating word vocabulary"
   ]
  },
  {
   "cell_type": "code",
   "execution_count": 1106,
   "metadata": {},
   "outputs": [],
   "source": [
    "def tweet_vocab(tweets):\n",
    "    '''\n",
    "        The vocabulary of the tweet.\n",
    "    '''\n",
    "    \n",
    "    vocab = {'__PAD__':0, '__</e>__':1, '__UNK__':2}\n",
    "    \n",
    "    for tweet in tweets:\n",
    "        \n",
    "        processed_tweet = tweet_transform(tweet)\n",
    "        \n",
    "        for word in processed_tweet:\n",
    "            if word not in vocab:\n",
    "                vocab[word] = len(vocab)\n",
    "    \n",
    "    return vocab"
   ]
  },
  {
   "cell_type": "code",
   "execution_count": 1107,
   "metadata": {},
   "outputs": [
    {
     "name": "stdout",
     "output_type": "stream",
     "text": [
      "Total vocabulary : 9422\n"
     ]
    }
   ],
   "source": [
    "vocab = tweet_vocab(train_data)\n",
    "\n",
    "print(f'Total vocabulary : {len(vocab)}')"
   ]
  },
  {
   "cell_type": "code",
   "execution_count": 1108,
   "metadata": {},
   "outputs": [],
   "source": [
    "train_df = pd.DataFrame({\"data\":train_data,\"label\":train_label})\n",
    "val_df = pd.DataFrame({\"data\":val_data, \"label\":val_label})"
   ]
  },
  {
   "cell_type": "code",
   "execution_count": 1109,
   "metadata": {},
   "outputs": [],
   "source": [
    "train_df['transformed_data'] = train_df['data'].apply(lambda x: tweet_transform(x))\n",
    "val_df['transformed_data'] = val_df['data'].apply(lambda x: tweet_transform(x))"
   ]
  },
  {
   "cell_type": "code",
   "execution_count": 1110,
   "metadata": {},
   "outputs": [
    {
     "data": {
      "text/plain": [
       "0    [followfriday, top, engag, member, commun, wee...\n",
       "1    [hey, jame, !, how, odd, :/, pleas, call, cont...\n",
       "2    [listen, last, night, :), As, you, bleed, amaz...\n",
       "3                                        [congrat, :)]\n",
       "4    [yeaaaah, yippppi, !, !, !, accnt, verifi, rqs...\n",
       "Name: transformed_data, dtype: object"
      ]
     },
     "execution_count": 1110,
     "metadata": {},
     "output_type": "execute_result"
    }
   ],
   "source": [
    "train_df['transformed_data'].head()"
   ]
  },
  {
   "cell_type": "code",
   "execution_count": null,
   "metadata": {},
   "outputs": [],
   "source": []
  },
  {
   "cell_type": "markdown",
   "metadata": {},
   "source": [
    "# Convert to Tensor + Generator"
   ]
  },
  {
   "cell_type": "code",
   "execution_count": 1111,
   "metadata": {},
   "outputs": [],
   "source": [
    "def tweet_to_tensor(tweet, vocab, unknown_token = '__UNK__', verbose=False):\n",
    "    '''\n",
    "        Converts a tweet to tensors\n",
    "    '''\n",
    "    \n",
    "    tensor = []\n",
    "    processed_tweet = tweet_transform(tweet)\n",
    "    UNK_id = vocab.get(unknown_token)\n",
    "    \n",
    "    if verbose:\n",
    "        print(f'List of Processed Tweets')\n",
    "        print(processed_tweet)\n",
    "    \n",
    "    for word in processed_tweet:\n",
    "        tensor.append(vocab.get(word,UNK_id))\n",
    "        \n",
    "    return tensor"
   ]
  },
  {
   "cell_type": "code",
   "execution_count": 1112,
   "metadata": {},
   "outputs": [
    {
     "name": "stdout",
     "output_type": "stream",
     "text": [
      "Actual Tweet : \n",
      " Bro:U wan cut hair anot,ur hair long Liao bo\n",
      "Me:since ord liao,take it easy lor treat as save $ leave it longer :)\n",
      "Bro:LOL Sibei xialan\n",
      "Tensor: [1146, 204, 402, 527, 2478, 808, 8447, 72, 1208, 808, 62, 2, 2803, 1905, 204, 856, 2, 2, 72, 386, 654, 2, 3656, 1096, 650, 4761, 9, 1146, 204, 177, 2, 2]\n"
     ]
    }
   ],
   "source": [
    "print(f'Actual Tweet : \\n {val_data[0]}')\n",
    "print(f'Tensor: {tweet_to_tensor(val_data[0],vocab,verbose=False)}')"
   ]
  },
  {
   "cell_type": "code",
   "execution_count": 1113,
   "metadata": {},
   "outputs": [],
   "source": [
    "train_df['transformed_data_tensor'] = train_df['data'].apply(lambda x: tweet_to_tensor(x,vocab))\n",
    "val_df['transformed_data_tensor'] = val_df['data'].apply(lambda x: tweet_to_tensor(x,vocab))"
   ]
  },
  {
   "cell_type": "code",
   "execution_count": 1114,
   "metadata": {},
   "outputs": [
    {
     "data": {
      "text/plain": [
       "[3, 4, 5, 6, 7, 8, 9]"
      ]
     },
     "execution_count": 1114,
     "metadata": {},
     "output_type": "execute_result"
    }
   ],
   "source": [
    "train_df['transformed_data_tensor'][0]"
   ]
  },
  {
   "cell_type": "code",
   "execution_count": 1115,
   "metadata": {},
   "outputs": [
    {
     "data": {
      "text/plain": [
       "1.0"
      ]
     },
     "execution_count": 1115,
     "metadata": {},
     "output_type": "execute_result"
    }
   ],
   "source": [
    "train_df['label'][0]"
   ]
  },
  {
   "cell_type": "code",
   "execution_count": 1116,
   "metadata": {},
   "outputs": [
    {
     "data": {
      "text/plain": [
       "[657, 3662, 19, 489, 33, 9150, 489, 72, 2, 202, 108, 657, 9]"
      ]
     },
     "execution_count": 1116,
     "metadata": {},
     "output_type": "execute_result"
    }
   ],
   "source": [
    "val_df['transformed_data_tensor'][3]"
   ]
  },
  {
   "cell_type": "code",
   "execution_count": 1117,
   "metadata": {},
   "outputs": [],
   "source": [
    "class TweetDataset(Dataset):\n",
    "    '''\n",
    "        Dataset to process tweet\n",
    "    '''\n",
    "    \n",
    "    def __init__(self, data, train=True):\n",
    "        \n",
    "        self.data = data\n",
    "        self.train = train\n",
    "        \n",
    "    \n",
    "    def __len__(self):\n",
    "        return self.data.shape[0]\n",
    "    \n",
    "    def __getitem__(self, idx):\n",
    "        X = self.data['transformed_data_tensor'][idx]\n",
    "        \n",
    "        if self.train:\n",
    "            y = self.data['label'][idx]\n",
    "        \n",
    "        X = torch.tensor(X)\n",
    "        \n",
    "        if self.train:\n",
    "            return X,y\n",
    "        else:\n",
    "            return X"
   ]
  },
  {
   "cell_type": "code",
   "execution_count": 1118,
   "metadata": {},
   "outputs": [],
   "source": [
    "train_dataset = TweetDataset(train_df, train=True)\n",
    "val_dataset = TweetDataset(val_df, train=True)"
   ]
  },
  {
   "cell_type": "code",
   "execution_count": 1119,
   "metadata": {},
   "outputs": [],
   "source": [
    "def collate_fn_tweet(batch):\n",
    "    '''\n",
    "        Lookup the batch length and pads it with zeros. Essential for DataLoader in order to be of same size.\n",
    "        Applicable for Train and Validation Tweets.\n",
    "        \n",
    "        Input:\n",
    "            Batch: sequence of data from the dataloader\n",
    "        Output:\n",
    "            transformed_data: list of tensors of equal lengths of padded zero's.\n",
    "    '''\n",
    "    \n",
    "    max_batch_length = max([ len(b[0]) for b in batch ])\n",
    "    \n",
    "    data = torch.LongTensor([list(data.numpy()) + [0] * (max_batch_length - data.shape[0]) for data, label in batch])\n",
    "    label = torch.LongTensor([label for data, label in batch]).view(len(data),-1)\n",
    "    #label = torch.Tensor([label for data, label in batch])\n",
    "        \n",
    "    return data, label"
   ]
  },
  {
   "cell_type": "code",
   "execution_count": 1120,
   "metadata": {},
   "outputs": [],
   "source": [
    "train_loader = DataLoader(train_dataset, batch_size=10, shuffle=True, collate_fn=collate_fn_tweet)\n",
    "val_loader = DataLoader(val_dataset, batch_size=10, shuffle=True, collate_fn=collate_fn_tweet)"
   ]
  },
  {
   "cell_type": "code",
   "execution_count": 1121,
   "metadata": {},
   "outputs": [
    {
     "name": "stderr",
     "output_type": "stream",
     "text": [
      "<ipython-input-1119-cef3f1009f05>:15: DeprecationWarning: an integer is required (got type numpy.float64).  Implicit conversion to integers using __int__ is deprecated, and may be removed in a future version of Python.\n",
      "  label = torch.LongTensor([label for data, label in batch]).view(len(data),-1)\n"
     ]
    }
   ],
   "source": [
    "for b, tl in enumerate(train_loader):\n",
    "    break"
   ]
  },
  {
   "cell_type": "code",
   "execution_count": 1122,
   "metadata": {},
   "outputs": [
    {
     "name": "stdout",
     "output_type": "stream",
     "text": [
      "Data : tensor([[ 284,    9,   13,   72, 2265,   36,    0,    0,    0,    0,    0,    0,\n",
      "            0,    0,    0,    0,    0,    0,    0,    0],\n",
      "        [ 768,  152, 2719, 2720, 2721,   57,  197, 2722,  150,  152,  126,  365,\n",
      "         2723, 2724, 2725, 2724,  275,  222,    9,   15],\n",
      "        [3976, 2430,  260,   33,   77,  152,   57,  433, 3977,   53,   33,  635,\n",
      "         3978,    9,    0,    0,    0,    0,    0,    0],\n",
      "        [1496,  287,   86, 2891, 7052, 1807,   89, 3942,    0,    0,    0,    0,\n",
      "            0,    0,    0,    0,    0,    0,    0,    0],\n",
      "        [ 111, 2663,   24,   72,  561,   16,  111, 2663, 5486, 3942,    0,    0,\n",
      "            0,    0,    0,    0,    0,    0,    0,    0],\n",
      "        [1605,   88,    0,    0,    0,    0,    0,    0,    0,    0,    0,    0,\n",
      "            0,    0,    0,    0,    0,    0,    0,    0],\n",
      "        [1086,   12,   24,   33,  316,  751,   88,    0,    0,    0,    0,    0,\n",
      "            0,    0,    0,    0,    0,    0,    0,    0],\n",
      "        [ 152, 2615,  300, 3942,  645,  632,  222, 5001,  524,  177,    0,    0,\n",
      "            0,    0,    0,    0,    0,    0,    0,    0],\n",
      "        [6167,   72, 7207,  108, 3942,  108,    0,    0,    0,    0,    0,    0,\n",
      "            0,    0,    0,    0,    0,    0,    0,    0],\n",
      "        [ 111,  112,    0,    0,    0,    0,    0,    0,    0,    0,    0,    0,\n",
      "            0,    0,    0,    0,    0,    0,    0,    0]]) \n",
      "Label: tensor([[1],\n",
      "        [1],\n",
      "        [1],\n",
      "        [0],\n",
      "        [0],\n",
      "        [1],\n",
      "        [1],\n",
      "        [0],\n",
      "        [0],\n",
      "        [1]])\n"
     ]
    }
   ],
   "source": [
    "X_train, y_train = tl\n",
    "print('Data :',X_train, '\\nLabel:', y_train)"
   ]
  },
  {
   "cell_type": "code",
   "execution_count": 1123,
   "metadata": {},
   "outputs": [
    {
     "name": "stderr",
     "output_type": "stream",
     "text": [
      "<ipython-input-1119-cef3f1009f05>:15: DeprecationWarning: an integer is required (got type numpy.float64).  Implicit conversion to integers using __int__ is deprecated, and may be removed in a future version of Python.\n",
      "  label = torch.LongTensor([label for data, label in batch]).view(len(data),-1)\n"
     ]
    }
   ],
   "source": [
    "for b, p in enumerate(train_loader):\n",
    "    break"
   ]
  },
  {
   "cell_type": "code",
   "execution_count": 1124,
   "metadata": {},
   "outputs": [
    {
     "data": {
      "text/plain": [
       "torch.Size([10, 1])"
      ]
     },
     "execution_count": 1124,
     "metadata": {},
     "output_type": "execute_result"
    }
   ],
   "source": [
    "p[1].shape"
   ]
  },
  {
   "cell_type": "code",
   "execution_count": 1125,
   "metadata": {},
   "outputs": [
    {
     "name": "stderr",
     "output_type": "stream",
     "text": [
      "<ipython-input-1119-cef3f1009f05>:15: DeprecationWarning: an integer is required (got type numpy.float64).  Implicit conversion to integers using __int__ is deprecated, and may be removed in a future version of Python.\n",
      "  label = torch.LongTensor([label for data, label in batch]).view(len(data),-1)\n"
     ]
    }
   ],
   "source": [
    "for b, val_tl in enumerate(val_loader):\n",
    "    break"
   ]
  },
  {
   "cell_type": "code",
   "execution_count": 1126,
   "metadata": {
    "scrolled": false
   },
   "outputs": [
    {
     "name": "stdout",
     "output_type": "stream",
     "text": [
      "Data : tensor([[ 153, 1557, 3942,    0,    0,    0,    0,    0,    0,    0,    0,    0,\n",
      "            0,    0,    0,    0,    0],\n",
      "        [  56,  733, 1026,    2,  507,  395,   12,  536,  490, 2008,  365,   51,\n",
      "         6404,  203,  682,    2,    9],\n",
      "        [2098, 1726,  126,   53,    2,   12, 3942,    0,    0,    0,    0,    0,\n",
      "            0,    0,    0,    0,    0],\n",
      "        [6147, 1094,   61,  466, 8259,  795,    9,    0,    0,    0,    0,    0,\n",
      "            0,    0,    0,    0,    0],\n",
      "        [ 459, 3942,    0,    0,    0,    0,    0,    0,    0,    0,    0,    0,\n",
      "            0,    0,    0,    0,    0],\n",
      "        [   2,  133,   72,  152,  268,  152,   86, 5979,    0,    0,    0,    0,\n",
      "            0,    0,    0,    0,    0],\n",
      "        [ 114,  111,  490, 3246,    9,    0,    0,    0,    0,    0,    0,    0,\n",
      "            0,    0,    0,    0,    0],\n",
      "        [2778,   33,  152,  655,  152,  153, 1553,  729,  381, 1516,    2,  606,\n",
      "          179,    9,    0,    0,    0],\n",
      "        [   2,    2, 2647, 1681, 3942,    0,    0,    0,    0,    0,    0,    0,\n",
      "            0,    0,    0,    0,    0],\n",
      "        [   2,    2, 1691,    2,   36, 1016,   12,    9,    0,    0,    0,    0,\n",
      "            0,    0,    0,    0,    0]]) \n",
      "Label: tensor([[0],\n",
      "        [1],\n",
      "        [0],\n",
      "        [1],\n",
      "        [0],\n",
      "        [0],\n",
      "        [1],\n",
      "        [1],\n",
      "        [0],\n",
      "        [1]])\n"
     ]
    }
   ],
   "source": [
    "X_val, y_val = val_tl\n",
    "\n",
    "print('Data :',X_val,'\\nLabel:',y_val)"
   ]
  },
  {
   "cell_type": "markdown",
   "metadata": {},
   "source": [
    "# Define Model"
   ]
  },
  {
   "cell_type": "code",
   "execution_count": 1127,
   "metadata": {},
   "outputs": [],
   "source": [
    "class TweetDNNModel(nn.Module):\n",
    "    \n",
    "    def __init__(self, input_dim=len(vocab), embedding_dim=256, output_dim=1):\n",
    "        super().__init__()\n",
    "        \n",
    "        self.embeddings = nn.Embedding(input_dim, embedding_dim)\n",
    "        self.fc1 = nn.Linear(embedding_dim, 120)\n",
    "        self.fc2 = nn.Linear(120, 80)\n",
    "        self.fc3 = nn.Linear(80, output_dim)\n",
    "    \n",
    "    def forward(self,x):\n",
    "        \n",
    "        x = self.embeddings(x)\n",
    "        x = nn.functional.relu(self.fc1(x))\n",
    "        x = nn.functional.relu(self.fc2(x))\n",
    "        x = nn.functional.log_softmax(self.fc3(x),dim=1)\n",
    "        \n",
    "        return x"
   ]
  },
  {
   "cell_type": "code",
   "execution_count": 1128,
   "metadata": {},
   "outputs": [
    {
     "data": {
      "text/plain": [
       "TweetDNNModel(\n",
       "  (embeddings): Embedding(9422, 256)\n",
       "  (fc1): Linear(in_features=256, out_features=120, bias=True)\n",
       "  (fc2): Linear(in_features=120, out_features=80, bias=True)\n",
       "  (fc3): Linear(in_features=80, out_features=1, bias=True)\n",
       ")"
      ]
     },
     "execution_count": 1128,
     "metadata": {},
     "output_type": "execute_result"
    }
   ],
   "source": [
    "model = TweetDNNModel()\n",
    "\n",
    "model"
   ]
  },
  {
   "cell_type": "code",
   "execution_count": 1129,
   "metadata": {},
   "outputs": [],
   "source": [
    "criterions = nn.CrossEntropyLoss()\n",
    "optimizer = torch.optim.Adam(model.parameters(), lr=0.01)"
   ]
  },
  {
   "cell_type": "markdown",
   "metadata": {},
   "source": [
    "# Training the model"
   ]
  },
  {
   "cell_type": "code",
   "execution_count": 1130,
   "metadata": {
    "scrolled": false
   },
   "outputs": [
    {
     "name": "stderr",
     "output_type": "stream",
     "text": [
      "<ipython-input-1119-cef3f1009f05>:15: DeprecationWarning: an integer is required (got type numpy.float64).  Implicit conversion to integers using __int__ is deprecated, and may be removed in a future version of Python.\n",
      "  label = torch.LongTensor([label for data, label in batch]).view(len(data),-1)\n"
     ]
    },
    {
     "name": "stdout",
     "output_type": "stream",
     "text": [
      "Epoch:0 \t Batch:100 [1000/8000] \t Loss:2.05860686 \t Accuracy:    55.700\n",
      "Epoch:0 \t Batch:200 [2000/8000] \t Loss:1.85340536 \t Accuracy:    55.000\n",
      "Epoch:0 \t Batch:300 [3000/8000] \t Loss:1.60914075 \t Accuracy:    55.667\n",
      "Epoch:0 \t Batch:400 [4000/8000] \t Loss:1.46006393 \t Accuracy:    55.650\n",
      "Epoch:0 \t Batch:500 [5000/8000] \t Loss:1.97912884 \t Accuracy:    55.700\n",
      "Epoch:0 \t Batch:600 [6000/8000] \t Loss:1.65710759 \t Accuracy:    55.483\n",
      "Epoch:0 \t Batch:700 [7000/8000] \t Loss:1.72724569 \t Accuracy:    55.357\n",
      "Epoch:0 \t Batch:800 [8000/8000] \t Loss:1.28889906 \t Accuracy:    55.450\n",
      "Epoch:1 \t Batch:100 [1000/8000] \t Loss:1.49639058 \t Accuracy:    59.400\n",
      "Epoch:1 \t Batch:200 [2000/8000] \t Loss:1.64025879 \t Accuracy:    57.850\n",
      "Epoch:1 \t Batch:300 [3000/8000] \t Loss:1.82040000 \t Accuracy:    58.467\n",
      "Epoch:1 \t Batch:400 [4000/8000] \t Loss:1.36415684 \t Accuracy:    58.600\n",
      "Epoch:1 \t Batch:500 [5000/8000] \t Loss:1.24720883 \t Accuracy:    58.520\n",
      "Epoch:1 \t Batch:600 [6000/8000] \t Loss:1.78772354 \t Accuracy:    58.350\n",
      "Epoch:1 \t Batch:700 [7000/8000] \t Loss:1.35153365 \t Accuracy:    58.486\n",
      "Epoch:1 \t Batch:800 [8000/8000] \t Loss:2.09853315 \t Accuracy:    58.812\n",
      "Epoch:2 \t Batch:100 [1000/8000] \t Loss:1.16686857 \t Accuracy:    60.700\n",
      "Epoch:2 \t Batch:200 [2000/8000] \t Loss:1.38747382 \t Accuracy:    62.350\n",
      "Epoch:2 \t Batch:300 [3000/8000] \t Loss:1.64021707 \t Accuracy:    62.733\n",
      "Epoch:2 \t Batch:400 [4000/8000] \t Loss:1.39689457 \t Accuracy:    62.875\n",
      "Epoch:2 \t Batch:500 [5000/8000] \t Loss:2.09085560 \t Accuracy:    62.780\n",
      "Epoch:2 \t Batch:600 [6000/8000] \t Loss:1.39852118 \t Accuracy:    62.800\n",
      "Epoch:2 \t Batch:700 [7000/8000] \t Loss:1.72850454 \t Accuracy:    62.900\n",
      "Epoch:2 \t Batch:800 [8000/8000] \t Loss:1.43251002 \t Accuracy:    62.787\n",
      "Epoch:3 \t Batch:100 [1000/8000] \t Loss:1.55665183 \t Accuracy:    66.100\n",
      "Epoch:3 \t Batch:200 [2000/8000] \t Loss:1.58723855 \t Accuracy:    65.750\n",
      "Epoch:3 \t Batch:300 [3000/8000] \t Loss:1.67612398 \t Accuracy:    64.833\n",
      "Epoch:3 \t Batch:400 [4000/8000] \t Loss:1.50823653 \t Accuracy:    64.375\n",
      "Epoch:3 \t Batch:500 [5000/8000] \t Loss:1.38393009 \t Accuracy:    64.720\n",
      "Epoch:3 \t Batch:600 [6000/8000] \t Loss:1.62779999 \t Accuracy:    64.550\n",
      "Epoch:3 \t Batch:700 [7000/8000] \t Loss:1.13900638 \t Accuracy:    64.514\n",
      "Epoch:3 \t Batch:800 [8000/8000] \t Loss:1.05836749 \t Accuracy:    64.688\n",
      "Epoch:4 \t Batch:100 [1000/8000] \t Loss:1.01926804 \t Accuracy:    67.500\n",
      "Epoch:4 \t Batch:200 [2000/8000] \t Loss:1.67102873 \t Accuracy:    66.650\n",
      "Epoch:4 \t Batch:300 [3000/8000] \t Loss:1.32253480 \t Accuracy:    66.467\n",
      "Epoch:4 \t Batch:400 [4000/8000] \t Loss:1.49916208 \t Accuracy:    66.650\n",
      "Epoch:4 \t Batch:500 [5000/8000] \t Loss:1.61476862 \t Accuracy:    65.960\n",
      "Epoch:4 \t Batch:600 [6000/8000] \t Loss:2.02121520 \t Accuracy:    65.500\n",
      "Epoch:4 \t Batch:700 [7000/8000] \t Loss:1.98457360 \t Accuracy:    65.457\n",
      "Epoch:4 \t Batch:800 [8000/8000] \t Loss:1.30145729 \t Accuracy:    65.425\n",
      "Epoch:5 \t Batch:100 [1000/8000] \t Loss:1.30208361 \t Accuracy:    65.500\n",
      "Epoch:5 \t Batch:200 [2000/8000] \t Loss:1.64231265 \t Accuracy:    65.700\n",
      "Epoch:5 \t Batch:300 [3000/8000] \t Loss:1.19810796 \t Accuracy:    64.767\n",
      "Epoch:5 \t Batch:400 [4000/8000] \t Loss:1.84167039 \t Accuracy:    64.775\n",
      "Epoch:5 \t Batch:500 [5000/8000] \t Loss:1.70055795 \t Accuracy:    65.140\n",
      "Epoch:5 \t Batch:600 [6000/8000] \t Loss:1.40998113 \t Accuracy:    64.850\n",
      "Epoch:5 \t Batch:700 [7000/8000] \t Loss:0.56411183 \t Accuracy:    64.900\n",
      "Epoch:5 \t Batch:800 [8000/8000] \t Loss:1.15641713 \t Accuracy:    65.013\n",
      "Epoch:6 \t Batch:100 [1000/8000] \t Loss:1.33895040 \t Accuracy:    64.800\n",
      "Epoch:6 \t Batch:200 [2000/8000] \t Loss:1.28412354 \t Accuracy:    65.150\n",
      "Epoch:6 \t Batch:300 [3000/8000] \t Loss:1.70092177 \t Accuracy:    65.700\n",
      "Epoch:6 \t Batch:400 [4000/8000] \t Loss:1.39378667 \t Accuracy:    65.550\n",
      "Epoch:6 \t Batch:500 [5000/8000] \t Loss:1.71498370 \t Accuracy:    65.540\n",
      "Epoch:6 \t Batch:600 [6000/8000] \t Loss:1.81726706 \t Accuracy:    65.733\n",
      "Epoch:6 \t Batch:700 [7000/8000] \t Loss:1.33238339 \t Accuracy:    65.671\n",
      "Epoch:6 \t Batch:800 [8000/8000] \t Loss:1.49922621 \t Accuracy:    65.638\n",
      "Epoch:7 \t Batch:100 [1000/8000] \t Loss:1.46817613 \t Accuracy:    64.900\n",
      "Epoch:7 \t Batch:200 [2000/8000] \t Loss:1.16275334 \t Accuracy:    65.700\n",
      "Epoch:7 \t Batch:300 [3000/8000] \t Loss:1.80621874 \t Accuracy:    65.633\n",
      "Epoch:7 \t Batch:400 [4000/8000] \t Loss:1.44983947 \t Accuracy:    65.750\n",
      "Epoch:7 \t Batch:500 [5000/8000] \t Loss:1.24162185 \t Accuracy:    66.220\n",
      "Epoch:7 \t Batch:600 [6000/8000] \t Loss:1.76063192 \t Accuracy:    66.367\n",
      "Epoch:7 \t Batch:700 [7000/8000] \t Loss:1.48518395 \t Accuracy:    66.171\n",
      "Epoch:7 \t Batch:800 [8000/8000] \t Loss:1.38828301 \t Accuracy:    66.000\n",
      "Epoch:8 \t Batch:100 [1000/8000] \t Loss:0.97775584 \t Accuracy:    64.900\n",
      "Epoch:8 \t Batch:200 [2000/8000] \t Loss:0.90390557 \t Accuracy:    65.100\n",
      "Epoch:8 \t Batch:300 [3000/8000] \t Loss:1.49521983 \t Accuracy:    65.967\n",
      "Epoch:8 \t Batch:400 [4000/8000] \t Loss:1.53796530 \t Accuracy:    65.600\n",
      "Epoch:8 \t Batch:500 [5000/8000] \t Loss:1.69037461 \t Accuracy:    65.820\n",
      "Epoch:8 \t Batch:600 [6000/8000] \t Loss:1.54382789 \t Accuracy:    65.967\n",
      "Epoch:8 \t Batch:700 [7000/8000] \t Loss:1.50633311 \t Accuracy:    65.243\n",
      "Epoch:8 \t Batch:800 [8000/8000] \t Loss:1.36964631 \t Accuracy:    65.562\n",
      "Epoch:9 \t Batch:100 [1000/8000] \t Loss:1.18253005 \t Accuracy:    69.600\n",
      "Epoch:9 \t Batch:200 [2000/8000] \t Loss:1.14804554 \t Accuracy:    66.450\n",
      "Epoch:9 \t Batch:300 [3000/8000] \t Loss:1.21452010 \t Accuracy:    66.133\n",
      "Epoch:9 \t Batch:400 [4000/8000] \t Loss:1.15787292 \t Accuracy:    65.725\n",
      "Epoch:9 \t Batch:500 [5000/8000] \t Loss:2.07091022 \t Accuracy:    66.020\n",
      "Epoch:9 \t Batch:600 [6000/8000] \t Loss:1.85368443 \t Accuracy:    65.267\n",
      "Epoch:9 \t Batch:700 [7000/8000] \t Loss:1.85217893 \t Accuracy:    65.729\n",
      "Epoch:9 \t Batch:800 [8000/8000] \t Loss:1.04854429 \t Accuracy:    65.725\n"
     ]
    }
   ],
   "source": [
    "epochs = 10\n",
    "\n",
    "train_losses = []\n",
    "test_losses = []\n",
    "\n",
    "train_corrects = []\n",
    "test_corrects = []\n",
    "\n",
    "for i in range(epochs):\n",
    "    \n",
    "    train_corr = 0\n",
    "    test_corr = 0\n",
    "    \n",
    "    for b, (X_train, y_train) in enumerate(train_loader):\n",
    "        \n",
    "        b+=1 \n",
    "        \n",
    "        y_predict = model(X_train)\n",
    "        loss = criterions(y_predict, y_train)\n",
    "        \n",
    "        actual_predicted = np.where(torch.argmax(y_predict,1)>0,1,0)\n",
    "        train_corr += (actual_predicted == y_train.reshape(-1,1).numpy()).sum()\n",
    "        #print(train_corr)\n",
    "        \n",
    "        optimizer.zero_grad()\n",
    "        loss.backward()\n",
    "        optimizer.step()\n",
    "        \n",
    "        if b%100 == 0:\n",
    "            print(f'Epoch:{i} \\t Batch:{b} [{10*b}/8000] \\t Loss:{loss.item():10.8f} \\t Accuracy:{10*(train_corr/b):10.3f}')\n",
    "            \n",
    "            \n",
    "    train_losses.append(loss)\n",
    "    train_corrects.append(train_corr)\n",
    "    \n",
    "    ## on the validation dataset\n",
    "    with torch.no_grad():\n",
    "        for b, (X_val, y_val) in enumerate(val_loader):\n",
    "            \n",
    "            val_y_predict = model(X_val)\n",
    "            val_predicted = np.where(torch.argmax(val_y_predict,1)>0,1,0)\n",
    "            test_corr += (val_predicted == y_val.reshape(-1,1).numpy()).sum()\n",
    "        \n",
    "        val_loss = criterions(val_y_predict, y_val)\n",
    "        test_losses.append(val_loss)\n",
    "        test_corrects.append(test_corr)"
   ]
  },
  {
   "cell_type": "code",
   "execution_count": 1131,
   "metadata": {},
   "outputs": [
    {
     "data": {
      "image/png": "[encoded data removed]",
      "text/plain": [
       "<Figure size 432x288 with 1 Axes>"
      ]
     },
     "metadata": {
      "needs_background": "light"
     },
     "output_type": "display_data"
    }
   ],
   "source": [
    "plt.plot(range(epochs), train_losses, label='Train Loss')\n",
    "plt.plot(range(epochs), test_losses, label='Test Loss')\n",
    "plt.legend()\n",
    "plt.title('Loss Chart')\n",
    "plt.show()"
   ]
  },
  {
   "cell_type": "code",
   "execution_count": 1132,
   "metadata": {},
   "outputs": [
    {
     "data": {
      "image/png": "[encoded data removed]",
      "text/plain": [
       "<Figure size 432x288 with 1 Axes>"
      ]
     },
     "metadata": {
      "needs_background": "light"
     },
     "output_type": "display_data"
    }
   ],
   "source": [
    "plt.plot([(c/8000)*100 for c in train_corrects],label=\"train accuracy\")\n",
    "plt.plot([(c/2000)*100 for c in test_corrects],label=\"test accuracy\")\n",
    "plt.legend()\n",
    "plt.show()"
   ]
  },
  {
   "cell_type": "code",
   "execution_count": 1133,
   "metadata": {},
   "outputs": [],
   "source": [
    "## saving the model\n",
    "\n",
    "torch.save(model.state_dict(),'tweet_sentiment_model.pt')"
   ]
  },
  {
   "cell_type": "code",
   "execution_count": null,
   "metadata": {},
   "outputs": [],
   "source": []
  }
 ],
 "metadata": {
  "kernelspec": {
   "display_name": "Python 3",
   "language": "python",
   "name": "python3"
  },
  "language_info": {
   "codemirror_mode": {
    "name": "ipython",
    "version": 3
   },
   "file_extension": ".py",
   "mimetype": "text/x-python",
   "name": "python",
   "nbconvert_exporter": "python",
   "pygments_lexer": "ipython3",
   "version": "3.8.2"
  }
 },
 "nbformat": 4,
 "nbformat_minor": 4
}
