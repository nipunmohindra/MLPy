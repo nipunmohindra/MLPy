{
 "cells": [
  {
   "cell_type": "code",
   "execution_count": 2,
   "metadata": {},
   "outputs": [
    {
     "name": "stdout",
     "output_type": "stream",
     "text": [
      "1.13.1\n"
     ]
    }
   ],
   "source": [
    "import tensorflow as tf\n",
    "from tensorflow import keras\n",
    "import numpy as np\n",
    "\n",
    "print(tf.__version__)"
   ]
  },
  {
   "cell_type": "markdown",
   "metadata": {},
   "source": [
    "### Import wiki dataset"
   ]
  },
  {
   "cell_type": "code",
   "execution_count": 3,
   "metadata": {},
   "outputs": [
    {
     "name": "stdout",
     "output_type": "stream",
     "text": [
      "Downloading data from https://storage.googleapis.com/tensorflow/tf-keras-datasets/imdb.npz\n",
      "17465344/17464789 [==============================] - 3s 0us/step\n"
     ]
    }
   ],
   "source": [
    "imdb = keras.datasets.imdb\n",
    "\n",
    "(train_data, train_label),(test_data,test_label) = imdb.load_data(num_words=10000) "
   ]
  },
  {
   "cell_type": "markdown",
   "metadata": {},
   "source": [
    "The argument num_words=10000 keeps the top 10,000 most frequently occurring words in the training data. The rare words are discarded to keep the size of the data manageable."
   ]
  },
  {
   "cell_type": "code",
   "execution_count": 10,
   "metadata": {},
   "outputs": [
    {
     "name": "stdout",
     "output_type": "stream",
     "text": [
      "Train data shape: (25000,)\n",
      "Test data shape: (25000,)\n",
      "Train label : 25000\n",
      "First Imdb review:  [1, 14, 22, 16, 43, 530, 973, 1622, 1385, 65, 458, 4468, 66, 3941, 4, 173, 36, 256, 5, 25, 100, 43, 838, 112, 50, 670, 2, 9, 35, 480, 284, 5, 150, 4, 172, 112, 167, 2, 336, 385, 39, 4, 172, 4536, 1111, 17, 546, 38, 13, 447, 4, 192, 50, 16, 6, 147, 2025, 19, 14, 22, 4, 1920, 4613, 469, 4, 22, 71, 87, 12, 16, 43, 530, 38, 76, 15, 13, 1247, 4, 22, 17, 515, 17, 12, 16, 626, 18, 2, 5, 62, 386, 12, 8, 316, 8, 106, 5, 4, 2223, 5244, 16, 480, 66, 3785, 33, 4, 130, 12, 16, 38, 619, 5, 25, 124, 51, 36, 135, 48, 25, 1415, 33, 6, 22, 12, 215, 28, 77, 52, 5, 14, 407, 16, 82, 2, 8, 4, 107, 117, 5952, 15, 256, 4, 2, 7, 3766, 5, 723, 36, 71, 43, 530, 476, 26, 400, 317, 46, 7, 4, 2, 1029, 13, 104, 88, 4, 381, 15, 297, 98, 32, 2071, 56, 26, 141, 6, 194, 7486, 18, 4, 226, 22, 21, 134, 476, 26, 480, 5, 144, 30, 5535, 18, 51, 36, 28, 224, 92, 25, 104, 4, 226, 65, 16, 38, 1334, 88, 12, 16, 283, 5, 16, 4472, 113, 103, 32, 15, 16, 5345, 19, 178, 32]\n",
      "length of first and second review: 218   260\n"
     ]
    }
   ],
   "source": [
    "print(\"Train data shape:\",train_data.shape)\n",
    "print(\"Test data shape:\",test_data.shape)\n",
    "print(\"Train label :\",len(train_label))\n",
    "\n",
    "print(\"First Imdb review: \",train_data[0]) ## review data for the first review\n",
    "\n",
    "## notice the difference in length of 2 reviews\n",
    "print(\"length of first and second review:\",len(train_data[0]),\" \",len(test_data[1])) "
   ]
  },
  {
   "cell_type": "markdown",
   "metadata": {},
   "source": [
    "#### Convert integers to String from the dictonary of words"
   ]
  },
  {
   "cell_type": "code",
   "execution_count": 20,
   "metadata": {},
   "outputs": [],
   "source": [
    "## A dictionary mapping of a word to a integer index\n",
    "word_index = imdb.get_word_index()\n",
    "\n",
    "## The first indices are reserved\n",
    "word_index[\"<PAD>\"] = 0\n",
    "word_index[\"<START>\"] = 1\n",
    "word_index[\"<UNK>\"] = 2 ## unknown\n",
    "word_index[\"<UNUSED>\"] = 3\n",
    "word_index = {k:(v+3) for k,v in word_index.items()}\n",
    "\n",
    "reverse_word_index = dict([(value, key) for (key,value) in word_index.items()])\n",
    "\n",
    "def decode_review(text):\n",
    "    return ' '.join([reverse_word_index.get(i,'?') for i in text])"
   ]
  },
  {
   "cell_type": "code",
   "execution_count": 21,
   "metadata": {},
   "outputs": [
    {
     "data": {
      "text/plain": [
       "\"<START> this film was just brilliant casting location scenery story direction everyone's really suited the part they played and you could just imagine being there robert <UNK> is an amazing actor and now the same being director <UNK> father came from the same scottish island as myself so i loved the fact there was a real connection with this film the witty remarks throughout the film were great it was just brilliant so much that i bought the film as soon as it was released for <UNK> and would recommend it to everyone to watch and the fly fishing was amazing really cried at the end it was so sad and you know what they say if you cry at a film it must have been good and this definitely was also <UNK> to the two little boy's that played the <UNK> of norman and paul they were just brilliant children are often left out of the <UNK> list i think because the stars that play them all grown up are such a big profile for the whole film but these children are amazing and should be praised for what they have done don't you think the whole story was so lovely because it was true and was someone's life after all that was shared with us all\""
      ]
     },
     "execution_count": 21,
     "metadata": {},
     "output_type": "execute_result"
    }
   ],
   "source": [
    "decode_review(train_data[0])"
   ]
  },
  {
   "cell_type": "markdown",
   "metadata": {},
   "source": [
    "### Preparing the data "
   ]
  },
  {
   "cell_type": "markdown",
   "metadata": {},
   "source": [
    " we can pad the arrays so they all have the same length, then create an integer tensor of shape max_length * num_reviews. We can use an embedding layer capable of handling this shape as the first layer in our network.\n",
    " \n",
    " Since the movie reviews must be the same length, we will use the pad_sequences function to standardize the lengths"
   ]
  },
  {
   "cell_type": "code",
   "execution_count": 22,
   "metadata": {},
   "outputs": [],
   "source": [
    "train_data = keras.preprocessing.sequence.pad_sequences(train_data, \n",
    "                                                       value = word_index[\"<PAD>\"],\n",
    "                                                       padding='post',\n",
    "                                                       maxlen = 256)\n",
    "\n",
    "test_data = keras.preprocessing.sequence.pad_sequences(test_data,\n",
    "                                                      value = word_index[\"<PAD>\"],\n",
    "                                                      padding = 'post',\n",
    "                                                      maxlen = 256)"
   ]
  },
  {
   "cell_type": "code",
   "execution_count": 23,
   "metadata": {},
   "outputs": [
    {
     "name": "stdout",
     "output_type": "stream",
     "text": [
      "256   256\n"
     ]
    }
   ],
   "source": [
    "print(len(train_data[0]),\" \",len(test_data[1]))"
   ]
  },
  {
   "cell_type": "code",
   "execution_count": 24,
   "metadata": {},
   "outputs": [
    {
     "name": "stdout",
     "output_type": "stream",
     "text": [
      "[   1   14   22   16   43  530  973 1622 1385   65  458 4468   66 3941\n",
      "    4  173   36  256    5   25  100   43  838  112   50  670    2    9\n",
      "   35  480  284    5  150    4  172  112  167    2  336  385   39    4\n",
      "  172 4536 1111   17  546   38   13  447    4  192   50   16    6  147\n",
      " 2025   19   14   22    4 1920 4613  469    4   22   71   87   12   16\n",
      "   43  530   38   76   15   13 1247    4   22   17  515   17   12   16\n",
      "  626   18    2    5   62  386   12    8  316    8  106    5    4 2223\n",
      " 5244   16  480   66 3785   33    4  130   12   16   38  619    5   25\n",
      "  124   51   36  135   48   25 1415   33    6   22   12  215   28   77\n",
      "   52    5   14  407   16   82    2    8    4  107  117 5952   15  256\n",
      "    4    2    7 3766    5  723   36   71   43  530  476   26  400  317\n",
      "   46    7    4    2 1029   13  104   88    4  381   15  297   98   32\n",
      " 2071   56   26  141    6  194 7486   18    4  226   22   21  134  476\n",
      "   26  480    5  144   30 5535   18   51   36   28  224   92   25  104\n",
      "    4  226   65   16   38 1334   88   12   16  283    5   16 4472  113\n",
      "  103   32   15   16 5345   19  178   32    0    0    0    0    0    0\n",
      "    0    0    0    0    0    0    0    0    0    0    0    0    0    0\n",
      "    0    0    0    0    0    0    0    0    0    0    0    0    0    0\n",
      "    0    0    0    0]\n"
     ]
    }
   ],
   "source": [
    "print(train_data[0])"
   ]
  },
  {
   "cell_type": "markdown",
   "metadata": {},
   "source": [
    "### Building the model"
   ]
  },
  {
   "cell_type": "code",
   "execution_count": 27,
   "metadata": {},
   "outputs": [
    {
     "name": "stdout",
     "output_type": "stream",
     "text": [
      "_________________________________________________________________\n",
      "Layer (type)                 Output Shape              Param #   \n",
      "=================================================================\n",
      "embedding_2 (Embedding)      (None, None, 16)          160000    \n",
      "_________________________________________________________________\n",
      "global_average_pooling1d (Gl (None, 16)                0         \n",
      "_________________________________________________________________\n",
      "dense (Dense)                (None, 16)                272       \n",
      "_________________________________________________________________\n",
      "dense_1 (Dense)              (None, 1)                 17        \n",
      "=================================================================\n",
      "Total params: 160,289\n",
      "Trainable params: 160,289\n",
      "Non-trainable params: 0\n",
      "_________________________________________________________________\n"
     ]
    }
   ],
   "source": [
    "# input shape is the vocabulary count used in the reviews i.e. word count = 10,000\n",
    "\n",
    "vocab_size = 10000\n",
    "\n",
    "model = keras.Sequential()\n",
    "model.add(keras.layers.Embedding(vocab_size, 16))\n",
    "model.add(keras.layers.GlobalAveragePooling1D())\n",
    "model.add(keras.layers.Dense(16, activation = tf.nn.relu))\n",
    "model.add(keras.layers.Dense(1, activation = tf.nn.sigmoid))\n",
    "\n",
    "model.summary()"
   ]
  },
  {
   "cell_type": "code",
   "execution_count": 28,
   "metadata": {},
   "outputs": [],
   "source": [
    "### adding the loss function and optimizer\n",
    "\n",
    "model.compile(optimizer = 'adam',\n",
    "             loss = 'binary_crossentropy',\n",
    "             metrics = ['acc'])"
   ]
  },
  {
   "cell_type": "code",
   "execution_count": 32,
   "metadata": {},
   "outputs": [],
   "source": [
    "### creating a validation data set to test the training accuracy\n",
    "\n",
    "x_val = train_data[:10000]\n",
    "partial_x_train = train_data[10000:]\n",
    "\n",
    "y_val = train_label[:10000]\n",
    "partial_y_train = train_label[10000:]"
   ]
  },
  {
   "cell_type": "markdown",
   "metadata": {},
   "source": [
    "### Training the model"
   ]
  },
  {
   "cell_type": "code",
   "execution_count": 33,
   "metadata": {
    "scrolled": true
   },
   "outputs": [
    {
     "name": "stdout",
     "output_type": "stream",
     "text": [
      "Train on 15000 samples, validate on 10000 samples\n",
      "WARNING:tensorflow:From /anaconda3/lib/python3.6/site-packages/tensorflow/python/ops/math_ops.py:3066: to_int32 (from tensorflow.python.ops.math_ops) is deprecated and will be removed in a future version.\n",
      "Instructions for updating:\n",
      "Use tf.cast instead.\n",
      "Epoch 1/40\n",
      "15000/15000 [==============================] - 4s 295us/sample - loss: 0.6917 - acc: 0.5573 - val_loss: 0.6894 - val_acc: 0.6509\n",
      "Epoch 2/40\n",
      "15000/15000 [==============================] - 4s 236us/sample - loss: 0.6849 - acc: 0.7289 - val_loss: 0.6798 - val_acc: 0.7407\n",
      "Epoch 3/40\n",
      "15000/15000 [==============================] - 4s 235us/sample - loss: 0.6700 - acc: 0.7575 - val_loss: 0.6614 - val_acc: 0.7565\n",
      "Epoch 4/40\n",
      "15000/15000 [==============================] - 4s 240us/sample - loss: 0.6449 - acc: 0.7678 - val_loss: 0.6330 - val_acc: 0.7589\n",
      "Epoch 5/40\n",
      "15000/15000 [==============================] - 4s 243us/sample - loss: 0.6088 - acc: 0.7948 - val_loss: 0.5958 - val_acc: 0.7875\n",
      "Epoch 6/40\n",
      "15000/15000 [==============================] - 4s 244us/sample - loss: 0.5642 - acc: 0.8169 - val_loss: 0.5535 - val_acc: 0.8072\n",
      "Epoch 7/40\n",
      "15000/15000 [==============================] - 4s 246us/sample - loss: 0.5155 - acc: 0.8320 - val_loss: 0.5084 - val_acc: 0.8241\n",
      "Epoch 8/40\n",
      "15000/15000 [==============================] - 4s 238us/sample - loss: 0.4678 - acc: 0.8499 - val_loss: 0.4676 - val_acc: 0.8366\n",
      "Epoch 9/40\n",
      "15000/15000 [==============================] - 4s 238us/sample - loss: 0.4243 - acc: 0.8648 - val_loss: 0.4317 - val_acc: 0.8472\n",
      "Epoch 10/40\n",
      "15000/15000 [==============================] - 4s 244us/sample - loss: 0.3864 - acc: 0.8762 - val_loss: 0.4025 - val_acc: 0.8541\n",
      "Epoch 11/40\n",
      "15000/15000 [==============================] - 4s 241us/sample - loss: 0.3547 - acc: 0.8846 - val_loss: 0.3787 - val_acc: 0.8608\n",
      "Epoch 12/40\n",
      "15000/15000 [==============================] - 4s 239us/sample - loss: 0.3281 - acc: 0.8915 - val_loss: 0.3604 - val_acc: 0.8640\n",
      "Epoch 13/40\n",
      "15000/15000 [==============================] - 4s 244us/sample - loss: 0.3063 - acc: 0.8977 - val_loss: 0.3444 - val_acc: 0.8695\n",
      "Epoch 14/40\n",
      "15000/15000 [==============================] - 4s 241us/sample - loss: 0.2866 - acc: 0.9029 - val_loss: 0.3326 - val_acc: 0.8730\n",
      "Epoch 15/40\n",
      "15000/15000 [==============================] - 4s 243us/sample - loss: 0.2701 - acc: 0.9074 - val_loss: 0.3230 - val_acc: 0.8752\n",
      "Epoch 16/40\n",
      "15000/15000 [==============================] - 4s 245us/sample - loss: 0.2553 - acc: 0.9130 - val_loss: 0.3149 - val_acc: 0.8759\n",
      "Epoch 17/40\n",
      "15000/15000 [==============================] - 4s 247us/sample - loss: 0.2415 - acc: 0.9169 - val_loss: 0.3082 - val_acc: 0.8785\n",
      "Epoch 18/40\n",
      "15000/15000 [==============================] - 4s 243us/sample - loss: 0.2294 - acc: 0.9220 - val_loss: 0.3026 - val_acc: 0.8813\n",
      "Epoch 19/40\n",
      "15000/15000 [==============================] - 4s 247us/sample - loss: 0.2183 - acc: 0.9244 - val_loss: 0.2977 - val_acc: 0.8817\n",
      "Epoch 20/40\n",
      "15000/15000 [==============================] - 4s 242us/sample - loss: 0.2084 - acc: 0.9283 - val_loss: 0.2945 - val_acc: 0.8819\n",
      "Epoch 21/40\n",
      "15000/15000 [==============================] - 4s 242us/sample - loss: 0.1983 - acc: 0.9331 - val_loss: 0.2916 - val_acc: 0.8824\n",
      "Epoch 22/40\n",
      "15000/15000 [==============================] - 4s 255us/sample - loss: 0.1898 - acc: 0.9365 - val_loss: 0.2893 - val_acc: 0.8849\n",
      "Epoch 23/40\n",
      "15000/15000 [==============================] - 4s 258us/sample - loss: 0.1812 - acc: 0.9408 - val_loss: 0.2885 - val_acc: 0.8843\n",
      "Epoch 24/40\n",
      "15000/15000 [==============================] - 4s 235us/sample - loss: 0.1738 - acc: 0.9443 - val_loss: 0.2870 - val_acc: 0.8846\n",
      "Epoch 25/40\n",
      "15000/15000 [==============================] - 4s 245us/sample - loss: 0.1662 - acc: 0.9469 - val_loss: 0.2857 - val_acc: 0.8861\n",
      "Epoch 26/40\n",
      "15000/15000 [==============================] - 4s 265us/sample - loss: 0.1594 - acc: 0.9497 - val_loss: 0.2864 - val_acc: 0.8836\n",
      "Epoch 27/40\n",
      "15000/15000 [==============================] - 4s 245us/sample - loss: 0.1530 - acc: 0.9521 - val_loss: 0.2860 - val_acc: 0.8844\n",
      "Epoch 28/40\n",
      "15000/15000 [==============================] - 4s 252us/sample - loss: 0.1468 - acc: 0.9550 - val_loss: 0.2866 - val_acc: 0.8852\n",
      "Epoch 29/40\n",
      "15000/15000 [==============================] - 4s 240us/sample - loss: 0.1414 - acc: 0.9579 - val_loss: 0.2884 - val_acc: 0.8844\n",
      "Epoch 30/40\n",
      "15000/15000 [==============================] - 4s 240us/sample - loss: 0.1357 - acc: 0.9594 - val_loss: 0.2878 - val_acc: 0.8858\n",
      "Epoch 31/40\n",
      "15000/15000 [==============================] - 4s 243us/sample - loss: 0.1300 - acc: 0.9619 - val_loss: 0.2890 - val_acc: 0.8870\n",
      "Epoch 32/40\n",
      "15000/15000 [==============================] - 4s 249us/sample - loss: 0.1249 - acc: 0.9651 - val_loss: 0.2906 - val_acc: 0.8859\n",
      "Epoch 33/40\n",
      "15000/15000 [==============================] - 4s 245us/sample - loss: 0.1199 - acc: 0.9664 - val_loss: 0.2929 - val_acc: 0.8851\n",
      "Epoch 34/40\n",
      "15000/15000 [==============================] - 4s 246us/sample - loss: 0.1154 - acc: 0.9675 - val_loss: 0.2952 - val_acc: 0.8844\n",
      "Epoch 35/40\n",
      "15000/15000 [==============================] - 4s 243us/sample - loss: 0.1113 - acc: 0.9685 - val_loss: 0.2978 - val_acc: 0.8844\n",
      "Epoch 36/40\n",
      "15000/15000 [==============================] - 4s 246us/sample - loss: 0.1069 - acc: 0.9708 - val_loss: 0.2996 - val_acc: 0.8843\n",
      "Epoch 37/40\n",
      "15000/15000 [==============================] - 4s 244us/sample - loss: 0.1026 - acc: 0.9717 - val_loss: 0.3024 - val_acc: 0.8831\n",
      "Epoch 38/40\n",
      "15000/15000 [==============================] - 4s 255us/sample - loss: 0.0987 - acc: 0.9734 - val_loss: 0.3060 - val_acc: 0.8818\n",
      "Epoch 39/40\n",
      "15000/15000 [==============================] - 4s 247us/sample - loss: 0.0955 - acc: 0.9745 - val_loss: 0.3098 - val_acc: 0.8810\n",
      "Epoch 40/40\n",
      "15000/15000 [==============================] - 4s 238us/sample - loss: 0.0914 - acc: 0.9766 - val_loss: 0.3126 - val_acc: 0.8822\n"
     ]
    }
   ],
   "source": [
    "history = model.fit(partial_x_train,\n",
    "                    partial_y_train,\n",
    "                    epochs=40,\n",
    "                    batch_size=512,\n",
    "                    validation_data=(x_val, y_val),\n",
    "                    verbose=1)"
   ]
  },
  {
   "cell_type": "markdown",
   "metadata": {},
   "source": [
    "### Evaluate the model"
   ]
  },
  {
   "cell_type": "code",
   "execution_count": 34,
   "metadata": {},
   "outputs": [
    {
     "name": "stdout",
     "output_type": "stream",
     "text": [
      "25000/25000 [==============================] - 1s 29us/sample - loss: 0.3339 - acc: 0.8714\n",
      "[0.33389624541282653, 0.8714]\n"
     ]
    }
   ],
   "source": [
    "results = model.evaluate(test_data, test_label)\n",
    "\n",
    "print(results)"
   ]
  },
  {
   "cell_type": "markdown",
   "metadata": {},
   "source": [
    "### Create a graph of accuracy over time"
   ]
  },
  {
   "cell_type": "code",
   "execution_count": 36,
   "metadata": {},
   "outputs": [
    {
     "data": {
      "text/plain": [
       "dict_keys(['loss', 'acc', 'val_loss', 'val_acc'])"
      ]
     },
     "execution_count": 36,
     "metadata": {},
     "output_type": "execute_result"
    }
   ],
   "source": [
    "history_dict = history.history\n",
    "\n",
    "history_dict.keys()"
   ]
  },
  {
   "cell_type": "code",
   "execution_count": 37,
   "metadata": {},
   "outputs": [
    {
     "data": {
      "text/plain": [
       "<Figure size 640x480 with 1 Axes>"
      ]
     },
     "metadata": {},
     "output_type": "display_data"
    }
   ],
   "source": [
    "import matplotlib.pyplot as plt\n",
    "\n",
    "acc = history_dict['acc']\n",
    "val_acc = history_dict['val_acc']\n",
    "loss = history_dict['loss']\n",
    "val_loss = history_dict['val_loss']\n",
    "\n",
    "epochs = range(1, len(acc) + 1)\n",
    "\n",
    "# \"bo\" is for \"blue dot\"\n",
    "plt.plot(epochs, loss, 'bo', label='Training loss')\n",
    "# b is for \"solid blue line\"\n",
    "plt.plot(epochs, val_loss, 'b', label='Validation loss')\n",
    "plt.title('Training and validation loss')\n",
    "plt.xlabel('Epochs')\n",
    "plt.ylabel('Loss')\n",
    "plt.legend()\n",
    "\n",
    "plt.show()"
   ]
  },
  {
   "cell_type": "code",
   "execution_count": 38,
   "metadata": {},
   "outputs": [
    {
     "data": {
      "image/png": "[encoded data removed]",
      "text/plain": [
       "<Figure size 432x288 with 1 Axes>"
      ]
     },
     "metadata": {},
     "output_type": "display_data"
    }
   ],
   "source": [
    "plt.clf()   # clear figure\n",
    "\n",
    "plt.plot(epochs, acc, 'bo', label='Training acc')\n",
    "plt.plot(epochs, val_acc, 'b', label='Validation acc')\n",
    "plt.title('Training and validation accuracy')\n",
    "plt.xlabel('Epochs')\n",
    "plt.ylabel('Accuracy')\n",
    "plt.legend()\n",
    "\n",
    "plt.show()"
   ]
  },
  {
   "cell_type": "code",
   "execution_count": null,
   "metadata": {},
   "outputs": [],
   "source": []
  }
 ],
 "metadata": {
  "kernelspec": {
   "display_name": "Python 3",
   "language": "python",
   "name": "python3"
  },
  "language_info": {
   "codemirror_mode": {
    "name": "ipython",
    "version": 3
   },
   "file_extension": ".py",
   "mimetype": "text/x-python",
   "name": "python",
   "nbconvert_exporter": "python",
   "pygments_lexer": "ipython3",
   "version": "3.6.5"
  }
 },
 "nbformat": 4,
 "nbformat_minor": 2
}
