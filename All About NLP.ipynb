{
 "cells": [
  {
   "cell_type": "code",
   "execution_count": 16,
   "metadata": {},
   "outputs": [],
   "source": [
    "import pandas as pd\n",
    "import numpy as np\n",
    "\n",
    "import matplotlib.pyplot as plt\n",
    "from sklearn.feature_extraction.text import CountVectorizer\n",
    "import seaborn as sns"
   ]
  },
  {
   "cell_type": "markdown",
   "metadata": {},
   "source": [
    "# One Hot Representation"
   ]
  },
  {
   "cell_type": "code",
   "execution_count": 51,
   "metadata": {},
   "outputs": [
    {
     "data": {
      "text/plain": [
       "['Time flies like an arrow', 'Fruit flies like a banana']"
      ]
     },
     "execution_count": 51,
     "metadata": {},
     "output_type": "execute_result"
    }
   ],
   "source": [
    "corpus = [\n",
    "    'Time flies like an arrow',\n",
    "    'Fruit flies like a banana'\n",
    "]\n",
    "corpus"
   ]
  },
  {
   "cell_type": "code",
   "execution_count": 72,
   "metadata": {},
   "outputs": [
    {
     "data": {
      "text/plain": [
       "['time', 'flies', 'like', 'an', 'arrow', 'fruit', 'a', 'banana']"
      ]
     },
     "execution_count": 72,
     "metadata": {},
     "output_type": "execute_result"
    }
   ],
   "source": [
    "def get_vocab(corpus):\n",
    "    vocab = []\n",
    "    for sentence in corpus:\n",
    "        for word in sentence.split():\n",
    "            if word not in vocab:\n",
    "                vocab.append(word.lower())\n",
    "    return vocab\n",
    "                \n",
    "vocab = get_vocab(corpus)\n",
    "vocab"
   ]
  },
  {
   "cell_type": "code",
   "execution_count": 88,
   "metadata": {},
   "outputs": [
    {
     "data": {
      "text/plain": [
       "array([[1, 1, 0, 1, 0, 1, 1],\n",
       "       [0, 0, 1, 1, 1, 1, 0]])"
      ]
     },
     "execution_count": 88,
     "metadata": {},
     "output_type": "execute_result"
    }
   ],
   "source": [
    "onehot_vectorizer = CountVectorizer(lowercase=True, binary=True)\n",
    "onehot = onehot_vectorizer.fit_transform(corpus).toarray()\n",
    "\n",
    "onehot"
   ]
  },
  {
   "cell_type": "code",
   "execution_count": 89,
   "metadata": {},
   "outputs": [
    {
     "data": {
      "image/png": "[encoded data removed]",
      "text/plain": [
       "<Figure size 432x288 with 1 Axes>"
      ]
     },
     "metadata": {
      "needs_background": "light"
     },
     "output_type": "display_data"
    }
   ],
   "source": [
    "#plt.figure(figsize=(15,5))\n",
    "sns.heatmap(onehot, annot=True, cbar=False, xticklabels=vocab, yticklabels=['Sentence 1','Sentence 2'])\n",
    "plt.show()"
   ]
  },
  {
   "cell_type": "markdown",
   "metadata": {},
   "source": [
    "# TF-IDF"
   ]
  },
  {
   "cell_type": "code",
   "execution_count": 90,
   "metadata": {},
   "outputs": [
    {
     "data": {
      "text/plain": [
       "array([[0.49922133, 0.49922133, 0.        , 0.35520009, 0.        ,\n",
       "        0.35520009, 0.49922133],\n",
       "       [0.        , 0.        , 0.57615236, 0.40993715, 0.57615236,\n",
       "        0.40993715, 0.        ]])"
      ]
     },
     "execution_count": 90,
     "metadata": {},
     "output_type": "execute_result"
    }
   ],
   "source": [
    "from sklearn.feature_extraction.text import TfidfVectorizer\n",
    "\n",
    "tfidfvectorizer = TfidfVectorizer()\n",
    "tfidfvector = tfidfvectorizer.fit_transform(corpus).toarray()\n",
    "\n",
    "tfidfvector"
   ]
  },
  {
   "cell_type": "code",
   "execution_count": 91,
   "metadata": {},
   "outputs": [
    {
     "data": {
      "image/png": "[encoded data removed]",
      "text/plain": [
       "<Figure size 432x288 with 1 Axes>"
      ]
     },
     "metadata": {
      "needs_background": "light"
     },
     "output_type": "display_data"
    }
   ],
   "source": [
    "sns.heatmap(tfidfvector, annot=True, cbar=False, xticklabels=vocab, yticklabels=['sentence 1','sentence 2'] )\n",
    "plt.show()"
   ]
  },
  {
   "cell_type": "markdown",
   "metadata": {},
   "source": [
    "# Tokenization"
   ]
  },
  {
   "cell_type": "code",
   "execution_count": 92,
   "metadata": {},
   "outputs": [],
   "source": [
    "import spacy\n",
    "nlp = spacy.load('en')"
   ]
  },
  {
   "cell_type": "code",
   "execution_count": 93,
   "metadata": {},
   "outputs": [],
   "source": [
    "text = \"Mary, don't slap the green witch.\""
   ]
  },
  {
   "cell_type": "code",
   "execution_count": 94,
   "metadata": {},
   "outputs": [
    {
     "name": "stdout",
     "output_type": "stream",
     "text": [
      "mary\n",
      ",\n",
      "do\n",
      "n't\n",
      "slap\n",
      "the\n",
      "green\n",
      "witch\n",
      ".\n"
     ]
    }
   ],
   "source": [
    "for tokens in nlp(text.lower()):\n",
    "    print(tokens)"
   ]
  },
  {
   "cell_type": "code",
   "execution_count": 95,
   "metadata": {},
   "outputs": [],
   "source": [
    "from nltk.tokenize import TweetTokenizer"
   ]
  },
  {
   "cell_type": "code",
   "execution_count": 96,
   "metadata": {},
   "outputs": [],
   "source": [
    "tweet = u\"Snow White and the Seven Degrees #MakeAMovieCold @midnight:)\"\n",
    "tokenizer = TweetTokenizer()"
   ]
  },
  {
   "cell_type": "code",
   "execution_count": 99,
   "metadata": {},
   "outputs": [
    {
     "data": {
      "text/plain": [
       "['Snow',\n",
       " 'White',\n",
       " 'and',\n",
       " 'the',\n",
       " 'Seven',\n",
       " 'Degrees',\n",
       " '#MakeAMovieCold',\n",
       " '@midnight',\n",
       " ':)']"
      ]
     },
     "execution_count": 99,
     "metadata": {},
     "output_type": "execute_result"
    }
   ],
   "source": [
    "tweet_tokens = tokenizer.tokenize(tweet)\n",
    "tweet_tokens"
   ]
  },
  {
   "cell_type": "markdown",
   "metadata": {},
   "source": [
    "# Unigram, Bigram, Trigram, ... (N-Gram)"
   ]
  },
  {
   "cell_type": "code",
   "execution_count": 103,
   "metadata": {},
   "outputs": [],
   "source": [
    "def n_gram(text, n):\n",
    "    return [ text[i:i+n] for i in range(len(text)-n+1) ]"
   ]
  },
  {
   "cell_type": "code",
   "execution_count": 105,
   "metadata": {},
   "outputs": [
    {
     "data": {
      "text/plain": [
       "[['Snow', 'White', 'and'],\n",
       " ['White', 'and', 'the'],\n",
       " ['and', 'the', 'Seven'],\n",
       " ['the', 'Seven', 'Degrees'],\n",
       " ['Seven', 'Degrees', '#MakeAMovieCold'],\n",
       " ['Degrees', '#MakeAMovieCold', '@midnight'],\n",
       " ['#MakeAMovieCold', '@midnight', ':)']]"
      ]
     },
     "execution_count": 105,
     "metadata": {},
     "output_type": "execute_result"
    }
   ],
   "source": [
    "n_gram(tweet_tokens,3)"
   ]
  },
  {
   "cell_type": "markdown",
   "metadata": {},
   "source": [
    "# Lemmas, Stems"
   ]
  },
  {
   "cell_type": "code",
   "execution_count": 106,
   "metadata": {},
   "outputs": [],
   "source": [
    "doc = nlp(u\"he was running late\")"
   ]
  },
  {
   "cell_type": "code",
   "execution_count": 110,
   "metadata": {},
   "outputs": [
    {
     "name": "stdout",
     "output_type": "stream",
     "text": [
      "he \t --> -PRON-\n",
      "was \t --> be\n",
      "running \t --> run\n",
      "late \t --> late\n"
     ]
    }
   ],
   "source": [
    "for token in doc:\n",
    "    print(f'{token} \\t --> {token.lemma_}')"
   ]
  },
  {
   "cell_type": "code",
   "execution_count": null,
   "metadata": {},
   "outputs": [],
   "source": []
  }
 ],
 "metadata": {
  "kernelspec": {
   "display_name": "Python 3",
   "language": "python",
   "name": "python3"
  },
  "language_info": {
   "codemirror_mode": {
    "name": "ipython",
    "version": 3
   },
   "file_extension": ".py",
   "mimetype": "text/x-python",
   "name": "python",
   "nbconvert_exporter": "python",
   "pygments_lexer": "ipython3",
   "version": "3.8.2"
  }
 },
 "nbformat": 4,
 "nbformat_minor": 4
}
