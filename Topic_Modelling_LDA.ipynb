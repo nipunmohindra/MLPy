{
  "nbformat": 4,
  "nbformat_minor": 0,
  "metadata": {
    "colab": {
      "name": "Topic_Modelling_LDA.ipynb",
      "provenance": [],
      "collapsed_sections": [],
      "mount_file_id": "1dqSOWlRO8e9cpxPDnHzkmiPjgFG2LBm1",
      "authorship_tag": "ABX9TyOZC1YXMMFP/P8Mth9AB9qc",
      "include_colab_link": true
    },
    "kernelspec": {
      "name": "python3",
      "display_name": "Python 3"
    }
  },
  "cells": [
    {
      "cell_type": "markdown",
      "metadata": {
        "id": "view-in-github",
        "colab_type": "text"
      },
      "source": [
        "<a href=\"https://colab.research.google.com/github/rishuatgithub/MLPy/blob/master/Topic_Modelling_LDA.ipynb\" target=\"_parent\"><img src=\"https://colab.research.google.com/assets/colab-badge.svg\" alt=\"Open In Colab\"/></a>"
      ]
    },
    {
      "cell_type": "markdown",
      "metadata": {
        "id": "Qw-7mbkMg9FK",
        "colab_type": "text"
      },
      "source": [
        "# Topic Modelling using Latent-Dirichlet Allocation\n",
        "\n",
        "- Blog URL : [Topic Modelling : Latent Dirichlet Allocation, an introduction](https://anotherreeshu.wordpress.com)\n",
        "- Author   : Rishu Shrivastava"
      ]
    },
    {
      "cell_type": "code",
      "metadata": {
        "id": "m6BGiC8ndJke",
        "colab_type": "code",
        "outputId": "48e4eefc-605b-42bf-e1b5-db5b2d047922",
        "colab": {
          "base_uri": "https://localhost:8080/",
          "height": 632
        }
      },
      "source": [
        "## Installing pyldaviz for visualization.\n",
        "!pip install pyldavis"
      ],
      "execution_count": 1,
      "outputs": [
        {
          "output_type": "stream",
          "text": [
            "Collecting pyldavis\n",
            "\u001b[?25l  Downloading https://files.pythonhosted.org/packages/a5/3a/af82e070a8a96e13217c8f362f9a73e82d61ac8fff3a2561946a97f96266/pyLDAvis-2.1.2.tar.gz (1.6MB)\n",
            "\u001b[K     |████████████████████████████████| 1.6MB 3.8MB/s \n",
            "\u001b[?25hRequirement already satisfied: wheel>=0.23.0 in /usr/local/lib/python3.6/dist-packages (from pyldavis) (0.34.2)\n",
            "Requirement already satisfied: numpy>=1.9.2 in /usr/local/lib/python3.6/dist-packages (from pyldavis) (1.18.4)\n",
            "Requirement already satisfied: scipy>=0.18.0 in /usr/local/lib/python3.6/dist-packages (from pyldavis) (1.4.1)\n",
            "Requirement already satisfied: pandas>=0.17.0 in /usr/local/lib/python3.6/dist-packages (from pyldavis) (1.0.3)\n",
            "Requirement already satisfied: joblib>=0.8.4 in /usr/local/lib/python3.6/dist-packages (from pyldavis) (0.15.1)\n",
            "Requirement already satisfied: jinja2>=2.7.2 in /usr/local/lib/python3.6/dist-packages (from pyldavis) (2.11.2)\n",
            "Requirement already satisfied: numexpr in /usr/local/lib/python3.6/dist-packages (from pyldavis) (2.7.1)\n",
            "Requirement already satisfied: pytest in /usr/local/lib/python3.6/dist-packages (from pyldavis) (3.6.4)\n",
            "Requirement already satisfied: future in /usr/local/lib/python3.6/dist-packages (from pyldavis) (0.16.0)\n",
            "Collecting funcy\n",
            "\u001b[?25l  Downloading https://files.pythonhosted.org/packages/ce/4b/6ffa76544e46614123de31574ad95758c421aae391a1764921b8a81e1eae/funcy-1.14.tar.gz (548kB)\n",
            "\u001b[K     |████████████████████████████████| 552kB 32.1MB/s \n",
            "\u001b[?25hRequirement already satisfied: pytz>=2017.2 in /usr/local/lib/python3.6/dist-packages (from pandas>=0.17.0->pyldavis) (2018.9)\n",
            "Requirement already satisfied: python-dateutil>=2.6.1 in /usr/local/lib/python3.6/dist-packages (from pandas>=0.17.0->pyldavis) (2.8.1)\n",
            "Requirement already satisfied: MarkupSafe>=0.23 in /usr/local/lib/python3.6/dist-packages (from jinja2>=2.7.2->pyldavis) (1.1.1)\n",
            "Requirement already satisfied: py>=1.5.0 in /usr/local/lib/python3.6/dist-packages (from pytest->pyldavis) (1.8.1)\n",
            "Requirement already satisfied: setuptools in /usr/local/lib/python3.6/dist-packages (from pytest->pyldavis) (47.1.1)\n",
            "Requirement already satisfied: atomicwrites>=1.0 in /usr/local/lib/python3.6/dist-packages (from pytest->pyldavis) (1.4.0)\n",
            "Requirement already satisfied: pluggy<0.8,>=0.5 in /usr/local/lib/python3.6/dist-packages (from pytest->pyldavis) (0.7.1)\n",
            "Requirement already satisfied: attrs>=17.4.0 in /usr/local/lib/python3.6/dist-packages (from pytest->pyldavis) (19.3.0)\n",
            "Requirement already satisfied: six>=1.10.0 in /usr/local/lib/python3.6/dist-packages (from pytest->pyldavis) (1.12.0)\n",
            "Requirement already satisfied: more-itertools>=4.0.0 in /usr/local/lib/python3.6/dist-packages (from pytest->pyldavis) (8.3.0)\n",
            "Building wheels for collected packages: pyldavis, funcy\n",
            "  Building wheel for pyldavis (setup.py) ... \u001b[?25l\u001b[?25hdone\n",
            "  Created wheel for pyldavis: filename=pyLDAvis-2.1.2-py2.py3-none-any.whl size=97711 sha256=d35dd8d12444093adb88ad068bfd400f78edada2c2cd3f876979c061b2e505ce\n",
            "  Stored in directory: /root/.cache/pip/wheels/98/71/24/513a99e58bb6b8465bae4d2d5e9dba8f0bef8179e3051ac414\n",
            "  Building wheel for funcy (setup.py) ... \u001b[?25l\u001b[?25hdone\n",
            "  Created wheel for funcy: filename=funcy-1.14-py2.py3-none-any.whl size=32042 sha256=be6e16f43d9f916856d3636a79373f9e2deecaf3c1a51cbe438e45e4f4e60c96\n",
            "  Stored in directory: /root/.cache/pip/wheels/20/5a/d8/1d875df03deae6f178dfdf70238cca33f948ef8a6f5209f2eb\n",
            "Successfully built pyldavis funcy\n",
            "Installing collected packages: funcy, pyldavis\n",
            "Successfully installed funcy-1.14 pyldavis-2.1.2\n"
          ],
          "name": "stdout"
        }
      ]
    },
    {
      "cell_type": "code",
      "metadata": {
        "id": "C1UbX8SHg7sh",
        "colab_type": "code",
        "colab": {
          "base_uri": "https://localhost:8080/",
          "height": 71
        },
        "outputId": "6b3f2d8a-420a-42ad-dc30-052815c49aad"
      },
      "source": [
        "import numpy as np\n",
        "import pandas as pd\n",
        "from sklearn.feature_extraction.text import CountVectorizer\n",
        "from sklearn.feature_extraction.text import TfidfVectorizer\n",
        "from sklearn.decomposition import LatentDirichletAllocation\n",
        "\n",
        "import matplotlib.pyplot as plt\n",
        "import seaborn as sns\n",
        "%matplotlib inline\n",
        "\n",
        "import pyLDAvis\n",
        "from pyLDAvis import sklearn as skl\n",
        "pyLDAvis.enable_notebook()"
      ],
      "execution_count": 2,
      "outputs": [
        {
          "output_type": "stream",
          "text": [
            "/usr/local/lib/python3.6/dist-packages/statsmodels/tools/_testing.py:19: FutureWarning: pandas.util.testing is deprecated. Use the functions in the public API at pandas.testing instead.\n",
            "  import pandas.util.testing as tm\n"
          ],
          "name": "stderr"
        }
      ]
    },
    {
      "cell_type": "markdown",
      "metadata": {
        "id": "rQDt-6pYwVoN",
        "colab_type": "text"
      },
      "source": [
        "### Step 1: Loading and Understanding Data\n",
        "\n",
        "As part of this step we will load the data into the dataframe\n",
        "\n",
        "- Dataset Kernel : https://www.kaggle.com/hengzheng/news-category-classifier-val-acc-0-65"
      ]
    },
    {
      "cell_type": "code",
      "metadata": {
        "id": "jUeRe8UkhNSZ",
        "colab_type": "code",
        "outputId": "3837d928-54bd-4079-e6c3-7bc07a4c0a9f",
        "colab": {
          "base_uri": "https://localhost:8080/",
          "height": 289
        }
      },
      "source": [
        "### Reading the dataset from path\n",
        "\n",
        "filename = '/content/drive/My Drive/Colab Notebooks/data/news_data/News_Category_Dataset_v2.json'\n",
        "data = pd.read_json(filename, lines=True)\n",
        "data.head()"
      ],
      "execution_count": 4,
      "outputs": [
        {
          "output_type": "execute_result",
          "data": {
            "text/html": [
              "<div>\n",
              "<style scoped>\n",
              "    .dataframe tbody tr th:only-of-type {\n",
              "        vertical-align: middle;\n",
              "    }\n",
              "\n",
              "    .dataframe tbody tr th {\n",
              "        vertical-align: top;\n",
              "    }\n",
              "\n",
              "    .dataframe thead th {\n",
              "        text-align: right;\n",
              "    }\n",
              "</style>\n",
              "<table border=\"1\" class=\"dataframe\">\n",
              "  <thead>\n",
              "    <tr style=\"text-align: right;\">\n",
              "      <th></th>\n",
              "      <th>category</th>\n",
              "      <th>headline</th>\n",
              "      <th>authors</th>\n",
              "      <th>link</th>\n",
              "      <th>short_description</th>\n",
              "      <th>date</th>\n",
              "    </tr>\n",
              "  </thead>\n",
              "  <tbody>\n",
              "    <tr>\n",
              "      <th>0</th>\n",
              "      <td>CRIME</td>\n",
              "      <td>There Were 2 Mass Shootings In Texas Last Week...</td>\n",
              "      <td>Melissa Jeltsen</td>\n",
              "      <td>https://www.huffingtonpost.com/entry/texas-ama...</td>\n",
              "      <td>She left her husband. He killed their children...</td>\n",
              "      <td>2018-05-26</td>\n",
              "    </tr>\n",
              "    <tr>\n",
              "      <th>1</th>\n",
              "      <td>ENTERTAINMENT</td>\n",
              "      <td>Will Smith Joins Diplo And Nicky Jam For The 2...</td>\n",
              "      <td>Andy McDonald</td>\n",
              "      <td>https://www.huffingtonpost.com/entry/will-smit...</td>\n",
              "      <td>Of course it has a song.</td>\n",
              "      <td>2018-05-26</td>\n",
              "    </tr>\n",
              "    <tr>\n",
              "      <th>2</th>\n",
              "      <td>ENTERTAINMENT</td>\n",
              "      <td>Hugh Grant Marries For The First Time At Age 57</td>\n",
              "      <td>Ron Dicker</td>\n",
              "      <td>https://www.huffingtonpost.com/entry/hugh-gran...</td>\n",
              "      <td>The actor and his longtime girlfriend Anna Ebe...</td>\n",
              "      <td>2018-05-26</td>\n",
              "    </tr>\n",
              "    <tr>\n",
              "      <th>3</th>\n",
              "      <td>ENTERTAINMENT</td>\n",
              "      <td>Jim Carrey Blasts 'Castrato' Adam Schiff And D...</td>\n",
              "      <td>Ron Dicker</td>\n",
              "      <td>https://www.huffingtonpost.com/entry/jim-carre...</td>\n",
              "      <td>The actor gives Dems an ass-kicking for not fi...</td>\n",
              "      <td>2018-05-26</td>\n",
              "    </tr>\n",
              "    <tr>\n",
              "      <th>4</th>\n",
              "      <td>ENTERTAINMENT</td>\n",
              "      <td>Julianna Margulies Uses Donald Trump Poop Bags...</td>\n",
              "      <td>Ron Dicker</td>\n",
              "      <td>https://www.huffingtonpost.com/entry/julianna-...</td>\n",
              "      <td>The \"Dietland\" actress said using the bags is ...</td>\n",
              "      <td>2018-05-26</td>\n",
              "    </tr>\n",
              "  </tbody>\n",
              "</table>\n",
              "</div>"
            ],
            "text/plain": [
              "        category  ...       date\n",
              "0          CRIME  ... 2018-05-26\n",
              "1  ENTERTAINMENT  ... 2018-05-26\n",
              "2  ENTERTAINMENT  ... 2018-05-26\n",
              "3  ENTERTAINMENT  ... 2018-05-26\n",
              "4  ENTERTAINMENT  ... 2018-05-26\n",
              "\n",
              "[5 rows x 6 columns]"
            ]
          },
          "metadata": {
            "tags": []
          },
          "execution_count": 4
        }
      ]
    },
    {
      "cell_type": "code",
      "metadata": {
        "id": "7nABVK_Omv3q",
        "colab_type": "code",
        "outputId": "5f522c75-add3-4f5a-be56-d6b42ff34047",
        "colab": {
          "base_uri": "https://localhost:8080/",
          "height": 34
        }
      },
      "source": [
        "### Total volume of data\n",
        "\n",
        "data.shape"
      ],
      "execution_count": 5,
      "outputs": [
        {
          "output_type": "execute_result",
          "data": {
            "text/plain": [
              "(200853, 6)"
            ]
          },
          "metadata": {
            "tags": []
          },
          "execution_count": 5
        }
      ]
    },
    {
      "cell_type": "code",
      "metadata": {
        "id": "2mcwlkrPm6Oo",
        "colab_type": "code",
        "outputId": "ccd5a84e-54dc-4f44-e092-9d2149df6f9a",
        "colab": {
          "base_uri": "https://localhost:8080/",
          "height": 535
        }
      },
      "source": [
        "### Total volume by categories\n",
        "\n",
        "plt.figure(figsize=(15,7))\n",
        "sns.set_style(\"whitegrid\")\n",
        "sns.countplot(x='category',data=data, orient='h', palette='husl')\n",
        "plt.xticks(rotation=90)\n",
        "plt.title(\"Category count of article\")\n",
        "plt.show()"
      ],
      "execution_count": 10,
      "outputs": [
        {
          "output_type": "display_data",
          "data": {
            "image/png": "[encoded data removed]",
            "text/plain": [
              "<Figure size 1080x504 with 1 Axes>"
            ]
          },
          "metadata": {
            "tags": [],
            "needs_background": "light"
          }
        }
      ]
    },
    {
      "cell_type": "markdown",
      "metadata": {
        "id": "6U8aunHEwN7y",
        "colab_type": "text"
      },
      "source": [
        "For the purpose of this demo and blog, we will do the following:\n",
        "  1.   **Reduce** the total number of **categories** from the dataset to make it simple.\n",
        "  2.   **Combine** both the **Headline and Short Description** into one single column to bring more context to the news and corpus. Calling it as: ```Combined_Description```\n",
        "  3.  **Drop** rest of the attributes from the dataframe other than Combined_Description and Categories.\n",
        "\n"
      ]
    },
    {
      "cell_type": "code",
      "metadata": {
        "id": "-W3lHt3-vON1",
        "colab_type": "code",
        "outputId": "46709490-14c7-4300-b636-e57ca8e5512f",
        "colab": {
          "base_uri": "https://localhost:8080/",
          "height": 204
        }
      },
      "source": [
        "### Filter the dataset to reduce the dataset (just for the purpose of this work)\n",
        "\n",
        "data['Combined_Description'] = data['headline'] + data['short_description']\n",
        "filtered_data = data[(data['category']=='ENTERTAINMENT') | (data['category']=='TRAVEL') | (data['category']=='RELIGION') | (data['category']=='FOOD & DRINK') | (data['category']=='HEALTHY LIVING')]\n",
        "filtered_data = filtered_data[['category','Combined_Description']]\n",
        "\n",
        "filtered_data.head()"
      ],
      "execution_count": 27,
      "outputs": [
        {
          "output_type": "execute_result",
          "data": {
            "text/html": [
              "<div>\n",
              "<style scoped>\n",
              "    .dataframe tbody tr th:only-of-type {\n",
              "        vertical-align: middle;\n",
              "    }\n",
              "\n",
              "    .dataframe tbody tr th {\n",
              "        vertical-align: top;\n",
              "    }\n",
              "\n",
              "    .dataframe thead th {\n",
              "        text-align: right;\n",
              "    }\n",
              "</style>\n",
              "<table border=\"1\" class=\"dataframe\">\n",
              "  <thead>\n",
              "    <tr style=\"text-align: right;\">\n",
              "      <th></th>\n",
              "      <th>category</th>\n",
              "      <th>Combined_Description</th>\n",
              "    </tr>\n",
              "  </thead>\n",
              "  <tbody>\n",
              "    <tr>\n",
              "      <th>1</th>\n",
              "      <td>ENTERTAINMENT</td>\n",
              "      <td>Will Smith Joins Diplo And Nicky Jam For The 2...</td>\n",
              "    </tr>\n",
              "    <tr>\n",
              "      <th>2</th>\n",
              "      <td>ENTERTAINMENT</td>\n",
              "      <td>Hugh Grant Marries For The First Time At Age 5...</td>\n",
              "    </tr>\n",
              "    <tr>\n",
              "      <th>3</th>\n",
              "      <td>ENTERTAINMENT</td>\n",
              "      <td>Jim Carrey Blasts 'Castrato' Adam Schiff And D...</td>\n",
              "    </tr>\n",
              "    <tr>\n",
              "      <th>4</th>\n",
              "      <td>ENTERTAINMENT</td>\n",
              "      <td>Julianna Margulies Uses Donald Trump Poop Bags...</td>\n",
              "    </tr>\n",
              "    <tr>\n",
              "      <th>5</th>\n",
              "      <td>ENTERTAINMENT</td>\n",
              "      <td>Morgan Freeman 'Devastated' That Sexual Harass...</td>\n",
              "    </tr>\n",
              "  </tbody>\n",
              "</table>\n",
              "</div>"
            ],
            "text/plain": [
              "        category                               Combined_Description\n",
              "1  ENTERTAINMENT  Will Smith Joins Diplo And Nicky Jam For The 2...\n",
              "2  ENTERTAINMENT  Hugh Grant Marries For The First Time At Age 5...\n",
              "3  ENTERTAINMENT  Jim Carrey Blasts 'Castrato' Adam Schiff And D...\n",
              "4  ENTERTAINMENT  Julianna Margulies Uses Donald Trump Poop Bags...\n",
              "5  ENTERTAINMENT  Morgan Freeman 'Devastated' That Sexual Harass..."
            ]
          },
          "metadata": {
            "tags": []
          },
          "execution_count": 27
        }
      ]
    },
    {
      "cell_type": "code",
      "metadata": {
        "id": "UqG7T3oYKlNm",
        "colab_type": "code",
        "outputId": "8a8aeb00-ee44-4b58-f6c7-7efb744145d0",
        "colab": {
          "base_uri": "https://localhost:8080/",
          "height": 350
        }
      },
      "source": [
        "### Lets check the filtered dataset available. We will use this category to validate our LDA topic result.\n",
        "plt.figure(figsize=(10,5))\n",
        "sns.set_style(\"whitegrid\")\n",
        "sns.countplot(x='category', data=filtered_data, palette='husl')\n",
        "plt.title(\"Final Dataset Categories Count\")\n",
        "plt.show()"
      ],
      "execution_count": 28,
      "outputs": [
        {
          "output_type": "display_data",
          "data": {
            "image/png": "[encoded data removed]",
            "text/plain": [
              "<Figure size 720x360 with 1 Axes>"
            ]
          },
          "metadata": {
            "tags": []
          }
        }
      ]
    },
    {
      "cell_type": "code",
      "metadata": {
        "id": "PrNM1Y8kBhZZ",
        "colab_type": "code",
        "outputId": "51cd4c98-476f-4e55-e9f9-8fc55bad61d1",
        "colab": {
          "base_uri": "https://localhost:8080/",
          "height": 34
        }
      },
      "source": [
        "filtered_data.shape"
      ],
      "execution_count": 29,
      "outputs": [
        {
          "output_type": "execute_result",
          "data": {
            "text/plain": [
              "(41421, 2)"
            ]
          },
          "metadata": {
            "tags": []
          },
          "execution_count": 29
        }
      ]
    },
    {
      "cell_type": "markdown",
      "metadata": {
        "id": "5CeNOj-U5ka-",
        "colab_type": "text"
      },
      "source": [
        "### Step 2: Pre-processing data\n",
        "\n",
        "**a. Applying Count Vectorizer to pre-process the data into vectors.**\n",
        "\n",
        "In the parameters section of CountVectorizer(), we define the max_df and min_df.\n",
        "\n",
        "- max_df : Ignore the words that occurs more than 95% of the corpus. \n",
        "- min_df : Accept the words in preparation of vocab that occurs in atleast 2 of the documents in the corpus.\n",
        "- stop_words : Remove the stop words. We can do this in separate steps or in a single step."
      ]
    },
    {
      "cell_type": "code",
      "metadata": {
        "id": "oMviYF-T5QLw",
        "colab_type": "code",
        "colab": {}
      },
      "source": [
        "#df_cv = CountVectorizer(max_df=0.95, min_df=2, stop_words='english')\n",
        "df_cv = TfidfVectorizer(stop_words='english')"
      ],
      "execution_count": 0,
      "outputs": []
    },
    {
      "cell_type": "code",
      "metadata": {
        "id": "DVNAlqdJ6or7",
        "colab_type": "code",
        "colab": {}
      },
      "source": [
        "df_cv_transformed = df_cv.fit_transform(filtered_data['Combined_Description'])"
      ],
      "execution_count": 0,
      "outputs": []
    },
    {
      "cell_type": "code",
      "metadata": {
        "id": "AO91FbiIA8x0",
        "colab_type": "code",
        "outputId": "cd5fedfd-2001-4f5c-968e-7168f8d4c477",
        "colab": {
          "base_uri": "https://localhost:8080/",
          "height": 51
        }
      },
      "source": [
        "df_cv_transformed"
      ],
      "execution_count": 32,
      "outputs": [
        {
          "output_type": "execute_result",
          "data": {
            "text/plain": [
              "<41421x65282 sparse matrix of type '<class 'numpy.float64'>'\n",
              "\twith 577705 stored elements in Compressed Sparse Row format>"
            ]
          },
          "metadata": {
            "tags": []
          },
          "execution_count": 32
        }
      ]
    },
    {
      "cell_type": "markdown",
      "metadata": {
        "id": "FjqPYCIuB-si",
        "colab_type": "text"
      },
      "source": [
        "*Here you can notice that the transformed dataset holds a sparse matrix with a dimension of 58109x28637; where 58109 is the total number of rows and 28637 is the total word corpus.*"
      ]
    },
    {
      "cell_type": "markdown",
      "metadata": {
        "id": "g-GkVdCHCqo-",
        "colab_type": "text"
      },
      "source": [
        "### Step 3: Building Latent-Dirichlet Algorithm using scikit-learn"
      ]
    },
    {
      "cell_type": "code",
      "metadata": {
        "id": "h33cgl50BFgX",
        "colab_type": "code",
        "colab": {}
      },
      "source": [
        "### Define the LDA model and set the topic size to 5.\n",
        "\n",
        "lda_model = LatentDirichletAllocation(n_components=5, batch_size=128, random_state=42)"
      ],
      "execution_count": 0,
      "outputs": []
    },
    {
      "cell_type": "code",
      "metadata": {
        "id": "lr_ESU3ODNaH",
        "colab_type": "code",
        "outputId": "5fc48b07-d3b4-4756-9960-e2daafa7e9d6",
        "colab": {
          "base_uri": "https://localhost:8080/",
          "height": 136
        }
      },
      "source": [
        "### Fit the filtered data to the model\n",
        "\n",
        "lda_model.fit(df_cv_transformed)"
      ],
      "execution_count": 34,
      "outputs": [
        {
          "output_type": "execute_result",
          "data": {
            "text/plain": [
              "LatentDirichletAllocation(batch_size=128, doc_topic_prior=None,\n",
              "                          evaluate_every=-1, learning_decay=0.7,\n",
              "                          learning_method='batch', learning_offset=10.0,\n",
              "                          max_doc_update_iter=100, max_iter=10,\n",
              "                          mean_change_tol=0.001, n_components=5, n_jobs=None,\n",
              "                          perp_tol=0.1, random_state=42, topic_word_prior=None,\n",
              "                          total_samples=1000000.0, verbose=0)"
            ]
          },
          "metadata": {
            "tags": []
          },
          "execution_count": 34
        }
      ]
    },
    {
      "cell_type": "markdown",
      "metadata": {
        "id": "qOrdPjfnFhia",
        "colab_type": "text"
      },
      "source": [
        "### Step 4: Display the Topics"
      ]
    },
    {
      "cell_type": "code",
      "metadata": {
        "id": "LyxCeru0DTNh",
        "colab_type": "code",
        "outputId": "2863f640-708c-4d86-f222-3d916f2f50d0",
        "colab": {
          "base_uri": "https://localhost:8080/",
          "height": 102
        }
      },
      "source": [
        "topic_word_dict = {}\n",
        "\n",
        "top_n_words_num = 10\n",
        "\n",
        "for index, topic in enumerate(lda_model.components_):\n",
        "  topic_id = index+1\n",
        "  topic_words_max = [df_cv.get_feature_names()[i] for i in topic.argsort()[:(-1 * top_n_words_num)-1:-1]]\n",
        "  topic_word_dict[topic_id] = topic_words_max\n",
        "  print(f\"Topic ID : {topic_id}; Top 10 Most Words : {topic_words_max}\")"
      ],
      "execution_count": 38,
      "outputs": [
        {
          "output_type": "stream",
          "text": [
            "Topic ID : 1; Top 10 Most Words : ['photos', 'best', 'food', 'new', 'recipes', 'make', 'like', 'world', 'day', 'just']\n",
            "Topic ID : 2; Top 10 Most Words : ['daily', 'life', 'new', 'meditation', 'people', 'need', 'time', 'help', 'know', 'make']\n",
            "Topic ID : 3; Top 10 Most Words : ['new', 'travel', 'time', 'world', 'people', 'best', 'photos', 'year', 'day', 'just']\n",
            "Topic ID : 4; Top 10 Most Words : ['new', 'like', 'just', 'know', 'life', 'people', 'best', 'health', 'make', 'time']\n",
            "Topic ID : 5; Top 10 Most Words : ['new', 'star', 'trump', 'says', 'donald', 'year', 'music', 'just', 'love', 'kardashian']\n"
          ],
          "name": "stdout"
        }
      ]
    },
    {
      "cell_type": "markdown",
      "metadata": {
        "id": "EJ-oXnm4G14W",
        "colab_type": "text"
      },
      "source": [
        "### Step 5: Attaching Topics to the Dataframe"
      ]
    },
    {
      "cell_type": "code",
      "metadata": {
        "id": "AjUhh31aGTtq",
        "colab_type": "code",
        "colab": {}
      },
      "source": [
        "topic_output = lda_model.transform(df_cv_transformed)"
      ],
      "execution_count": 0,
      "outputs": []
    },
    {
      "cell_type": "code",
      "metadata": {
        "id": "2GiZKPHYJQrd",
        "colab_type": "code",
        "outputId": "b555481d-79db-4214-e265-ed0f64a2d699",
        "colab": {
          "base_uri": "https://localhost:8080/",
          "height": 187
        }
      },
      "source": [
        "topic_word_dict[1]"
      ],
      "execution_count": 40,
      "outputs": [
        {
          "output_type": "execute_result",
          "data": {
            "text/plain": [
              "['photos',\n",
              " 'best',\n",
              " 'food',\n",
              " 'new',\n",
              " 'recipes',\n",
              " 'make',\n",
              " 'like',\n",
              " 'world',\n",
              " 'day',\n",
              " 'just']"
            ]
          },
          "metadata": {
            "tags": []
          },
          "execution_count": 40
        }
      ]
    },
    {
      "cell_type": "code",
      "metadata": {
        "id": "BuY5CvjAHyhC",
        "colab_type": "code",
        "colab": {}
      },
      "source": [
        "filtered_data['LDA_Topic_ID'] = topic_output.argmax(axis=1)+1\n",
        "\n",
        "filtered_data['Topic_word_categories'] = filtered_data['LDA_Topic_ID'].apply(lambda id: topic_word_dict[id])"
      ],
      "execution_count": 0,
      "outputs": []
    },
    {
      "cell_type": "code",
      "metadata": {
        "id": "CyX8CBlaIJFg",
        "colab_type": "code",
        "outputId": "d02f4ab2-1176-4dce-b7ef-05c7a969acec",
        "colab": {
          "base_uri": "https://localhost:8080/",
          "height": 204
        }
      },
      "source": [
        "filtered_data[['category','Combined_Description','LDA_Topic_ID','Topic_word_categories']].head()"
      ],
      "execution_count": 42,
      "outputs": [
        {
          "output_type": "execute_result",
          "data": {
            "text/html": [
              "<div>\n",
              "<style scoped>\n",
              "    .dataframe tbody tr th:only-of-type {\n",
              "        vertical-align: middle;\n",
              "    }\n",
              "\n",
              "    .dataframe tbody tr th {\n",
              "        vertical-align: top;\n",
              "    }\n",
              "\n",
              "    .dataframe thead th {\n",
              "        text-align: right;\n",
              "    }\n",
              "</style>\n",
              "<table border=\"1\" class=\"dataframe\">\n",
              "  <thead>\n",
              "    <tr style=\"text-align: right;\">\n",
              "      <th></th>\n",
              "      <th>category</th>\n",
              "      <th>Combined_Description</th>\n",
              "      <th>LDA_Topic_ID</th>\n",
              "      <th>Topic_word_categories</th>\n",
              "    </tr>\n",
              "  </thead>\n",
              "  <tbody>\n",
              "    <tr>\n",
              "      <th>1</th>\n",
              "      <td>ENTERTAINMENT</td>\n",
              "      <td>Will Smith Joins Diplo And Nicky Jam For The 2...</td>\n",
              "      <td>1</td>\n",
              "      <td>[photos, best, food, new, recipes, make, like,...</td>\n",
              "    </tr>\n",
              "    <tr>\n",
              "      <th>2</th>\n",
              "      <td>ENTERTAINMENT</td>\n",
              "      <td>Hugh Grant Marries For The First Time At Age 5...</td>\n",
              "      <td>2</td>\n",
              "      <td>[daily, life, new, meditation, people, need, t...</td>\n",
              "    </tr>\n",
              "    <tr>\n",
              "      <th>3</th>\n",
              "      <td>ENTERTAINMENT</td>\n",
              "      <td>Jim Carrey Blasts 'Castrato' Adam Schiff And D...</td>\n",
              "      <td>1</td>\n",
              "      <td>[photos, best, food, new, recipes, make, like,...</td>\n",
              "    </tr>\n",
              "    <tr>\n",
              "      <th>4</th>\n",
              "      <td>ENTERTAINMENT</td>\n",
              "      <td>Julianna Margulies Uses Donald Trump Poop Bags...</td>\n",
              "      <td>5</td>\n",
              "      <td>[new, star, trump, says, donald, year, music, ...</td>\n",
              "    </tr>\n",
              "    <tr>\n",
              "      <th>5</th>\n",
              "      <td>ENTERTAINMENT</td>\n",
              "      <td>Morgan Freeman 'Devastated' That Sexual Harass...</td>\n",
              "      <td>5</td>\n",
              "      <td>[new, star, trump, says, donald, year, music, ...</td>\n",
              "    </tr>\n",
              "  </tbody>\n",
              "</table>\n",
              "</div>"
            ],
            "text/plain": [
              "        category  ...                              Topic_word_categories\n",
              "1  ENTERTAINMENT  ...  [photos, best, food, new, recipes, make, like,...\n",
              "2  ENTERTAINMENT  ...  [daily, life, new, meditation, people, need, t...\n",
              "3  ENTERTAINMENT  ...  [photos, best, food, new, recipes, make, like,...\n",
              "4  ENTERTAINMENT  ...  [new, star, trump, says, donald, year, music, ...\n",
              "5  ENTERTAINMENT  ...  [new, star, trump, says, donald, year, music, ...\n",
              "\n",
              "[5 rows x 4 columns]"
            ]
          },
          "metadata": {
            "tags": []
          },
          "execution_count": 42
        }
      ]
    },
    {
      "cell_type": "markdown",
      "metadata": {
        "id": "yiyop4tqRh7n",
        "colab_type": "text"
      },
      "source": [
        "### Step 6: Visualizing"
      ]
    },
    {
      "cell_type": "code",
      "metadata": {
        "id": "lvFrlzj1dEkX",
        "colab_type": "code",
        "colab": {}
      },
      "source": [
        "viz = skl.prepare(lda_model,df_cv_transformed,df_cv)"
      ],
      "execution_count": 0,
      "outputs": []
    },
    {
      "cell_type": "code",
      "metadata": {
        "id": "Dap5ahJYf0vk",
        "colab_type": "code",
        "outputId": "62632dea-d22d-49ed-ce74-be9f7a5899cd",
        "colab": {
          "base_uri": "https://localhost:8080/",
          "height": 861
        }
      },
      "source": [
        "pyLDAvis.display(viz)"
      ],
      "execution_count": 44,
      "outputs": [
        {
          "output_type": "execute_result",
          "data": {
            "text/html": [
              "\n",
              "<link rel=\"stylesheet\" type=\"text/css\" href=\"https://cdn.rawgit.com/bmabey/pyLDAvis/files/ldavis.v1.0.0.css\">\n",
              "\n",
              "\n",
              "<div id=\"ldavis_el1191396810402644323765728647\"></div>\n",
              "<script type=\"text/javascript\">\n",
              "\n",
              "var ldavis_el1191396810402644323765728647_data = {\"mdsDat\": {\"x\": [-0.06702028221383716, 0.09526650336268012, -0.03256310390840831, 0.003368892508055225, 0.0009479902515100472], \"y\": [0.04418726495886139, 0.0316551292118265, -0.0016665680319735855, -0.015771464345250456, -0.05840436179346389], \"topics\": [1, 2, 3, 4, 5], \"cluster\": [1, 1, 1, 1, 1], \"Freq\": [25.904373579799206, 22.305994781148318, 18.962503425583417, 17.422893286252542, 15.404234927216526]}, \"tinfo\": {\"Term\": [\"meditation\", \"daily\", \"photos\", \"trump\", \"recipes\", \"practice\", \"wars\", \"cream\", \"snl\", \"star\", \"donald\", \"summer\", \"kardashian\", \"awareness\", \"travel\", \"mindful\", \"jennifer\", \"swift\", \"food\", \"cheese\", \"hotels\", \"taylor\", \"spiritual\", \"recipe\", \"carrie\", \"prayers\", \"life\", \"sexual\", \"teigen\", \"chrissy\", \"cream\", \"savory\", \"taco\", \"strawberry\", \"yogurt\", \"mint\", \"blac\", \"chyna\", \"corn\", \"donut\", \"steak\", \"sushi\", \"desserts\", \"cereal\", \"stuffing\", \"dessert\", \"candy\", \"whipped\", \"avocado\", \"etsy\", \"cakes\", \"shonda\", \"waffle\", \"peanut\", \"flavors\", \"sweets\", \"baked\", \"olive\", \"tuna\", \"macaroni\", \"tomato\", \"towns\", \"breakfast\", \"sandwich\", \"cheese\", \"butter\", \"cookie\", \"vegan\", \"baking\", \"salad\", \"eggs\", \"burger\", \"recipes\", \"photos\", \"zen\", \"chocolate\", \"recipe\", \"taste\", \"delicious\", \"bars\", \"food\", \"chicken\", \"eat\", \"best\", \"cake\", \"ice\", \"city\", \"fruit\", \"make\", \"sweet\", \"travel\", \"beach\", \"world\", \"day\", \"summer\", \"10\", \"like\", \"favorite\", \"america\", \"just\", \"new\", \"ve\", \"time\", \"way\", \"good\", \"ll\", \"better\", \"know\", \"don\", \"video\", \"love\", \"year\", \"need\", \"things\", \"carrie\", \"fisher\", \"baldwin\", \"alec\", \"angelina\", \"jolie\", \"tina\", \"fey\", \"brad\", \"lamar\", \"meryl\", \"streep\", \"fallon\", \"beatles\", \"awakens\", \"kendrick\", \"dicaprio\", \"nominations\", \"underwood\", \"weinstein\", \"pitt\", \"leonardo\", \"gwen\", \"hamill\", \"franco\", \"stefani\", \"odom\", \"mccartney\", \"jedi\", \"teigen\", \"chrissy\", \"snl\", \"globes\", \"lawrence\", \"wars\", \"jimmy\", \"jennifer\", \"harvey\", \"tribute\", \"sexual\", \"legend\", \"academy\", \"donald\", \"star\", \"trump\", \"singer\", \"ryan\", \"awards\", \"actor\", \"album\", \"song\", \"says\", \"kardashian\", \"swift\", \"actress\", \"taylor\", \"music\", \"new\", \"said\", \"director\", \"night\", \"dead\", \"movie\", \"fans\", \"year\", \"love\", \"hollywood\", \"game\", \"just\", \"kim\", \"like\", \"time\", \"video\", \"film\", \"old\", \"watch\", \"cigarettes\", \"levine\", \"trebek\", \"accessories\", \"busiest\", \"muhammad\", \"deen\", \"markle\", \"toddler\", \"wackiest\", \"tobacco\", \"cheat\", \"synod\", \"splurge\", \"lowest\", \"steam\", \"comedies\", \"tranquility\", \"worrying\", \"vaccinated\", \"cooling\", \"cheddar\", \"islamophobic\", \"germs\", \"embark\", \"amusement\", \"ottolenghi\", \"serenity\", \"bandwagon\", \"booking\", \"deals\", \"deviled\", \"disneyland\", \"resolutions\", \"lobster\", \"jeopardy\", \"yoga\", \"packing\", \"foliage\", \"jaw\", \"destinations\", \"barbecue\", \"spring\", \"miley\", \"hotels\", \"planning\", \"traveling\", \"vacation\", \"summer\", \"travel\", \"cyrus\", \"ski\", \"fall\", \"people\", \"hotel\", \"10\", \"world\", \"year\", \"time\", \"day\", \"dream\", \"park\", \"trip\", \"best\", \"way\", \"don\", \"new\", \"just\", \"photos\", \"home\", \"want\", \"ve\", \"good\", \"like\", \"things\", \"food\", \"make\", \"love\", \"ways\", \"life\", \"season\", \"great\", \"lena\", \"dunham\", \"sheeran\", \"iggy\", \"azalea\", \"trevor\", \"mindy\", \"ripa\", \"hated\", \"foo\", \"fighters\", \"kaling\", \"ventimiglia\", \"clap\", \"dunst\", \"fathers\", \"nurses\", \"nurse\", \"biles\", \"ramsey\", \"tambor\", \"coaster\", \"preach\", \"harington\", \"taraji\", \"jodie\", \"henson\", \"poppins\", \"celine\", \"jada\", \"nacho\", \"ebola\", \"rico\", \"noah\", \"surgery\", \"garner\", \"doctor\", \"kit\", \"patient\", \"puerto\", \"ed\", \"sons\", \"swear\", \"health\", \"degeneres\", \"doctors\", \"super\", \"christmas\", \"years\", \"game\", \"really\", \"know\", \"self\", \"like\", \"mental\", \"thrones\", \"life\", \"just\", \"season\", \"new\", \"need\", \"people\", \"trump\", \"mother\", \"make\", \"world\", \"time\", \"best\", \"family\", \"love\", \"look\", \"right\", \"don\", \"photos\", \"ve\", \"video\", \"things\", \"year\", \"way\", \"meditation\", \"meditations\", \"mindful\", \"prayers\", \"maintaining\", \"awareness\", \"charlize\", \"theron\", \"diesel\", \"bipolar\", \"vin\", \"amal\", \"labeouf\", \"shia\", \"practice\", \"lyme\", \"butternut\", \"insomnia\", \"depp\", \"deconstructing\", \"biscuit\", \"groot\", \"drowsy\", \"deprived\", \"mendes\", \"jeb\", \"daily\", \"ledger\", \"debilitating\", \"bure\", \"potter\", \"therapist\", \"liars\", \"spiritual\", \"tatum\", \"johnny\", \"channing\", \"mindfulness\", \"forgive\", \"joan\", \"anxiety\", \"depression\", \"harry\", \"hope\", \"personal\", \"life\", \"sleep\", \"help\", \"weight\", \"pizza\", \"need\", \"pope\", \"rivers\", \"people\", \"things\", \"new\", \"know\", \"time\", \"make\", \"day\", \"just\", \"little\", \"love\", \"like\", \"world\", \"ways\", \"don\", \"want\", \"10\", \"good\", \"ve\"], \"Freq\": [43.0, 60.0, 241.0, 123.0, 120.0, 30.0, 44.0, 34.0, 40.0, 123.0, 68.0, 102.0, 68.0, 23.0, 169.0, 19.0, 39.0, 59.0, 156.0, 45.0, 63.0, 63.0, 27.0, 82.0, 22.0, 18.0, 157.0, 35.0, 24.0, 24.0, 33.41502164019179, 10.05266626017507, 8.008419286462455, 7.1517795927306285, 7.709350148490476, 7.044492439196754, 6.141720080873658, 5.941242535861868, 11.548982293860975, 5.651764511804476, 7.676779346789452, 7.006185402959479, 13.97424315799065, 5.105153910290672, 5.053633074775507, 26.866817812392725, 16.567328462822342, 4.975579621684577, 6.408660524413939, 4.93529890582946, 10.528476819197547, 4.579056169053136, 4.734961455942264, 12.461110971808004, 15.45252116575382, 4.700577840073509, 11.685587081538843, 7.337837934393695, 4.209686045577052, 4.195852980958376, 9.149594492112692, 15.244603905692363, 29.485149605317627, 17.15130529906029, 36.5005290595654, 20.975390805608267, 16.61676551635606, 12.920209103285861, 12.011863130155112, 18.67917929237742, 15.476110061466919, 18.327994047394178, 82.87079814320023, 147.01827856302484, 20.083041477098686, 36.524650265093015, 54.991241921942496, 34.046868005011255, 28.28499987803531, 20.49961101263791, 87.8877177068499, 27.85762024776148, 47.14910070003069, 116.83020968969561, 26.459744266549368, 29.15970554040734, 53.24530181728819, 17.85139672142491, 82.046243517715, 29.720364761259038, 70.0351099054835, 32.27617875013369, 75.54515998192507, 73.22894732395396, 48.14853218646837, 59.742977984920934, 76.60731193112491, 42.370904511916535, 46.23549714702719, 72.51450648766864, 86.68137277283334, 53.55835133650331, 63.3958250168407, 49.06291033093568, 48.04688559723022, 42.056026832269374, 41.25939610872189, 46.734116743499015, 45.040560185361834, 40.81199290600629, 42.859903917934446, 40.01267536056719, 39.132676778711875, 39.26968437077686, 21.881094915521082, 17.034892642602276, 15.303414757695059, 12.273988575470966, 11.749584279540953, 10.872743046302178, 10.76265139333525, 10.740844967841587, 10.062517411075278, 11.833601068899549, 9.364782103771299, 9.25147363992322, 18.47628720709295, 9.566285093855216, 8.909929980872562, 9.654598395217187, 9.08672747304552, 10.031177371733328, 8.672778914400638, 20.922900285327007, 8.489117689311612, 7.999568691973893, 7.264336230131959, 6.985118049930821, 9.469799071726646, 6.696012022210848, 6.653541383208275, 6.522949561945484, 10.077862968589244, 22.582695742034677, 22.496274883134593, 35.26967924359497, 16.205622462693512, 19.82564113460536, 37.654075464625514, 24.796763718109386, 32.67628012003086, 17.7819619991537, 22.479416177648798, 28.537903771773045, 19.610803183122666, 15.95901198444143, 47.698430776108225, 75.74029000173137, 75.39355438037262, 38.092159709922875, 25.67109682770086, 27.222120227882186, 38.090563067279795, 30.72090082493145, 31.283623606253265, 57.87360021586986, 40.70629579266879, 35.8356043308411, 28.840965439418735, 36.09235647437995, 43.267772997257204, 94.02335559388166, 39.69885848881446, 28.72238058920034, 37.30696073796866, 31.554353398635346, 37.50051619676806, 29.009414711027482, 46.22028743843331, 42.344777767506905, 28.28115808058696, 31.682554652849205, 42.35043457627451, 29.000743092622226, 36.59884275978201, 36.092139165105955, 32.180098381609255, 30.87464810204381, 30.598813661606716, 29.727447534384847, 5.907899799060074, 3.795670158566066, 2.8363930382936706, 2.6536998578212705, 5.037960730268729, 4.379959779150174, 2.553074225941213, 2.4839094594537516, 2.923089411785943, 2.23396959317373, 4.131528626180907, 2.4259874335287255, 2.110370488384116, 3.2922685872910287, 2.0478647684920253, 2.0315504723173037, 2.012456970964396, 2.2404747072839193, 3.4137352899196656, 1.8320345529429902, 1.7945046344995181, 3.121320771584689, 1.7959672279824521, 2.327115055055143, 1.7689194154083627, 2.917810378348186, 3.1878258628283564, 2.2278249397429626, 1.6483044308137185, 6.333275559014027, 8.372303562123452, 2.5876714742331877, 7.742347076211674, 9.28840052118302, 5.988001761115602, 5.022013141733808, 18.592650330398527, 6.219458858910772, 3.5787971854984044, 3.492755483615727, 22.9415114875951, 8.071443505279134, 22.015777264352458, 13.797967341151175, 28.925501598925567, 11.766131944620538, 19.828482262554253, 28.187748195727366, 39.79151563390154, 58.45312360891804, 12.675139503345823, 12.01408018818662, 20.146287558567316, 52.45648737029111, 28.648565962330835, 44.16096781353344, 53.84797914795044, 47.878062212546645, 53.918441693804176, 47.805944243519505, 14.061300099888985, 16.212987543236633, 24.145815312317257, 50.98634783440447, 35.78654036481939, 37.556892915364905, 58.677940258620126, 46.65218106163811, 48.11519525438884, 24.737181459108058, 31.153374920869982, 34.35570061751833, 32.97513820450285, 41.96588292312243, 32.418848194904136, 34.72081430368668, 36.38619701415483, 31.626194547515247, 26.68581139744419, 29.718275513767463, 25.10303185232793, 24.77544891268169, 12.427208772044768, 10.451238016773884, 9.203323762131719, 7.325671733880128, 6.693526746392282, 4.904296238720125, 4.7018569746350005, 3.966680220360307, 3.750796078290166, 3.5183866470162486, 3.518386647015358, 3.04383374603587, 2.878726953170089, 2.868579219560387, 2.6977973916878275, 2.6694146351285615, 3.631585971803318, 5.218756397784157, 2.620701089091555, 2.598028061143757, 2.480023602017147, 3.04624425407993, 2.577345188252488, 3.769077831126072, 2.2477666624735497, 2.2301217102256023, 2.368477715884917, 2.1990949948661767, 3.0971110810254947, 2.0941272122249273, 2.4910751342748987, 18.68215490543516, 3.938800849877774, 6.70531171716431, 5.640941379791092, 4.708745019317573, 14.948672335213889, 4.560610006035611, 9.079414706651388, 4.992769389775956, 8.580416514053951, 5.306470318675932, 4.390314724445093, 30.328118620210475, 6.210321020956832, 9.25985558061786, 17.71492765419787, 18.961902734789405, 28.46283248526197, 21.76523027335101, 27.47319338505228, 34.04274209023885, 14.168526466515035, 39.380814224477476, 14.072122771431374, 15.77540132253046, 31.09284645544676, 37.7725305814277, 24.34409549888918, 46.40375450673597, 26.92552238607319, 30.84701625865683, 24.868713057240164, 13.772470050587186, 29.926349392090728, 28.66735663875761, 29.005076745819398, 30.363566970011266, 20.01474057249082, 24.963805461588162, 19.65975059192029, 19.223948296714056, 22.3679386289972, 23.947468577729403, 20.610751193918695, 19.73954012490623, 19.244017598049016, 19.992553907081458, 18.856423117400443, 41.943374199547726, 13.424327109890204, 18.619084513847643, 17.321074662334055, 14.232435591633148, 20.73111441620318, 4.162864860657999, 4.122096679612703, 3.9912303853201183, 3.9973986635036196, 4.532596458387811, 3.6730826591069565, 4.0511631419865255, 3.873858953386468, 25.895710049731395, 2.8109510835449316, 2.7779653703114824, 3.044895346038235, 8.818711018011642, 2.5359599452360593, 2.5139998557247405, 2.443566722774259, 2.4042855144368533, 3.4433400984436777, 2.5876992238895893, 2.2057689216556353, 47.98093713157795, 2.1665982335339287, 2.0888150826424794, 2.0924038646428196, 12.85088843669886, 4.63531832911688, 4.953431890753699, 20.4473763020344, 8.572023975866149, 10.1000493735071, 6.95978665358304, 7.332519569775812, 4.636483468800481, 8.198261466410898, 11.910990800472423, 12.751476121079936, 14.065177632783193, 18.974878675260424, 17.188635604504224, 47.72192700263401, 24.245736406831124, 29.27565467097133, 14.23617357249233, 12.304290387937344, 30.76991871970085, 17.65442641113192, 7.331586256515871, 32.251118668508134, 27.866320570497738, 42.27185572906196, 29.165329258698776, 29.50330663733364, 28.600206131197446, 26.8789959921562, 27.056643186662107, 19.70544480495899, 22.728292014796715, 24.123179047470586, 22.815853581377496, 18.9392339098763, 20.128555538990526, 19.119342712109752, 19.590684699759684, 18.547939501993476, 17.52466998001044], \"Total\": [43.0, 60.0, 241.0, 123.0, 120.0, 30.0, 44.0, 34.0, 40.0, 123.0, 68.0, 102.0, 68.0, 23.0, 169.0, 19.0, 39.0, 59.0, 156.0, 45.0, 63.0, 63.0, 27.0, 82.0, 22.0, 18.0, 157.0, 35.0, 24.0, 24.0, 34.362746259621375, 10.63460475923574, 8.546364331076912, 7.690197438391717, 8.313301508421826, 7.63338162028906, 6.68062220678401, 6.481677458763777, 12.631275382154566, 6.190823741397891, 8.442350271729365, 7.711970354214486, 15.429485126579397, 5.648480705675775, 5.592062936972288, 29.740654416730766, 18.35826924968393, 5.5161476356165755, 7.107915775876476, 5.47596028793979, 11.760143097196767, 5.118891953659037, 5.301330665742613, 13.95324105957673, 17.305597507625176, 5.288861168581799, 13.150984981593314, 8.26567053244964, 4.748207559740053, 4.733480023352616, 10.32452882067419, 17.660091800335596, 35.090352029919096, 20.329882657152115, 45.168621519674744, 25.212744397571523, 19.984874044353063, 15.248877956365687, 14.146421668134277, 22.774443499961528, 18.596055669125295, 22.405970211325055, 120.57768997798041, 241.70120901848517, 25.693809375784152, 51.20319153722877, 82.96662546548576, 47.64291228190606, 38.699831571490726, 26.793083259949807, 156.11296272484248, 39.668108292457404, 76.2846738388925, 238.46955253509245, 37.26110175539317, 42.74270465932042, 102.89394096953059, 23.078889681478348, 199.40189047806197, 47.39605298911633, 169.48019001120963, 54.109270994913906, 198.1484216416876, 195.1247842411906, 102.24979123236021, 145.36066514597437, 218.67603088597738, 87.23791526044675, 101.09449459689768, 226.34629589367108, 328.0582788611331, 145.29571257900545, 211.91478925890388, 137.09628621463864, 138.7207559546142, 104.55803264989561, 105.00551898851418, 158.03292585922838, 149.59809720842765, 123.42209507598531, 164.52297370934147, 170.0616085682877, 127.36681051983712, 136.9911639791741, 22.422911747812808, 17.577347060183534, 15.845932091373886, 12.815117366189098, 12.292838989996278, 11.413573556800927, 11.303768482202278, 11.281668571664884, 10.608473850467707, 12.508153097978571, 9.906711614928014, 9.791966591747334, 19.55780472146887, 10.146819345143049, 9.451992351885119, 10.245522326225279, 9.647136947208553, 10.651744072644632, 9.213809420308317, 22.248435692810418, 9.030158446965586, 8.54111531107632, 7.805053158643872, 7.525351159922829, 10.216526768082783, 7.236481149477441, 7.194033857896656, 7.067900382668123, 10.928222412268687, 24.586039551304026, 24.655325446274425, 40.0513511605797, 17.96547928909765, 22.16774534006133, 44.513444001343494, 28.959949641628143, 39.12995249749266, 20.508653774528703, 26.648885278017854, 35.93688172570474, 23.565487243477037, 18.62558232203639, 68.72839884002087, 123.94730610104251, 123.70403540279592, 54.58203105110584, 34.427379339304174, 37.54811019999164, 58.914122974457186, 44.70031167957304, 46.54099009734328, 112.23776072255396, 68.91092168306227, 59.5388244434164, 44.99942654664255, 63.31368093245, 88.67775981359603, 328.0582788611331, 81.16490788110347, 47.15568154150721, 85.66225568448425, 61.44926682818624, 97.37471768179407, 51.19053145412366, 170.0616085682877, 164.52297370934147, 50.44708668992353, 74.99909668295996, 226.34629589367108, 56.9613375167381, 218.67603088597738, 211.91478925890388, 123.42209507598531, 90.96345469100339, 87.78434832394679, 87.02517362295066, 6.542829417072369, 4.352585168309597, 3.388220300167976, 3.205568531092171, 6.097526327087285, 5.3149534203138105, 3.1039321960485142, 3.0347357058302595, 3.595071441924877, 2.7842617227042497, 5.151717646799673, 3.0276910530966585, 2.6601509867334006, 4.176744252516016, 2.599782921561034, 2.58889501063596, 2.5713935173455154, 2.8750221440015067, 4.426021880645744, 2.380485679877819, 2.343933579497318, 4.0789845313873085, 2.347529789144687, 3.0501258626167953, 2.325256089147025, 3.8405277866500684, 4.228820688570071, 2.9661468719174695, 2.1982702524610986, 8.467513060118957, 11.281921093696196, 3.4607631446634683, 11.046453765262173, 13.414082642768136, 8.563751306587294, 7.103706221807072, 29.75452317998737, 8.97850557577483, 4.933119635947909, 4.803717539354, 42.32992345300799, 12.648801049555802, 43.92605854361386, 25.14403035145931, 63.68594436910892, 21.424293520240514, 41.46987213101663, 64.80828332036197, 102.24979123236021, 169.48019001120963, 24.137732250622527, 23.08432357470285, 45.390776779662616, 173.36471771850796, 79.48320536575864, 145.36066514597437, 198.1484216416876, 170.0616085682877, 211.91478925890388, 195.1247842411906, 30.777657305796374, 39.40219361406975, 74.01104708377147, 238.46955253509245, 137.09628621463864, 149.59809720842765, 328.0582788611331, 226.34629589367108, 241.70120901848517, 79.12862490988387, 118.816232199519, 145.29571257900545, 138.7207559546142, 218.67603088597738, 136.9911639791741, 156.11296272484248, 199.40189047806197, 164.52297370934147, 103.69620508684002, 157.78438299406713, 106.91340086401388, 99.59222255653394, 12.981670876558903, 11.004629628446345, 9.82274211417467, 7.878813118826354, 7.246809846424374, 5.459585469433645, 5.255147936392278, 4.531428235117121, 4.310475059931239, 4.079868667540123, 4.079868667540148, 3.599433967738544, 3.4312268376624107, 3.4230630745127586, 3.2511112656492607, 3.222574118952613, 4.399399384894762, 6.323822583416554, 3.1758498389245746, 3.1524992930139417, 3.037079173333579, 3.766325066163301, 3.1917193881902555, 4.686587810857282, 2.8024287376906787, 2.783873031141729, 2.9634872703845367, 2.754582761618629, 3.885153052188405, 2.647509535253787, 3.1554043930197415, 24.934305830116212, 5.069031913269013, 9.123758085589788, 7.619678105360602, 6.330122660011609, 24.40393771295056, 6.237676531195799, 14.178167102319051, 6.965513993964877, 13.827903488802791, 7.87449754907576, 6.177978765571535, 92.50728076551876, 10.205838313225005, 18.106821288354176, 47.72665382572056, 55.50214551037359, 103.33305353076877, 74.99909668295996, 108.6006851767075, 158.03292585922838, 38.43482259311327, 218.67603088597738, 39.60941874828809, 48.903203676040974, 157.78438299406713, 226.34629589367108, 106.91340086401388, 328.0582788611331, 127.36681051983712, 173.36471771850796, 123.70403540279592, 40.06402034340711, 199.40189047806197, 198.1484216416876, 211.91478925890388, 238.46955253509245, 95.42296440008074, 164.52297370934147, 93.71128024782304, 93.36328474958982, 149.59809720842765, 241.70120901848517, 145.29571257900545, 123.42209507598531, 136.9911639791741, 170.0616085682877, 137.09628621463864, 43.128267368127574, 13.979192396046848, 19.77128943526997, 18.57805478917301, 15.442489330534155, 23.095260036882816, 4.720868563902344, 4.679771836080091, 4.547556978448439, 4.555012481631551, 5.189945638943342, 4.2315918308323806, 4.673097124281832, 4.498170124153381, 30.222458615669535, 3.367709418970395, 3.3388694123322855, 3.6964395402649384, 10.745336622276646, 3.099454096477292, 3.0846226872719003, 3.001501177090466, 2.9646879558424413, 4.304817784066951, 3.243368219398702, 2.7670423344007586, 60.3667180843027, 2.7267276150681266, 2.6439526141538874, 2.6487018636055266, 16.358847112042845, 5.877170064064841, 6.333175267706541, 27.39447302399749, 11.220632987215296, 13.431511093880891, 9.11209293476357, 10.01140937133681, 6.10298996434017, 12.494876113386173, 20.415123285403553, 22.69793121212167, 25.88658486485334, 40.671976258100145, 36.68005549114832, 157.78438299406713, 63.81662719635092, 89.89569715776163, 31.06731746880639, 25.06079867259455, 127.36681051983712, 52.38888026357556, 12.214670102328691, 173.36471771850796, 136.9911639791741, 328.0582788611331, 158.03292585922838, 211.91478925890388, 199.40189047806197, 195.1247842411906, 226.34629589367108, 97.56628629608598, 164.52297370934147, 218.67603088597738, 198.1484216416876, 103.69620508684002, 149.59809720842765, 118.816232199519, 145.36066514597437, 138.7207559546142, 145.29571257900545], \"Category\": [\"Default\", \"Default\", \"Default\", \"Default\", \"Default\", \"Default\", \"Default\", \"Default\", \"Default\", \"Default\", \"Default\", \"Default\", \"Default\", \"Default\", \"Default\", \"Default\", \"Default\", \"Default\", \"Default\", \"Default\", \"Default\", \"Default\", \"Default\", \"Default\", \"Default\", \"Default\", \"Default\", \"Default\", \"Default\", \"Default\", \"Topic1\", \"Topic1\", \"Topic1\", \"Topic1\", \"Topic1\", \"Topic1\", \"Topic1\", \"Topic1\", \"Topic1\", \"Topic1\", \"Topic1\", \"Topic1\", \"Topic1\", \"Topic1\", \"Topic1\", \"Topic1\", \"Topic1\", \"Topic1\", \"Topic1\", \"Topic1\", \"Topic1\", \"Topic1\", \"Topic1\", \"Topic1\", \"Topic1\", \"Topic1\", \"Topic1\", \"Topic1\", \"Topic1\", \"Topic1\", \"Topic1\", \"Topic1\", \"Topic1\", \"Topic1\", \"Topic1\", \"Topic1\", \"Topic1\", \"Topic1\", \"Topic1\", \"Topic1\", \"Topic1\", \"Topic1\", \"Topic1\", \"Topic1\", \"Topic1\", \"Topic1\", \"Topic1\", \"Topic1\", \"Topic1\", \"Topic1\", \"Topic1\", \"Topic1\", \"Topic1\", \"Topic1\", \"Topic1\", \"Topic1\", \"Topic1\", \"Topic1\", \"Topic1\", \"Topic1\", \"Topic1\", \"Topic1\", \"Topic1\", \"Topic1\", \"Topic1\", \"Topic1\", \"Topic1\", \"Topic1\", \"Topic1\", \"Topic1\", \"Topic1\", \"Topic1\", \"Topic1\", \"Topic1\", \"Topic1\", \"Topic1\", \"Topic1\", \"Topic1\", \"Topic1\", \"Topic1\", \"Topic1\", \"Topic1\", \"Topic1\", \"Topic1\", \"Topic2\", \"Topic2\", \"Topic2\", \"Topic2\", \"Topic2\", \"Topic2\", \"Topic2\", \"Topic2\", \"Topic2\", \"Topic2\", \"Topic2\", \"Topic2\", \"Topic2\", \"Topic2\", \"Topic2\", \"Topic2\", \"Topic2\", \"Topic2\", \"Topic2\", \"Topic2\", \"Topic2\", \"Topic2\", \"Topic2\", \"Topic2\", \"Topic2\", \"Topic2\", \"Topic2\", \"Topic2\", \"Topic2\", \"Topic2\", \"Topic2\", \"Topic2\", \"Topic2\", \"Topic2\", \"Topic2\", \"Topic2\", \"Topic2\", \"Topic2\", \"Topic2\", \"Topic2\", \"Topic2\", \"Topic2\", \"Topic2\", \"Topic2\", \"Topic2\", \"Topic2\", \"Topic2\", \"Topic2\", \"Topic2\", \"Topic2\", \"Topic2\", \"Topic2\", \"Topic2\", \"Topic2\", \"Topic2\", \"Topic2\", \"Topic2\", \"Topic2\", \"Topic2\", \"Topic2\", \"Topic2\", \"Topic2\", \"Topic2\", \"Topic2\", \"Topic2\", \"Topic2\", \"Topic2\", \"Topic2\", \"Topic2\", \"Topic2\", \"Topic2\", \"Topic2\", \"Topic2\", \"Topic2\", \"Topic2\", \"Topic2\", \"Topic3\", \"Topic3\", \"Topic3\", \"Topic3\", \"Topic3\", \"Topic3\", \"Topic3\", \"Topic3\", \"Topic3\", \"Topic3\", \"Topic3\", \"Topic3\", \"Topic3\", \"Topic3\", \"Topic3\", \"Topic3\", \"Topic3\", \"Topic3\", \"Topic3\", \"Topic3\", \"Topic3\", \"Topic3\", \"Topic3\", \"Topic3\", \"Topic3\", \"Topic3\", \"Topic3\", \"Topic3\", \"Topic3\", \"Topic3\", \"Topic3\", \"Topic3\", \"Topic3\", \"Topic3\", \"Topic3\", \"Topic3\", \"Topic3\", \"Topic3\", \"Topic3\", \"Topic3\", \"Topic3\", \"Topic3\", \"Topic3\", \"Topic3\", \"Topic3\", \"Topic3\", \"Topic3\", \"Topic3\", \"Topic3\", \"Topic3\", \"Topic3\", \"Topic3\", \"Topic3\", \"Topic3\", \"Topic3\", \"Topic3\", \"Topic3\", \"Topic3\", \"Topic3\", \"Topic3\", \"Topic3\", \"Topic3\", \"Topic3\", \"Topic3\", \"Topic3\", \"Topic3\", \"Topic3\", \"Topic3\", \"Topic3\", \"Topic3\", \"Topic3\", \"Topic3\", \"Topic3\", \"Topic3\", \"Topic3\", \"Topic3\", \"Topic3\", \"Topic3\", \"Topic3\", \"Topic3\", \"Topic3\", \"Topic3\", \"Topic4\", \"Topic4\", \"Topic4\", \"Topic4\", \"Topic4\", \"Topic4\", \"Topic4\", \"Topic4\", \"Topic4\", \"Topic4\", \"Topic4\", \"Topic4\", \"Topic4\", \"Topic4\", \"Topic4\", \"Topic4\", \"Topic4\", \"Topic4\", \"Topic4\", \"Topic4\", \"Topic4\", \"Topic4\", \"Topic4\", \"Topic4\", \"Topic4\", \"Topic4\", \"Topic4\", \"Topic4\", \"Topic4\", \"Topic4\", \"Topic4\", \"Topic4\", \"Topic4\", \"Topic4\", \"Topic4\", \"Topic4\", \"Topic4\", \"Topic4\", \"Topic4\", \"Topic4\", \"Topic4\", \"Topic4\", \"Topic4\", \"Topic4\", \"Topic4\", \"Topic4\", \"Topic4\", \"Topic4\", \"Topic4\", \"Topic4\", \"Topic4\", \"Topic4\", \"Topic4\", \"Topic4\", \"Topic4\", \"Topic4\", \"Topic4\", \"Topic4\", \"Topic4\", \"Topic4\", \"Topic4\", \"Topic4\", \"Topic4\", \"Topic4\", \"Topic4\", \"Topic4\", \"Topic4\", \"Topic4\", \"Topic4\", \"Topic4\", \"Topic4\", \"Topic4\", \"Topic4\", \"Topic4\", \"Topic4\", \"Topic4\", \"Topic4\", \"Topic4\", \"Topic4\", \"Topic5\", \"Topic5\", \"Topic5\", \"Topic5\", \"Topic5\", \"Topic5\", \"Topic5\", \"Topic5\", \"Topic5\", \"Topic5\", \"Topic5\", \"Topic5\", \"Topic5\", \"Topic5\", \"Topic5\", \"Topic5\", \"Topic5\", \"Topic5\", \"Topic5\", \"Topic5\", \"Topic5\", \"Topic5\", \"Topic5\", \"Topic5\", \"Topic5\", \"Topic5\", \"Topic5\", \"Topic5\", \"Topic5\", \"Topic5\", \"Topic5\", \"Topic5\", \"Topic5\", \"Topic5\", \"Topic5\", \"Topic5\", \"Topic5\", \"Topic5\", \"Topic5\", \"Topic5\", \"Topic5\", \"Topic5\", \"Topic5\", \"Topic5\", \"Topic5\", \"Topic5\", \"Topic5\", \"Topic5\", \"Topic5\", \"Topic5\", \"Topic5\", \"Topic5\", \"Topic5\", \"Topic5\", \"Topic5\", \"Topic5\", \"Topic5\", \"Topic5\", \"Topic5\", \"Topic5\", \"Topic5\", \"Topic5\", \"Topic5\", \"Topic5\", \"Topic5\", \"Topic5\", \"Topic5\", \"Topic5\", \"Topic5\", \"Topic5\", \"Topic5\"], \"logprob\": [30.0, 29.0, 28.0, 27.0, 26.0, 25.0, 24.0, 23.0, 22.0, 21.0, 20.0, 19.0, 18.0, 17.0, 16.0, 15.0, 14.0, 13.0, 12.0, 11.0, 10.0, 9.0, 8.0, 7.0, 6.0, 5.0, 4.0, 3.0, 2.0, 1.0, -7.0154, -8.2166, -8.4439, -8.5571, -8.482, -8.5722, -8.7093, -8.7425, -8.0778, -8.7925, -8.4862, -8.5776, -7.8872, -8.8942, -8.9043, -7.2335, -7.717, -8.9199, -8.6668, -8.928, -8.1703, -9.0029, -8.9695, -8.0018, -7.7867, -8.9767, -8.0661, -8.5314, -9.087, -9.0903, -8.3107, -7.8002, -7.1405, -7.6824, -6.9271, -7.4811, -7.714, -7.9656, -8.0385, -7.597, -7.7851, -7.616, -6.1071, -5.5339, -7.5246, -6.9264, -6.5173, -6.9967, -7.1821, -7.504, -6.0484, -7.1973, -6.6711, -5.7637, -7.2488, -7.1516, -6.5495, -7.6423, -6.1171, -7.1326, -6.2754, -7.0501, -6.1997, -6.2308, -6.6501, -6.4344, -6.1857, -6.778, -6.6907, -6.2406, -6.0622, -6.5437, -6.375, -6.6313, -6.6522, -6.7854, -6.8045, -6.68, -6.7169, -6.8155, -6.7665, -6.8352, -6.8575, -6.854, -7.2892, -7.5396, -7.6468, -7.8674, -7.9111, -7.9886, -7.9988, -8.0008, -8.0661, -7.9039, -8.1379, -8.1501, -7.4584, -8.1166, -8.1877, -8.1074, -8.1681, -8.0692, -8.2147, -7.334, -8.2361, -8.2955, -8.3919, -8.4311, -8.1268, -8.4734, -8.4797, -8.4995, -8.0645, -7.2577, -7.2615, -6.8118, -7.5895, -7.3879, -6.7464, -7.1642, -6.8882, -7.4967, -7.2623, -7.0236, -7.3988, -7.6048, -6.51, -6.0476, -6.0521, -6.7349, -7.1295, -7.0708, -6.7349, -6.9499, -6.9318, -6.3166, -6.6685, -6.7959, -7.0131, -6.7888, -6.6075, -5.8313, -6.6935, -7.0172, -6.7557, -6.9232, -6.7505, -7.0072, -6.5415, -6.629, -7.0327, -6.9191, -6.6289, -7.0075, -6.7749, -6.7888, -6.9035, -6.9449, -6.9539, -6.9828, -8.4362, -8.8786, -9.1699, -9.2365, -8.5955, -8.7354, -9.2752, -9.3026, -9.1398, -9.4087, -8.7938, -9.3262, -9.4656, -9.0209, -9.4957, -9.5037, -9.5131, -9.4058, -8.9847, -9.6071, -9.6277, -9.0742, -9.6269, -9.3678, -9.6421, -9.1416, -9.0531, -9.4115, -9.7127, -8.3667, -8.0875, -9.2617, -8.1658, -7.9837, -8.4227, -8.5986, -7.2897, -8.3848, -8.9375, -8.9618, -7.0795, -8.1241, -7.1207, -7.588, -6.8478, -7.7473, -7.2254, -6.8736, -6.5288, -6.1443, -7.6728, -7.7264, -7.2095, -6.2525, -6.8574, -6.4246, -6.2263, -6.3438, -6.225, -6.3453, -7.5691, -7.4267, -7.0284, -6.2809, -6.6349, -6.5866, -6.1404, -6.3698, -6.3389, -7.0042, -6.7736, -6.6757, -6.7167, -6.4756, -6.7337, -6.6651, -6.6183, -6.7585, -6.9283, -6.8207, -6.9895, -7.0026, -7.6079, -7.7811, -7.9082, -8.1364, -8.2267, -8.5377, -8.5798, -8.7499, -8.8058, -8.8698, -8.8698, -9.0147, -9.0705, -9.074, -9.1354, -9.1459, -8.8381, -8.4755, -9.1644, -9.173, -9.2195, -9.0139, -9.181, -8.801, -9.3179, -9.3257, -9.2656, -9.3398, -8.9973, -9.3887, -9.2151, -7.2002, -8.7569, -8.2249, -8.3977, -8.5784, -7.4232, -8.6103, -7.9218, -8.5198, -7.9783, -8.4589, -8.6484, -6.7157, -8.3016, -7.9021, -7.2534, -7.1854, -6.7792, -7.0475, -6.8146, -6.6002, -7.4768, -6.4545, -7.4836, -7.3693, -6.6908, -6.4962, -6.9355, -6.2904, -6.8347, -6.6988, -6.9142, -7.5051, -6.7291, -6.772, -6.7603, -6.7146, -7.1313, -6.9104, -7.1492, -7.1716, -7.0202, -6.9519, -7.102, -7.1452, -7.1706, -7.1324, -7.1909, -6.2683, -7.4076, -7.0805, -7.1527, -7.3491, -6.973, -8.5785, -8.5883, -8.6206, -8.619, -8.4934, -8.7036, -8.6057, -8.6504, -6.7506, -8.9711, -8.9829, -8.8912, -7.8278, -9.0741, -9.0828, -9.1112, -9.1274, -8.7682, -9.0539, -9.2136, -6.1339, -9.2315, -9.2681, -9.2663, -7.4512, -8.471, -8.4046, -6.9868, -7.8562, -7.6921, -8.0645, -8.0123, -8.4707, -7.9007, -7.5272, -7.459, -7.361, -7.0615, -7.1604, -6.1393, -6.8164, -6.6279, -7.3489, -7.4947, -6.5781, -7.1337, -8.0125, -6.5311, -6.6772, -6.2605, -6.6317, -6.6202, -6.6512, -6.7133, -6.7067, -7.0238, -6.881, -6.8215, -6.8772, -7.0634, -7.0025, -7.054, -7.0296, -7.0843, -7.141], \"loglift\": [30.0, 29.0, 28.0, 27.0, 26.0, 25.0, 24.0, 23.0, 22.0, 21.0, 20.0, 19.0, 18.0, 17.0, 16.0, 15.0, 14.0, 13.0, 12.0, 11.0, 10.0, 9.0, 8.0, 7.0, 6.0, 5.0, 4.0, 3.0, 2.0, 1.0, 1.3228, 1.2945, 1.2857, 1.2782, 1.2753, 1.2705, 1.2667, 1.2637, 1.2612, 1.2597, 1.2557, 1.2548, 1.2517, 1.2496, 1.2495, 1.2491, 1.2481, 1.2476, 1.2472, 1.2468, 1.2401, 1.2393, 1.2378, 1.2377, 1.2375, 1.2328, 1.2326, 1.2317, 1.2304, 1.2302, 1.2299, 1.2037, 1.1767, 1.1807, 1.1377, 1.1668, 1.1662, 1.185, 1.1872, 1.1525, 1.1671, 1.1499, 0.9757, 0.8536, 1.1044, 1.0129, 0.9395, 1.0148, 1.0373, 1.083, 0.7762, 0.9973, 0.8696, 0.6372, 1.0084, 0.9683, 0.692, 1.0939, 0.4627, 0.8841, 0.467, 0.8341, 0.3865, 0.3707, 0.5976, 0.4616, 0.3019, 0.6286, 0.5685, 0.2125, 0.0198, 0.3528, 0.144, 0.3232, 0.2905, 0.44, 0.4166, 0.1324, 0.1504, 0.2441, 0.0056, -0.0962, 0.1706, 0.1013, 1.4759, 1.469, 1.4655, 1.4572, 1.4551, 1.4518, 1.4513, 1.4512, 1.4475, 1.4449, 1.4441, 1.4435, 1.4434, 1.4414, 1.4413, 1.4409, 1.4405, 1.4403, 1.4398, 1.4389, 1.4385, 1.4348, 1.4285, 1.4258, 1.4244, 1.4227, 1.4222, 1.4201, 1.4193, 1.4153, 1.4087, 1.3732, 1.3972, 1.3887, 1.333, 1.3451, 1.3201, 1.3577, 1.3302, 1.2698, 1.3166, 1.3458, 1.1351, 1.0078, 1.0051, 1.1406, 1.2068, 1.1787, 1.0642, 1.1253, 1.1031, 0.838, 0.9739, 0.9926, 1.0555, 0.9383, 0.7827, 0.2507, 0.7852, 1.0045, 0.6691, 0.8338, 0.5461, 0.9324, 0.1976, 0.1431, 0.9216, 0.6386, -0.1758, 0.8253, -0.2873, -0.2698, 0.1561, 0.4198, 0.4464, 0.4262, 1.5606, 1.5258, 1.4849, 1.4738, 1.4718, 1.4692, 1.4673, 1.4624, 1.4558, 1.4425, 1.442, 1.4411, 1.4312, 1.4248, 1.4241, 1.4203, 1.4176, 1.4133, 1.403, 1.4008, 1.3956, 1.3951, 1.3949, 1.3922, 1.3892, 1.3879, 1.3801, 1.3765, 1.3748, 1.3723, 1.3644, 1.372, 1.3073, 1.2952, 1.3049, 1.3159, 1.1925, 1.2956, 1.3418, 1.344, 1.0502, 1.2135, 0.972, 1.0626, 0.8735, 1.0634, 0.9249, 0.8302, 0.7189, 0.5982, 1.0186, 1.0096, 0.8504, 0.4673, 0.6423, 0.4713, 0.3599, 0.3952, 0.294, 0.2562, 0.8793, 0.7747, 0.5426, 0.12, 0.3196, 0.2806, -0.0584, 0.0834, 0.0486, 0.4999, 0.3241, 0.2207, 0.226, 0.012, 0.2215, 0.1595, -0.0384, 0.0136, 0.3054, -0.0068, 0.2137, 0.2715, 1.7037, 1.6958, 1.6822, 1.6746, 1.668, 1.6401, 1.6361, 1.6143, 1.6083, 1.5993, 1.5993, 1.5797, 1.5718, 1.5707, 1.5608, 1.5591, 1.5556, 1.5553, 1.5553, 1.5539, 1.5448, 1.5352, 1.5336, 1.5295, 1.5268, 1.5256, 1.5233, 1.5222, 1.5207, 1.5129, 1.511, 1.4587, 1.4951, 1.4394, 1.4467, 1.4515, 1.2573, 1.4342, 1.3017, 1.4144, 1.2702, 1.3527, 1.4058, 0.6322, 1.2506, 1.0768, 0.7563, 0.6734, 0.458, 0.5102, 0.3729, 0.2122, 0.7494, 0.0331, 0.7125, 0.616, 0.1231, -0.0431, 0.2677, -0.2084, 0.1934, 0.021, 0.1431, 0.6796, -0.1492, -0.1859, -0.2413, -0.3136, 0.1855, -0.1382, 0.1857, 0.167, -0.1529, -0.5645, -0.2056, -0.0856, -0.2153, -0.3934, -0.2364, 1.8427, 1.83, 1.8105, 1.8005, 1.7889, 1.7625, 1.7447, 1.7436, 1.74, 1.7399, 1.7351, 1.729, 1.7277, 1.7211, 1.716, 1.6898, 1.6866, 1.6766, 1.6729, 1.6699, 1.666, 1.6649, 1.661, 1.6472, 1.6447, 1.6438, 1.6409, 1.6406, 1.6348, 1.6348, 1.6292, 1.6332, 1.6248, 1.578, 1.6013, 1.5855, 1.6011, 1.5591, 1.5957, 1.4491, 1.3317, 1.2939, 1.2605, 1.1081, 1.1125, 0.6747, 0.9028, 0.7486, 1.0902, 1.1592, 0.45, 0.7828, 1.3601, 0.1887, 0.278, -0.1785, 0.1807, -0.1012, -0.0714, -0.1118, -0.2536, 0.2709, -0.1089, -0.3339, -0.291, 0.1703, -0.1353, 0.0437, -0.1336, -0.1416, -0.2446]}, \"token.table\": {\"Topic\": [1, 2, 3, 4, 5, 1, 2, 5, 3, 1, 2, 3, 4, 5, 1, 2, 3, 4, 5, 1, 2, 3, 4, 5, 2, 5, 1, 2, 3, 4, 5, 3, 2, 1, 3, 4, 5, 1, 2, 1, 2, 4, 5, 4, 5, 4, 1, 5, 1, 4, 5, 2, 3, 1, 3, 4, 1, 3, 4, 5, 1, 2, 3, 4, 5, 2, 1, 2, 3, 4, 5, 1, 2, 3, 4, 5, 4, 5, 5, 1, 3, 4, 2, 1, 3, 4, 5, 5, 1, 3, 1, 3, 1, 3, 4, 5, 1, 3, 4, 5, 1, 3, 1, 3, 5, 2, 4, 1, 3, 5, 5, 3, 3, 4, 1, 3, 4, 1, 2, 3, 4, 5, 1, 3, 4, 5, 2, 4, 1, 2, 3, 4, 5, 1, 3, 1, 2, 3, 4, 5, 4, 4, 3, 1, 3, 4, 3, 1, 3, 1, 1, 3, 4, 1, 2, 3, 4, 5, 1, 2, 3, 4, 5, 1, 2, 3, 4, 5, 1, 3, 5, 5, 5, 3, 1, 2, 3, 4, 1, 3, 4, 5, 2, 5, 1, 3, 4, 5, 5, 1, 3, 4, 1, 5, 1, 3, 4, 3, 2, 5, 1, 2, 3, 4, 5, 2, 3, 4, 1, 2, 3, 4, 5, 1, 2, 3, 4, 5, 1, 2, 3, 4, 5, 1, 2, 3, 4, 5, 1, 1, 2, 3, 4, 5, 5, 4, 4, 1, 2, 3, 4, 5, 1, 4, 5, 2, 4, 1, 2, 3, 3, 1, 1, 2, 3, 4, 5, 2, 1, 2, 3, 4, 5, 1, 2, 3, 4, 5, 4, 1, 2, 3, 4, 5, 2, 4, 1, 2, 3, 4, 5, 2, 1, 3, 5, 1, 3, 4, 1, 2, 3, 4, 5, 1, 5, 2, 1, 3, 5, 1, 2, 3, 4, 5, 3, 4, 3, 1, 2, 5, 1, 2, 3, 4, 5, 1, 2, 3, 4, 5, 5, 2, 2, 4, 1, 2, 3, 4, 5, 1, 2, 4, 5, 4, 1, 2, 3, 4, 5, 1, 2, 3, 4, 5, 4, 1, 2, 3, 4, 5, 1, 2, 3, 4, 5, 1, 2, 3, 4, 5, 1, 2, 3, 4, 5, 1, 2, 3, 4, 5, 1, 2, 3, 4, 5, 4, 5, 3, 4, 1, 3, 5, 2, 1, 2, 3, 4, 2, 3, 4, 1, 2, 3, 4, 5, 3, 4, 5, 4, 2, 5, 2, 1, 2, 3, 4, 5, 4, 1, 2, 4, 5, 2, 1, 2, 3, 4, 5, 1, 4, 5, 1, 2, 3, 4, 5, 5, 2, 2, 3, 5, 1, 2, 3, 4, 5, 4, 2, 3, 3, 5, 1, 2, 3, 4, 5, 1, 2, 3, 4, 5, 1, 2, 3, 4, 5, 1, 2, 3, 4, 5, 1, 3, 1, 2, 3, 4, 5, 1, 2, 3, 4, 5, 3, 5, 1, 1, 5, 1, 2, 3, 4, 5, 3, 2, 3, 5, 5, 5, 1, 2, 3, 4, 5, 2, 1, 3, 4, 1, 5, 3, 4, 5, 4, 1, 1, 2, 3, 4, 5, 1, 2, 3, 4, 5, 3, 5, 1, 2, 3, 4, 5, 4, 1, 2, 3, 4, 5, 1, 2, 3, 4, 5, 1, 2, 3, 4, 5, 3, 4, 5, 2, 3, 4, 4, 2, 1, 2, 3, 4, 5, 1, 4, 3, 5, 1, 3, 4, 5, 1, 2, 3, 4, 5, 1, 2, 3, 4, 5, 1, 4, 1, 2, 3, 4, 5, 1, 2, 3, 4, 5, 1, 2, 3, 4, 5, 2, 1, 4, 5, 1, 3, 4, 5, 1, 2, 3, 4, 5, 4, 3, 5, 1, 3, 4, 5, 4, 5, 4, 2, 4, 5, 4, 1, 2, 3, 4, 5, 1, 2, 3, 4, 5, 1, 3, 4, 5, 1, 2, 3, 5, 4, 5, 1, 2, 3, 4, 5, 4, 1, 3, 4, 5, 1, 2, 3, 4, 5, 1, 2, 3, 4, 5, 1, 3, 5, 1, 3, 4, 5, 1, 1, 2, 3, 4, 5, 1, 2, 3, 4, 5, 1, 2, 3, 4, 5, 3, 2, 4, 5, 4, 5, 1, 1, 2, 3, 4, 5, 1, 2, 3, 4, 1, 2, 3, 4, 5, 1, 2, 3, 4, 1, 2, 3, 4, 5, 2, 4, 1, 3, 4, 5, 3, 1, 2, 3, 4, 5, 1, 2, 3, 4, 5, 1, 3, 2, 1, 2, 1, 1, 2, 3, 4, 5, 1, 2, 3, 4, 5, 1, 4, 5, 1, 1, 4, 1, 2, 3, 4, 5, 1, 1, 2, 4, 3, 1, 4, 4, 1, 2, 3, 4, 5, 3, 5, 1, 2, 4, 2, 4, 2, 5, 5, 1, 2, 3, 4, 5, 1, 2, 4, 5, 1, 2, 3, 4, 5, 2, 1, 3, 3, 1, 5, 1, 2, 4, 3, 1, 2, 3, 4, 5, 1, 2, 3, 4, 5, 3, 4, 1, 2, 3, 5, 1, 2, 3, 4, 5, 1, 2, 3, 4, 5, 1, 2, 1, 2, 3, 4, 5, 3, 1, 2, 3, 4, 5, 1, 3, 4, 1, 2, 3, 4, 5, 5, 3, 1, 1, 2, 3, 4, 5, 2, 3, 4, 5, 1, 2, 3, 4, 5, 1, 2, 3, 4, 5, 1, 2, 3, 4, 5, 1, 2, 3, 4, 5, 2, 5, 1, 1, 2, 3, 4, 5, 3, 4, 1, 2, 3, 4, 5, 1, 2, 3, 4, 5, 1, 3, 4, 5, 1, 1, 3, 5], \"Freq\": [0.41276641063623837, 0.05503552141816512, 0.30269536779990813, 0.09631216248178896, 0.1375888035454128, 0.05368959652965454, 0.8590335444744727, 0.05368959652965454, 0.9358714283914773, 0.050921576160960255, 0.6450066313721633, 0.03394771744064017, 0.1188170110422406, 0.1357908697625607, 0.08889002165069687, 0.6444526569675523, 0.044445010825348436, 0.1333350324760453, 0.06666751623802265, 0.08948483466230288, 0.6935074686328473, 0.1118560433278786, 0.08948483466230288, 0.02237120866557572, 0.9363940771748474, 0.94527075386975, 0.45501983251827466, 0.14837603234291563, 0.14837603234291563, 0.15826776783244334, 0.08902561940574938, 0.7811426362877, 0.976178083009581, 0.24491647344470902, 0.0489832946889418, 0.0979665893778836, 0.5877995362673016, 0.8441293044528431, 0.95218020338379, 0.10652999521666713, 0.7190774677125031, 0.053264997608333566, 0.07989749641250035, 0.0865978558719853, 0.9092774866558456, 0.9659422764423504, 0.9124791805933713, 0.07603993171611427, 0.8482710526741027, 0.07068925438950856, 0.07068925438950856, 0.9466151889017378, 0.909806243231867, 0.15811775299210953, 0.6324710119684381, 0.15811775299210953, 0.7464613089116146, 0.18661532722790364, 0.03732306544558073, 0.03732306544558073, 0.5913958811791771, 0.07392448514739713, 0.25873569801588997, 0.03696224257369857, 0.03696224257369857, 0.9855305056541361, 0.49062867253370906, 0.10902859389637978, 0.2138637803352065, 0.12580222372659206, 0.058707704405742966, 0.39045566742529697, 0.1142797075391113, 0.2285594150782226, 0.14284963442388915, 0.12380301650070392, 0.944629044871932, 0.878153466347308, 0.9725662760566861, 0.8981199376769345, 0.7085905811305248, 0.1180984301884208, 0.9426426591567758, 0.8264379900000354, 0.0569957234482783, 0.02849786172413915, 0.0569957234482783, 0.7550868700932291, 0.803357311923138, 0.17852384709403066, 0.16400093191195586, 0.8200046595597793, 0.8329121046427103, 0.11898744352038719, 0.0396624811734624, 0.8985077370559466, 0.6977786156373318, 0.0805129171889229, 0.1073505562518972, 0.1073505562518972, 0.9353627680450622, 0.08503297891318748, 0.9260132188274058, 0.05447136581337682, 0.05447136581337682, 0.9811393028448208, 0.7721703520303218, 0.8851937822812849, 0.21948854278799051, 0.7682098997579668, 0.8473017085427046, 0.6605693794135442, 0.7354771700935248, 0.2451590566978416, 0.8191527382318582, 0.15497484236818937, 0.04427852639091125, 0.7058566996330398, 0.025209167844037133, 0.15125500706422282, 0.050418335688074266, 0.050418335688074266, 0.7226112062389328, 0.07812013040420895, 0.11718019560631344, 0.09765016300526119, 0.8923021538668977, 0.08111837762426342, 0.16215589356483276, 0.28827714411525823, 0.12612125055042547, 0.34232910863686916, 0.0900866075360182, 0.925686296205235, 0.9170344536790229, 0.5150934982235212, 0.0680312167465028, 0.2235311407385092, 0.1069061977445044, 0.0874687072455036, 0.87640804002042, 0.7965324148337666, 0.7777883807005267, 0.8506433396713615, 0.050037843510080095, 0.10007568702016019, 0.8532664993130572, 0.9500228311824765, 0.07916856926520638, 0.960342335582686, 0.29000238826576036, 0.5385758639221264, 0.16571565043757736, 0.08282709676244868, 0.016565419352489737, 0.04969625805746921, 0.04969625805746921, 0.7951401289195074, 0.37411956806966085, 0.14862284210986526, 0.245996428319777, 0.09224866061991638, 0.13837299092987457, 0.09764152299450793, 0.5207547893040423, 0.16273587165751321, 0.09764152299450793, 0.13018869732601057, 0.1772747729212098, 0.7090990916848392, 0.0886373864606049, 0.7564432090399004, 0.967912382832084, 0.9665159579900534, 0.09798313174373659, 0.09798313174373659, 0.19596626348747317, 0.5878987904624194, 0.723517360748075, 0.20671924592802143, 0.05167981148200536, 0.02583990574100268, 0.1861272541107469, 0.837572643498361, 0.22028439302564215, 0.04405687860512843, 0.1762275144205137, 0.5727394218666696, 0.6968936086223301, 0.90784821415399, 0.06724801586325851, 0.03362400793162926, 0.9073536728638525, 0.06481097663313232, 0.354359251715918, 0.5433508526310743, 0.09449580045757813, 0.8668608265278224, 0.9329192743142508, 0.8795931571515444, 0.0636190571725562, 0.6149842193347099, 0.1272381143451124, 0.08482540956340827, 0.1272381143451124, 0.1810535799542662, 0.7242143198170649, 0.0905267899771331, 0.04097699362137467, 0.20488496810687337, 0.04097699362137467, 0.6146549043206201, 0.08195398724274934, 0.11045561052101102, 0.05522780526050551, 0.16568341578151655, 0.4970502473445496, 0.16568341578151655, 0.30080596504716045, 0.16711442502620025, 0.25401392603982437, 0.14706069402305622, 0.1336915400209602, 0.04365007843385238, 0.6984012549416381, 0.01455002614461746, 0.16005028759079207, 0.08730015686770476, 0.9691763569164703, 0.16245550953802929, 0.16245550953802929, 0.454875426706482, 0.12996440763042344, 0.06498220381521172, 0.6746072537106803, 0.9087084561347313, 0.922761405214745, 0.616113271969419, 0.026217586041251875, 0.15730551624751124, 0.05243517208250375, 0.15730551624751124, 0.08021077521173078, 0.7620023645114425, 0.16042155042346157, 0.3615877131373366, 0.650857883647206, 0.8066226659508359, 0.053774844396722386, 0.10754968879344477, 0.8601203150633018, 0.913081859087247, 0.2643708887876229, 0.11015453699484286, 0.44061814797937143, 0.13218544439381144, 0.044061814797937145, 0.9203486923172494, 0.2829507568722855, 0.1991134955767935, 0.1571948649290475, 0.20959315323872998, 0.1571948649290475, 0.13674403842189675, 0.5665110163192866, 0.05860458789509861, 0.13674403842189675, 0.11720917579019723, 0.9309328162093746, 0.48144204127998685, 0.11462905744761591, 0.24072102063999343, 0.10316615170285433, 0.057314528723807955, 0.9750330751275281, 0.9804237160437071, 0.24185537010145985, 0.34079620332478433, 0.13192111096443265, 0.12092768505072993, 0.1649013887055408, 0.9671539136021642, 0.8667715745377017, 0.05778477163584678, 0.05778477163584678, 0.20271148356365534, 0.8108459342546214, 0.9804237160437131, 0.5636943817093828, 0.04483932581779181, 0.22419662908895907, 0.08967865163558363, 0.0768674156876431, 0.1638541118112613, 0.8192705590563066, 0.8809256026340276, 0.7799335344301965, 0.12998892240503276, 0.08665928160335516, 0.10666795139970835, 0.4266718055988334, 0.05333397569985417, 0.2933368663491979, 0.12000144532467188, 0.15797482192835835, 0.7898741096417917, 0.6557106460794176, 0.05566230568682072, 0.8905968909891315, 0.05566230568682072, 0.34601887561587646, 0.180218164383269, 0.23788797698591507, 0.10813089862996139, 0.13696580493128444, 0.3313511753517441, 0.11045039178391469, 0.25102361769071524, 0.15061417061442914, 0.16065511532205773, 0.6663332386025312, 0.8968548782076776, 0.9301891501461552, 0.8534994246204703, 0.038630047386347864, 0.1158901421590436, 0.27041033170443507, 0.038630047386347864, 0.5408206634088701, 0.048759904525863026, 0.8776782814655345, 0.048759904525863026, 0.048759904525863026, 0.927971962344171, 0.21619919896569717, 0.06485975968970915, 0.2594390387588366, 0.32429879844854576, 0.1297195193794183, 0.20023205302486352, 0.10011602651243176, 0.18910805007903778, 0.18910805007903778, 0.3225960854289468, 0.6748805773478095, 0.11893650146497875, 0.5550370068365675, 0.11893650146497875, 0.0792910009766525, 0.13875925170914188, 0.29066598877705374, 0.10110121348767087, 0.3159412921489715, 0.1263765168595886, 0.16428947191746515, 0.0737608613105572, 0.1475217226211144, 0.17210867639130015, 0.12293476885092867, 0.4671521216335289, 0.3900194998093874, 0.050325096749598376, 0.36485695143458824, 0.1635565644361947, 0.037743822562198784, 0.4553595033768008, 0.015702051840579337, 0.4553595033768008, 0.06280820736231735, 0.015702051840579337, 0.6784783562749181, 0.1169790269439514, 0.09358322155516112, 0.04679161077758056, 0.04679161077758056, 0.8884586922456077, 0.811591794569154, 0.8519593699080137, 0.7554269298630807, 0.20817210666688765, 0.6245163200006629, 0.7227934228310705, 0.9150619032765468, 0.051111741066594815, 0.8433437275988145, 0.07666761159989223, 0.051111741066594815, 0.14077158722163705, 0.7038579361081853, 0.14077158722163705, 0.03453044678512015, 0.8632611696280038, 0.0690608935702403, 0.03453044678512015, 0.03453044678512015, 0.24009841896599526, 0.08003280632199843, 0.6402624505759874, 0.7184235694757081, 0.2233553603188204, 0.7445178677294013, 0.9637647617774808, 0.3225146659094993, 0.1855563831260133, 0.20764642873625297, 0.16788434663782154, 0.11928624629529426, 0.8334643799243922, 0.3337642196368012, 0.5949710002221238, 0.029022975620591408, 0.04353446343088711, 0.9760361337950707, 0.3511153507257971, 0.5091172585524057, 0.017555767536289853, 0.08777883768144927, 0.05266730260886956, 0.1603161040811929, 0.8015805204059645, 0.1603161040811929, 0.2974063774650757, 0.1645226768955738, 0.1392114958347163, 0.21514503901728882, 0.18350606269121691, 0.8559633779524164, 0.9593742502191875, 0.9022117357084664, 0.09022117357084664, 0.7334799372507292, 0.04243493841939557, 0.8486987683879115, 0.04243493841939557, 0.04243493841939557, 0.04243493841939557, 0.9243802368821787, 0.9366458253555494, 0.9189940794549623, 0.15789867763475526, 0.7894933881737763, 0.19013288533839268, 0.12675525689226178, 0.19013288533839268, 0.19647064818300575, 0.3042126165414283, 0.3521190671333775, 0.16920007121993463, 0.192064945709115, 0.1783460210156068, 0.10975139754806572, 0.3587304726735723, 0.15374163114581668, 0.1434921890694289, 0.1434921890694289, 0.2049888415277556, 0.40169080208914903, 0.17215320089534958, 0.21040946776098282, 0.11476880059689973, 0.10520473388049141, 0.23354251290104452, 0.7006275387031335, 0.34147436589677127, 0.17073718294838564, 0.12805288721128924, 0.21342147868548206, 0.14939503507983742, 0.261361675093273, 0.25528349660273175, 0.19450171169731945, 0.15195446226353082, 0.13979810528244835, 0.7692949989836476, 0.8908131987578625, 0.8450442338968384, 0.0647563989584709, 0.9065895854185927, 0.41122980230230854, 0.11032994695915595, 0.18053991320589155, 0.15044992767157628, 0.14543493008252376, 0.6590359734317718, 0.9903931324733116, 0.023186649059289934, 0.9738392604901772, 0.9299535789833072, 0.9249643571324686, 0.201972163510876, 0.050493040877719, 0.1767256430720165, 0.353451286144033, 0.201972163510876, 0.9084750167187942, 0.27839610047216373, 0.5567922009443275, 0.15908348598409355, 0.050578390614023465, 0.9609894216664459, 0.09988603631203538, 0.09988603631203538, 0.6992022541842476, 0.9514480011827335, 0.9170247667684306, 0.17472035856610962, 0.24960051223729945, 0.14976030734237966, 0.34944071713221925, 0.07488015367118983, 0.12323527385428931, 0.39024503387191617, 0.2053921230904822, 0.13350488000881341, 0.15404409231786165, 0.7525936134664805, 0.18814840336662011, 0.2029821235655555, 0.484901739628827, 0.12404463106783947, 0.09021427714024689, 0.10149106178277775, 0.633833179805517, 0.30620221893619476, 0.07851338947081918, 0.16487811788872025, 0.21198615157121176, 0.24339150735953943, 0.2651967824193428, 0.28653445456802557, 0.17984609382461178, 0.14021898840562952, 0.12802603289209652, 0.1984537981653822, 0.43192885483053767, 0.1984537981653822, 0.07004251699954665, 0.09339002266606221, 0.10960395821754812, 0.7672277075228369, 0.10960395821754812, 0.9388133935438409, 0.158132203553967, 0.790661017769835, 0.9092150200624907, 0.97302850365603, 0.22783104712693047, 0.35313812304674225, 0.15948173298885132, 0.15948173298885132, 0.10252397120711872, 0.846876242226105, 0.12098232031801501, 0.709417641686391, 0.23647254722879701, 0.11137710964930839, 0.6682626578958503, 0.11137710964930839, 0.11137710964930839, 0.3045515718626141, 0.07613789296565353, 0.4060687624834855, 0.15227578593130706, 0.07613789296565353, 0.14106195713216485, 0.07053097856608243, 0.14106195713216485, 0.6347788070947419, 0.07053097856608243, 0.8600152429649215, 0.07166793691374346, 0.17304559079149517, 0.16150921807206214, 0.2999456907052583, 0.17881377715121166, 0.18458196351092818, 0.19083940594608012, 0.05452554455602289, 0.16357663366806868, 0.10905108911204578, 0.46346712872619455, 0.6081889312715747, 0.04964807602216937, 0.19859230408867748, 0.09929615204433874, 0.04137339668514114, 0.8859202246543357, 0.4788354974944474, 0.039902958124537286, 0.4788354974944474, 0.23337992430304738, 0.5601118183273137, 0.14002795458182843, 0.09335196972121895, 0.057264060329340755, 0.24814426142714327, 0.17179218098802226, 0.19088020109780252, 0.34358436197604453, 0.7260627735958, 0.18338700639799357, 0.7946770277246389, 0.03308797648519326, 0.06617595297038652, 0.03308797648519326, 0.8602873886150247, 0.053826948587899735, 0.9150581259942955, 0.9399322544144576, 0.1435644233672388, 0.7178221168361939, 0.1435644233672388, 0.9516259073072956, 0.33148962128022763, 0.16574481064011382, 0.14732872056899005, 0.24861721596017072, 0.09208045035561879, 0.6629171632740454, 0.01205303933225537, 0.14463647198706445, 0.06026519666127686, 0.12053039332255372, 0.6883528786723087, 0.15757475535872126, 0.09952089812129764, 0.04976044906064882, 0.07454851939048733, 0.07454851939048733, 0.670936674514386, 0.07454851939048733, 0.7891053101341404, 0.1972763275335351, 0.34274715254317983, 0.19279527330553867, 0.19279527330553867, 0.20350612182251304, 0.06426509110184622, 0.8827238990570959, 0.16373753717824158, 0.16373753717824158, 0.08186876858912079, 0.5730813801238456, 0.029046648893729342, 0.7552128712369629, 0.14523324446864672, 0.058093297787458684, 0.029046648893729342, 0.11088535963330216, 0.49282382059245405, 0.13552655066292488, 0.18480893272217028, 0.08624416860367946, 0.8342684641243636, 0.08781773306572249, 0.043908866532861246, 0.8362074826840846, 0.049188675452004976, 0.049188675452004976, 0.049188675452004976, 0.9403264367973233, 0.13364486161728795, 0.5167601315868467, 0.0890965744115253, 0.16037383394074553, 0.10691588929383036, 0.21512738173257007, 0.22448074615572527, 0.2338341105788805, 0.22448074615572527, 0.10288700865470742, 0.10407228992171068, 0.13009036240213837, 0.15610843488256604, 0.36425301472598737, 0.20814457984342136, 0.6742754443265642, 0.8069704049824957, 0.05565313137810315, 0.1113062627562063, 0.9162410959575723, 0.8892504928885624, 0.976773888815127, 0.07328419120671326, 0.6961998164637759, 0.07328419120671326, 0.09160523900839157, 0.054963143405034935, 0.25991664778842166, 0.04331944129807028, 0.5198332955768433, 0.1732777651922811, 0.313397947817957, 0.07834948695448925, 0.10968928173628494, 0.14102907651808064, 0.37607753738154837, 0.02496794667402492, 0.8738781335908722, 0.07490384002207476, 0.02496794667402492, 0.1504050512324529, 0.6660795126008628, 0.04297287178070083, 0.08594574356140167, 0.06445930767105125, 0.25398445901284744, 0.6349611475321186, 0.03650371369159036, 0.07300742738318072, 0.14601485476636145, 0.7300742738318072, 0.7182627948055089, 0.20488976927133049, 0.04553105983807344, 0.5008416582188079, 0.20488976927133049, 0.02276552991903672, 0.0806794460853223, 0.6131637902484495, 0.104883279910919, 0.11295122451945123, 0.08874739069385454, 0.9476034211455725, 0.7725303620978826, 0.9673209748505298, 0.9102497115423787, 0.9191207829063874, 0.8941244146131072, 0.46943861128206266, 0.04889985534188152, 0.3911988427350522, 0.03911988427350522, 0.04889985534188152, 0.2723844845161577, 0.25143183186106866, 0.06285795796526716, 0.3771477477916029, 0.06285795796526716, 0.13123913978682106, 0.7874348387209263, 0.13123913978682106, 0.9076798377699411, 0.16186523747423215, 0.6474609498969286, 0.6329640994976728, 0.12659281989953455, 0.10549401658294547, 0.04219760663317819, 0.10549401658294547, 0.9453831062350883, 0.28552797538278907, 0.6046474772812004, 0.10077457954686674, 0.7518370235277323, 0.9360705546930427, 0.658527448859605, 0.7136666753025398, 0.7136423524829864, 0.020989480955381952, 0.14692636668767364, 0.06296844286614585, 0.08395792382152781, 0.17824306367375037, 0.8020937865318767, 0.3158874939104899, 0.5685974890388819, 0.11056062286867147, 0.9354902383527687, 0.08134697724806683, 0.1701499172389726, 0.850749586194863, 0.8547425259412889, 0.2846898943491634, 0.13139533585346005, 0.23359170818392896, 0.13869507673420783, 0.20439274466093785, 0.02044855806634868, 0.5316625097250657, 0.32717692906157886, 0.12269134839809206, 0.29728930302750434, 0.1698796017300025, 0.25481940259500374, 0.13684745694916867, 0.14156633477500208, 0.9731267954858984, 0.19411001700010005, 0.7764400680004002, 0.8344757673003952, 0.8717104825140389, 0.09685672027933766, 0.8493727082276522, 0.05662484721517681, 0.05662484721517681, 0.6956468158594301, 0.41302762284707206, 0.059003946121010294, 0.3422228875018597, 0.08850591918151544, 0.09440631379361647, 0.2652528072728913, 0.024113891570262846, 0.48227783140525693, 0.12056945785131423, 0.12056945785131423, 0.8854205849162968, 0.9158204460747602, 0.03752502176235043, 0.8255504787717095, 0.1125750652870513, 0.03752502176235043, 0.3783219006252866, 0.10809197160722475, 0.3242759148216742, 0.09458047515632165, 0.09458047515632165, 0.06467048527520539, 0.6062857994550506, 0.03233524263760269, 0.20209526648501686, 0.09700572791280808, 0.8424231564592735, 0.9767946773636259, 0.2777422742556216, 0.0462903790426036, 0.43204353773096693, 0.15430126347534534, 0.07715063173767267, 0.8401646844196315, 0.371655839263923, 0.1307677952965655, 0.23400552842543298, 0.14453282638041448, 0.12388527975464099, 0.8525217420717249, 0.13115719108795768, 0.8743228419266527, 0.33219335626054786, 0.25927286342286665, 0.17014781662125622, 0.16204553963929164, 0.07292049283768125, 0.963401227651006, 0.7183232753196328, 0.943159428313004, 0.31140526269061225, 0.1430780936686597, 0.2609071119840265, 0.11782901831536681, 0.15991081057085496, 0.8536746785724576, 0.11232561560163916, 0.02246512312032783, 0.02246512312032783, 0.20683670311291355, 0.34472783852152256, 0.1149092795071742, 0.1838548472114787, 0.16087299131004387, 0.3574130368731167, 0.13129458497379798, 0.26258916994759596, 0.13858872858345342, 0.11670629775448708, 0.3278808512956363, 0.057861326699229935, 0.26037597014653474, 0.16394042564781816, 0.18322753454756147, 0.09656450071726326, 0.06437633381150884, 0.1609408345287721, 0.22531716834028093, 0.45063433668056185, 0.9438865855537947, 0.04494698026446641, 0.9064296915688185, 0.3835508724739228, 0.08579427410600904, 0.2725229883367346, 0.14635493818083894, 0.11607460614342399, 0.6778095727719964, 0.22593652425733213, 0.23520887716370226, 0.2704902087382576, 0.2822506525964427, 0.11760443858185113, 0.09408355086548091, 0.16451657450476898, 0.23225869341849736, 0.19354891118208115, 0.2709684756549136, 0.1354842378274568, 0.0672166711562423, 0.6385583759843019, 0.1344333423124846, 0.16804167789060576, 0.9623132268083342, 0.7783976173984368, 0.15567952347968736, 0.03891988086992184], \"Term\": [\"10\", \"10\", \"10\", \"10\", \"10\", \"academy\", \"academy\", \"academy\", \"accessories\", \"actor\", \"actor\", \"actor\", \"actor\", \"actor\", \"actress\", \"actress\", \"actress\", \"actress\", \"actress\", \"album\", \"album\", \"album\", \"album\", \"album\", \"alec\", \"amal\", \"america\", \"america\", \"america\", \"america\", \"america\", \"amusement\", \"angelina\", \"anxiety\", \"anxiety\", \"anxiety\", \"anxiety\", \"avocado\", \"awakens\", \"awards\", \"awards\", \"awards\", \"awards\", \"awareness\", \"awareness\", \"azalea\", \"baked\", \"baked\", \"baking\", \"baking\", \"baking\", \"baldwin\", \"bandwagon\", \"barbecue\", \"barbecue\", \"barbecue\", \"bars\", \"bars\", \"bars\", \"bars\", \"beach\", \"beach\", \"beach\", \"beach\", \"beach\", \"beatles\", \"best\", \"best\", \"best\", \"best\", \"best\", \"better\", \"better\", \"better\", \"better\", \"better\", \"biles\", \"bipolar\", \"biscuit\", \"blac\", \"booking\", \"booking\", \"brad\", \"breakfast\", \"breakfast\", \"breakfast\", \"breakfast\", \"bure\", \"burger\", \"burger\", \"busiest\", \"busiest\", \"butter\", \"butter\", \"butter\", \"butternut\", \"cake\", \"cake\", \"cake\", \"cake\", \"cakes\", \"cakes\", \"candy\", \"candy\", \"candy\", \"carrie\", \"celine\", \"cereal\", \"channing\", \"channing\", \"charlize\", \"cheat\", \"cheddar\", \"cheddar\", \"cheese\", \"cheese\", \"cheese\", \"chicken\", \"chicken\", \"chicken\", \"chicken\", \"chicken\", \"chocolate\", \"chocolate\", \"chocolate\", \"chocolate\", \"chrissy\", \"chrissy\", \"christmas\", \"christmas\", \"christmas\", \"christmas\", \"christmas\", \"chyna\", \"cigarettes\", \"city\", \"city\", \"city\", \"city\", \"city\", \"clap\", \"coaster\", \"comedies\", \"cookie\", \"cookie\", \"cookie\", \"cooling\", \"corn\", \"corn\", \"cream\", \"cyrus\", \"cyrus\", \"cyrus\", \"daily\", \"daily\", \"daily\", \"daily\", \"daily\", \"day\", \"day\", \"day\", \"day\", \"day\", \"dead\", \"dead\", \"dead\", \"dead\", \"dead\", \"deals\", \"deals\", \"deals\", \"debilitating\", \"deconstructing\", \"deen\", \"degeneres\", \"degeneres\", \"degeneres\", \"degeneres\", \"delicious\", \"delicious\", \"delicious\", \"delicious\", \"depp\", \"depp\", \"depression\", \"depression\", \"depression\", \"depression\", \"deprived\", \"dessert\", \"dessert\", \"dessert\", \"desserts\", \"desserts\", \"destinations\", \"destinations\", \"destinations\", \"deviled\", \"dicaprio\", \"diesel\", \"director\", \"director\", \"director\", \"director\", \"director\", \"disneyland\", \"disneyland\", \"disneyland\", \"doctor\", \"doctor\", \"doctor\", \"doctor\", \"doctor\", \"doctors\", \"doctors\", \"doctors\", \"doctors\", \"doctors\", \"don\", \"don\", \"don\", \"don\", \"don\", \"donald\", \"donald\", \"donald\", \"donald\", \"donald\", \"donut\", \"dream\", \"dream\", \"dream\", \"dream\", \"dream\", \"drowsy\", \"dunham\", \"dunst\", \"eat\", \"eat\", \"eat\", \"eat\", \"eat\", \"ebola\", \"ebola\", \"ebola\", \"ed\", \"ed\", \"eggs\", \"eggs\", \"eggs\", \"embark\", \"etsy\", \"fall\", \"fall\", \"fall\", \"fall\", \"fall\", \"fallon\", \"family\", \"family\", \"family\", \"family\", \"family\", \"fans\", \"fans\", \"fans\", \"fans\", \"fans\", \"fathers\", \"favorite\", \"favorite\", \"favorite\", \"favorite\", \"favorite\", \"fey\", \"fighters\", \"film\", \"film\", \"film\", \"film\", \"film\", \"fisher\", \"flavors\", \"flavors\", \"flavors\", \"foliage\", \"foliage\", \"foo\", \"food\", \"food\", \"food\", \"food\", \"food\", \"forgive\", \"forgive\", \"franco\", \"fruit\", \"fruit\", \"fruit\", \"game\", \"game\", \"game\", \"game\", \"game\", \"garner\", \"garner\", \"germs\", \"globes\", \"globes\", \"globes\", \"good\", \"good\", \"good\", \"good\", \"good\", \"great\", \"great\", \"great\", \"great\", \"great\", \"groot\", \"gwen\", \"hamill\", \"harington\", \"harry\", \"harry\", \"harry\", \"harry\", \"harry\", \"harvey\", \"harvey\", \"harvey\", \"harvey\", \"hated\", \"health\", \"health\", \"health\", \"health\", \"health\", \"help\", \"help\", \"help\", \"help\", \"help\", \"henson\", \"hollywood\", \"hollywood\", \"hollywood\", \"hollywood\", \"hollywood\", \"home\", \"home\", \"home\", \"home\", \"home\", \"hope\", \"hope\", \"hope\", \"hope\", \"hope\", \"hotel\", \"hotel\", \"hotel\", \"hotel\", \"hotel\", \"hotels\", \"hotels\", \"hotels\", \"hotels\", \"hotels\", \"ice\", \"ice\", \"ice\", \"ice\", \"ice\", \"iggy\", \"insomnia\", \"islamophobic\", \"jada\", \"jaw\", \"jaw\", \"jeb\", \"jedi\", \"jennifer\", \"jennifer\", \"jennifer\", \"jennifer\", \"jeopardy\", \"jeopardy\", \"jeopardy\", \"jimmy\", \"jimmy\", \"jimmy\", \"jimmy\", \"jimmy\", \"joan\", \"joan\", \"joan\", \"jodie\", \"johnny\", \"johnny\", \"jolie\", \"just\", \"just\", \"just\", \"just\", \"just\", \"kaling\", \"kardashian\", \"kardashian\", \"kardashian\", \"kardashian\", \"kendrick\", \"kim\", \"kim\", \"kim\", \"kim\", \"kim\", \"kit\", \"kit\", \"kit\", \"know\", \"know\", \"know\", \"know\", \"know\", \"labeouf\", \"lamar\", \"lawrence\", \"lawrence\", \"ledger\", \"legend\", \"legend\", \"legend\", \"legend\", \"legend\", \"lena\", \"leonardo\", \"levine\", \"liars\", \"liars\", \"life\", \"life\", \"life\", \"life\", \"life\", \"like\", \"like\", \"like\", \"like\", \"like\", \"little\", \"little\", \"little\", \"little\", \"little\", \"ll\", \"ll\", \"ll\", \"ll\", \"ll\", \"lobster\", \"lobster\", \"look\", \"look\", \"look\", \"look\", \"look\", \"love\", \"love\", \"love\", \"love\", \"love\", \"lowest\", \"lyme\", \"macaroni\", \"maintaining\", \"maintaining\", \"make\", \"make\", \"make\", \"make\", \"make\", \"markle\", \"mccartney\", \"meditation\", \"meditation\", \"meditations\", \"mendes\", \"mental\", \"mental\", \"mental\", \"mental\", \"mental\", \"meryl\", \"miley\", \"miley\", \"miley\", \"mindful\", \"mindful\", \"mindfulness\", \"mindfulness\", \"mindfulness\", \"mindy\", \"mint\", \"mother\", \"mother\", \"mother\", \"mother\", \"mother\", \"movie\", \"movie\", \"movie\", \"movie\", \"movie\", \"muhammad\", \"muhammad\", \"music\", \"music\", \"music\", \"music\", \"music\", \"nacho\", \"need\", \"need\", \"need\", \"need\", \"need\", \"new\", \"new\", \"new\", \"new\", \"new\", \"night\", \"night\", \"night\", \"night\", \"night\", \"noah\", \"noah\", \"noah\", \"nominations\", \"nurse\", \"nurse\", \"nurses\", \"odom\", \"old\", \"old\", \"old\", \"old\", \"old\", \"olive\", \"olive\", \"ottolenghi\", \"ottolenghi\", \"packing\", \"packing\", \"packing\", \"packing\", \"park\", \"park\", \"park\", \"park\", \"park\", \"patient\", \"patient\", \"patient\", \"patient\", \"patient\", \"peanut\", \"peanut\", \"people\", \"people\", \"people\", \"people\", \"people\", \"personal\", \"personal\", \"personal\", \"personal\", \"personal\", \"photos\", \"photos\", \"photos\", \"photos\", \"photos\", \"pitt\", \"pizza\", \"pizza\", \"pizza\", \"planning\", \"planning\", \"planning\", \"planning\", \"pope\", \"pope\", \"pope\", \"pope\", \"pope\", \"poppins\", \"potter\", \"potter\", \"practice\", \"practice\", \"practice\", \"practice\", \"prayers\", \"prayers\", \"preach\", \"puerto\", \"puerto\", \"puerto\", \"ramsey\", \"really\", \"really\", \"really\", \"really\", \"really\", \"recipe\", \"recipe\", \"recipe\", \"recipe\", \"recipe\", \"recipes\", \"recipes\", \"recipes\", \"recipes\", \"resolutions\", \"resolutions\", \"resolutions\", \"resolutions\", \"rico\", \"rico\", \"right\", \"right\", \"right\", \"right\", \"right\", \"ripa\", \"rivers\", \"rivers\", \"rivers\", \"rivers\", \"ryan\", \"ryan\", \"ryan\", \"ryan\", \"ryan\", \"said\", \"said\", \"said\", \"said\", \"said\", \"salad\", \"salad\", \"salad\", \"sandwich\", \"sandwich\", \"sandwich\", \"sandwich\", \"savory\", \"says\", \"says\", \"says\", \"says\", \"says\", \"season\", \"season\", \"season\", \"season\", \"season\", \"self\", \"self\", \"self\", \"self\", \"self\", \"serenity\", \"sexual\", \"sexual\", \"sexual\", \"sheeran\", \"shia\", \"shonda\", \"singer\", \"singer\", \"singer\", \"singer\", \"singer\", \"ski\", \"ski\", \"ski\", \"ski\", \"sleep\", \"sleep\", \"sleep\", \"sleep\", \"sleep\", \"snl\", \"snl\", \"snl\", \"snl\", \"song\", \"song\", \"song\", \"song\", \"song\", \"sons\", \"sons\", \"spiritual\", \"spiritual\", \"spiritual\", \"spiritual\", \"splurge\", \"spring\", \"spring\", \"spring\", \"spring\", \"spring\", \"star\", \"star\", \"star\", \"star\", \"star\", \"steak\", \"steam\", \"stefani\", \"strawberry\", \"streep\", \"stuffing\", \"summer\", \"summer\", \"summer\", \"summer\", \"summer\", \"super\", \"super\", \"super\", \"super\", \"super\", \"surgery\", \"surgery\", \"surgery\", \"sushi\", \"swear\", \"swear\", \"sweet\", \"sweet\", \"sweet\", \"sweet\", \"sweet\", \"sweets\", \"swift\", \"swift\", \"swift\", \"synod\", \"taco\", \"tambor\", \"taraji\", \"taste\", \"taste\", \"taste\", \"taste\", \"taste\", \"tatum\", \"tatum\", \"taylor\", \"taylor\", \"taylor\", \"teigen\", \"teigen\", \"therapist\", \"therapist\", \"theron\", \"things\", \"things\", \"things\", \"things\", \"things\", \"thrones\", \"thrones\", \"thrones\", \"thrones\", \"time\", \"time\", \"time\", \"time\", \"time\", \"tina\", \"tobacco\", \"tobacco\", \"toddler\", \"tomato\", \"tomato\", \"towns\", \"towns\", \"towns\", \"tranquility\", \"travel\", \"travel\", \"travel\", \"travel\", \"travel\", \"traveling\", \"traveling\", \"traveling\", \"traveling\", \"traveling\", \"trebek\", \"trevor\", \"tribute\", \"tribute\", \"tribute\", \"tribute\", \"trip\", \"trip\", \"trip\", \"trip\", \"trip\", \"trump\", \"trump\", \"trump\", \"trump\", \"trump\", \"tuna\", \"underwood\", \"vacation\", \"vacation\", \"vacation\", \"vacation\", \"vacation\", \"vaccinated\", \"ve\", \"ve\", \"ve\", \"ve\", \"ve\", \"vegan\", \"vegan\", \"ventimiglia\", \"video\", \"video\", \"video\", \"video\", \"video\", \"vin\", \"wackiest\", \"waffle\", \"want\", \"want\", \"want\", \"want\", \"want\", \"wars\", \"wars\", \"wars\", \"wars\", \"watch\", \"watch\", \"watch\", \"watch\", \"watch\", \"way\", \"way\", \"way\", \"way\", \"way\", \"ways\", \"ways\", \"ways\", \"ways\", \"ways\", \"weight\", \"weight\", \"weight\", \"weight\", \"weight\", \"weinstein\", \"weinstein\", \"whipped\", \"world\", \"world\", \"world\", \"world\", \"world\", \"worrying\", \"worrying\", \"year\", \"year\", \"year\", \"year\", \"year\", \"years\", \"years\", \"years\", \"years\", \"years\", \"yoga\", \"yoga\", \"yoga\", \"yoga\", \"yogurt\", \"zen\", \"zen\", \"zen\"]}, \"R\": 30, \"lambda.step\": 0.01, \"plot.opts\": {\"xlab\": \"PC1\", \"ylab\": \"PC2\"}, \"topic.order\": [1, 5, 3, 4, 2]};\n",
              "\n",
              "function LDAvis_load_lib(url, callback){\n",
              "  var s = document.createElement('script');\n",
              "  s.src = url;\n",
              "  s.async = true;\n",
              "  s.onreadystatechange = s.onload = callback;\n",
              "  s.onerror = function(){console.warn(\"failed to load library \" + url);};\n",
              "  document.getElementsByTagName(\"head\")[0].appendChild(s);\n",
              "}\n",
              "\n",
              "if(typeof(LDAvis) !== \"undefined\"){\n",
              "   // already loaded: just create the visualization\n",
              "   !function(LDAvis){\n",
              "       new LDAvis(\"#\" + \"ldavis_el1191396810402644323765728647\", ldavis_el1191396810402644323765728647_data);\n",
              "   }(LDAvis);\n",
              "}else if(typeof define === \"function\" && define.amd){\n",
              "   // require.js is available: use it to load d3/LDAvis\n",
              "   require.config({paths: {d3: \"https://cdnjs.cloudflare.com/ajax/libs/d3/3.5.5/d3.min\"}});\n",
              "   require([\"d3\"], function(d3){\n",
              "      window.d3 = d3;\n",
              "      LDAvis_load_lib(\"https://cdn.rawgit.com/bmabey/pyLDAvis/files/ldavis.v1.0.0.js\", function(){\n",
              "        new LDAvis(\"#\" + \"ldavis_el1191396810402644323765728647\", ldavis_el1191396810402644323765728647_data);\n",
              "      });\n",
              "    });\n",
              "}else{\n",
              "    // require.js not available: dynamically load d3 & LDAvis\n",
              "    LDAvis_load_lib(\"https://cdnjs.cloudflare.com/ajax/libs/d3/3.5.5/d3.min.js\", function(){\n",
              "         LDAvis_load_lib(\"https://cdn.rawgit.com/bmabey/pyLDAvis/files/ldavis.v1.0.0.js\", function(){\n",
              "                 new LDAvis(\"#\" + \"ldavis_el1191396810402644323765728647\", ldavis_el1191396810402644323765728647_data);\n",
              "            })\n",
              "         });\n",
              "}\n",
              "</script>"
            ],
            "text/plain": [
              "<IPython.core.display.HTML object>"
            ]
          },
          "metadata": {
            "tags": []
          },
          "execution_count": 44
        }
      ]
    },
    {
      "cell_type": "code",
      "metadata": {
        "id": "2CApPzxUgP2X",
        "colab_type": "code",
        "colab": {}
      },
      "source": [
        ""
      ],
      "execution_count": 0,
      "outputs": []
    }
  ]
}